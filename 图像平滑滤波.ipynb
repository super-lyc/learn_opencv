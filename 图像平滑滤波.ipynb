{
 "cells": [
  {
   "cell_type": "code",
   "execution_count": 1,
   "metadata": {},
   "outputs": [],
   "source": [
    "import cv2 as cv\n",
    "import numpy as np"
   ]
  },
  {
   "cell_type": "code",
   "execution_count": 2,
   "metadata": {},
   "outputs": [],
   "source": [
    "filename=r'C:\\Users\\luoyongchen\\Pictures\\lena.jpg'\n",
    "img=cv.imread(filename)"
   ]
  },
  {
   "cell_type": "code",
   "execution_count": 3,
   "metadata": {},
   "outputs": [],
   "source": [
    "#添加高斯噪声\n",
    "def guass_noise(image,mean=0,var=0.001):\n",
    "    image=np.array(image/255,dtype=float)\n",
    "    noise=np.random.normal(mean,var**0.5,image.shape)\n",
    "    out=image+noise\n",
    "    if out.min()<0:\n",
    "        low_clip=-1.\n",
    "    else:\n",
    "        low_clip=0.\n",
    "    out=np.clip(out,low_clip,1.0)\n",
    "    out=np.uint8(out*255)\n",
    "    #cv.imshow('after guass_noise',out)\n",
    "    return out"
   ]
  },
  {
   "cell_type": "code",
   "execution_count": 4,
   "metadata": {},
   "outputs": [],
   "source": [
    "img=guass_noise(img)  #加入高斯噪声"
   ]
  },
  {
   "cell_type": "code",
   "execution_count": 5,
   "metadata": {},
   "outputs": [],
   "source": [
    "blur=cv.blur(img,(5,5))  #平均滤波\n",
    "guass=cv.GaussianBlur(img,(5,5),0)  #高斯滤波\n",
    "median=cv.medianBlur(img,5)  #中值滤波\n",
    "bilateral=cv.bilateralFilter(img,5,150,150)   #双边滤波"
   ]
  },
  {
   "cell_type": "code",
   "execution_count": 6,
   "metadata": {},
   "outputs": [],
   "source": [
    "cv.imshow('Image',img)\n",
    "cv.imshow('Guass',guass)\n",
    "cv.imshow('Median',median)\n",
    "cv.imshow('Bilateral filtered',bilateral)\n",
    "cv.waitKey()\n",
    "cv.destroyAllWindows()"
   ]
  },
  {
   "cell_type": "markdown",
   "metadata": {},
   "source": [
    "# 明显高斯滤波的去噪效果最好"
   ]
  },
  {
   "cell_type": "code",
   "execution_count": null,
   "metadata": {},
   "outputs": [],
   "source": []
  }
 ],
 "metadata": {
  "kernelspec": {
   "display_name": "Python 3",
   "language": "python",
   "name": "python3"
  },
  "language_info": {
   "codemirror_mode": {
    "name": "ipython",
    "version": 3
   },
   "file_extension": ".py",
   "mimetype": "text/x-python",
   "name": "python",
   "nbconvert_exporter": "python",
   "pygments_lexer": "ipython3",
   "version": "3.7.6"
  }
 },
 "nbformat": 4,
 "nbformat_minor": 4
}
