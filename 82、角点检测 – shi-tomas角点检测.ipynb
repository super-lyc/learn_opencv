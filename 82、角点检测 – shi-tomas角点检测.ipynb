{
 "cells": [
  {
   "cell_type": "raw",
   "metadata": {},
   "source": [
    "Harris角点检测是一种计算速度很慢的角点检测算法，很难实时计算，所有最常用的是shi-tomas角点检测算法，它的运行速度很快。\n",
    "Shi-Tomasi 算法是Harris 算法的改进。Harris 算法最原始的定义是将矩阵 M 的行列式值与 M 的迹相减，再将差值同预先给定的阈值进行比较。后来Shi 和Tomasi 提出改进的方法，若两个特征值中较小的一个大于最小阈值，则会得到强角点。"
   ]
  },
  {
   "cell_type": "raw",
   "metadata": {},
   "source": [
    "corners=cv.goodFeaturesToTrack(image, maxCorners, qualityLevel, minDistance[, corners[, mask[, blockSize[, useHarrisDetector[, k]]]]])\n",
    "corners=cv.goodFeaturesToTrack(image, maxCorners, qualityLevel, minDistance, mask, blockSize, gradientSize[, corners[, useHarrisDetector[, k]]])\n",
    "输入的参数分别是：\n",
    "image: 输入图像，是八位的或者32位浮点型，单通道图像，所以有时候用灰度图\n",
    "maxCorners: 返回最大的角点数，是最有可能的角点数，如果这个参数不大于0，那么表示没有角点数的限制。\n",
    "qualityLevel: 图像角点的最小可接受参数，质量测量值乘以这个参数就是最小特征值，小于这个数的会被抛弃。\n",
    "minDistance: 返回的角点之间最小的欧式距离。\n",
    "mask: 检测区域。如果图像不是空的(它需要具有CV_8UC1类型和与图像相同的大小)，它指定检测角的区域。\n",
    "blockSize: 用于计算每个像素邻域上的导数协变矩阵的平均块的大小。\n",
    "useHarrisDetector：选择是否采用Harris角点检测，默认是false.\n",
    "k: Harris检测的自由参数。\n",
    "corners: 输出为角点。"
   ]
  },
  {
   "cell_type": "code",
   "execution_count": 1,
   "metadata": {},
   "outputs": [
    {
     "name": "stdout",
     "output_type": "stream",
     "text": [
      "13\n",
      "[[[186. 184.]]\n",
      "\n",
      " [[ 92.  91.]]\n",
      "\n",
      " [[358. 146.]]\n",
      "\n",
      " [[  2.   3.]]\n",
      "\n",
      " [[359. 410.]]\n",
      "\n",
      " [[543. 594.]]\n",
      "\n",
      " [[282. 595.]]\n",
      "\n",
      " [[  2. 182.]]\n",
      "\n",
      " [[ 92. 279.]]\n",
      "\n",
      " [[225. 147.]]\n",
      "\n",
      " [[543. 336.]]\n",
      "\n",
      " [[227. 279.]]\n",
      "\n",
      " [[359. 518.]]]\n"
     ]
    }
   ],
   "source": [
    "import numpy as np\n",
    "import cv2 as cv\n",
    "\n",
    "def process(image, opt=1):\n",
    "    # Detecting corners\n",
    "    gray = cv.cvtColor(image, cv.COLOR_BGR2GRAY)\n",
    "    corners = cv.goodFeaturesToTrack(gray, 13, 0.05, 10)#返回角点的坐标信息\n",
    "    print(len(corners))\n",
    "    print(corners)\n",
    "    for pt in corners:\n",
    "        b = np.random.randint(0, 256)\n",
    "        g = np.random.randint(0, 256)\n",
    "        r = np.random.randint(0, 256)\n",
    "        x = np.int32(pt[0][0])\n",
    "        y = np.int32(pt[0][1])\n",
    "        cv.circle(image, (x, y), 5, (int(b), int(g), int(r)), 2)\n",
    "    # output\n",
    "    return image\n",
    "\n",
    "file=r'C:\\Users\\luo yong chen\\Pictures\\qiqiaoban1.jpg'\n",
    "src= cv.imread(file)\n",
    "cv.imshow(\"input\", src)\n",
    "result = process(src)\n",
    "cv.imshow('result', result)\n",
    "cv.waitKey(0)\n",
    "cv.destroyAllWindows()"
   ]
  },
  {
   "cell_type": "code",
   "execution_count": null,
   "metadata": {},
   "outputs": [],
   "source": []
  }
 ],
 "metadata": {
  "kernelspec": {
   "display_name": "Python 3",
   "language": "python",
   "name": "python3"
  },
  "language_info": {
   "codemirror_mode": {
    "name": "ipython",
    "version": 3
   },
   "file_extension": ".py",
   "mimetype": "text/x-python",
   "name": "python",
   "nbconvert_exporter": "python",
   "pygments_lexer": "ipython3",
   "version": "3.7.6"
  }
 },
 "nbformat": 4,
 "nbformat_minor": 4
}
