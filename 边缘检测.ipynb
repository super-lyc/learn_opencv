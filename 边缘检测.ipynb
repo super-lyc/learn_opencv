{
 "cells": [
  {
   "cell_type": "markdown",
   "metadata": {},
   "source": [
    "# 边缘检测常用滤波器有：Robert算子，Sobel算子，Laplace算子，LoG算子，Canny算子"
   ]
  },
  {
   "cell_type": "code",
   "execution_count": 1,
   "metadata": {},
   "outputs": [],
   "source": [
    "import cv2 as cv\n",
    "import numpy as np"
   ]
  },
  {
   "cell_type": "code",
   "execution_count": 2,
   "metadata": {},
   "outputs": [],
   "source": [
    "file=r'C:\\Users\\luoyongchen\\Pictures\\lena.jpg'\n",
    "img=cv.imread(file,0)"
   ]
  },
  {
   "cell_type": "code",
   "execution_count": 4,
   "metadata": {},
   "outputs": [],
   "source": [
    "sobel=cv.Sobel(img,cv.CV_16S,1,0,ksize=3)   \n",
    "laplacian=cv.Laplacian(img,cv.CV_16S)     #cv_16S意思是生成16位的有符号整数\n",
    "canny=cv.Canny(img,50,120)    #阈值上限120，下限50"
   ]
  },
  {
   "cell_type": "code",
   "execution_count": 6,
   "metadata": {},
   "outputs": [],
   "source": [
    "#上一步滤波的结果时CV_16S图像，即每一个像素的对应值都是16位的有符号整数，因为有正负之分，故显示会有问题\n",
    "#只有每一个像素是8位无符号整数时才可以完美显示，所以要cv.convertScaleAbs()\n",
    "sobel_show=cv.convertScaleAbs(sobel)   \n",
    "lap_show=cv.convertScaleAbs(laplacian)\n",
    "cv.imshow('sobel',sobel_show)\n",
    "cv.imshow('laplacian',lap_show)\n",
    "cv.imshow('canny',canny)\n",
    "cv.waitKey()\n",
    "cv.destroyAllWindows()"
   ]
  },
  {
   "cell_type": "markdown",
   "metadata": {},
   "source": [
    "# canny算法的效果要比其它两种要好"
   ]
  },
  {
   "cell_type": "code",
   "execution_count": null,
   "metadata": {},
   "outputs": [],
   "source": []
  }
 ],
 "metadata": {
  "kernelspec": {
   "display_name": "Python 3",
   "language": "python",
   "name": "python3"
  },
  "language_info": {
   "codemirror_mode": {
    "name": "ipython",
    "version": 3
   },
   "file_extension": ".py",
   "mimetype": "text/x-python",
   "name": "python",
   "nbconvert_exporter": "python",
   "pygments_lexer": "ipython3",
   "version": "3.7.6"
  }
 },
 "nbformat": 4,
 "nbformat_minor": 4
}
