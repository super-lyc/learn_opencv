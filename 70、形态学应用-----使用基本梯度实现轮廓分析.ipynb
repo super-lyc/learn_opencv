{
 "cells": [
  {
   "cell_type": "raw",
   "metadata": {},
   "source": [
    "基于形态学梯度实现图像二值化，进行文本结构分析是OCR识别中常用的处理手段之一，这种好处比简单的二值化对图像有更好的分割效果，主要步骤如下：\n",
    "1.\t图像形态学梯度\n",
    "2.\t灰度\n",
    "3.\t全局阈值二值化\n",
    "4.\t轮廓分析"
   ]
  },
  {
   "cell_type": "code",
   "execution_count": 1,
   "metadata": {},
   "outputs": [],
   "source": [
    "import cv2 as cv\n",
    "\n",
    "file=r'C:\\Users\\luo yong chen\\Pictures\\kd02.jpg'\n",
    "src=cv.imread(file)\n",
    "cv.namedWindow(\"input\", cv.WINDOW_AUTOSIZE)\n",
    "cv.imshow(\"input\", src)\n",
    "\n",
    "# 形态学梯度 - 基本梯度\n",
    "se = cv.getStructuringElement(cv.MORPH_RECT, (3, 3), (-1, -1))\n",
    "basic = cv.morphologyEx(src, cv.MORPH_GRADIENT, se)\n",
    "cv.imshow(\"basic gradient\", basic)\n",
    "\n",
    "gray = cv.cvtColor(basic, cv.COLOR_BGR2GRAY)\n",
    "ret, binary = cv.threshold(gray, 0, 255, cv.THRESH_BINARY | cv.THRESH_OTSU)\n",
    "cv.imshow(\"binary\", binary)\n",
    "\n",
    "se = cv.getStructuringElement(cv.MORPH_RECT, (1, 5), (-1, -1))\n",
    "#梯度二值化之后图像可能会断裂，使用膨胀操作将文字连接起来\n",
    "binary = cv.morphologyEx(binary, cv.MORPH_DILATE, se)\n",
    "out, contours, hierarchy = cv.findContours(binary, cv.RETR_EXTERNAL, cv.CHAIN_APPROX_SIMPLE)\n",
    "for c in range(len(contours)):\n",
    "    x, y, w, h = cv.boundingRect(contours[c])\n",
    "    area = cv.contourArea(contours[c])\n",
    "    if area < 200:\n",
    "        continue\n",
    "    if h > (3*w) or h < 20:#去掉横纵比失调的部分\n",
    "        continue\n",
    "    cv.rectangle(src, (x, y), (x+w, y+h), (0, 0, 255), 1, 8, 0)\n",
    "\n",
    "cv.imshow(\"result\", src)\n",
    "cv.waitKey(0)\n",
    "cv.destroyAllWindows()"
   ]
  },
  {
   "cell_type": "code",
   "execution_count": null,
   "metadata": {},
   "outputs": [],
   "source": []
  }
 ],
 "metadata": {
  "kernelspec": {
   "display_name": "Python 3",
   "language": "python",
   "name": "python3"
  },
  "language_info": {
   "codemirror_mode": {
    "name": "ipython",
    "version": 3
   },
   "file_extension": ".py",
   "mimetype": "text/x-python",
   "name": "python",
   "nbconvert_exporter": "python",
   "pygments_lexer": "ipython3",
   "version": "3.7.6"
  }
 },
 "nbformat": 4,
 "nbformat_minor": 4
}
