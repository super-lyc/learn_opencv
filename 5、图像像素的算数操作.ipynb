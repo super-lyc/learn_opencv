{
 "cells": [
  {
   "cell_type": "code",
   "execution_count": 2,
   "metadata": {},
   "outputs": [],
   "source": [
    "import cv2 as cv\n",
    "import numpy as np"
   ]
  },
  {
   "cell_type": "raw",
   "metadata": {},
   "source": [
    "图像的算术操作，加add、减subtract、乘multiply、除divide\n",
    "图像的数据类型、通道数目和大小必须相同,乘法可以用来抠图，除法可以用来阴影校正"
   ]
  },
  {
   "cell_type": "code",
   "execution_count": 3,
   "metadata": {},
   "outputs": [
    {
     "name": "stdout",
     "output_type": "stream",
     "text": [
      "h , w, ch 240 320 3\n"
     ]
    }
   ],
   "source": [
    "filename1=r'C:\\Users\\luo yong chen\\Pictures\\LinuxLogo.jpg'\n",
    "src1 = cv.imread(filename1)\n",
    "filename2=r'C:\\Users\\luo yong chen\\Pictures\\WindowsLogo.jpg'\n",
    "src2 = cv.imread(filename2)\n",
    "cv.imshow(\"input1\", src1)\n",
    "cv.imshow(\"input2\", src2)\n",
    "h, w, ch = src1.shape\n",
    "print(\"h , w, ch\", h, w, ch)\n",
    "\n",
    "#add_result = np.zeros(src1.shape, src1.dtype)\n",
    "add_result=cv.add(src1, src2)\n",
    "cv.imshow(\"add_result\", add_result)\n",
    "\n",
    "#sub_result = np.zeros(src1.shape, src1.dtype)\n",
    "sub_result=cv.subtract(src1, src2)\n",
    "cv.imshow(\"sub_result\", sub_result)\n",
    "\n",
    "#ul_result = np.zeros(src1.shape, src1.dtype)\n",
    "mul_result=cv.multiply(src1, src2 )\n",
    "cv.imshow(\"mul_result\", mul_result)\n",
    "\n",
    "#div_result = np.zeros(src1.shape, src1.dtype)\n",
    "div_result=cv.divide(src1, src2)\n",
    "cv.imshow(\"div_result\", div_result)\n",
    "\n",
    "cv.waitKey(0)\n",
    "cv.destroyAllWindows()\n",
    "\n"
   ]
  },
  {
   "cell_type": "code",
   "execution_count": null,
   "metadata": {},
   "outputs": [],
   "source": []
  }
 ],
 "metadata": {
  "kernelspec": {
   "display_name": "Python 3",
   "language": "python",
   "name": "python3"
  },
  "language_info": {
   "codemirror_mode": {
    "name": "ipython",
    "version": 3
   },
   "file_extension": ".py",
   "mimetype": "text/x-python",
   "name": "python",
   "nbconvert_exporter": "python",
   "pygments_lexer": "ipython3",
   "version": "3.7.4"
  }
 },
 "nbformat": 4,
 "nbformat_minor": 4
}
