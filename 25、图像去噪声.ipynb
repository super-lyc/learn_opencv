{
 "cells": [
  {
   "cell_type": "raw",
   "metadata": {},
   "source": [
    "图像去噪声在OCR、机器人视觉与机器视觉领域应用开发中是重要的图像预处理手段之一，\n",
    "对图像二值化与二值分析很有帮助，OpenCV中常见的图像去噪声的方法有：\n",
    "\n",
    "- 均值去噪声\n",
    "- 高斯模糊去噪声\n",
    "- 非局部均值去噪声\n",
    "- 双边滤波去噪声\n",
    "- 形态学去噪声"
   ]
  },
  {
   "cell_type": "code",
   "execution_count": 1,
   "metadata": {},
   "outputs": [],
   "source": [
    "import cv2 as cv\n",
    "import numpy as np\n",
    "\n",
    "\n",
    "def add_salt_pepper_noise(image):\n",
    "    h, w = image.shape[:2]\n",
    "    nums = 10000\n",
    "    rows = np.random.randint(0, h, nums, dtype=np.int)\n",
    "    cols = np.random.randint(0, w, nums, dtype=np.int)\n",
    "    for i in range(nums):\n",
    "        if i % 2 == 1:\n",
    "            image[rows[i], cols[i]] = (255, 255, 255)\n",
    "        else:\n",
    "            image[rows[i], cols[i]] = (0, 0, 0)\n",
    "    return image\n",
    "\n",
    "\n",
    "def gaussian_noise(image):\n",
    "    noise = np.zeros(image.shape, image.dtype)\n",
    "    m = (15, 15, 15)\n",
    "    s = (30, 30, 30)\n",
    "    cv.randn(noise, m, s)\n",
    "    dst = cv.add(image, noise)\n",
    "    cv.imshow(\"gaussian noise\", dst)\n",
    "    return dst\n",
    "\n",
    "\n",
    "src = cv.imread(\"C:/Users/luo yong chen/Pictures/example.png\")\n",
    "cv.imshow(\"input\", src)\n",
    "h, w = src.shape[:2]\n",
    "src = gaussian_noise(src)\n",
    "\n",
    "result1 = cv.blur(src, (5, 5))\n",
    "cv.imshow(\"result-1\", result1)\n",
    "\n",
    "result2 = cv.GaussianBlur(src, (5, 5), 0)\n",
    "cv.imshow(\"result-2\", result2)\n",
    "\n",
    "result3 = cv.medianBlur(src, 5)\n",
    "cv.imshow(\"result-3\", result3)\n",
    "\n",
    "result4 = cv.fastNlMeansDenoisingColored(src, None, 15, 15, 10, 30)\n",
    "cv.imshow(\"result-4\", result4)\n",
    "\n",
    "cv.waitKey(0)\n",
    "cv.destroyAllWindows()\n"
   ]
  },
  {
   "cell_type": "code",
   "execution_count": null,
   "metadata": {},
   "outputs": [],
   "source": []
  }
 ],
 "metadata": {
  "kernelspec": {
   "display_name": "Python 3",
   "language": "python",
   "name": "python3"
  },
  "language_info": {
   "codemirror_mode": {
    "name": "ipython",
    "version": 3
   },
   "file_extension": ".py",
   "mimetype": "text/x-python",
   "name": "python",
   "nbconvert_exporter": "python",
   "pygments_lexer": "ipython3",
   "version": "3.7.4"
  }
 },
 "nbformat": 4,
 "nbformat_minor": 4
}
