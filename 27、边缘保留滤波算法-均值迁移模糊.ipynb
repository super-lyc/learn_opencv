{
 "cells": [
  {
   "cell_type": "raw",
   "metadata": {},
   "source": [
    "均值迁移模糊是图像边缘保留滤波算法中一种，\n",
    "经常用来在对图像进行分水岭分割之前去噪声，可以大幅度提升分水岭分割的效果。"
   ]
  },
  {
   "cell_type": "raw",
   "metadata": {},
   "source": [
    "均值迁移模糊的主要思想如下：\n",
    "就是在图像进行开窗的时候同样，考虑像素值空间范围分布，\n",
    "只有符合分布的像素点才参与计算，计算得到像素均值与空间位置均值，\n",
    "使用新的均值位置作为窗口中心位置继续基于给定像素值空间分布计算均值与均值位置，\n",
    "如此不断迁移中心位置直到不再变化位置（dx=dy=0），\n",
    "但是在实际情况中我们会人为设置一个停止条件比如迁移几次，这样就可以把最后的RGB均值赋值给中心位置。\n",
    "\n",
    "对于给定的一定数量样本，任选其中一个样本，以该样本为中心点划定一个圆形区域，求取该圆形区域内样本的质心，即密度最大处的点，再以该点为中心继续执行上述迭代过程，直至最终收敛。\n",
    "\n",
    "可以利用均值偏移算法的这个特性，实现彩色图像分割，Opencv中对应的函数是pyrMeanShiftFiltering。\n",
    "\n",
    "这个函数严格来说并不是图像的分割，而是图像在色彩层面的平滑滤波，它可以中和色彩分布相近的颜色，平滑色彩细节，侵蚀掉面积较小的颜色区域。"
   ]
  },
  {
   "cell_type": "raw",
   "metadata": {},
   "source": [
    "dst=cv.pyrMeanShiftFiltering(src, sp, sr[, dst[, maxLevel[, termcrit]]])\n",
    "sp:定义的漂移物理空间半径大小。\n",
    "sr:定义的漂移色彩空间半径大小。\n",
    "termcrit：定义的漂移迭代终止条件，可以设置为迭代次数满足终止，迭代目标与中心点偏差满足终止，或者两者的结合。"
   ]
  },
  {
   "cell_type": "raw",
   "metadata": {},
   "source": [
    "pyrMeanShiftFiltering函数的执行过程是这样的：\n",
    "1. 迭代空间构建：\n",
    "\n",
    "以输入图像上src上任一点P0为圆心，建立物理空间上半径为sp，色彩空间上半径为sr的球形空间，\n",
    "物理空间上坐标2个—x、y，色彩空间上坐标3个—R、G、B（或HSV），构成一个5维的空间球体。\n",
    "\n",
    "其中物理空间的范围x和y是图像的长和宽，色彩空间的范围R、G、B分别是0~255。\n",
    "\n",
    "2. 求取迭代空间的向量并移动迭代空间球体后重新计算向量，直至收敛：\n",
    "\n",
    "在1中构建的球形空间中，求得所有点相对于中心点的色彩向量之和后，移动迭代空间的中心点到该向量的终点，\n",
    "并再次计算该球形空间中所有点的向量之和，如此迭代，直到在最后一个空间球体中所求得的向量和的终点就是该空间球体的中心点Pn，迭代结束。\n",
    "\n",
    "3. 更新输出图像dst上对应的初始原点P0的色彩值为本轮迭代的终点Pn的色彩值，如此完成一个点的色彩均值漂移。\n",
    "\n",
    "4. 对输入图像src上其他点，依次执行步骤1,、2、3，遍历完所有点位后，整个均值偏移色彩滤波完成。\n",
    "\n",
    "在这个过程中，关键参数是sp和sr的设置，二者设置的值越大，对图像色彩的平滑效果越明显，同时函数耗时也越多。"
   ]
  },
  {
   "cell_type": "code",
   "execution_count": 1,
   "metadata": {},
   "outputs": [],
   "source": [
    "import cv2 as cv\n",
    "import numpy as np\n",
    "\n",
    "file=r'C:\\Users\\luo yong chen\\Pictures\\example.png'\n",
    "src=cv.imread(file)\n",
    "cv.namedWindow(\"input\", cv.WINDOW_AUTOSIZE)\n",
    "cv.imshow(\"input\", src)\n",
    "\n",
    "h, w = src.shape[:2]\n",
    "dst = cv.pyrMeanShiftFiltering(src, 15, 30, termcrit=(cv.TERM_CRITERIA_MAX_ITER+cv.TERM_CRITERIA_EPS, 5, 1))#停止条件：5和1\n",
    "result = np.zeros([h, w*2, 3], dtype=src.dtype)\n",
    "result[0:h,0:w,:] = src\n",
    "result[0:h,w:2*w,:] = dst\n",
    "cv.imshow(\"result\", result)\n",
    "cv.imwrite(\"D:/result.png\", result)\n",
    "\n",
    "\n",
    "cv.waitKey(0)\n",
    "cv.destroyAllWindows()\n"
   ]
  },
  {
   "cell_type": "code",
   "execution_count": null,
   "metadata": {},
   "outputs": [],
   "source": []
  }
 ],
 "metadata": {
  "kernelspec": {
   "display_name": "Python 3",
   "language": "python",
   "name": "python3"
  },
  "language_info": {
   "codemirror_mode": {
    "name": "ipython",
    "version": 3
   },
   "file_extension": ".py",
   "mimetype": "text/x-python",
   "name": "python",
   "nbconvert_exporter": "python",
   "pygments_lexer": "ipython3",
   "version": "3.7.4"
  }
 },
 "nbformat": 4,
 "nbformat_minor": 4
}
