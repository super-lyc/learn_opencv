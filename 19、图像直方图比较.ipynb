{
 "cells": [
  {
   "cell_type": "raw",
   "metadata": {},
   "source": [
    "图像直方图比较，就是计算两幅图像的直方图数据，比较两组数据的相似性，从而得到两幅图像之间的相似程度，\n",
    "直方图比较在早期的CBIR中是应用很常见的技术手段，通常会结合边缘处理、词袋等技术一起使用。"
   ]
  },
  {
   "cell_type": "raw",
   "metadata": {},
   "source": [
    "OpenCV中直方图比较的API很简单\n",
    "compareHist(hist1, hist2, method)\n",
    "-常见比较方法有：\n",
    "           相关性\n",
    "            卡方\n",
    "            交叉\n",
    "            巴氏"
   ]
  },
  {
   "cell_type": "code",
   "execution_count": 2,
   "metadata": {},
   "outputs": [
    {
     "ename": "error",
     "evalue": "OpenCV(4.3.0) C:\\projects\\opencv-python\\opencv\\modules\\highgui\\src\\window.cpp:376: error: (-215:Assertion failed) size.width>0 && size.height>0 in function 'cv::imshow'\n",
     "output_type": "error",
     "traceback": [
      "\u001b[1;31m---------------------------------------------------------------------------\u001b[0m",
      "\u001b[1;31merror\u001b[0m                                     Traceback (most recent call last)",
      "\u001b[1;32m<ipython-input-2-672ca15f421e>\u001b[0m in \u001b[0;36m<module>\u001b[1;34m\u001b[0m\n\u001b[0;32m     14\u001b[0m \u001b[0mcv\u001b[0m\u001b[1;33m.\u001b[0m\u001b[0mimshow\u001b[0m\u001b[1;33m(\u001b[0m\u001b[1;34m\"input2\"\u001b[0m\u001b[1;33m,\u001b[0m \u001b[0msrc2\u001b[0m\u001b[1;33m)\u001b[0m\u001b[1;33m\u001b[0m\u001b[1;33m\u001b[0m\u001b[0m\n\u001b[0;32m     15\u001b[0m \u001b[0mcv\u001b[0m\u001b[1;33m.\u001b[0m\u001b[0mimshow\u001b[0m\u001b[1;33m(\u001b[0m\u001b[1;34m\"input3\"\u001b[0m\u001b[1;33m,\u001b[0m \u001b[0msrc3\u001b[0m\u001b[1;33m)\u001b[0m\u001b[1;33m\u001b[0m\u001b[1;33m\u001b[0m\u001b[0m\n\u001b[1;32m---> 16\u001b[1;33m \u001b[0mcv\u001b[0m\u001b[1;33m.\u001b[0m\u001b[0mimshow\u001b[0m\u001b[1;33m(\u001b[0m\u001b[1;34m\"input4\"\u001b[0m\u001b[1;33m,\u001b[0m \u001b[0msrc4\u001b[0m\u001b[1;33m)\u001b[0m\u001b[1;33m\u001b[0m\u001b[1;33m\u001b[0m\u001b[0m\n\u001b[0m\u001b[0;32m     17\u001b[0m \u001b[1;33m\u001b[0m\u001b[0m\n\u001b[0;32m     18\u001b[0m \u001b[0mcv\u001b[0m\u001b[1;33m.\u001b[0m\u001b[0mwaitKey\u001b[0m\u001b[1;33m(\u001b[0m\u001b[1;36m0\u001b[0m\u001b[1;33m)\u001b[0m\u001b[1;33m\u001b[0m\u001b[1;33m\u001b[0m\u001b[0m\n",
      "\u001b[1;31merror\u001b[0m: OpenCV(4.3.0) C:\\projects\\opencv-python\\opencv\\modules\\highgui\\src\\window.cpp:376: error: (-215:Assertion failed) size.width>0 && size.height>0 in function 'cv::imshow'\n"
     ]
    }
   ],
   "source": [
    "import cv2 as cv\n",
    "import numpy as np\n",
    "\n",
    "filename1 = r'C:\\Users\\luo yong chen\\Pictures\\m1.png'\n",
    "filename2 = r'C:\\Users\\luo yong chen\\Pictures\\m2.png'\n",
    "filename3 = r'C:\\Users\\luo yong chen\\Pictures\\flower.png'\n",
    "filename4 = r'C:\\Users\\luo yong chen\\Pictures\\wm_test.png'\n",
    "src1 = cv.imread(filename1)\n",
    "src2 = cv.imread(filename2)\n",
    "src3 = cv.imread(filename3)\n",
    "src4 = cv.imread(filename4)\n",
    "\n",
    "cv.imshow(\"input1\", src1)\n",
    "cv.imshow(\"input2\", src2)\n",
    "cv.imshow(\"input3\", src3)\n",
    "cv.imshow(\"input4\", src4)\n",
    "\n",
    "cv.waitKey(0)\n",
    "cv.destroyAllWindows()\n",
    "#一般的经验都是先将图片转换成HSV模式\n",
    "hsv1 = cv.cvtColor(src1, cv.COLOR_BGR2HSV)   \n",
    "hsv2 = cv.cvtColor(src2, cv.COLOR_BGR2HSV)\n",
    "hsv3 = cv.cvtColor(src3, cv.COLOR_BGR2HSV)\n",
    "hsv4 = cv.cvtColor(src4, cv.COLOR_BGR2HSV)\n",
    "\n",
    "#描述的是h和s,即色调和饱和度，cv.calHisst(image,channels,mask,bins,三个通道的范围)\n",
    "hist1 = cv.calcHist([hsv1], [0, 1], None, [60, 64], [0, 180, 0, 256])\n",
    "hist2 = cv.calcHist([hsv2], [0, 1], None, [60, 64], [0, 180, 0, 256])\n",
    "hist3 = cv.calcHist([hsv3], [0, 1], None, [60, 64], [0, 180, 0, 256])\n",
    "hist4 = cv.calcHist([hsv4], [0, 1], None, [60, 64], [0, 180, 0, 256])\n",
    "\n",
    "cv.normalize(hist1, hist1, 0, 1.0, cv.NORM_MINMAX, dtype=np.float32)\n",
    "cv.normalize(hist2, hist2, 0, 1.0, cv.NORM_MINMAX)\n",
    "cv.normalize(hist3, hist3, 0, 1.0, cv.NORM_MINMAX)\n",
    "cv.normalize(hist4, hist4, 0, 1.0, cv.NORM_MINMAX)\n",
    "\n",
    "methods = [cv.HISTCMP_CORREL, cv.HISTCMP_CHISQR,\n",
    "           cv.HISTCMP_INTERSECT, cv.HISTCMP_BHATTACHARYYA]\n",
    "str_method = \"\"\n",
    "for method in methods:\n",
    "    src1_src2 = cv.compareHist(hist1, hist2, method)\n",
    "    src3_src4 = cv.compareHist(hist3, hist4, method)\n",
    "    if method == cv.HISTCMP_CORREL:\n",
    "        str_method = \"Correlation\"\n",
    "    if method == cv.HISTCMP_CHISQR:\n",
    "        str_method = \"Chi-square\"\n",
    "    if method == cv.HISTCMP_INTERSECT:\n",
    "        str_method = \"Intersection\"\n",
    "    if method == cv.HISTCMP_BHATTACHARYYA:\n",
    "        str_method = \"Bhattacharyya\"\n",
    "\n",
    "    print(\"%s src1_src2 = %.2f, src3_src4 = %.2f\"%(str_method, src1_src2, src3_src4))\n",
    "\n"
   ]
  },
  {
   "cell_type": "code",
   "execution_count": null,
   "metadata": {},
   "outputs": [],
   "source": []
  }
 ],
 "metadata": {
  "kernelspec": {
   "display_name": "Python 3",
   "language": "python",
   "name": "python3"
  },
  "language_info": {
   "codemirror_mode": {
    "name": "ipython",
    "version": 3
   },
   "file_extension": ".py",
   "mimetype": "text/x-python",
   "name": "python",
   "nbconvert_exporter": "python",
   "pygments_lexer": "ipython3",
   "version": "3.7.4"
  }
 },
 "nbformat": 4,
 "nbformat_minor": 4
}
