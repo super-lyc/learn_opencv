{
 "cells": [
  {
   "cell_type": "raw",
   "metadata": {},
   "source": [
    "对于HOG特征，我们可以通过预先训练的特征数据，进行多尺度的对象检测，OpenCV中基于HOG的行人检测是一个典型案例，同时我们还可以实现自定义对象的检测，这种自定义对象检测，可以分为两个部分，第一部分：通过提取样本的HOG描述子，生成样本的特征数据，第二部分通过SVM进行分类学习与训练，保存为模型文件.xml。这样我们以后就可以通过模型来实现自定义对象检测"
   ]
  },
  {
   "cell_type": "raw",
   "metadata": {},
   "source": [
    "cv::HOGDescriptor::compute(\n",
    "\tInputArray \timg,\n",
    "\tstd::vector< float > & \tdescriptors,\n",
    "\tSize \twinStride = Size(),\n",
    "\tSize \tpadding = Size(),\n",
    "\tconst std::vector< Point > & locations = std::vector< Point >() \n",
    ")\n",
    "输入图像大小WxH=72x128\n",
    "默认的HOG描述子窗口大小为64x128，窗口移动的步长8x8\n",
    "对于每个窗口内部，每个Cell大小是8x8的，所以窗口可以划分为8x16的Cells大小\n",
    "对于每个Block区域来说，每次移动步长是一个Cell，8x16Cells可以得到总数7x15个Block\n",
    "每个Block都是4个Cell, 36个向量，所以对于输入图像得到：\n",
    "7x15x36x2 = 7560个特征描述子，这些描述子可以作为浮点数特征数据，对于需要输入的样本图像来说，需要首先执行以下预处理，把图像大小resize为跟窗口大小一致或者把窗口resize跟图像大小一致，这样有利于下一步处理。"
   ]
  },
  {
   "cell_type": "raw",
   "metadata": {},
   "source": [
    "对于行人、车辆等都可以通过HOG进行特征提取，再利用SVM进行分类识别"
   ]
  },
  {
   "cell_type": "code",
   "execution_count": 1,
   "metadata": {},
   "outputs": [
    {
     "name": "stdout",
     "output_type": "stream",
     "text": [
      "(343, 640, 3)\n",
      "7450380\n",
      "[[1.5254425e-02]\n",
      " [1.2922044e-02]\n",
      " [3.9937750e-02]\n",
      " ...\n",
      " [4.3075494e-04]\n",
      " [7.3585579e-05]\n",
      " [6.2190543e-04]]\n"
     ]
    }
   ],
   "source": [
    "import cv2 as cv\n",
    "import numpy as np\n",
    "\n",
    "if __name__ == '__main__':\n",
    "    file=r'C:\\Users\\luo yong chen\\Pictures\\xingren.jpg'\n",
    "    src = cv.imread(file)\n",
    "    print(src.shape)\n",
    "    hog = cv.HOGDescriptor()\n",
    "    gray = cv.cvtColor(src, cv.COLOR_BGR2GRAY)\n",
    "    fv = hog.compute(gray, winStride=(8, 8), padding=(0, 0))#计算特征向量\n",
    "    print(len(fv))\n",
    "    print(fv)\n",
    "    cv.imshow(\"hog-descriptor\", src)\n",
    "    cv.waitKey(0)\n",
    "    cv.destroyAllWindows()\n"
   ]
  },
  {
   "cell_type": "code",
   "execution_count": null,
   "metadata": {},
   "outputs": [],
   "source": []
  }
 ],
 "metadata": {
  "kernelspec": {
   "display_name": "Python 3",
   "language": "python",
   "name": "python3"
  },
  "language_info": {
   "codemirror_mode": {
    "name": "ipython",
    "version": 3
   },
   "file_extension": ".py",
   "mimetype": "text/x-python",
   "name": "python",
   "nbconvert_exporter": "python",
   "pygments_lexer": "ipython3",
   "version": "3.7.4"
  }
 },
 "nbformat": 4,
 "nbformat_minor": 4
}
