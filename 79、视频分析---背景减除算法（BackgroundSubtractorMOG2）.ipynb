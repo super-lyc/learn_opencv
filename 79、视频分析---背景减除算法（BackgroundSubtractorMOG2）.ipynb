{
 "cells": [
  {
   "cell_type": "raw",
   "metadata": {},
   "source": [
    "视频场景分析中最常用的技术之一就是通过背景消除来提取前景移动对象，得到前景的对象mask图像（二值图像），最常用的背景消除技术就是通过帧差相减，用前面一帧作为背景图像，与当前帧进行相减，不过这种方法对光照与噪声影响非常敏感，所以好的办法是通过对前面一系列帧提取背景模型进行相减，OpenCV中实现的背景模型提取算法有两种，一种是基于高斯混合模型GMM实现的背景提取，另外一种是基于最近邻KNN实现的。"
   ]
  },
  {
   "cell_type": "raw",
   "metadata": {},
   "source": [
    "背景减除算法是很多以机器视觉为基础的应用中，非常重要的预处理算法。例如，使用固定的摄像头来统计一个房间的进出人数或者交通摄像头提取关于交通工具的信息等等。在所有这些例子当中，你首先要做的就是把人和交通工具单独提取出来。从技术上来讲，你需要把移动的前景从静止的背景当中提取出来。如果你要一张单独的背景图片，例如一个没有游客的房间照片，没有任何交通工具的街道照片等等，这有一个很简单的方法，只要从新的图片当中减去背景图片即可。你就能得到单独的前景照片。但是在多数的例子当中，你不可能有这样的背景照片，所以我们需要从我们手头有的照片中提取前景。当存在阴影等效果的时候，这相当复杂了。因为影子是会移动的，简单的减除方法会将阴影部分同样当成是前景。这是个很糟糕的事情。\n",
    "\n",
    "BackgroundSubtractorMOG2是以高斯混合模型为基础的背景/前景分割算法。它是以2004年和2006年Z.Zivkovic的两篇文章为基础的使用基于高斯混合模型的背景前景分割算法。基于两篇论文：\n",
    "Improved adaptive Gausian mixture model for background subtraction\n",
    "\n",
    "Efficient Adaptive Density Estimation per Image Pixel for the Task of Background Subtraction\n",
    "\n",
    "该算法的一个重要特征是它对每个像素点选择了合适数量的高斯分布模型。因此它也提供了一个在光照变换场景中更好的适应能力。我们需要创建一个背景对象。但在这里我们我们可以选择是否检测阴影。如果detectShadows = True（默认值），它就会检测并将影子标记出来，但是这样做会降低处理速度。影子会被标记为灰色。\n",
    "\n",
    "cv.createBackgroundSubtractorMOG2(int history,double varThreshold,bool detectShadows  )\n",
    "参数解释如下：\n",
    "history:表示过往帧数，500帧，选择history = 1就变成两帧差\n",
    "varThreshold:表示像素与模型之间的马氏距离，值越大，只有那些最新的像素会被归到前景，值越小前景对光照越敏感。\n",
    "detectShadows :是否保留阴影检测，请选择False这样速度快点。"
   ]
  },
  {
   "cell_type": "raw",
   "metadata": {},
   "source": [
    "BackgroundSubtractorMOG2相比于BackgroundSubtractorMOG速度快了一倍，并且还能检测阴影"
   ]
  },
  {
   "cell_type": "code",
   "execution_count": 3,
   "metadata": {},
   "outputs": [
    {
     "name": "stdout",
     "output_type": "stream",
     "text": [
      "480.0 640.0 718.0 15.0\n"
     ]
    }
   ],
   "source": [
    "import numpy as np\n",
    "import cv2 as cv\n",
    "\n",
    "file=r'C:\\Users\\luo yong chen\\Pictures\\color_object.mp4'\n",
    "capture= cv.VideoCapture(file)\n",
    "height = capture.get(cv.CAP_PROP_FRAME_HEIGHT)\n",
    "width = capture.get(cv.CAP_PROP_FRAME_WIDTH)\n",
    "count = capture.get(cv.CAP_PROP_FRAME_COUNT)\n",
    "fps = capture.get(cv.CAP_PROP_FPS)\n",
    "print(height, width, count, fps)\n",
    "\n",
    "fgbg = cv.createBackgroundSubtractorMOG2(history=500, varThreshold=1000, detectShadows=False)\n",
    "while True:\n",
    "    ret, frame = capture.read()\n",
    "    if ret is True:\n",
    "        fgmask = fgbg.apply(frame)\n",
    "        background = fgbg.getBackgroundImage()\n",
    "        cv.imshow('input', frame)\n",
    "        cv.imshow('mask',fgmask)\n",
    "        cv.imshow('background', background)\n",
    "        k = cv.waitKey(10)&0xff\n",
    "        if k == 27:\n",
    "            break\n",
    "    else:\n",
    "        break\n",
    "capture.release()\n",
    "cv.destroyAllWindows()"
   ]
  },
  {
   "cell_type": "code",
   "execution_count": null,
   "metadata": {},
   "outputs": [],
   "source": []
  }
 ],
 "metadata": {
  "kernelspec": {
   "display_name": "Python 3",
   "language": "python",
   "name": "python3"
  },
  "language_info": {
   "codemirror_mode": {
    "name": "ipython",
    "version": 3
   },
   "file_extension": ".py",
   "mimetype": "text/x-python",
   "name": "python",
   "nbconvert_exporter": "python",
   "pygments_lexer": "ipython3",
   "version": "3.7.6"
  }
 },
 "nbformat": 4,
 "nbformat_minor": 4
}
