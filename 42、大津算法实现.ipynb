{
 "cells": [
  {
   "cell_type": "raw",
   "metadata": {},
   "source": [
    "（1）读入一幅图像；\n",
    "（2）将读入的图像灰度化；\n",
    "（3）将灰度图中各灰度级个数进行统计；\n",
    "（4）统计各灰度级个数占图像的比例；\n",
    "（5）遍历灰度级，根据公式求最大类间方差；\n",
    "（6）最大类间方差对应的灰度级即为阈值，根据阈值对图像进行二值化划分。"
   ]
  },
  {
   "cell_type": "code",
   "execution_count": 1,
   "metadata": {},
   "outputs": [
    {
     "name": "stdout",
     "output_type": "stream",
     "text": [
      "112\n"
     ]
    }
   ],
   "source": [
    "import cv2 as cv\n",
    "import numpy as np\n",
    "\n",
    "def rgb2gray(img):\n",
    "    h=img.shape[0]\n",
    "    w=img.shape[1]\n",
    "    img1=np.zeros((h,w),np.uint8)\n",
    "    for i in range(h):\n",
    "        for j in range(w):\n",
    "            img1[i,j]=0.144*img[i,j,0]+0.587*img[i,j,1]+0.299*img[i,j,1]\n",
    "    return img1\n",
    "\n",
    "def otsu(img):\n",
    "    h=img.shape[0]\n",
    "    w=img.shape[1]\n",
    "    m=h*w   # 图像像素点总和\n",
    "    otsuimg=np.zeros((h,w),np.uint8)\n",
    "    threshold_max=threshold=0   # 定义临时阈值和最终阈值\n",
    "    histogram=np.zeros(256,np.int32)   # 初始化各灰度级个数统计参数\n",
    "    probability=np.zeros(256,np.float32)   # 初始化各灰度级占图像中的分布的统计参数\n",
    "    for i in range (h):\n",
    "        for j in range (w):\n",
    "            s=img[i,j]\n",
    "            histogram[s]+=1   # 统计像素中每个灰度级在整幅图像中的个数\n",
    "    for k in range (256):\n",
    "        probability[k]=histogram[k]/m   # 统计每个灰度级个数占图像中的比例\n",
    "    for i in range (255):\n",
    "        w0 = w1 = 0   # 定义前景像素点和背景像素点灰度级占图像中的分布\n",
    "        fgs = bgs = 0   # 定义前景像素点灰度级总和and背景像素点灰度级总和\n",
    "        for j in range (256):\n",
    "            if j<=i:   # 当前i为分割阈值\n",
    "                w0+=probability[j]   # 前景像素点占整幅图像的比例累加\n",
    "                fgs+=j*probability[j]\n",
    "            else:\n",
    "                w1+=probability[j]   # 背景像素点占整幅图像的比例累加\n",
    "                bgs+=j*probability[j]\n",
    "        u0=fgs/w0   # 前景像素点的平均灰度\n",
    "        u1=bgs/w1   # 背景像素点的平均灰度\n",
    "        g=w0*w1*(u0-u1)**2   # 类间方差\n",
    "        if g>=threshold_max:\n",
    "            threshold_max=g\n",
    "            threshold=i\n",
    "    print(threshold)\n",
    "    for i in range (h):\n",
    "        for j in range (w):\n",
    "            if img[i,j]>threshold:\n",
    "                otsuimg[i,j]=255\n",
    "            else:\n",
    "                otsuimg[i,j]=0\n",
    "    return otsuimg\n",
    "\n",
    "file=r'C:\\Users\\luo yong chen\\Pictures\\lena.png'\n",
    "image=cv.imread(file)\n",
    "grayimage = rgb2gray(image)\n",
    "otsuimage = otsu(grayimage)\n",
    "cv.imshow(\"image\", image)\n",
    "cv.imshow(\"grayimage\",grayimage)\n",
    "cv.imshow(\"otsu\", otsuimage)\n",
    "cv.waitKey(0)\n",
    "cv.destroyAllWindows()\n"
   ]
  },
  {
   "cell_type": "code",
   "execution_count": null,
   "metadata": {},
   "outputs": [],
   "source": []
  }
 ],
 "metadata": {
  "kernelspec": {
   "display_name": "Python 3",
   "language": "python",
   "name": "python3"
  },
  "language_info": {
   "codemirror_mode": {
    "name": "ipython",
    "version": 3
   },
   "file_extension": ".py",
   "mimetype": "text/x-python",
   "name": "python",
   "nbconvert_exporter": "python",
   "pygments_lexer": "ipython3",
   "version": "3.7.6"
  }
 },
 "nbformat": 4,
 "nbformat_minor": 4
}
