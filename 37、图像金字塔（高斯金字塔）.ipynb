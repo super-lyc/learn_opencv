{
 "cells": [
  {
   "cell_type": "raw",
   "metadata": {},
   "source": [
    "尺寸调整：顾名思义，即对源图像的尺寸进行放大或者缩小变换。在opencv里面可以用resize函数，将源图像精准地转化为指定尺寸的目标图像。要缩小图像，一般推荐使用CV_INETR_AREA(区域插值)来插值；若要放大图像，推荐使用CV_INTER_LINEAR（线性插值）。这个函数可以用来做简单的图像尺度变换。\n",
    "\n",
    "图像金字塔是图像中多尺度表达的一种，最主要用于图像的分割，是一种以多分辨率来解释图像的有效但概念简单的结构。图像金字塔最初用于机器视觉和图像压缩，一幅图像的金字塔是一系列以金字塔形状排列的分辨率逐步降低，且来源于同一张原始图的图像集合。其通过梯次向下采样获得，直到达到某个终止条件才停止采样。金字塔的底部是待处理图像的高分辨率表示，而顶部是低分辨率的近似。我们将一层一层的图像比喻成金字塔，层级越高，则图像越小，分辨率越低。 要从金字塔第i层生成第i+1层（我们表示第i+1层为G_i+1），我们先要用高斯核对G_1进行卷积，然后删除所有偶数行和偶数列。新得到图像面积会变为源图像的四分之一。按上述过程对输入图像G_0执行操作就可产生出整个金字塔。\n",
    "\n",
    "\n",
    "步骤：先对下一层级图像使用高斯核进行模糊，然后再进行采样，去除偶数行和偶数列，则高和宽都变成原来的1/2，那么得到的将会是原来的1/4\n",
    "\n",
    "\n",
    "高斯金字塔图像有两个基本操作：\n",
    "reduce 是从原图生成高斯金字塔图像、生成一系列低分辨图像\n",
    "expand是从高斯金字塔图像反向生成高分辨率图像\n",
    "\n",
    "对图像向上采样：pyrUp函数，向上采样是放大图像\n",
    "对图像向下采样：pyrDown函数，向下采样是缩小图像\n",
    "PryUp和PryDown不是互逆的，即PryUp不是降采样的逆操作。这种情况下，图像首先在每个维度上扩大为原来的两倍，新增的行（偶数行）以0填充。然后给指定的滤波器进行卷积（实际上是一个在每个维度都扩大为原来两倍的过滤器）去估计“丢失”像素的近似值。PryDown( )是一个会丢失信息的函数。为了恢复原来更高的分辨率的图像，我们要获得由降采样操作丢失的信息，这些数据就和拉普拉斯金字塔有关系了。"
   ]
  },
  {
   "cell_type": "raw",
   "metadata": {},
   "source": [
    "规则：\n",
    "1.\t图像金字塔在redude过程或者expand过程中必须是逐层\n",
    "2.\treduce过程中每一层都是前一层的1/4"
   ]
  },
  {
   "cell_type": "code",
   "execution_count": 2,
   "metadata": {},
   "outputs": [
    {
     "name": "stdout",
     "output_type": "stream",
     "text": [
      "level =  3\n"
     ]
    }
   ],
   "source": [
    "import cv2 as cv\n",
    "\n",
    "\n",
    "def pyramid_down(pyramid_images):\n",
    "    level = len(pyramid_images)\n",
    "    print(\"level = \",level)\n",
    "    for i in range(level-1, -1, -1):\n",
    "        expand = cv.pyrUp(pyramid_images[i])\n",
    "        cv.imshow(\"pyramid_down_\"+str(i), expand)\n",
    "\n",
    "\n",
    "def pyramid_up(image, level=3):\n",
    "    temp = image.copy()\n",
    "    # cv.imshow(\"input\", image)\n",
    "    pyramid_images = []\n",
    "    for i in range(level):\n",
    "        dst = cv.pyrDown(temp)\n",
    "        pyramid_images.append(dst)\n",
    "        # cv.imshow(\"pyramid_up_\" + str(i), dst)\n",
    "        temp = dst.copy()\n",
    "    return pyramid_images\n",
    "\n",
    "\n",
    "file=r'C:\\Users\\luo yong chen\\Pictures\\master.jpg'\n",
    "src=cv.imread(file)\n",
    "cv.namedWindow(\"input\", cv.WINDOW_AUTOSIZE)\n",
    "cv.imshow(\"input\", src)\n",
    "# pyramid_up(src)\n",
    "pyramid_down(pyramid_up(src))\n",
    "\n",
    "cv.waitKey(0)\n",
    "cv.destroyAllWindows()\n"
   ]
  },
  {
   "cell_type": "code",
   "execution_count": null,
   "metadata": {},
   "outputs": [],
   "source": []
  }
 ],
 "metadata": {
  "kernelspec": {
   "display_name": "Python 3",
   "language": "python",
   "name": "python3"
  },
  "language_info": {
   "codemirror_mode": {
    "name": "ipython",
    "version": 3
   },
   "file_extension": ".py",
   "mimetype": "text/x-python",
   "name": "python",
   "nbconvert_exporter": "python",
   "pygments_lexer": "ipython3",
   "version": "3.7.4"
  }
 },
 "nbformat": 4,
 "nbformat_minor": 4
}
