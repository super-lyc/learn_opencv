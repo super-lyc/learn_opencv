{
 "cells": [
  {
   "cell_type": "raw",
   "metadata": {},
   "source": [
    "Grabcut是基于图割(graph cut)实现的图像分割算法，它需要用户输入一个bounding box作为分割目标位置，实现对目标与背景的分离/分割，这个跟KMeans与MeanShift等图像分割方法有很大的不同，但是Grabcut分割速度快，效果好，支持交互操作，因此在很多APP图像分割/背景虚化的软件中可以看到其身影。\n",
    "void cv::grabCut(\n",
    "\tInputArray \timg,\n",
    "\tInputOutputArray \tmask,\n",
    "\tRect \trect,\n",
    "\tInputOutputArray \tbgdModel,\n",
    "\tInputOutputArray \tfgdModel,\n",
    "\tint \titerCount,\n",
    "\tint \tmode = GC_EVAL \n",
    ")\n",
    "img输入的三通道图像\n",
    "mask输入的单通道图像，初始化方式为GC_INIT_WITH_RECT表示ROI区域可以被初始化为：\n",
    "GC_BGD 定义为明显的背景像素 0\n",
    "GC_FGD 定义为明显的前景像素 1\n",
    "GC_PR_BGD 定义为可能的背景像素 2\n",
    "GC_PR_FGD 定义为可能的前景像素 3\n",
    "rect 表示roi区域\n",
    "bgdModel表示临时背景模型数组\n",
    "fgdModel表示临时前景模型数组\n",
    "iterCount表示图割算法迭代次数\n",
    "mode当使用用户提供的roi时候使用GC_INIT_WITH_RECT"
   ]
  },
  {
   "cell_type": "code",
   "execution_count": 2,
   "metadata": {},
   "outputs": [
    {
     "name": "stdout",
     "output_type": "stream",
     "text": [
      "(640, 512)\n"
     ]
    }
   ],
   "source": [
    "import cv2 as cv\n",
    "import numpy as np\n",
    "\n",
    "file=r'C:\\Users\\luo yong chen\\Pictures\\master.jpg'\n",
    "src = cv.imread(file)\n",
    "cv.imshow(\"input\", src)\n",
    "\n",
    "mask = np.zeros(src.shape[:2], dtype=np.uint8)\n",
    "#roi区域\n",
    "rect = (53,12,356,622)\n",
    "bgdmodel = np.zeros((1,65),np.float64)#13X5=65\n",
    "fgdmodel = np.zeros((1,65),np.float64)\n",
    "\n",
    "cv.grabCut(src,mask,rect,bgdmodel,fgdmodel,5,mode=cv.GC_INIT_WITH_RECT)\n",
    "mask2 = np.where((mask==1) + (mask==3), 255, 0).astype('uint8')\n",
    "print(mask2.shape)\n",
    "result = cv.bitwise_and(src,src,mask=mask2)\n",
    "\n",
    "cv.imshow(\"result\", result)\n",
    "cv.waitKey(0)\n",
    "cv.destroyAllWindows()"
   ]
  },
  {
   "cell_type": "code",
   "execution_count": null,
   "metadata": {},
   "outputs": [],
   "source": []
  }
 ],
 "metadata": {
  "kernelspec": {
   "display_name": "Python 3",
   "language": "python",
   "name": "python3"
  },
  "language_info": {
   "codemirror_mode": {
    "name": "ipython",
    "version": 3
   },
   "file_extension": ".py",
   "mimetype": "text/x-python",
   "name": "python",
   "nbconvert_exporter": "python",
   "pygments_lexer": "ipython3",
   "version": "3.7.6"
  }
 },
 "nbformat": 4,
 "nbformat_minor": 4
}
