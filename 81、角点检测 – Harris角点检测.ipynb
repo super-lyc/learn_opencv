{
 "cells": [
  {
   "cell_type": "raw",
   "metadata": {},
   "source": [
    "角点是一幅图像上最明显与重要的特征，对于一阶导数而言，角点在各个方向的变化是最大的，而边缘区域在只是某一方向有明显变化。通俗的讲就是，假设有一张图片和一个矩形的框，矩形框在图像上扫描，当矩形框遍历所有的区域，发现有一些像素无论框往哪个方向进行扫描像素的变化都比较明显，则这些区域就是角点；矩形框只在一个方向上进行扫描的时变化比较大的区域就是边缘；无论怎么移动都不会变化很大的区域就是内部区域。"
   ]
  },
  {
   "cell_type": "raw",
   "metadata": {},
   "source": [
    "dst=cv2.cornerHarris(Img，blockSize，ksize，k),它的参数是：\n",
    "Img：单通道输入图像\n",
    "blockSize：计算协方差矩阵的时候邻域像素大小\n",
    "ksize:表示soble算子的大小\n",
    "k：harris Corner检测器的自由参数,取值在0.04~0.06\n",
    "dst:cv2.cornerHarris()函数的返回值其实就是R值构成的灰度图像,Ｒ值就是角点分数,当Ｒ值很大的时候,就可以认为这个点是一个角点"
   ]
  },
  {
   "cell_type": "raw",
   "metadata": {},
   "source": [
    "有比较大的局限性，要么找不全，要么整幅图都是角点"
   ]
  },
  {
   "cell_type": "code",
   "execution_count": 1,
   "metadata": {},
   "outputs": [],
   "source": [
    "import numpy as np\n",
    "import cv2 as cv\n",
    "\n",
    "def process(image, opt=1):\n",
    "    # Detector parameters\n",
    "    blockSize = 2\n",
    "    apertureSize = 3\n",
    "    k = 0.04\n",
    "    # Detecting corners\n",
    "    gray = cv.cvtColor(image, cv.COLOR_BGR2GRAY)\n",
    "    dst = cv.cornerHarris(gray, blockSize, apertureSize, k)\n",
    "    # Normalizing\n",
    "    dst_norm = np.empty(dst.shape, dtype=np.float32)\n",
    "    cv.normalize(dst, dst_norm, alpha=0, beta=255, norm_type=cv.NORM_MINMAX)\n",
    "    dst_norm_scaled = cv.convertScaleAbs(dst_norm)\n",
    "    # Drawing a circle around corners\n",
    "    for i in range(dst_norm.shape[0]):\n",
    "        for j in range(dst_norm.shape[1]):\n",
    "            if int(dst_norm[i, j]) > 80:\n",
    "                b = np.random.randint(0, 256)\n",
    "                g = np.random.randint(0, 256)\n",
    "                r = np.random.randint(0, 256)\n",
    "                cv.circle(image, (j, i), 5, (0,0,255), 2)\n",
    "    # output\n",
    "    return image\n",
    "\n",
    "file=r'C:\\Users\\luo yong chen\\Pictures\\qiqiaoban1.jpg'\n",
    "src= cv.imread(file)\n",
    "cv.imshow(\"input\", src)\n",
    "result = process(src)\n",
    "cv.imshow('result', result)\n",
    "cv.waitKey(0)\n",
    "cv.destroyAllWindows()"
   ]
  },
  {
   "cell_type": "code",
   "execution_count": null,
   "metadata": {},
   "outputs": [],
   "source": []
  }
 ],
 "metadata": {
  "kernelspec": {
   "display_name": "Python 3",
   "language": "python",
   "name": "python3"
  },
  "language_info": {
   "codemirror_mode": {
    "name": "ipython",
    "version": 3
   },
   "file_extension": ".py",
   "mimetype": "text/x-python",
   "name": "python",
   "nbconvert_exporter": "python",
   "pygments_lexer": "ipython3",
   "version": "3.7.4"
  }
 },
 "nbformat": 4,
 "nbformat_minor": 4
}
