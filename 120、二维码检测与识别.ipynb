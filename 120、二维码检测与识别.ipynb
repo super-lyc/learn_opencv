{
 "cells": [
  {
   "cell_type": "raw",
   "metadata": {},
   "source": [
    "OpenCV3.4.4以上版本与OpenCV4.0版本支持该功能！\n",
    "OpenCV在对象检测模块中QRCodeDetector有两个相关API分别实现二维码检测与二维码解析\n",
    "bool cv::QRCodeDetector::detect(\n",
    "\tInputArray img,\n",
    "\tOutputArray points \n",
    ")const\n",
    "img输入图像，灰度或者彩色图像\n",
    "points 得到的二维码四个点的坐标信息\n",
    "\n",
    "解析二维码！\n",
    "std::string cv::QRCodeDetector::decode(\n",
    "\tInputArray img,\n",
    "\tInputArray points,\n",
    "\tOutputArray straight_qrcode = noArray() \n",
    ")\n",
    "img输入图像，灰度或者彩色图像\n",
    "points 二维码ROI最小外接矩形顶点坐标\n",
    "qrcode 输出的是二维码区域ROI图像信息\n",
    "返回的二维码utf-8字符串\n",
    "上述两个API功能，可以通过一个API调用实现，该API如下：\n",
    "std::string cv::QRCodeDetector::detectAndDecode(\n",
    "\tInputArray img,\n",
    "\tOutputArray points = noArray(),\n",
    "\tOutputArray straight_qrcode = noArray() \n",
    ")"
   ]
  },
  {
   "cell_type": "code",
   "execution_count": 1,
   "metadata": {},
   "outputs": [
    {
     "ename": "AttributeError",
     "evalue": "module 'cv2' has no attribute 'QRCodeDetector'",
     "output_type": "error",
     "traceback": [
      "\u001b[1;31m---------------------------------------------------------------------------\u001b[0m",
      "\u001b[1;31mAttributeError\u001b[0m                            Traceback (most recent call last)",
      "\u001b[1;32m<ipython-input-1-63712bcfa779>\u001b[0m in \u001b[0;36m<module>\u001b[1;34m\u001b[0m\n\u001b[0;32m      6\u001b[0m \u001b[0mcv\u001b[0m\u001b[1;33m.\u001b[0m\u001b[0mimshow\u001b[0m\u001b[1;33m(\u001b[0m\u001b[1;34m\"image\"\u001b[0m\u001b[1;33m,\u001b[0m \u001b[0msrc\u001b[0m\u001b[1;33m)\u001b[0m\u001b[1;33m\u001b[0m\u001b[1;33m\u001b[0m\u001b[0m\n\u001b[0;32m      7\u001b[0m \u001b[0mgray\u001b[0m \u001b[1;33m=\u001b[0m \u001b[0mcv\u001b[0m\u001b[1;33m.\u001b[0m\u001b[0mcvtColor\u001b[0m\u001b[1;33m(\u001b[0m\u001b[0msrc\u001b[0m\u001b[1;33m,\u001b[0m \u001b[0mcv\u001b[0m\u001b[1;33m.\u001b[0m\u001b[0mCOLOR_BGR2GRAY\u001b[0m\u001b[1;33m)\u001b[0m\u001b[1;33m\u001b[0m\u001b[1;33m\u001b[0m\u001b[0m\n\u001b[1;32m----> 8\u001b[1;33m \u001b[0mqrcoder\u001b[0m \u001b[1;33m=\u001b[0m \u001b[0mcv\u001b[0m\u001b[1;33m.\u001b[0m\u001b[0mQRCodeDetector\u001b[0m\u001b[1;33m(\u001b[0m\u001b[1;33m)\u001b[0m\u001b[1;33m\u001b[0m\u001b[1;33m\u001b[0m\u001b[0m\n\u001b[0m\u001b[0;32m      9\u001b[0m \u001b[0mcodeinfo\u001b[0m\u001b[1;33m,\u001b[0m \u001b[0mpoints\u001b[0m\u001b[1;33m,\u001b[0m \u001b[0mstraight_qrcode\u001b[0m \u001b[1;33m=\u001b[0m \u001b[0mqrcoder\u001b[0m\u001b[1;33m.\u001b[0m\u001b[0mdetectAndDecode\u001b[0m\u001b[1;33m(\u001b[0m\u001b[0mgray\u001b[0m\u001b[1;33m)\u001b[0m\u001b[1;33m\u001b[0m\u001b[1;33m\u001b[0m\u001b[0m\n\u001b[0;32m     10\u001b[0m \u001b[0mprint\u001b[0m\u001b[1;33m(\u001b[0m\u001b[0mpoints\u001b[0m\u001b[1;33m)\u001b[0m\u001b[1;33m\u001b[0m\u001b[1;33m\u001b[0m\u001b[0m\n",
      "\u001b[1;31mAttributeError\u001b[0m: module 'cv2' has no attribute 'QRCodeDetector'"
     ]
    }
   ],
   "source": [
    "import cv2 as cv\n",
    "import numpy as np\n",
    "\n",
    "file=r'C:\\Users\\luo yong chen\\Pictures\\erweima.jpg'\n",
    "src = cv.imread(file)\n",
    "cv.imshow(\"image\", src)\n",
    "gray = cv.cvtColor(src, cv.COLOR_BGR2GRAY)\n",
    "qrcoder = cv.QRCodeDetector()\n",
    "codeinfo, points, straight_qrcode = qrcoder.detectAndDecode(gray)\n",
    "print(points)\n",
    "result = np.copy(src)\n",
    "cv.drawContours(result, [np.int32(points)], 0, (0, 0, 255), 2)\n",
    "print(\"qrcode : %s\"% codeinfo)\n",
    "cv.imshow(\"result\", result)\n",
    "code_roi = np.uint8(straight_qrcode)\n",
    "cv.imshow(\"qrcode roi\", code_roi)\n",
    "cv.waitKey(0)\n",
    "cv.destroyAllWindows()"
   ]
  },
  {
   "cell_type": "code",
   "execution_count": null,
   "metadata": {},
   "outputs": [],
   "source": []
  }
 ],
 "metadata": {
  "kernelspec": {
   "display_name": "Python 3",
   "language": "python",
   "name": "python3"
  },
  "language_info": {
   "codemirror_mode": {
    "name": "ipython",
    "version": 3
   },
   "file_extension": ".py",
   "mimetype": "text/x-python",
   "name": "python",
   "nbconvert_exporter": "python",
   "pygments_lexer": "ipython3",
   "version": "3.7.6"
  }
 },
 "nbformat": 4,
 "nbformat_minor": 4
}
