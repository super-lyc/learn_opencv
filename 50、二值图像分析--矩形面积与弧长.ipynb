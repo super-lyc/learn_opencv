{
 "cells": [
  {
   "cell_type": "raw",
   "metadata": {},
   "source": [
    "对图像二值图像的每个轮廓，我们可以计算轮廓的弧长与面积，根据轮廓的面积与弧长可以实现对不同大小对象的过滤，寻找到我们感兴趣的roi区域，这个也是图像二值分析的任务之一。"
   ]
  },
  {
   "cell_type": "code",
   "execution_count": 1,
   "metadata": {},
   "outputs": [],
   "source": [
    "import cv2 as cv\n",
    "import numpy as np\n",
    "\n",
    "def canny_demo(image):\n",
    "    t = 80\n",
    "    canny_output = cv.Canny(image, t, t * 2)\n",
    "    cv.imshow(\"canny_output\", canny_output)\n",
    "    cv.imwrite(\"D:/canny_output.png\", canny_output)\n",
    "    return canny_output\n",
    "\n",
    "file=r'C:\\Users\\luo yong chen\\Pictures\\zhifang_ball.png'\n",
    "src=cv.imread(file)\n",
    "cv.namedWindow(\"input\", cv.WINDOW_AUTOSIZE)\n",
    "cv.imshow(\"input\", src)\n",
    "binary = canny_demo(src)\n",
    "k = np.ones((3, 3), dtype=np.uint8)\n",
    "binary = cv.morphologyEx(binary, cv.MORPH_DILATE, k)\n",
    "\n",
    "# 轮廓发现\n",
    "contours, hierarchy = cv.findContours(binary, cv.RETR_EXTERNAL, cv.CHAIN_APPROX_SIMPLE)\n",
    "for c in range(len(contours)):\n",
    "    # x, y, w, h = cv.boundingRect(contours[c]);\n",
    "    # cv.drawContours(src, contours, c, (0, 0, 255), 2, 8)\n",
    "    # cv.rectangle(src, (x, y), (x+w, y+h), (0, 0, 255), 1, 8, 0);\n",
    "    area = cv.contourArea(contours[c])\n",
    "    arclen = cv.arcLength(contours[c], True)\n",
    "    if area < 100 or arclen < 100:\n",
    "        continue\n",
    "    rect = cv.minAreaRect(contours[c])\n",
    "    cx, cy = rect[0]\n",
    "    box = cv.boxPoints(rect)\n",
    "    box = np.int0(box)\n",
    "    cv.drawContours(src,[box],0,(0,0,255),2)\n",
    "    cv.circle(src, (np.int32(cx), np.int32(cy)), 2, (255, 0, 0), 2, 8, 0)\n",
    "\n",
    "\n",
    "# 显示\n",
    "cv.imshow(\"contours_analysis\", src)\n",
    "cv.waitKey(0)\n",
    "cv.destroyAllWindows()"
   ]
  },
  {
   "cell_type": "code",
   "execution_count": null,
   "metadata": {},
   "outputs": [],
   "source": []
  }
 ],
 "metadata": {
  "kernelspec": {
   "display_name": "Python 3",
   "language": "python",
   "name": "python3"
  },
  "language_info": {
   "codemirror_mode": {
    "name": "ipython",
    "version": 3
   },
   "file_extension": ".py",
   "mimetype": "text/x-python",
   "name": "python",
   "nbconvert_exporter": "python",
   "pygments_lexer": "ipython3",
   "version": "3.7.4"
  }
 },
 "nbformat": 4,
 "nbformat_minor": 4
}
