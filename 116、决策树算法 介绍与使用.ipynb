{
 "cells": [
  {
   "cell_type": "raw",
   "metadata": {},
   "source": [
    "OpenCV中机器学习模块的决策树算法分为两个类别，一个是随机森林(Random Trees)、另外一个强化分类(Boosting Classification)。这两个算法都属于决策树算法。\n",
    "virtual float cv::ml::StatModel::predict(\n",
    "\tInputArray \tsamples,\n",
    "\tOutputArray results = noArray(),\n",
    "\tint flags = 0 \n",
    ")const\n",
    "sample输入样本\n",
    "result预测结果"
   ]
  },
  {
   "cell_type": "code",
   "execution_count": 3,
   "metadata": {},
   "outputs": [
    {
     "name": "stdout",
     "output_type": "stream",
     "text": [
      "0.0 [[0.]\n",
      " [0.]\n",
      " [0.]\n",
      " ...\n",
      " [9.]\n",
      " [9.]\n",
      " [9.]]\n",
      "83.72\n"
     ]
    }
   ],
   "source": [
    "import numpy as np\n",
    "import cv2 as cv\n",
    "\n",
    "# 读取数据\n",
    "file=r'C:\\Users\\luo yong chen\\Pictures\\digits.png'\n",
    "img = cv.imread(file)\n",
    "gray = cv.cvtColor(img,cv.COLOR_BGR2GRAY)\n",
    "cells = [np.hsplit(row,100) for row in np.vsplit(gray,50)]\n",
    "x = np.array(cells)\n",
    "\n",
    "# 创建训练与测试数据\n",
    "train = x[:,:50].reshape(-1,400).astype(np.float32)\n",
    "test = x[:,50:100].reshape(-1,400).astype(np.float32)\n",
    "k = np.arange(10)\n",
    "train_labels = np.repeat(k,250)[:,np.newaxis]\n",
    "test_labels = train_labels.copy()\n",
    "\n",
    "# 训练随机树\n",
    "dt = cv.ml.RTrees_create()\n",
    "dt.train(train, cv.ml.ROW_SAMPLE, train_labels)\n",
    "retval, results = dt.predict(test)\n",
    "print(retval,results)\n",
    "\n",
    "# 计算准确率\n",
    "matches = results==test_labels\n",
    "correct = np.count_nonzero(matches)\n",
    "accuracy = correct*100.0/results.size\n",
    "print(accuracy)"
   ]
  },
  {
   "cell_type": "code",
   "execution_count": null,
   "metadata": {},
   "outputs": [],
   "source": []
  }
 ],
 "metadata": {
  "kernelspec": {
   "display_name": "Python 3",
   "language": "python",
   "name": "python3"
  },
  "language_info": {
   "codemirror_mode": {
    "name": "ipython",
    "version": 3
   },
   "file_extension": ".py",
   "mimetype": "text/x-python",
   "name": "python",
   "nbconvert_exporter": "python",
   "pygments_lexer": "ipython3",
   "version": "3.7.6"
  }
 },
 "nbformat": 4,
 "nbformat_minor": 4
}
