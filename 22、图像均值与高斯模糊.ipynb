{
 "cells": [
  {
   "cell_type": "raw",
   "metadata": {},
   "source": [
    "均值模糊 是卷积核的系数完全一致，\n",
    "高斯模糊考虑了中心像素距离的影响，对距离中心像素使用高斯分布公式生成不同的权重系数给卷积核，\n",
    "然后用此卷积核完成图像卷积得到输出结果就是图像高斯模糊之后的输出。\n",
    "\n",
    "图像模糊和图像滤波是一个东西，只是叫法不同"
   ]
  },
  {
   "cell_type": "code",
   "execution_count": 6,
   "metadata": {},
   "outputs": [],
   "source": [
    "import cv2 as cv\n",
    "import numpy as np\n",
    "\n",
    "\n",
    "filename=r'C:\\Users\\luo yong chen\\Desktop\\123.jpg'\n",
    "src=cv.imread(filename)  \n",
    "cv.namedWindow(\"input\", cv.WINDOW_AUTOSIZE)\n",
    "cv.imshow(\"input\", src)\n",
    "\n",
    "#生成椒盐噪声\n",
    "def add_salt_pepper_noise(image):\n",
    "    h, w = image.shape[:2]\n",
    "    nums = 10000\n",
    "    rows = np.random.randint(0, h, nums, dtype=np.int)\n",
    "    cols = np.random.randint(0, w, nums, dtype=np.int)\n",
    "    for i in range(nums):\n",
    "        if i % 2 == 1:\n",
    "            image[rows[i], cols[i]] = (0, 0, 255)    #生成白色的噪点\n",
    "        else:\n",
    "            #image[rows[i], cols[i]] = (0, 0, 0)       #生成黑色的噪点\n",
    "    return image\n",
    "\n",
    "\n",
    "dst1 = cv.blur(src, (5, 5))\n",
    "dst2 = cv.GaussianBlur(src, (5, 5), sigmaX=15)      #sigmaX是模糊系数\n",
    "dst3 = cv.GaussianBlur(src, (0, 0), sigmaX=15)\n",
    "image = add_salt_pepper_noise(src)\n",
    "\n",
    "\n",
    "\n",
    "# cv.imshow(\"blur ksize=5\", dst1)\n",
    "# cv.imshow(\"gaussian ksize=5\", dst2)\n",
    "# cv.imshow(\"gaussian sigmax=15\", dst3)\n",
    "cv.imwrite('./12345.jpg',image)\n",
    "cv.waitKey(0)\n",
    "cv.destroyAllWindows()"
   ]
  },
  {
   "cell_type": "code",
   "execution_count": null,
   "metadata": {},
   "outputs": [],
   "source": []
  }
 ],
 "metadata": {
  "kernelspec": {
   "display_name": "Python 3",
   "language": "python",
   "name": "python3"
  },
  "language_info": {
   "codemirror_mode": {
    "name": "ipython",
    "version": 3
   },
   "file_extension": ".py",
   "mimetype": "text/x-python",
   "name": "python",
   "nbconvert_exporter": "python",
   "pygments_lexer": "ipython3",
   "version": "3.7.4"
  }
 },
 "nbformat": 4,
 "nbformat_minor": 4
}
