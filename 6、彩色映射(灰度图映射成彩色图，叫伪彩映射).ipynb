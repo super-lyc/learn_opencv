{
 "cells": [
  {
   "cell_type": "code",
   "execution_count": 1,
   "metadata": {},
   "outputs": [],
   "source": [
    "import cv2 as cv\n",
    "\n",
    "filename=r'C:\\Users\\luo yong chen\\Pictures\\test.jpg'\n",
    "src = cv.imread(filename)\n",
    "cv.namedWindow(\"input\", cv.WINDOW_AUTOSIZE)\n",
    "cv.imshow(\"input\", src)\n",
    "dst0 = cv.applyColorMap(src, cv.COLORMAP_AUTUMN)\n",
    "dst1 = cv.applyColorMap(src, cv.COLORMAP_BONE)\n",
    "dst2 = cv.applyColorMap(src, cv.COLORMAP_JET)\n",
    "dst3 = cv.applyColorMap(src, cv.COLORMAP_WINTER)\n",
    "dst4 = cv.applyColorMap(src, cv.COLORMAP_RAINBOW)\n",
    "dst5= cv.applyColorMap(src, cv.COLORMAP_OCEAN)\n",
    "dst6 = cv.applyColorMap(src, cv.COLORMAP_SUMMER)\n",
    "dst7 = cv.applyColorMap(src, cv.COLORMAP_SPRING)\n",
    "dst8 = cv.applyColorMap(src, cv.COLORMAP_COOL)\n",
    "dst9 = cv.applyColorMap(src, cv.COLORMAP_HSV)\n",
    "dst10 = cv.applyColorMap(src, cv.COLORMAP_PINK)\n",
    "dst11 = cv.applyColorMap(src, cv.COLORMAP_HOT)\n",
    "cv.imshow('autumn',dst0)\n",
    "cv.imshow('bone',dst1)\n",
    "cv.imshow('jet',dst2)\n",
    "cv.imshow('winter',dst3)\n",
    "cv.imshow('rainbow',dst4)\n",
    "cv.imshow('ocean',dst5)\n",
    "cv.imshow('summer',dst6)\n",
    "cv.imshow('spring',dst7)\n",
    "cv.imshow('cool',dst8)\n",
    "cv.imshow('hsv',dst9)\n",
    "cv.imshow('pink',dst10)\n",
    "cv.imshow('hot',dst11)\n",
    "cv.waitKey()\n",
    "cv.destroyAllWindows()\n",
    "\n"
   ]
  },
  {
   "cell_type": "code",
   "execution_count": null,
   "metadata": {},
   "outputs": [],
   "source": [
    "opcv提供自带的cv.applyColorMap()Api,"
   ]
  }
 ],
 "metadata": {
  "kernelspec": {
   "display_name": "Python 3",
   "language": "python",
   "name": "python3"
  },
  "language_info": {
   "codemirror_mode": {
    "name": "ipython",
    "version": 3
   },
   "file_extension": ".py",
   "mimetype": "text/x-python",
   "name": "python",
   "nbconvert_exporter": "python",
   "pygments_lexer": "ipython3",
   "version": "3.7.4"
  }
 },
 "nbformat": 4,
 "nbformat_minor": 4
}
