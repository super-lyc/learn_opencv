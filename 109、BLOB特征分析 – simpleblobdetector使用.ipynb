{
 "cells": [
  {
   "cell_type": "raw",
   "metadata": {},
   "source": [
    "BLOB是图像中灰度块的一种专业称呼，更加变通一点的可以说它跟我们前面二值图像分析的联通组件类似，通过特征提取中的SimpleBlobDetector可以实现常见的各种灰度BLOB对象组件检测与分离。使用该检测器的时候，可以根据需要输入不同参数，得到的结果跟输入的参数息息相关。常见的BLOB分析支持如下：\n",
    "-\t根据BLOB面积过滤\n",
    "-\t根据灰度/颜色值过滤\n",
    "-\t根据圆度过滤\n",
    "-\t根据长轴与短轴过滤\n",
    "-\t根据凹凸进行过滤"
   ]
  },
  {
   "cell_type": "raw",
   "metadata": {},
   "source": [
    "SimpleBlobDetector::Params::Params()\n",
    "是否根据以下参数进行过滤：\n",
    "bool \tfilterByArea\n",
    "bool \tfilterByCircularity\n",
    "bool \tfilterByColor\n",
    "bool \tfilterByConvexity\n",
    "bool \tfilterByInertia\n",
    "根据过滤参数所设置的最大值：\n",
    "float \tmaxArea\n",
    "float \tmaxCircularity\n",
    "float \tmaxConvexity\n",
    "float \tmaxInertiaRatio\n",
    "float \tmaxThreshold\n",
    "根据过滤参数所设置的最小值：\n",
    "float \tminArea\n",
    "float \tminCircularity\n",
    "float \tminConvexity\n",
    "float \tminDistBetweenBlobs\n",
    "float \tminInertiaRatio"
   ]
  },
  {
   "cell_type": "code",
   "execution_count": 2,
   "metadata": {},
   "outputs": [],
   "source": [
    "import cv2 as cv\n",
    "import numpy as np\n",
    "\n",
    "# load image\n",
    "file=r'C:\\Users\\luo yong chen\\Pictures\\zhifang_ball.png'\n",
    "frame = cv.imread(file)\n",
    "gray = cv.cvtColor(frame, cv.COLOR_BGR2GRAY)\n",
    "params = cv.SimpleBlobDetector_Params()\n",
    "\n",
    "# Change thresholds\n",
    "params.minThreshold = 0;\n",
    "params.maxThreshold = 256;\n",
    "\n",
    "# Filter by Area.\n",
    "params.filterByArea = True\n",
    "params.minArea = 100\n",
    "\n",
    "# Filter by Circularity\n",
    "params.filterByCircularity = True\n",
    "params.minCircularity = 0.1\n",
    "\n",
    "# Filter by Convexity\n",
    "params.filterByConvexity = True\n",
    "params.minConvexity = 0.5\n",
    "\n",
    "# Filter by Inertia\n",
    "params.filterByInertia = True\n",
    "params.minInertiaRatio = 0.5\n",
    "\n",
    "detector = cv.SimpleBlobDetector_create(params)\n",
    "\n",
    "# Detect blobs.\n",
    "cv.imshow(\"input\", frame)\n",
    "keypoints = detector.detect(gray)\n",
    "result = cv.drawKeypoints(frame, keypoints, None, (0, 0, 255), cv.DRAW_MATCHES_FLAGS_DRAW_RICH_KEYPOINTS)\n",
    "cv.imshow(\"result\", result)\n",
    "cv.waitKey(0)\n",
    "cv.destroyAllWindows()"
   ]
  },
  {
   "cell_type": "code",
   "execution_count": null,
   "metadata": {},
   "outputs": [],
   "source": []
  }
 ],
 "metadata": {
  "kernelspec": {
   "display_name": "Python 3",
   "language": "python",
   "name": "python3"
  },
  "language_info": {
   "codemirror_mode": {
    "name": "ipython",
    "version": 3
   },
   "file_extension": ".py",
   "mimetype": "text/x-python",
   "name": "python",
   "nbconvert_exporter": "python",
   "pygments_lexer": "ipython3",
   "version": "3.7.6"
  }
 },
 "nbformat": 4,
 "nbformat_minor": 4
}
