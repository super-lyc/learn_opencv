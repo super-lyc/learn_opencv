{
 "cells": [
  {
   "cell_type": "raw",
   "metadata": {},
   "source": [
    "边缘保留滤波算法 – 高斯双边模糊\n",
    "前面的图像卷积处理无论是均值还是高斯都是属于模糊卷积，\n",
    "它们都有一个共同的特点就是模糊之后图像的边缘信息不复存在，受到了破坏，卷积核越大，图像模糊的越厉害，边缘破坏的越严重\n",
    "我们今天介绍的滤波方法有能力通过卷积处理实现图像模糊的同时对图像边缘不会造成破坏，\n",
    "滤波之后的输出完整的保存了图像整体边缘（轮廓）信息，我们称这类滤波算法为边缘保留滤波算法（EPF）。\n",
    "\n",
    "图像的边缘就是图像的像素变换差异比较大的地方，即两边差值比较大的地方。\n",
    "\n",
    "最常见的边缘保留滤波算法有以下几种："
   ]
  },
  {
   "cell_type": "raw",
   "metadata": {},
   "source": [
    "-\t高斯双边模糊\n",
    "-\tMeanshift均值迁移模糊\n",
    "-\t局部均方差模糊\n",
    "-\tOpenCV中对边缘保留滤波还有一个专门的API"
   ]
  },
  {
   "cell_type": "raw",
   "metadata": {},
   "source": [
    "斯模糊是考虑图像空间位置对权重的影响，\n",
    "但是它没有考虑图像像素分布对图像卷积输出的影响，\n",
    "双边（空间位置和像素分布）模糊考虑了像素值分布的影响，\n",
    "对像素值空间分布差异较大的进行保留（不参与卷积运算）从而完整的保留了图像的边缘信息。"
   ]
  },
  {
   "cell_type": "raw",
   "metadata": {},
   "source": [
    "dst=cv.bilateralFilter(src, d, sigmaColor, sigmaSpace[, dst[, borderType]])\n",
    "d:过滤期间使用的各像素邻域的直径\n",
    "sigmaColor:色彩空间的sigma参数，该参数较大时，各像素邻域内相距较远的颜色会被混合到一起，从而造成更大范围的半相等颜色\n",
    "sigmaSpace:坐标空间的sigma参数，该参数较大时，只要颜色相近，越远的像素会相互影响"
   ]
  },
  {
   "cell_type": "code",
   "execution_count": 1,
   "metadata": {},
   "outputs": [],
   "source": [
    "import cv2 as cv\n",
    "import numpy as np\n",
    "\n",
    "file=r'C:\\Users\\luo yong chen\\Pictures\\example.png'\n",
    "src=cv.imread(file)\n",
    "cv.namedWindow(\"input\", cv.WINDOW_AUTOSIZE)\n",
    "cv.imshow(\"input\", src)\n",
    "\n",
    "h, w = src.shape[:2]\n",
    "dst = cv.bilateralFilter(src, 0, 100, 10)\n",
    "\n",
    "#将两幅图像在一张图上显示出来\n",
    "result = np.zeros([h, w*2, 3], dtype=src.dtype)\n",
    "result[0:h,0:w,:] = src #确定两幅图在图像中的位置\n",
    "result[0:h,w:2*w,:] = dst\n",
    "cv.imshow(\"result\", result)\n",
    "\n",
    "\n",
    "cv.waitKey(0)\n",
    "cv.destroyAllWindows()\n"
   ]
  },
  {
   "cell_type": "code",
   "execution_count": null,
   "metadata": {},
   "outputs": [],
   "source": []
  }
 ],
 "metadata": {
  "kernelspec": {
   "display_name": "Python 3",
   "language": "python",
   "name": "python3"
  },
  "language_info": {
   "codemirror_mode": {
    "name": "ipython",
    "version": 3
   },
   "file_extension": ".py",
   "mimetype": "text/x-python",
   "name": "python",
   "nbconvert_exporter": "python",
   "pygments_lexer": "ipython3",
   "version": "3.7.4"
  }
 },
 "nbformat": 4,
 "nbformat_minor": 4
}
