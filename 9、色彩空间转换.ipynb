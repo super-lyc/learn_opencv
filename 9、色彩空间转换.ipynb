{
 "cells": [
  {
   "cell_type": "code",
   "execution_count": 1,
   "metadata": {},
   "outputs": [],
   "source": [
    "import cv2 as cv\n",
    "\n",
    "filename=r'C:\\Users\\luo yong chen\\Pictures\\flowers.jpg'\n",
    "src=cv.imread(filename)\n",
    "cv.namedWindow(\"input\", cv.WINDOW_AUTOSIZE)\n",
    "cv.imshow(\"input\", src)\n",
    "# RGB to HSV\n",
    "hsv = cv.cvtColor(src, cv.COLOR_BGR2HSV)\n",
    "cv.imshow(\"hsv\", hsv)\n",
    "\n",
    "# RGB to YUV\n",
    "yuv = cv.cvtColor(src, cv.COLOR_BGR2YUV)\n",
    "cv.imshow(\"yuv\", yuv)\n",
    "\n",
    "# RGB to ycrcb     用于皮肤检测\n",
    "ycrcb = cv.cvtColor(src, cv.COLOR_BGR2YCrCb)\n",
    "cv.imshow(\"ycrcb\", ycrcb)\n",
    "\n",
    "\n",
    "\n",
    "filename2=r'C:\\Users\\luo yong chen\\Pictures\\myself.jpg'\n",
    "src2=cv.imread(filename2)\n",
    "cv.imshow(\"src2\", src2)\n",
    "hsv = cv.cvtColor(src2, cv.COLOR_BGR2HSV)   #cv.cvtColor()色彩空间转换\n",
    "#取选中元素的像素，其余的舍弃，叫做mask掩膜提取\n",
    "mask = cv.inRange(hsv, (100, 43, 46), (124, 255, 255))    #参数：目标图像，下阈值，上阈值，cv.inRange()可以是任意色彩空间的图像\n",
    "dst=cv.bitwise_not(mask)\n",
    "#抠图\n",
    "final_dst=cv.bitwise_and(src2,src2,mask=mask)\n",
    "cv.imshow(\"mask\", mask)\n",
    "cv.imshow('dst',dst)\n",
    "cv.imshow('final_dst',final_dst)\n",
    "cv.waitKey(0)\n",
    "cv.destroyAllWindows()\n"
   ]
  },
  {
   "cell_type": "code",
   "execution_count": null,
   "metadata": {},
   "outputs": [],
   "source": []
  }
 ],
 "metadata": {
  "kernelspec": {
   "display_name": "Python 3",
   "language": "python",
   "name": "python3"
  },
  "language_info": {
   "codemirror_mode": {
    "name": "ipython",
    "version": 3
   },
   "file_extension": ".py",
   "mimetype": "text/x-python",
   "name": "python",
   "nbconvert_exporter": "python",
   "pygments_lexer": "ipython3",
   "version": "3.7.4"
  }
 },
 "nbformat": 4,
 "nbformat_minor": 4
}
