{
 "cells": [
  {
   "cell_type": "raw",
   "metadata": {},
   "source": [
    " 图像特征描述子：即图像中每个像素位置的描述，通过此描述去匹配另一张图像是否含有相同特征。一般用来\n",
    "\n",
    "大图找小图，具有旋转不变性和尺度不变性。将一个图像中的特征与其他图像进行匹配。 - 我们将在OpenCV中使用Brute-Force匹配器和FLANN匹配器"
   ]
  },
  {
   "cell_type": "raw",
   "metadata": {},
   "source": [
    "图像特征检测首先会获取关键点，然后根据关键点周围像素ROI区域的大小，生成描述子，完整的描述子向量就表示了一张图像的特征，是图像特征数据，这种方式也被称为图像特征工程，即通过先验模型与合理计算得到图像特征数据的过程，有了特征数据我们就可以利用特征数据实现对象检测与对象识别，这个最简单一个方法就是特征匹配，OPENCV提供了两种图像特征匹配的算法\n",
    "-\t暴力匹配（Brute-Force匹配）\n",
    "-\tFLANN匹配\n",
    "其中FLANN是一种高效的数值或者字符串匹配算法，SIFT/SURF是基于浮点数的匹配，ORB是二值匹配，速度更快。对于FLANN匹配算法，当使用ORB匹配算法的时候，需要重新构造HASH。这个在C++的代码种做了演示。暴力匹配在Python代码种做了演示。对匹配之后的输出结果，根据距离进行排序，就会得到距离比较的匹配点，这个才是好的特征匹配。"
   ]
  },
  {
   "cell_type": "code",
   "execution_count": 4,
   "metadata": {},
   "outputs": [],
   "source": [
    "import cv2 as cv\n",
    "\n",
    "file1=r'C:\\Users\\luo yong chen\\Pictures\\box.png'\n",
    "box = cv.imread(file1)\n",
    "file2 =r'C:\\Users\\luo yong chen\\Pictures\\box_in_scene.png'\n",
    "box_in_scene = cv.imread(file2)\n",
    "cv.imshow(\"box\", box)\n",
    "cv.imshow(\"box_in_sence\", box_in_scene)\n",
    "\n",
    "# 创建ORB特征检测器\n",
    "orb = cv.ORB_create()\n",
    "kp1, des1 = orb.detectAndCompute(box,None)\n",
    "kp2, des2 = orb.detectAndCompute(box_in_scene,None)\n",
    "\n",
    "# 暴力匹配\n",
    "bf = cv.BFMatcher(cv.NORM_HAMMING, crossCheck=True)\n",
    "matches = bf.match(des1,des2)#结果是DMatch对象的列表。该DMatch对象具有以下属性：\n",
    "                            #- DMatch.distance-描述符之间的距离。越低越好。 \n",
    "                             #- DMatch.trainIdx-火车描述符中的描述符索引 \n",
    "                             #- DMatch.queryIdx-查询描述符中的描述符索引 \n",
    "                            #- DMatch.imgIdx-火车图像的索引。\n",
    "\n",
    "# 绘制匹配\n",
    "matches = sorted(matches, key = lambda x:x.distance)#根据距离进行排序，找出10个最小的距离，即是最好的匹配\n",
    "result = cv.drawMatches(box, kp1, box_in_scene, kp2, matches[:10], None)\n",
    "cv.imshow(\"orb-match\", result)\n",
    "cv.waitKey(0)\n",
    "cv.destroyAllWindows()"
   ]
  },
  {
   "cell_type": "code",
   "execution_count": null,
   "metadata": {},
   "outputs": [],
   "source": []
  }
 ],
 "metadata": {
  "kernelspec": {
   "display_name": "Python 3",
   "language": "python",
   "name": "python3"
  },
  "language_info": {
   "codemirror_mode": {
    "name": "ipython",
    "version": 3
   },
   "file_extension": ".py",
   "mimetype": "text/x-python",
   "name": "python",
   "nbconvert_exporter": "python",
   "pygments_lexer": "ipython3",
   "version": "3.7.6"
  }
 },
 "nbformat": 4,
 "nbformat_minor": 4
}
