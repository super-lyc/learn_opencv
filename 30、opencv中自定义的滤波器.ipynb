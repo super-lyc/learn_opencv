{
 "cells": [
  {
   "cell_type": "raw",
   "metadata": {},
   "source": [
    "图像卷积最主要功能有图像模糊、锐化、梯度边缘等\n",
    "OpenCV除了支持上述的卷积模糊（均值与边缘保留）还支持自定义卷积核，实现自定义的滤波操作。\n",
    "自定义卷积核常见的主要是均值、锐化、梯度等算子。下面的三个自定义卷积核分别可以实现卷积的均值模糊、锐化、梯度功能。"
   ]
  },
  {
   "cell_type": "raw",
   "metadata": {},
   "source": [
    "dst=cv.filter2D(src, ddepth, kernel[, dst[, anchor[, delta[, borderType]]]]) \n",
    "ddepth默认-1，表示输入与输出图像类型一致，但是当涉及浮点数计算时候，需要设置为CV_32F。\n",
    "滤波完成之后需要使用convertScaleAbs函数将结果转换为字节类型（把浮点类型的图像转化为整型）"
   ]
  },
  {
   "cell_type": "code",
   "execution_count": 1,
   "metadata": {},
   "outputs": [],
   "source": [
    "import cv2 as cv\n",
    "import numpy as np\n",
    "file=r'C:\\Users\\luo yong chen\\Pictures\\example.png'\n",
    "src=cv.imread(file)\n",
    "cv.namedWindow(\"input\", cv.WINDOW_AUTOSIZE)\n",
    "cv.imshow(\"input\", src)\n",
    "\n",
    "kernel1 = np.ones([5, 5], dtype=np.float32)/25.      #均值\n",
    "kernel2 = np.array([[0, -1, 0],                      #锐化\n",
    "                   [-1, 5, -1],\n",
    "                   [0, -1, 0]], np.float32)\n",
    "kernel3 = np.array([[1, 0],[0, -1]], dtype=np.float32)#梯度\n",
    "\n",
    "dst1 = cv.filter2D(src, -1, kernel1)\n",
    "dst2 = cv.filter2D(src, -1, kernel2)\n",
    "dst3 = cv.filter2D(src, cv.CV_32F, kernel3)\n",
    "dst3 = cv.convertScaleAbs(dst3)#把浮点转化成整型\n",
    "\n",
    "cv.imshow(\"blur=5x5\", dst1)\n",
    "cv.imshow(\"shape=3x3\", dst2)\n",
    "cv.imshow(\"gradient=2x2\", dst3)\n",
    "\n",
    "cv.waitKey(0)\n",
    "cv.destroyAllWindows()"
   ]
  },
  {
   "cell_type": "raw",
   "metadata": {},
   "source": [
    "梯度很好的保留了边缘"
   ]
  }
 ],
 "metadata": {
  "kernelspec": {
   "display_name": "Python 3",
   "language": "python",
   "name": "python3"
  },
  "language_info": {
   "codemirror_mode": {
    "name": "ipython",
    "version": 3
   },
   "file_extension": ".py",
   "mimetype": "text/x-python",
   "name": "python",
   "nbconvert_exporter": "python",
   "pygments_lexer": "ipython3",
   "version": "3.7.4"
  }
 },
 "nbformat": 4,
 "nbformat_minor": 4
}
