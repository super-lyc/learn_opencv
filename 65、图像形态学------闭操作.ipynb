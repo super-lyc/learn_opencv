{
 "cells": [
  {
   "cell_type": "raw",
   "metadata": {},
   "source": [
    "形态学的闭操作跟开操作一样也是基于腐蚀与膨胀两个操作的组合实现的\n",
    "闭操作 = 膨胀 + 腐蚀\n",
    "闭操作的作用：\n",
    "闭操作可以填充二值图像中孔洞区域，形成完整的闭合区域连通组件"
   ]
  },
  {
   "cell_type": "raw",
   "metadata": {},
   "source": [
    "cv2.morphologyEx(src, op, kernel) \n",
    "src:可以输入任意通道的图片\n",
    "op:形态学操作方式：\n",
    "   op =  cv2.MORPH_OPEN 进行开运算，指的是先进行腐蚀操作，再进行膨胀操作\n",
    "   op = cv2.MORPH_CLOSE 进行闭运算， 指的是先进行膨胀操作，再进行腐蚀操作\n",
    "\n",
    "kernel：卷积核\n",
    "开运算：表示的是先进行腐蚀，再进行膨胀操作，开操作 = 先腐蚀 + 再膨胀\n",
    "闭运算：表示先进行膨胀操作，再进行腐蚀操作, 闭操作 = 先膨胀 + 再腐蚀"
   ]
  },
  {
   "cell_type": "code",
   "execution_count": 6,
   "metadata": {},
   "outputs": [],
   "source": [
    "import cv2 as cv\n",
    "import numpy as np\n",
    "\n",
    "file=r'C:\\Users\\luo yong chen\\Pictures\\cells.png'\n",
    "src=cv.imread(file)\n",
    "cv.namedWindow(\"input\", cv.WINDOW_AUTOSIZE)\n",
    "cv.imshow(\"input\", src)\n",
    "\n",
    "# 高斯模糊去噪声\n",
    "gray = cv.cvtColor(src, cv.COLOR_BGR2GRAY)\n",
    "ret, binary = cv.threshold(gray, 0, 255, cv.THRESH_BINARY | cv.THRESH_OTSU)\n",
    "cv.imshow(\"binary\", binary)\n",
    "image=np.copy(binary)\n",
    "\n",
    "# 闭操作\n",
    "se1 = cv.getStructuringElement(cv.MORPH_RECT, (25, 5), (-1, -1))\n",
    "se2 = cv.getStructuringElement(cv.MORPH_RECT, (5, 25), (-1, -1))\n",
    "binary = cv.morphologyEx(binary, cv.MORPH_CLOSE, se1)\n",
    "binary = cv.morphologyEx(binary, cv.MORPH_CLOSE, se2)\n",
    "cv.imshow(\"result1\", binary)\n",
    "\n",
    "#尝试\n",
    "kernel=cv.getStructuringElement(cv.MORPH_RECT, (25, 25), (-1, -1))\n",
    "result=cv.morphologyEx(image, cv.MORPH_CLOSE, kernel)\n",
    "\n",
    "cv.imshow('result2',result)\n",
    "cv.waitKey(0)\n",
    "cv.destroyAllWindows()"
   ]
  },
  {
   "cell_type": "code",
   "execution_count": null,
   "metadata": {},
   "outputs": [],
   "source": []
  }
 ],
 "metadata": {
  "kernelspec": {
   "display_name": "Python 3",
   "language": "python",
   "name": "python3"
  },
  "language_info": {
   "codemirror_mode": {
    "name": "ipython",
    "version": 3
   },
   "file_extension": ".py",
   "mimetype": "text/x-python",
   "name": "python",
   "nbconvert_exporter": "python",
   "pygments_lexer": "ipython3",
   "version": "3.7.6"
  }
 },
 "nbformat": 4,
 "nbformat_minor": 4
}
