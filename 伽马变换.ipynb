{
 "cells": [
  {
   "cell_type": "code",
   "execution_count": 1,
   "metadata": {},
   "outputs": [],
   "source": [
    "import cv2 as cv\n",
    "import numpy as np\n",
    "file=r'C:\\Users\\luo yong chen\\Pictures\\weixin.jpg'\n",
    "src=cv.imread(file)\n",
    "cv.imshow('input image',src)\n",
    "\n",
    "gray = cv.cvtColor(src, cv.COLOR_BGR2GRAY)\n",
    "cv.imshow('gray',gray)\n",
    "\n",
    "guiyihua=gray/255.\n",
    "gamma=0.5\n",
    "output=np.power(guiyihua,gamma)\n",
    "cv.imshow('output',output)\n",
    "cv.waitKey()\n",
    "cv.destroyAllWindows()"
   ]
  },
  {
   "cell_type": "code",
   "execution_count": null,
   "metadata": {},
   "outputs": [],
   "source": []
  }
 ],
 "metadata": {
  "kernelspec": {
   "display_name": "Python 3",
   "language": "python",
   "name": "python3"
  },
  "language_info": {
   "codemirror_mode": {
    "name": "ipython",
    "version": 3
   },
   "file_extension": ".py",
   "mimetype": "text/x-python",
   "name": "python",
   "nbconvert_exporter": "python",
   "pygments_lexer": "ipython3",
   "version": "3.7.4"
  }
 },
 "nbformat": 4,
 "nbformat_minor": 4
}
