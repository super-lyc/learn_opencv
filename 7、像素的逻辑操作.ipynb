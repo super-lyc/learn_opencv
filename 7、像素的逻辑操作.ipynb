{
 "cells": [
  {
   "cell_type": "code",
   "execution_count": 1,
   "metadata": {},
   "outputs": [],
   "source": [
    "import cv2 as cv\n",
    "import numpy as np\n",
    "\n",
    "# create image one\n",
    "src1 = np.zeros(shape=[400, 400, 3], dtype=np.uint8)      #用numpy生成图像\n",
    "src1[100:200, 100:200, 1] = 255                             #对像素进行赋值\n",
    "src1[100:200, 100:200, 2] = 255    \n",
    "cv.imshow(\"input1\", src1)\n",
    "# create image two\n",
    "src2 = np.zeros(shape=[400, 400, 3], dtype=np.uint8)\n",
    "src2[150:250, 150:250, 2] = 255\n",
    "cv.imshow(\"input2\", src2)\n",
    "\n",
    "dst1 = cv.bitwise_and(src1, src2)    #与\n",
    "dst2 = cv.bitwise_xor(src1, src2)    #异或\n",
    "dst3 = cv.bitwise_or(src1, src2)     #或\n",
    "\n",
    "cv.imshow(\"dst1\", dst1)\n",
    "cv.imshow(\"dst2\", dst2)\n",
    "cv.imshow(\"dst3\", dst3)\n",
    "\n",
    "file=r'C:\\Users\\luo yong chen\\Pictures\\lena.jpg'\n",
    "src = cv.imread(file)\n",
    "cv.namedWindow(\"input\", cv.WINDOW_AUTOSIZE)\n",
    "cv.imshow(\"input\", src)\n",
    "dst = cv.bitwise_not(src)     #取反（非）操作\n",
    "cv.imshow(\"dst\", dst)\n",
    "\n",
    "cv.waitKey(0)\n",
    "cv.destroyAllWindows()"
   ]
  },
  {
   "cell_type": "code",
   "execution_count": null,
   "metadata": {},
   "outputs": [],
   "source": []
  }
 ],
 "metadata": {
  "kernelspec": {
   "display_name": "Python 3",
   "language": "python",
   "name": "python3"
  },
  "language_info": {
   "codemirror_mode": {
    "name": "ipython",
    "version": 3
   },
   "file_extension": ".py",
   "mimetype": "text/x-python",
   "name": "python",
   "nbconvert_exporter": "python",
   "pygments_lexer": "ipython3",
   "version": "3.7.4"
  }
 },
 "nbformat": 4,
 "nbformat_minor": 4
}
