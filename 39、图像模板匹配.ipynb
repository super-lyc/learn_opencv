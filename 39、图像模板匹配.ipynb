{
 "cells": [
  {
   "cell_type": "raw",
   "metadata": {},
   "source": [
    "模板匹配是一种最原始、最基本的模式识别方法，研究某一特定对象物的图案位于图像的什么地方，进而识别对象物，这就是一个匹配问题。它是图像处理中最基本、最常用的匹配方法。模板匹配具有自身的局限性，主要表现在它只能进行平行移动，若原图像中的匹配目标发生旋转或大小变化，该算法无效。"
   ]
  },
  {
   "cell_type": "raw",
   "metadata": {},
   "source": [
    "result = cv.matchTemplate(\timage, templ, method[, result[, mask]] )\n",
    "其中method表示模板匹配时候采用的计算像素相似程度的方法，常见有如下\n",
    "TM_SQDIFF = 0\n",
    "TM_SQDIFF_NORMED = 1\n",
    "平方不同与平方不同的归一化版本，值越大越不同，值越小越相同\n",
    "\n",
    "TM_CCORR = 2\n",
    "TM_CCORR_NORMED = 3\n",
    "相关性，值越大相关性越强，表示匹配程度越高。\n",
    "归一化版本值在0～1之间，1表示高度匹配，0表示完全不匹配\n",
    "\n",
    "TM_CCOEFF = 4\n",
    "TM_CCOEFF_NORMED = 5\n",
    "相关因子，值越大相关性越强，表示匹配程度越高。\n",
    "归一化版本值在0～1之间，1表示高度匹配，0表示完全不匹配"
   ]
  },
  {
   "cell_type": "raw",
   "metadata": {},
   "source": [
    "模板匹配跟卷积类似，模板相当于卷积核，里面的像素相当于权重，平移滑动，通过method方法来计算相似度。\n",
    "跟卷积类似的是边缘像素不参与计算，所以result是：\n",
    "  高=原图像的高-模板的高+1\n",
    "  宽=原推向的宽-模板的宽+1"
   ]
  },
  {
   "cell_type": "code",
   "execution_count": 1,
   "metadata": {},
   "outputs": [
    {
     "name": "stdout",
     "output_type": "stream",
     "text": [
      "(667, 500, 3)\n",
      "(57, 61, 3)\n",
      "(611, 440)\n"
     ]
    }
   ],
   "source": [
    "import cv2 as cv\n",
    "import numpy as np\n",
    "\n",
    "def template_demo():\n",
    "    file1=r'C:\\Users\\luo yong chen\\Pictures\\llk.jpg'\n",
    "    src=cv.imread(file1)       #原图\n",
    "    print(src.shape)\n",
    "    file2=r'C:\\Users\\luo yong chen\\Pictures\\llk_tpl.png'\n",
    "    tpl=cv.imread(file2)      #模板\n",
    "    print(tpl.shape)\n",
    "    cv.imshow(\"input\", src)\n",
    "    cv.imshow(\"tpl\", tpl)\n",
    "    th, tw = tpl.shape[:2]\n",
    "    result = cv.matchTemplate(src, tpl, cv.TM_CCORR_NORMED)\n",
    "    print(result.shape)\n",
    "    cv.imshow(\"result\", result)\n",
    "    #cv.imwrite(\"D:/039_003.png\", np.uint8(result*255))#result是浮点数，转换成无符号整型才能看见\n",
    "    t = 0.98\n",
    "    loc = np.where(result > t)#匹配程度大于98%的坐标，np.where返回的坐标是先y，再x\n",
    "\n",
    "    for pt in zip(*loc[::-1]):#*表示可选参数，因为np.where返回的坐标是先y，再x，所以使用loc[::-1]先翻转一下\n",
    "        cv.rectangle(src, pt, (pt[0] + tw, pt[1] + th), (255, 0, 0), 1, 8, 0)#使用蓝色边框的矩形找出相一致的对象\n",
    "    cv.imshow(\"llk-demo\", src)\n",
    "    #cv.imwrite(\"D:/039_004.png\", src)\n",
    "\n",
    "template_demo()\n",
    "cv.waitKey(0)\n",
    "cv.destroyAllWindows()"
   ]
  },
  {
   "cell_type": "code",
   "execution_count": null,
   "metadata": {},
   "outputs": [],
   "source": []
  }
 ],
 "metadata": {
  "kernelspec": {
   "display_name": "Python 3",
   "language": "python",
   "name": "python3"
  },
  "language_info": {
   "codemirror_mode": {
    "name": "ipython",
    "version": 3
   },
   "file_extension": ".py",
   "mimetype": "text/x-python",
   "name": "python",
   "nbconvert_exporter": "python",
   "pygments_lexer": "ipython3",
   "version": "3.7.4"
  }
 },
 "nbformat": 4,
 "nbformat_minor": 4
}
