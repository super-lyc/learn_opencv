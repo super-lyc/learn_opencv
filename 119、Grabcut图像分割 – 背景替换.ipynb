{
 "cells": [
  {
   "cell_type": "raw",
   "metadata": {},
   "source": [
    "使用Grabcut实现图像对象提取，通过背景图像替换，实现图像合成，通过对背景图像高斯模糊实现背景虚化效果，完整的步骤如下：\n",
    "1. ROI区域选择\n",
    "2. Grabcut对象分割\n",
    "3. Mask生成\n",
    "4. 使用mask，实现背景与前景的高斯权重融合"
   ]
  },
  {
   "cell_type": "code",
   "execution_count": 15,
   "metadata": {},
   "outputs": [
    {
     "name": "stdout",
     "output_type": "stream",
     "text": [
      "(640, 512, 3)\n",
      "[[0 0 0 ... 0 0 0]\n",
      " [0 0 0 ... 0 0 0]\n",
      " [0 0 0 ... 0 0 0]\n",
      " ...\n",
      " [0 0 0 ... 0 0 0]\n",
      " [0 0 0 ... 0 0 0]\n",
      " [0 0 0 ... 0 0 0]]\n",
      "(640, 512)\n"
     ]
    }
   ],
   "source": [
    "import cv2 as cv\n",
    "import numpy as np\n",
    "\n",
    "file1=r'C:\\Users\\luo yong chen\\Pictures\\master.jpg'\n",
    "src = cv.imread(file1)\n",
    "file2=r'C:\\Users\\luo yong chen\\Pictures\\1.jpg'\n",
    "background = cv.imread(file2)\n",
    "cv.imshow(\"input\", src)\n",
    "cv.imshow(\"background\", background)\n",
    "\n",
    "h, w, ch = src.shape\n",
    "print(src.shape)\n",
    "mask = np.zeros(src.shape[:2], dtype=np.uint8)\n",
    "rect = (53,12,w-100,h-12)\n",
    "bgdmodel = np.zeros((1,65),np.float64)\n",
    "fgdmodel = np.zeros((1,65),np.float64)\n",
    "\n",
    "#修改掩码\n",
    "cv.grabCut(src,mask,rect,bgdmodel,fgdmodel,5,mode=cv.GC_INIT_WITH_RECT)\n",
    "cv.imshow('mask after grabcut',mask)\n",
    "print(mask)\n",
    "#修改后的掩码被标记为4个部分，其中0和2为背景，1和3为前景\n",
    "mask2 = np.where((mask==1)|(mask==3), 255, 0).astype('uint8')\n",
    "cv.imshow('mask2',mask2)\n",
    "print(mask2.shape)\n",
    "\n",
    "# 高斯模糊\n",
    "se = cv.getStructuringElement(cv.MORPH_RECT, (3, 3))\n",
    "cv.dilate(mask2, se, mask2)\n",
    "mask2 = cv.GaussianBlur(mask2, (5, 5), 0)\n",
    "cv.imshow('background-mask',mask2)\n",
    "\n",
    "# 虚化背景\n",
    "#background = cv.GaussianBlur(background, (0, 0), 15)\n",
    "\n",
    "# blend image\n",
    "result = np.zeros((h, w, ch), dtype=np.uint8)\n",
    "for row in range(h):\n",
    "    for col in range(w):\n",
    "        w1 = mask2[row, col] / 255.0\n",
    "        b, g, r = src[row, col]\n",
    "        b1,g1,r1 = background[row, col] \n",
    "        b = (1.0-w1) * b1 + b * w1\n",
    "        g = (1.0-w1) * g1 + g * w1\n",
    "        r = (1.0-w1) * r1 + r * w1\n",
    "        result[row, col] = (b, g, r)\n",
    "\n",
    "cv.imshow(\"result\", result)\n",
    "cv.waitKey(0)\n",
    "cv.destroyAllWindows()"
   ]
  },
  {
   "cell_type": "code",
   "execution_count": null,
   "metadata": {},
   "outputs": [],
   "source": []
  }
 ],
 "metadata": {
  "kernelspec": {
   "display_name": "Python 3",
   "language": "python",
   "name": "python3"
  },
  "language_info": {
   "codemirror_mode": {
    "name": "ipython",
    "version": 3
   },
   "file_extension": ".py",
   "mimetype": "text/x-python",
   "name": "python",
   "nbconvert_exporter": "python",
   "pygments_lexer": "ipython3",
   "version": "3.7.6"
  }
 },
 "nbformat": 4,
 "nbformat_minor": 4
}
