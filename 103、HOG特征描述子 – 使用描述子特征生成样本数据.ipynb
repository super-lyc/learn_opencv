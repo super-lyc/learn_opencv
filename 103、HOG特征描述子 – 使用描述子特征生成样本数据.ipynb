{
 "cells": [
  {
   "cell_type": "raw",
   "metadata": {},
   "source": [
    "对于HOG特征，我们可以通过预先训练的特征数据，进行多尺度的对象检测，OpenCV中基于HOG的行人检测是一个典型案例，同时我们还可以实现自定义对象的检测，这种自定义对象检测，可以分为两个部分，第一部分：通过提取样本的HOG描述子，生成样本的特征数据，第二部分通过SVM进行分类学习与训练，保存为模型。这样我们以后就可以通过模型来实现自定义对象检测"
   ]
  },
  {
   "cell_type": "raw",
   "metadata": {},
   "source": [
    "使用HOG描述子特征数据生成数据集，进行SVM分类训练，实现对象分类识别。\n",
    "在OpenCV中训练SVM模型，其数据格式常见的是“行模式”就是一行（多列向量）是一个样本，对应一个整数标签(label)。这里采用默认的窗口大小为64x128 提取HOG特征向量，得到的每个样本的向量数目等于7x15x36=3780，有多少个样本就有多少行， 对于的标签是每一行对应自己的标签，有多少个训练样本，标签就有多少行！"
   ]
  },
  {
   "cell_type": "code",
   "execution_count": null,
   "metadata": {},
   "outputs": [],
   "source": [
    "import cv2 as cv\n",
    "import os\n",
    "import numpy as np\n",
    "\n",
    "def get_hog_descriptor(image):\n",
    "    # https://pastebin.com/Y1LXaRrE\n",
    "    hog = cv.HOGDescriptor()\n",
    "    h, w = image.shape[:2]\n",
    "    rate = 64 / w\n",
    "    image = cv.resize(image, (64, np.int(rate*h)))\n",
    "    gray = cv.cvtColor(image, cv.COLOR_BGR2GRAY)\n",
    "    bg = np.zeros((128, 64), dtype=np.uint8)\n",
    "    bg[:,:] = 127\n",
    "    h, w = gray.shape\n",
    "    dy = (128 - h) // 2\n",
    "    bg[dy:h+dy,:] = gray\n",
    "    cv.imshow(\"hog_bg\", bg)\n",
    "    cv.waitKey(0)\n",
    "    # 64x128 = 3780\n",
    "    fv = hog.compute(bg, winStride=(8, 8), padding=(0, 0))\n",
    "    return fv\n",
    "\n",
    "def generate_dataset(pdir, ndir):\n",
    "    train_data = []\n",
    "    labels = []\n",
    "    for file_name in os.listdir(pdir):\n",
    "        img_dir = os.path.join(pdir, file_name)\n",
    "        img = cv.imread(img_dir)\n",
    "        hog_desc = get_hog_descriptor(img)\n",
    "        one_fv = np.zeros([len(hog_desc)], dtype=np.float32)\n",
    "        for i in range(len(hog_desc)):\n",
    "            one_fv[i] = hog_desc[i][0]\n",
    "        train_data.append(one_fv)\n",
    "        labels.append(1)\n",
    "\n",
    "    for file_name in os.listdir(ndir):\n",
    "        img_dir = os.path.join(ndir, file_name)\n",
    "        img = cv.imread(img_dir)\n",
    "        hog_desc = get_hog_descriptor(img)\n",
    "        one_fv = np.zeros([len(hog_desc)], dtype=np.float32)\n",
    "        for i in range(len(hog_desc)):\n",
    "            one_fv[i] = hog_desc[i][0]\n",
    "        train_data.append(one_fv)\n",
    "        labels.append(-1)\n",
    "    return np.array(train_data, dtype=np.float32), np.array(labels, dtype=np.int32)\n",
    "\n",
    "if __name__ == '__main__':\n",
    "    generate_dataset(\"D:/images/train_data/elec_watch/positive/\", \"D:/images/train_data/elec_watch/negative/\")\n",
    "    cv.destroyAllWindows()\n"
   ]
  },
  {
   "cell_type": "code",
   "execution_count": null,
   "metadata": {},
   "outputs": [],
   "source": []
  }
 ],
 "metadata": {
  "kernelspec": {
   "display_name": "Python 3",
   "language": "python",
   "name": "python3"
  },
  "language_info": {
   "codemirror_mode": {
    "name": "ipython",
    "version": 3
   },
   "file_extension": ".py",
   "mimetype": "text/x-python",
   "name": "python",
   "nbconvert_exporter": "python",
   "pygments_lexer": "ipython3",
   "version": "3.7.6"
  }
 },
 "nbformat": 4,
 "nbformat_minor": 4
}
