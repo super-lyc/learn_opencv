{
 "cells": [
  {
   "cell_type": "code",
   "execution_count": 9,
   "metadata": {},
   "outputs": [
    {
     "name": "stdout",
     "output_type": "stream",
     "text": [
      "576.0 768.0 795.0 10.0\n"
     ]
    }
   ],
   "source": [
    "import numpy as np\n",
    "import cv2 as cv\n",
    "file=r'C:\\Users\\luo yong chen\\Pictures\\vtest.avi'\n",
    "capture=cv.VideoCapture(file)\n",
    "height = capture.get(cv.CAP_PROP_FRAME_HEIGHT)\n",
    "width = capture.get(cv.CAP_PROP_FRAME_WIDTH)\n",
    "count = capture.get(cv.CAP_PROP_FRAME_COUNT)\n",
    "fps = capture.get(cv.CAP_PROP_FPS)\n",
    "print(height, width, count, fps)\n",
    "\n",
    "# 角点检测参数\n",
    "feature_params = dict(maxCorners=100, qualityLevel=0.01, minDistance=10, blockSize=3)\n",
    "\n",
    "# KLT光流参数\n",
    "lk_params = dict(winSize=(31, 31), maxLevel=3, criteria=(cv.TERM_CRITERIA_EPS | cv.TERM_CRITERIA_COUNT, 30, 0.01))\n",
    "\n",
    "# 随机颜色\n",
    "color = np.random.randint(0,255,(100,3))\n",
    "\n",
    "# 读取第一帧\n",
    "ret, old_frame = capture.read()\n",
    "old_gray = cv.cvtColor(old_frame, cv.COLOR_BGR2GRAY)\n",
    "p0 = cv.goodFeaturesToTrack(old_gray, mask=None, **feature_params)\n",
    "\n",
    "#创建用于作图的掩码图像\n",
    "mask = np.zeros_like(old_frame)\n",
    "# 光流跟踪\n",
    "while True:\n",
    "    ret, frame = cap.read()\n",
    "    if ret is False:\n",
    "        break\n",
    "    frame_gray = cv.cvtColor(frame, cv.COLOR_BGR2GRAY)\n",
    "    # 计算光流\n",
    "    p1, st, err = cv.calcOpticalFlowPyrLK(old_gray, frame_gray, p0, None, **lk_params)\n",
    "    print(p1)#产生光流点的数目，位置坐标\n",
    "    print(st)#输出状态\n",
    "    print(err.shape)#产生的错误\n",
    "    # 根据状态选择\n",
    "    good_new = p1[st == 1]\n",
    "    good_old = p0[st == 1]\n",
    "\n",
    "    # 绘制跟踪线\n",
    "    for i, (new, old) in enumerate(zip(good_new,good_old)):\n",
    "        a,b = new.ravel()#光流点的新坐标，使用ravel扁平化处理\n",
    "        c,d = old.ravel()#光流点的原始坐标\n",
    "        mask = cv.line(mask, (a,b),(c,d), color[i].tolist(), 2)\n",
    "        frame = cv.circle(frame,(a,b),5,color[i].tolist(),-1)\n",
    "    image=cv.add(mask,frame)\n",
    "    cv.imshow('frame',image)\n",
    "    k = cv.waitKey(30) & 0xff\n",
    "    if k == 27:\n",
    "        break\n",
    "\n",
    "    # 更新\n",
    "    old_gray = frame_gray.copy()\n",
    "    p0 = good_new.reshape(-1, 1, 2)\n",
    "\n",
    "cv.destroyAllWindows()\n",
    "cap.release()"
   ]
  },
  {
   "cell_type": "code",
   "execution_count": null,
   "metadata": {},
   "outputs": [],
   "source": []
  }
 ],
 "metadata": {
  "kernelspec": {
   "display_name": "Python 3",
   "language": "python",
   "name": "python3"
  },
  "language_info": {
   "codemirror_mode": {
    "name": "ipython",
    "version": 3
   },
   "file_extension": ".py",
   "mimetype": "text/x-python",
   "name": "python",
   "nbconvert_exporter": "python",
   "pygments_lexer": "ipython3",
   "version": "3.7.6"
  }
 },
 "nbformat": 4,
 "nbformat_minor": 4
}
