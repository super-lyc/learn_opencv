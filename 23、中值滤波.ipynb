{
 "cells": [
  {
   "cell_type": "raw",
   "metadata": {},
   "source": [
    "中值滤波本质上是统计排序滤波器的一种，\n",
    "中值滤波对图像特定噪声类型（椒盐噪声）会取得比较好的去噪效果，也是常见的图像去噪声与增强的方法之一。\n",
    "中值滤波也是窗口在图像上移动，其覆盖的对应ROI区域下，所有像素值排序，取中值作为中心像素点的输出值"
   ]
  },
  {
   "cell_type": "raw",
   "metadata": {},
   "source": [
    "dst = cv.medianBlur(\tsrc, ksize[, dst]\t)"
   ]
  },
  {
   "cell_type": "code",
   "execution_count": 2,
   "metadata": {},
   "outputs": [],
   "source": [
    "import cv2 as cv\n",
    "file=r'C:\\Users\\luo yong chen\\Pictures\\lena_noise.png'\n",
    "src=cv.imread(file)\n",
    "cv.namedWindow(\"input\",cv.WINDOW_AUTOSIZE)\n",
    "cv.imshow('input',src)\n",
    "dst = cv.medianBlur(src,5)\n",
    "cv.imshow(\"blur ksize=5\",dst)\n",
    "cv.waitKey(0)\n",
    "cv.destroyAllWindows()"
   ]
  },
  {
   "cell_type": "code",
   "execution_count": null,
   "metadata": {},
   "outputs": [],
   "source": []
  }
 ],
 "metadata": {
  "kernelspec": {
   "display_name": "Python 3",
   "language": "python",
   "name": "python3"
  },
  "language_info": {
   "codemirror_mode": {
    "name": "ipython",
    "version": 3
   },
   "file_extension": ".py",
   "mimetype": "text/x-python",
   "name": "python",
   "nbconvert_exporter": "python",
   "pygments_lexer": "ipython3",
   "version": "3.7.4"
  }
 },
 "nbformat": 4,
 "nbformat_minor": 4
}
