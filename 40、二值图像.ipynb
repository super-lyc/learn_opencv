{
 "cells": [
  {
   "cell_type": "raw",
   "metadata": {},
   "source": [
    "二值图像就是只有黑白两种颜色表示的图像，其中0 – 表示黑色， 1 – 表示白色(255) 。二值图像处理与分析在机器视觉与机器人视觉中非常重要，涉及到非常多的图像处理相关的知识，常见的二值图像分析包括轮廓分析、对象测量、轮廓匹配与识别、形态学处理与分割、各种形状检测与拟合、投影与逻辑操作、轮廓特征提取与编码等。此外图像二值化的方法也有很多，OpenCV主要是支持几种经典的二值化算法。"
   ]
  },
  {
   "cell_type": "raw",
   "metadata": {},
   "source": [
    "从编程与代码角度，OpenCV中二值图像单通道的、字节类型的Mat对象、对于任意的输入图像首先需要把图像转换为灰度、然后通过二值化方法转换为二值图像。本质上，从灰度到二值图像，是对数据的二分类分割，所以很多数据处理的方法都可以使用，但是图像是特殊类型的数据，它有很多限制条件，决定了只有一些合适的方法才会取得比较好的效果。这些算法的最主要的一个任务就是寻找合理的分割阈值T、对于给定任意一个像素点灰度值"
   ]
  },
  {
   "cell_type": "code",
   "execution_count": 1,
   "metadata": {},
   "outputs": [
    {
     "name": "stdout",
     "output_type": "stream",
     "text": [
      "current threshold value :  168.83030395507814\n"
     ]
    }
   ],
   "source": [
    "import cv2 as cv\n",
    "import numpy as np\n",
    "\n",
    "file=r'C:\\Users\\luo yong chen\\Pictures\\master.jpg'\n",
    "src=cv.imread(file)   \n",
    "cv.namedWindow(\"input\", cv.WINDOW_AUTOSIZE)\n",
    "cv.imshow(\"input\", src)\n",
    "\n",
    "T1= 127     #随意设置的一个阈值\n",
    "\n",
    "# 转换为灰度图像\n",
    "gray = cv.cvtColor(src, cv.COLOR_BGR2GRAY)\n",
    "h, w = gray.shape\n",
    "T2= cv.mean(gray)[0]    #计算像素均值\n",
    "print(\"current threshold value : \", T2)#输出此时的阈值\n",
    "\n",
    "\n",
    "#演示一个失败的二值图像\n",
    "binary1 = np.zeros((h, w), dtype=np.uint8)\n",
    "for row in range(h):\n",
    "    for col in range(w):\n",
    "        pv = gray[row, col]\n",
    "        if pv > T1:\n",
    "            binary1[row, col] = 255\n",
    "        else:\n",
    "            binary1[row, col] = 0\n",
    "cv.imshow(\"binary1 with T1\", binary1)\n",
    "\n",
    "\n",
    "\n",
    "# 二值图像\n",
    "binary2= np.zeros((h, w), dtype=np.uint8)\n",
    "for row in range(h):\n",
    "    for col in range(w):\n",
    "        pv = gray[row, col]\n",
    "        if pv > T2:\n",
    "            binary2[row, col] = 255\n",
    "        else:\n",
    "            binary2[row, col] = 0\n",
    "cv.imshow(\"binary2 with T2\", binary2)\n",
    "\n",
    "cv.waitKey(0)\n",
    "cv.destroyAllWindows()"
   ]
  },
  {
   "cell_type": "code",
   "execution_count": null,
   "metadata": {},
   "outputs": [],
   "source": []
  }
 ],
 "metadata": {
  "kernelspec": {
   "display_name": "Python 3",
   "language": "python",
   "name": "python3"
  },
  "language_info": {
   "codemirror_mode": {
    "name": "ipython",
    "version": 3
   },
   "file_extension": ".py",
   "mimetype": "text/x-python",
   "name": "python",
   "nbconvert_exporter": "python",
   "pygments_lexer": "ipython3",
   "version": "3.7.4"
  }
 },
 "nbformat": 4,
 "nbformat_minor": 4
}
