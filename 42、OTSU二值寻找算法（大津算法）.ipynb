{
 "cells": [
  {
   "cell_type": "raw",
   "metadata": {},
   "source": [
    "图像二值化，除了手动阈值设置与根据灰度图像均值的方法之外，还有几个根据图像直方图实现自动全局阈值寻找的方法，OpenCV中支持的有OTSU与Triangle两种直方图阈值寻找算法。其中OTSU的是通过计算类间最大方差来确定分割阈值的阈值选择算法，OTSU算法对直方图有两个峰，中间有明显波谷的直方图对应图像二值化效果比较好，而对于只有一个单峰的直方图对应的图像分割效果没有双峰的好。"
   ]
  },
  {
   "cell_type": "raw",
   "metadata": {},
   "source": [
    "最大类间方差是由日本学者大津(Nobuyuki Otsu)于1979年提出，是一种自适应的阈值确定方法。算法假设图像像素能够根据阈值，被分成背景[background]和目标[objects]两部分。然后，计算该最佳阈值来区分这两类像素，使得两类像素区分度最大。"
   ]
  },
  {
   "cell_type": "raw",
   "metadata": {},
   "source": [
    "OpenCV中OTSU算法使用只需要在\n",
    "threshold函数的type类型声明THRESH_OTSU即可"
   ]
  },
  {
   "cell_type": "raw",
   "metadata": {},
   "source": [
    "算法基本步骤\n",
    "1、计算输入图像的相对直方图\n",
    "2、计算像素被分到C1的概率\n",
    "3、计算累计均值m\n",
    "4、计算全局灰度均值Mg\n",
    "5、计算类间方差\n",
    "6、获取最大类间方差中的K值，即为最佳阈值\n",
    "7、计算可分性度量"
   ]
  },
  {
   "cell_type": "code",
   "execution_count": 1,
   "metadata": {},
   "outputs": [
    {
     "name": "stdout",
     "output_type": "stream",
     "text": [
      "ret : 111.0\n"
     ]
    }
   ],
   "source": [
    "import cv2 as cv\n",
    "import numpy as np\n",
    "#\n",
    "# THRESH_BINARY = 0\n",
    "# THRESH_BINARY_INV = 1\n",
    "# THRESH_TRUNC = 2\n",
    "# THRESH_TOZERO = 3\n",
    "# THRESH_TOZERO_INV = 4\n",
    "#\n",
    "file=r'C:\\Users\\luo yong chen\\Pictures\\lena.png'\n",
    "src=cv.imread(file)\n",
    "cv.namedWindow(\"input\", cv.WINDOW_AUTOSIZE)\n",
    "cv.imshow(\"input\", src)\n",
    "h, w = src.shape[:2]\n",
    "\n",
    "# 自动阈值分割 OTSU\n",
    "gray = cv.cvtColor(src, cv.COLOR_BGR2GRAY)\n",
    "ret, binary = cv.threshold(gray, 0, 255, cv.THRESH_BINARY | cv.THRESH_OTSU)#第二个参数可以设置成任意值\n",
    "print(\"ret :\", ret)\n",
    "cv.imshow(\"binary\", binary)\n",
    "\n",
    "result = np.zeros([h, w*2, 3], dtype=src.dtype)\n",
    "result[0:h,0:w,:] = src\n",
    "result[0:h,w:2*w,:] = cv.cvtColor(binary, cv.COLOR_GRAY2BGR)\n",
    "cv.putText(result, \"input\", (10, 30), cv.FONT_ITALIC, 1.0, (0, 0, 255), 2)\n",
    "cv.putText(result, \"binary, threshold = \" + str(ret), (w+10, 30), cv.FONT_ITALIC, 1.0, (0, 0, 255), 2)\n",
    "cv.imshow(\"result\", result)\n",
    "#cv.imwrite(\"D:/binary_result.png\", result)\n",
    "\n",
    "cv.waitKey(0)\n",
    "cv.destroyAllWindows()"
   ]
  },
  {
   "cell_type": "code",
   "execution_count": null,
   "metadata": {},
   "outputs": [],
   "source": []
  }
 ],
 "metadata": {
  "kernelspec": {
   "display_name": "Python 3",
   "language": "python",
   "name": "python3"
  },
  "language_info": {
   "codemirror_mode": {
    "name": "ipython",
    "version": 3
   },
   "file_extension": ".py",
   "mimetype": "text/x-python",
   "name": "python",
   "nbconvert_exporter": "python",
   "pygments_lexer": "ipython3",
   "version": "3.7.4"
  }
 },
 "nbformat": 4,
 "nbformat_minor": 4
}
