{
 "cells": [
  {
   "cell_type": "raw",
   "metadata": {},
   "source": [
    "这是一个基于混合高斯模型的背景前景分割算法。\n",
    "来自论文：An improved adaptive background mixture model for real-time tracking with shadow detection。\n",
    "它使用的方法是对每个背景像素由k个混合高斯模型进行建模，k通常为3或5。彩色信息在场景中存在时间的比例作为高斯混合模型的权重大小。最有可能的背景颜色信息是停留时间最长且更为静止的。编写代码的时候需要使用一个函数来创建的一个背景对象cv2.createBackgroundSubtractorMOG()。\n",
    "这里有一些可选参数，如历史时间（length of history），高斯模型的数量，阈值等等。这些值全部被设置为缺省。\n",
    "获取背景后，进入视频循环，使用函数backgroundsubtractor.apply() 来获取前景的蒙板。"
   ]
  },
  {
   "cell_type": "raw",
   "metadata": {},
   "source": [
    "retval = cv.bgsegm.createBackgroundSubtractorMOG( [, history[, nmixtures[, backgroundRatio[, noiseSigma]]]] )\n",
    "参数：\n",
    "history: Length of the history.\n",
    "nmixtures: Number of Gaussian mixtures.\n",
    "backgroundRatio: Background ratio.\n",
    "noiseSigma :Noise strength (standard deviation of the brightness or each color channel). 0 means some automatic value."
   ]
  },
  {
   "cell_type": "code",
   "execution_count": 9,
   "metadata": {},
   "outputs": [],
   "source": [
    "import numpy as np\n",
    "import cv2 as cv\n",
    "\n",
    "file=r'C:\\Users\\luo yong chen\\Pictures\\color_object.mp4'\n",
    "cap= cv.VideoCapture(file)\n",
    "fgbg = cv.bgsegm.createBackgroundSubtractorMOG(500, 1000,0.5,0)\n",
    "\n",
    "while(1):\n",
    "    ret, frame = cap.read()\n",
    "    if ret is True:\n",
    "        fgmask = fgbg.apply(frame)\n",
    "        cv.imshow('input', frame)\n",
    "        cv.imshow('frame',fgmask)\n",
    "        k = cv.waitKey(30) & 0xff\n",
    "        if k == 27:\n",
    "            break\n",
    "    else:\n",
    "        break\n",
    "\n",
    "cap.release()\n",
    "cv.destroyAllWindows()"
   ]
  },
  {
   "cell_type": "code",
   "execution_count": null,
   "metadata": {},
   "outputs": [],
   "source": []
  }
 ],
 "metadata": {
  "kernelspec": {
   "display_name": "Python 3",
   "language": "python",
   "name": "python3"
  },
  "language_info": {
   "codemirror_mode": {
    "name": "ipython",
    "version": 3
   },
   "file_extension": ".py",
   "mimetype": "text/x-python",
   "name": "python",
   "nbconvert_exporter": "python",
   "pygments_lexer": "ipython3",
   "version": "3.7.6"
  }
 },
 "nbformat": 4,
 "nbformat_minor": 4
}
