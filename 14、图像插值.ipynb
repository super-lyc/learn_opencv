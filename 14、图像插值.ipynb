{
 "cells": [
  {
   "cell_type": "code",
   "execution_count": 2,
   "metadata": {},
   "outputs": [
    {
     "name": "stdout",
     "output_type": "stream",
     "text": [
      "256 256\n"
     ]
    }
   ],
   "source": [
    "import cv2 as cv\n",
    "\n",
    "filename=r'C:\\Users\\luo yong chen\\Pictures\\lena.jpg'\n",
    "src=cv.imread(filename)\n",
    "cv.namedWindow(\"input\", cv.WINDOW_AUTOSIZE)\n",
    "cv.imshow(\"input\", src)\n",
    "\n",
    "h, w = src.shape[:2]\n",
    "print(h, w)\n",
    "dst = cv.resize(src, (w*2, h*2), fx=0.75, fy=0.75, interpolation=cv.INTER_NEAREST)\n",
    "cv.imshow(\"INTER_NEAREST\", dst)\n",
    "\n",
    "dst = cv.resize(src, (w*2, h*2), interpolation=cv.INTER_LINEAR)\n",
    "cv.imshow(\"INTER_LINEAR\", dst)\n",
    "\n",
    "dst = cv.resize(src, (w*2, h*2), interpolation=cv.INTER_CUBIC)\n",
    "cv.imshow(\"INTER_CUBIC\", dst)\n",
    "\n",
    "dst = cv.resize(src, (w*2, h*2), interpolation=cv.INTER_LANCZOS4)\n",
    "cv.imshow(\"INTER_LANCZOS4\", dst)\n",
    "\n",
    "\n",
    "\n",
    "cv.waitKey(0)\n",
    "cv.destroyAllWindows()"
   ]
  },
  {
   "cell_type": "raw",
   "metadata": {},
   "source": [
    "最常见四种插值算法：最近邻插值、双线性插值、双立方插值、卢卡斯插值\n",
    "相关的应用场景：几何变换、透视变换、插值计算新像素"
   ]
  },
  {
   "cell_type": "code",
   "execution_count": null,
   "metadata": {},
   "outputs": [],
   "source": []
  }
 ],
 "metadata": {
  "kernelspec": {
   "display_name": "Python 3",
   "language": "python",
   "name": "python3"
  },
  "language_info": {
   "codemirror_mode": {
    "name": "ipython",
    "version": 3
   },
   "file_extension": ".py",
   "mimetype": "text/x-python",
   "name": "python",
   "nbconvert_exporter": "python",
   "pygments_lexer": "ipython3",
   "version": "3.7.4"
  }
 },
 "nbformat": 4,
 "nbformat_minor": 4
}
