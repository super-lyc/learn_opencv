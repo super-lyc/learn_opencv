{
 "cells": [
  {
   "cell_type": "raw",
   "metadata": {},
   "source": [
    "形态学的击中击不中操作，根据结构元素不同，可以提取二值图像中的一些特殊区域，只有符合一些规则的区域才能留下，其余的丢弃，得到我们想要的结果。"
   ]
  },
  {
   "cell_type": "raw",
   "metadata": {},
   "source": [
    "cv2.morphologyEx(src, op, kernel) \n",
    "src:可以输入任意通道的图片\n",
    "op:形态学操作方式：\n",
    "   op =  cv2.MORPH_OPEN 进行开运算，指的是先进行腐蚀操作，再进行膨胀操作\n",
    "   op =  cv2.MORPH_CLOSE 进行闭运算， 指的是先进行膨胀操作，再进行腐蚀操作\n",
    "   op =  cv2.MORPH_TOPHAT 即表示使用顶帽操作\n",
    "   op =  cv2.MORPH_BLACKHAT 黑帽操作\n",
    "   op =  cv2.MORPH_GRADIENT 梯度\n",
    "   op =  cv2.MORPH_HITMISS 击中击不中"
   ]
  },
  {
   "cell_type": "code",
   "execution_count": 1,
   "metadata": {},
   "outputs": [],
   "source": [
    "import cv2 as cv\n",
    "import numpy as np\n",
    "\n",
    "file=r'C:\\Users\\luo yong chen\\Pictures\\cross.png'\n",
    "src=cv.imread(file)\n",
    "cv.namedWindow(\"input\", cv.WINDOW_AUTOSIZE)\n",
    "cv.imshow(\"input\", src)\n",
    "\n",
    "# 图像二值化\n",
    "gray = cv.cvtColor(src, cv.COLOR_BGR2GRAY)\n",
    "ret, binary = cv.threshold(gray, 0, 255, cv.THRESH_BINARY_INV | cv.THRESH_OTSU)\n",
    "\n",
    "# 击中击不中\n",
    "se = cv.getStructuringElement(cv.MORPH_CROSS, (11, 11), (-1, -1))\n",
    "binary = cv.morphologyEx(binary, cv.MORPH_HITMISS, se)\n",
    "\n",
    "cv.imshow(\"black hat\", binary)\n",
    "cv.waitKey(0)\n",
    "cv.destroyAllWindows()"
   ]
  },
  {
   "cell_type": "code",
   "execution_count": null,
   "metadata": {},
   "outputs": [],
   "source": []
  }
 ],
 "metadata": {
  "kernelspec": {
   "display_name": "Python 3",
   "language": "python",
   "name": "python3"
  },
  "language_info": {
   "codemirror_mode": {
    "name": "ipython",
    "version": 3
   },
   "file_extension": ".py",
   "mimetype": "text/x-python",
   "name": "python",
   "nbconvert_exporter": "python",
   "pygments_lexer": "ipython3",
   "version": "3.7.6"
  }
 },
 "nbformat": 4,
 "nbformat_minor": 4
}
