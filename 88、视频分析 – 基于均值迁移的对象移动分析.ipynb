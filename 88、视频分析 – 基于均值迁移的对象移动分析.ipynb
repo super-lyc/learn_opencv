{
 "cells": [
  {
   "cell_type": "raw",
   "metadata": {},
   "source": [
    "均值迁移移动对象分析，主要是基于直方图分布与反向投影实现移动对象的轨迹跟踪，其核心的思想是对反向投影之后的图像做均值迁移（meanshift）从而发现密度最高的区域，也是对象分布最大的区域。完整的算法流程如下：\n",
    "1，\t读取图像一帧\n",
    "2，\tHSV直方图\n",
    "3，\t反向投影该帧\n",
    "4，\t使用means shift寻找最大分布密度\n",
    "5，\t更新窗口直至最后一帧"
   ]
  },
  {
   "cell_type": "raw",
   "metadata": {},
   "source": [
    "cv::meanShift(\n",
    "\tInputArray probImage,\n",
    "\tRect & \twindow,\n",
    "\tTermCriteria criteria \n",
    ")\n",
    "probImage输入图像，是直方图反向投影的结果\n",
    "window 搜索窗口，ROI对象区域\n",
    "criteria 均值迁移停止条件"
   ]
  },
  {
   "cell_type": "code",
   "execution_count": 4,
   "metadata": {},
   "outputs": [
    {
     "name": "stdout",
     "output_type": "stream",
     "text": [
      "480.0 640.0 652.0 15.0\n",
      "278 204 133 146\n"
     ]
    }
   ],
   "source": [
    "import cv2 as cv\n",
    "file=r'C:\\Users\\luo yong chen\\Pictures\\balltest.mp4'\n",
    "cap= cv.VideoCapture(file)\n",
    "height = cap.get(cv.CAP_PROP_FRAME_HEIGHT)\n",
    "width = cap.get(cv.CAP_PROP_FRAME_WIDTH)\n",
    "count = cap.get(cv.CAP_PROP_FRAME_COUNT)\n",
    "fps = cap.get(cv.CAP_PROP_FPS)\n",
    "print(height, width, count, fps)\n",
    "\n",
    "# 读取第一帧\n",
    "ret,frame = cap.read()\n",
    "cv.namedWindow(\"CAS Demo\", cv.WINDOW_AUTOSIZE)\n",
    "x, y, w, h = cv.selectROI(\"CAS Demo\", frame, True, False)      #拖动鼠标选择ROI区域\n",
    "print(x,y,w,h)\n",
    "track_window = (x, y, w, h)\n",
    "\n",
    "# 获取ROI直方图\n",
    "roi = frame[y:y+h, x:x+w]\n",
    "hsv_roi = cv.cvtColor(roi, cv.COLOR_BGR2HSV)\n",
    "mask = cv.inRange(hsv_roi, (26, 43, 46), (34, 255, 255))\n",
    "roi_hist = cv.calcHist([hsv_roi],[0],mask,[180],[0,180])\n",
    "cv.normalize(roi_hist,roi_hist,0,255,cv.NORM_MINMAX)\n",
    "\n",
    "# 设置搜索跟踪分析\n",
    "term_crit = ( cv.TERM_CRITERIA_EPS | cv.TERM_CRITERIA_COUNT, 10, 1 )\n",
    "while True:\n",
    "    ret, frame = cap.read()\n",
    "    if ret is False:\n",
    "        break;\n",
    "    hsv = cv.cvtColor(frame, cv.COLOR_BGR2HSV)\n",
    "    dst = cv.calcBackProject([hsv],[0],roi_hist,[0,180],1)\n",
    "\n",
    "    # 均值迁移，搜索更新roi区域\n",
    "    ret, track_window = cv.meanShift(dst, track_window, term_crit)\n",
    "\n",
    "    # 绘制窗口\n",
    "    x,y,w,h = track_window\n",
    "    cv.rectangle(frame, (x,y), (x+w,y+h), 255,2)\n",
    "    cv.imshow('CAS Demo',frame)\n",
    "    k = cv.waitKey(60) & 0xff\n",
    "    if k == 27:\n",
    "        break\n",
    "    else:\n",
    "        cv.imwrite(chr(k)+\".jpg\",frame)\n",
    "cv.destroyAllWindows()\n",
    "cap.release()"
   ]
  },
  {
   "cell_type": "code",
   "execution_count": null,
   "metadata": {},
   "outputs": [],
   "source": []
  }
 ],
 "metadata": {
  "kernelspec": {
   "display_name": "Python 3",
   "language": "python",
   "name": "python3"
  },
  "language_info": {
   "codemirror_mode": {
    "name": "ipython",
    "version": 3
   },
   "file_extension": ".py",
   "mimetype": "text/x-python",
   "name": "python",
   "nbconvert_exporter": "python",
   "pygments_lexer": "ipython3",
   "version": "3.7.6"
  }
 },
 "nbformat": 4,
 "nbformat_minor": 4
}
