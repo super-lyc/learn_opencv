{
 "cells": [
  {
   "cell_type": "markdown",
   "metadata": {},
   "source": [
    "# 直方图，最大值，最小值，均值，方差。单通道求极值可以归一化，均值可以做二值分割，验证码识别就要涉及归一化"
   ]
  },
  {
   "cell_type": "code",
   "execution_count": 1,
   "metadata": {},
   "outputs": [
    {
     "name": "stdout",
     "output_type": "stream",
     "text": [
      "min: 0.00, max: 255.00\n",
      "min loc:  (237, 159)\n",
      "max loc:  (287, 82)\n",
      "mean: 75.77, stddev: 55.86\n"
     ]
    }
   ],
   "source": [
    "import cv2 as cv\n",
    "import numpy as np\n",
    "\n",
    "filename=r'C:\\Users\\luoyongchen\\Pictures\\flowers.jpg'\n",
    "src=cv.imread(filename, cv.IMREAD_GRAYSCALE)   #读取灰度图片,统计时只能统计灰度图片\n",
    "cv.namedWindow(\"input\", cv.WINDOW_AUTOSIZE)    \n",
    "cv.imshow(\"input\", src)\n",
    "\n",
    "min, max, minLoc, maxLoc = cv.minMaxLoc(src)   #最小、最大值，最小值索引和最大值索引\n",
    "print(\"min: %.2f, max: %.2f\"% (min, max))\n",
    "print(\"min loc: \", minLoc)\n",
    "print(\"max loc: \", maxLoc)\n",
    "\n",
    "means, stddev = cv.meanStdDev(src)   #均值和方差\n",
    "print(\"mean: %.2f, stddev: %.2f\"% (means, stddev))\n",
    "src[np.where(src < means)] = 0\n",
    "src[np.where(src > means)] = 255\n",
    "cv.imshow(\"binary\", src)    #生成二值图像\n",
    "\n",
    "cv.waitKey(0)\n",
    "cv.destroyAllWindows()\n"
   ]
  },
  {
   "cell_type": "code",
   "execution_count": null,
   "metadata": {},
   "outputs": [],
   "source": []
  }
 ],
 "metadata": {
  "kernelspec": {
   "display_name": "Python 3",
   "language": "python",
   "name": "python3"
  },
  "language_info": {
   "codemirror_mode": {
    "name": "ipython",
    "version": 3
   },
   "file_extension": ".py",
   "mimetype": "text/x-python",
   "name": "python",
   "nbconvert_exporter": "python",
   "pygments_lexer": "ipython3",
   "version": "3.7.4"
  }
 },
 "nbformat": 4,
 "nbformat_minor": 4
}
