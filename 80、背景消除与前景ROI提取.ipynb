{
 "cells": [
  {
   "cell_type": "raw",
   "metadata": {},
   "source": [
    "通过视频中的背景进行建模，实现背景消除，生成mask图像，通过对mask二值图像分析实现对前景活动对象ROI区域的提取，是很多视频监控分析软件常用的手段之一，该方法很实时！整个步骤如下：\n",
    "1.\t初始化背景建模对象GMM\n",
    "2.\t读取视频一帧\n",
    "3.\t使用背景建模消除生成mask\n",
    "4.\t对mask进行轮廓分析提取ROI\n",
    "5.\t绘制ROI对象"
   ]
  },
  {
   "cell_type": "code",
   "execution_count": 2,
   "metadata": {},
   "outputs": [
    {
     "name": "stdout",
     "output_type": "stream",
     "text": [
      "240.0 320.0 119.0 15.0\n"
     ]
    }
   ],
   "source": [
    "import numpy as np\n",
    "import cv2 as cv\n",
    "\n",
    "file=r'C:\\Users\\luo yong chen\\Pictures\\bike.avi'\n",
    "capture= cv.VideoCapture(file)\n",
    "height = capture.get(cv.CAP_PROP_FRAME_HEIGHT)\n",
    "width = capture.get(cv.CAP_PROP_FRAME_WIDTH)\n",
    "count = capture.get(cv.CAP_PROP_FRAME_COUNT)\n",
    "fps = capture.get(cv.CAP_PROP_FPS)\n",
    "print(height, width, count, fps)\n",
    "\n",
    "fgbg = cv.createBackgroundSubtractorMOG2(history=500, varThreshold=100, detectShadows=False)\n",
    "\n",
    "def process(image, opt=1):\n",
    "    mask = fgbg.apply(frame)\n",
    "    line = cv.getStructuringElement(cv.MORPH_RECT, (1, 5), (-1, -1))\n",
    "    mask = cv.morphologyEx(mask, cv.MORPH_OPEN, line)#消除干扰\n",
    "    cv.imshow(\"mask\", mask)\n",
    "    # 轮廓提取, 发现最大轮廓\n",
    "    out,contours, hierarchy = cv.findContours(mask, cv.RETR_EXTERNAL, cv.CHAIN_APPROX_SIMPLE)\n",
    "    for c in range(len(contours)):\n",
    "        area = cv.contourArea(contours[c])\n",
    "        if area < 100:\n",
    "            continue\n",
    "        rect = cv.minAreaRect(contours[c])\n",
    "        cv.ellipse(image, rect, (0, 255, 0), 2, 8)\n",
    "        cv.circle(image, (np.int32(rect[0][0]), np.int32(rect[0][1])), 2, (255, 0, 0), 2, 8, 0)\n",
    "    return image, mask\n",
    "\n",
    "while True:\n",
    "    ret, frame = capture.read()\n",
    "    if ret is True:\n",
    "        cv.imshow('input', frame)\n",
    "        result, m_ = process(frame)\n",
    "        cv.imshow('result', result)\n",
    "        k = cv.waitKey(50)&0xff\n",
    "        if k == 27:\n",
    "            cv.imwrite(\"D:/result.png\", result)\n",
    "            cv.imwrite(\"D:/mask.png\", m_)\n",
    "            break\n",
    "    else:\n",
    "        break\n",
    "    \n",
    "capture.release()\n",
    "cv.destroyAllWindows()"
   ]
  },
  {
   "cell_type": "code",
   "execution_count": null,
   "metadata": {},
   "outputs": [],
   "source": []
  }
 ],
 "metadata": {
  "kernelspec": {
   "display_name": "Python 3",
   "language": "python",
   "name": "python3"
  },
  "language_info": {
   "codemirror_mode": {
    "name": "ipython",
    "version": 3
   },
   "file_extension": ".py",
   "mimetype": "text/x-python",
   "name": "python",
   "nbconvert_exporter": "python",
   "pygments_lexer": "ipython3",
   "version": "3.7.6"
  }
 },
 "nbformat": 4,
 "nbformat_minor": 4
}
