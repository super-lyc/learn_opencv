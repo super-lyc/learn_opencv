{
 "cells": [
  {
   "cell_type": "code",
   "execution_count": 1,
   "metadata": {},
   "outputs": [],
   "source": [
    "import cv2 as cv\n",
    "import numpy as np"
   ]
  },
  {
   "cell_type": "code",
   "execution_count": 2,
   "metadata": {},
   "outputs": [],
   "source": [
    "filename=r'C:\\Users\\luoyongchen\\Pictures\\lena.jpg'\n",
    "img=cv.imread(filename)"
   ]
  },
  {
   "cell_type": "code",
   "execution_count": 3,
   "metadata": {},
   "outputs": [],
   "source": [
    "#添加高斯噪声\n",
    "def guass_noise(image,mean=0,var=0.001):\n",
    "    image=np.array(image/255,dtype=float)\n",
    "    noise=np.random.normal(mean,var**0.5,image.shape)\n",
    "    out=image+noise\n",
    "    if out.min()<0:\n",
    "        low_clip=-1.\n",
    "    else:\n",
    "        low_clip=0.\n",
    "    out=np.clip(out,low_clip,1.0)\n",
    "    out=np.uint8(out*255)\n",
    "    #cv.imshow('after guass_noise',out)\n",
    "    return out"
   ]
  },
  {
   "cell_type": "code",
   "execution_count": 4,
   "metadata": {},
   "outputs": [],
   "source": [
    "nimg=guass_noise(img)"
   ]
  },
  {
   "cell_type": "code",
   "execution_count": 8,
   "metadata": {},
   "outputs": [],
   "source": [
    "kernel=cv.getStructuringElement(cv.MORPH_CROSS,(3,3))     #设置结构元素参数\n",
    "gradient=cv.morphologyEx(img,cv.MORPH_GRADIENT,kernel)\n",
    "tophat=cv.morphologyEx(img,cv.MORPH_TOPHAT,kernel)\n",
    "blackhat=cv.morphologyEx(nimg,cv.MORPH_BLACKHAT,kernel)\n",
    "\n",
    "#利用顶帽和黑帽变换进行图像增强\n",
    "enhanced=img+tophat-blackhat\n",
    "\n",
    "\"\"\"\n",
    "#计算HMT结果\n",
    "kernel1=np.array([\n",
    "                  [0,1,0],\n",
    "                  [1,-1,1],\n",
    "                  [0,1,0]],dtype='int')\n",
    "hmt=cv.morphologyEx(img,cv.MORPH_HITMISS,kernel1)\n",
    "\"\"\"\n",
    "cv.imshow('source image',img)\n",
    "cv.imshow('noised',nimg)\n",
    "cv.imshow('enhanced',enhanced)\n",
    "\n",
    "#cv.show('hit or miss transform',hmt)\n",
    "\n",
    "cv.waitKey()\n",
    "cv.destroyAllWindows()\n"
   ]
  },
  {
   "cell_type": "code",
   "execution_count": null,
   "metadata": {},
   "outputs": [],
   "source": []
  }
 ],
 "metadata": {
  "kernelspec": {
   "display_name": "Python 3",
   "language": "python",
   "name": "python3"
  },
  "language_info": {
   "codemirror_mode": {
    "name": "ipython",
    "version": 3
   },
   "file_extension": ".py",
   "mimetype": "text/x-python",
   "name": "python",
   "nbconvert_exporter": "python",
   "pygments_lexer": "ipython3",
   "version": "3.7.6"
  }
 },
 "nbformat": 4,
 "nbformat_minor": 4
}
