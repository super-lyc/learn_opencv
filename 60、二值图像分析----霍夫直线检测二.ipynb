{
 "cells": [
  {
   "cell_type": "raw",
   "metadata": {},
   "source": [
    "OpenCV中还有另外一个霍夫直线检测的API，该API更为常用，它会直接返回直线的空间坐标点，比返回霍夫空间参数更加的直观，容易理解，而且还可以声明线段长度、间隔等参数，非常有用。"
   ]
  },
  {
   "cell_type": "raw",
   "metadata": {},
   "source": [
    "opencv的HoughLinesP函数是统计概率霍夫线变换函数，该函数能输出检测到的直线的端点 (x_{0}, y_{0}, x_{1}, y_{1})，其函数原型为：lines=HoughLinesP(image, rho, theta, threshold[, lines[, minLineLength[, maxLineGap]]]) \n",
    "image:参数表示边缘检测、二值分割等的输出图像，该图像为单通道8位二进制图像。\n",
    "rho参数表示参数极径 r 以像素值为单位的分辨率，这里一般使用 1 像素。\n",
    "theta参数表示参数极角 \\theta 以弧度为单位的分辨率，这里使用 1度。\n",
    "threshold参数表示检测一条直线所需最少的曲线交点。\n",
    "minLineLength参数表示能组成一条直线的最少点的数量，点数量不足的直线将被抛弃。\n",
    "maxLineGap参数表示能被认为在一条直线上的亮点的最大距离。\n",
    "\n",
    "lines参数表示储存着检测到的直线的参数对 (x_{start}, y_{start}, x_{end}, y_{end}) 的容器，也就是线段两个端点的坐标。"
   ]
  },
  {
   "cell_type": "code",
   "execution_count": 15,
   "metadata": {},
   "outputs": [
    {
     "name": "stdout",
     "output_type": "stream",
     "text": [
      "[[[ 19 114 372 114]]\n",
      "\n",
      " [[ 21  69 374  69]]\n",
      "\n",
      " [[ 19 111 372 111]]\n",
      "\n",
      " [[ 19  65 376  65]]\n",
      "\n",
      " [[ 50 240  50  14]]\n",
      "\n",
      " [[ 46 240  46  14]]\n",
      "\n",
      " [[162 147 360 147]]\n",
      "\n",
      " [[162 144 360 144]]\n",
      "\n",
      " [[ 90 148  90  10]]\n",
      "\n",
      " [[141 242 141 122]]\n",
      "\n",
      " [[238 213 294 213]]\n",
      "\n",
      " [[ 86 150  86   8]]\n",
      "\n",
      " [[128 126 128  11]]\n",
      "\n",
      " [[145 244 145 120]]\n",
      "\n",
      " [[124 125 124  11]]\n",
      "\n",
      " [[280 195 336 195]]\n",
      "\n",
      " [[160 209 235 210]]\n",
      "\n",
      " [[254 197 350 197]]\n",
      "\n",
      " [[237 211 310 211]]\n",
      "\n",
      " [[158 196 253 196]]\n",
      "\n",
      " [[158 194 254 194]]]\n"
     ]
    }
   ],
   "source": [
    "import cv2 as cv\n",
    "import numpy as np\n",
    "\n",
    "def canny_demo(image):\n",
    "    t = 80\n",
    "    canny_output = cv.Canny(image, t, t * 2)\n",
    "    return canny_output\n",
    "\n",
    "file=r'C:\\Users\\luo yong chen\\Pictures\\morph01.png'\n",
    "src=cv.imread(file)\n",
    "cv.imshow(\"input\", src)\n",
    "binary = canny_demo(src)\n",
    "cv.imshow(\"binary\", binary)\n",
    "\n",
    "linesP = cv.HoughLinesP(binary, 1, np.pi / 180, 50, None, 50, 10)#minLineLength=50，maxLineGap=10，\n",
    "print(linesP)\n",
    "\n",
    "drawing=np.zeros(src.shape,dtype=np.uint8)\n",
    "if linesP is not None:\n",
    "    for i in range(0, len(linesP)):\n",
    "        l = linesP[i][0]\n",
    "        cv.line(drawing, (l[0], l[1]), (l[2], l[3]), (255, 255, 0), 1, cv.LINE_AA)\n",
    "\n",
    "# 显示\n",
    "cv.imshow(\"hough detect\", drawing)\n",
    "cv.waitKey(0)\n",
    "cv.destroyAllWindows()"
   ]
  },
  {
   "cell_type": "code",
   "execution_count": null,
   "metadata": {},
   "outputs": [],
   "source": []
  }
 ],
 "metadata": {
  "kernelspec": {
   "display_name": "Python 3",
   "language": "python",
   "name": "python3"
  },
  "language_info": {
   "codemirror_mode": {
    "name": "ipython",
    "version": 3
   },
   "file_extension": ".py",
   "mimetype": "text/x-python",
   "name": "python",
   "nbconvert_exporter": "python",
   "pygments_lexer": "ipython3",
   "version": "3.7.6"
  }
 },
 "nbformat": 4,
 "nbformat_minor": 4
}
