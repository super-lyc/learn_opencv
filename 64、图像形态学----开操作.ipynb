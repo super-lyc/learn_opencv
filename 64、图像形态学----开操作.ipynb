{
 "cells": [
  {
   "cell_type": "raw",
   "metadata": {},
   "source": [
    "形态学的开操作是基于腐蚀与膨胀两个操作的组合实现的\n",
    "开操作 = 腐蚀 + 膨胀\n",
    "开操作的作用：\n",
    "开操作可以删除二值图像中小的干扰块，降低图像二值化之后噪点过多的问题"
   ]
  },
  {
   "cell_type": "raw",
   "metadata": {},
   "source": [
    "cv2.morphologyEx(src, op, kernel) \n",
    "src:可以输入任意通道的图片\n",
    "op:形态学操作方式：\n",
    "   op =  cv2.MORPH_OPEN 进行开运算，指的是先进行腐蚀操作，再进行膨胀操作\n",
    "   op =  cv2.MORPH_CLOSE 进行闭运算， 指的是先进行膨胀操作，再进行腐蚀操作\n",
    "\n",
    "kernel：卷积核\n",
    "开运算：表示的是先进行腐蚀，再进行膨胀操作，开操作 = 腐蚀 + 膨胀\n",
    "闭运算：表示先进行膨胀操作，再进行腐蚀操作"
   ]
  },
  {
   "cell_type": "code",
   "execution_count": 4,
   "metadata": {},
   "outputs": [],
   "source": [
    "import cv2 as cv\n",
    "import numpy as np\n",
    "\n",
    "file=r'C:\\Users\\luo yong chen\\Pictures\\shuini.jpg'\n",
    "src=cv.imread(file)\n",
    "cv.namedWindow(\"input\", cv.WINDOW_AUTOSIZE)\n",
    "cv.imshow(\"input\", src)\n",
    "\n",
    "# 高斯模糊去噪声\n",
    "gray = cv.cvtColor(src, cv.COLOR_BGR2GRAY)\n",
    "dst = cv.GaussianBlur(gray, (9, 9), 2, 2)\n",
    "binary = cv.adaptiveThreshold(dst, 255, cv.ADAPTIVE_THRESH_GAUSSIAN_C,\n",
    "                              cv.THRESH_BINARY_INV, 45, 15)\n",
    "cv.imshow('binary',binary)\n",
    "\n",
    "# 开操作\n",
    "kernel = cv.getStructuringElement(cv.MORPH_RECT, (5, 5), (-1, -1))\n",
    "result = cv.morphologyEx(binary, cv.MORPH_OPEN, kernel)\n",
    "\n",
    "cv.imshow(\"result\", result)\n",
    "cv.waitKey(0)\n",
    "cv.destroyAllWindows()"
   ]
  },
  {
   "cell_type": "code",
   "execution_count": null,
   "metadata": {},
   "outputs": [],
   "source": []
  }
 ],
 "metadata": {
  "kernelspec": {
   "display_name": "Python 3",
   "language": "python",
   "name": "python3"
  },
  "language_info": {
   "codemirror_mode": {
    "name": "ipython",
    "version": 3
   },
   "file_extension": ".py",
   "mimetype": "text/x-python",
   "name": "python",
   "nbconvert_exporter": "python",
   "pygments_lexer": "ipython3",
   "version": "3.7.6"
  }
 },
 "nbformat": 4,
 "nbformat_minor": 4
}
