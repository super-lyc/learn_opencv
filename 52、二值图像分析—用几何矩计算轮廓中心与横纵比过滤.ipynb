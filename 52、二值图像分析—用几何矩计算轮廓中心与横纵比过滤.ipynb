{
 "cells": [
  {
   "cell_type": "raw",
   "metadata": {},
   "source": [
    "对图像二值图像的每个轮廓，可以计算轮廓几何矩，根据几何矩可以计算图像的中心位置，估计得到中心位置可以计算中心矩、然后再根据中心矩可以计算Hu矩。"
   ]
  },
  {
   "cell_type": "raw",
   "metadata": {},
   "source": [
    "图像识别的一个核心问题是图像的特征提取，简单描述即为用一组简单的数据(数据描述量)来描述整个图像，这组数据月简单越有代表性越好。良好的特征不受光线、噪点、几何形变的干扰，图像识别技术的发展中，不断有新的描述图像特征提出，而图像不变矩就是其中一个。\n",
    "从图像中计算出来的矩通常描述了图像不同种类的几何特征如：大小、灰度、方向、形状等，图像矩广泛应用于模式识别、目标分类、目标识别与防伪估计、图像编码与重构等领域。\n",
    "严格来讲矩是概率与统计中的一个概念，是随机变量的一种数字特征。设 xx 为随机变量，C为常数，则量E[(x−c)^k]称为X关于C点的k阶矩。比较重要的两种情况如下：\n",
    "1.c=0,这时a_k=E(X^k)称为X的k阶原点矩;\n",
    "2.c=E(X),这时μ_k=E[(X−EX)^k]称为X的k阶中心矩\n",
    "一阶原点矩就是期望，一阶中心矩μ_1=0，二阶中心矩μ_2就是X的方差Var(X)。在统计学上，高于4阶的矩极少使用，μ_3可以去衡量分布是否有偏，μ_4可以衡量分布（密度）在均值拘谨的陡峭程度。\n",
    "针对一幅图像，我们把像素的坐标看成是一个二维随机变量(X, Y)，那么一副灰度图可以用二维灰度图密度函数来表示，因此可以用矩来描述灰度图像的特征。不变矩(Invariant Moments)是一种高度浓缩的图像特征，具有平移、灰度、尺度、旋转不变性，由M.K.Hu在1961年首先提出，1979年M.R.Teague根据正交多项式理论提出了Zernike矩"
   ]
  },
  {
   "cell_type": "raw",
   "metadata": {},
   "source": [
    "mm = cv.moments(contours[c]) 输出几何矩和中心矩"
   ]
  },
  {
   "cell_type": "code",
   "execution_count": 7,
   "metadata": {},
   "outputs": [
    {
     "name": "stdout",
     "output_type": "stream",
     "text": [
      "横纵比： 0.2856610493532443\n",
      "轮廓中心X坐标： 329 轮廓中心Y坐标： 367\n",
      "横纵比： 1.0\n",
      "轮廓中心X坐标： 209 轮廓中心Y坐标： 306\n",
      "横纵比： 0.9821550739078023\n",
      "轮廓中心X坐标： 398 轮廓中心Y坐标： 185\n",
      "横纵比： 0.06010080604769505\n",
      "轮廓中心X坐标： 186 轮廓中心Y坐标： 167\n",
      "横纵比： 0.9367088607594937\n",
      "轮廓中心X坐标： 227 轮廓中心Y坐标： 56\n",
      "最小外接矩形中心X坐标： 334.4437255859375 最小外接矩形中心Y坐标： 387.6087951660156\n",
      "最小外接矩形中心X坐标： 209.0 最小外接矩形中心Y坐标： 306.5000305175781\n",
      "最小外接矩形中心X坐标： 395.34832763671875 最小外接矩形中心Y坐标： 185.6793212890625\n",
      "最小外接矩形中心X坐标： 193.09999084472656 最小外接矩形中心Y坐标： 170.70001220703125\n",
      "最小外接矩形中心X坐标： 227.0 最小外接矩形中心Y坐标： 56.5\n"
     ]
    }
   ],
   "source": [
    "import cv2 as cv\n",
    "import numpy as np\n",
    "\n",
    "\n",
    "def canny_demo(image):\n",
    "    t = 80\n",
    "    canny_output = cv.Canny(image, t, t * 2)\n",
    "    cv.imshow(\"canny_output\", canny_output)\n",
    "    return canny_output\n",
    "\n",
    "file=r'C:\\Users\\luo yong chen\\Pictures\\stuff.jpg'\n",
    "src=cv.imread(file)\n",
    "cv.namedWindow(\"input\", cv.WINDOW_AUTOSIZE)\n",
    "cv.imshow(\"input\", src)\n",
    "image=np.copy(src)\n",
    "binary = canny_demo(src)\n",
    "k = np.ones((3, 3), dtype=np.uint8)\n",
    "binary = cv.morphologyEx(binary, cv.MORPH_DILATE, k)\n",
    "\n",
    "# 轮廓发现\n",
    "out, contours, hierarchy = cv.findContours(binary, cv.RETR_EXTERNAL, cv.CHAIN_APPROX_SIMPLE)\n",
    "\n",
    "#几何矩计算轮廓中心与横纵比过滤\n",
    "for c in range(len(contours)):\n",
    "    rect = cv.minAreaRect(contours[c])  #最小外接矩形\n",
    "    ww, hh = rect[1]            #最小外接矩形的宽高\n",
    "    ratio = np.minimum(ww, hh) / np.maximum(ww, hh)          #横纵比，可以进行横纵比过滤，将一致的归为一类\n",
    "    print('横纵比：',ratio)\n",
    "    mm = cv.moments(contours[c])       #几何矩计算\n",
    "    m00 = mm['m00']                    #轮廓包含的总的像素个数\n",
    "    m10 = mm['m10']                   #表示所有X方向的像素的个数\n",
    "    m01 = mm['m01']\n",
    "    cx = np.int(m10 / m00)          #轮廓中心的X坐标\n",
    "    cy = np.int(m01 / m00)          #轮廓中心的Y坐标\n",
    "    print('轮廓中心X坐标：',cx,'轮廓中心Y坐标：',cy)\n",
    "    box = cv.boxPoints(rect)\n",
    "    box = np.int0(box)\n",
    "    if ratio > 0.9:\n",
    "        cv.drawContours(src, [box], 0, (0, 0, 255), 2)\n",
    "        cv.circle(src, (np.int32(cx), np.int32(cy)), 2, (255, 0, 0), 2, 8, 0)\n",
    "    if ratio < 0.5:\n",
    "        cv.drawContours(src, [box], 0, (255, 0, 255), 2)\n",
    "        cv.circle(src, (np.int32(cx), np.int32(cy)), 2, (0, 0, 255), 2, 8, 0)\n",
    "\n",
    "#最小外接矩形中心\n",
    "for c in range(len(contours)):\n",
    "    rect = cv.minAreaRect(contours[c])  #最小外接矩形\n",
    "    cx, cy = rect[0]            #最小外接矩形中心坐标\n",
    "    print('最小外接矩形中心X坐标：',cx,'最小外接矩形中心Y坐标：',cy)\n",
    "    ww, hh = rect[1]            #最小外接矩形的宽高\n",
    "    box = cv.boxPoints(rect)\n",
    "    box = np.int0(box)\n",
    "    cv.drawContours(image,[box],0,(0,0,255),2)\n",
    "    cv.circle(image, (np.int32(cx), np.int32(cy)), 2, (255, 0, 0), 2, 8, 0)\n",
    "        \n",
    "        \n",
    "# 显示\n",
    "cv.imshow(\"contours_analysis\", src)\n",
    "cv.imshow(\"min rectangle\", image)\n",
    "cv.waitKey(0)\n",
    "cv.destroyAllWindows()"
   ]
  },
  {
   "cell_type": "code",
   "execution_count": null,
   "metadata": {},
   "outputs": [],
   "source": []
  }
 ],
 "metadata": {
  "kernelspec": {
   "display_name": "Python 3",
   "language": "python",
   "name": "python3"
  },
  "language_info": {
   "codemirror_mode": {
    "name": "ipython",
    "version": 3
   },
   "file_extension": ".py",
   "mimetype": "text/x-python",
   "name": "python",
   "nbconvert_exporter": "python",
   "pygments_lexer": "ipython3",
   "version": "3.7.6"
  }
 },
 "nbformat": 4,
 "nbformat_minor": 4
}
