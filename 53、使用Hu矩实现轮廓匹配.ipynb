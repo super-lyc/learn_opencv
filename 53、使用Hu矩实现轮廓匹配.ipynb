{
 "cells": [
  {
   "cell_type": "raw",
   "metadata": {},
   "source": [
    "对图像二值图像的每个轮廓，可以计算轮廓几何矩，根据几何矩可以计算图像的中心位置，估计得到中心位置可以计算中心矩、然后再根据中心矩可以计算Hu矩。"
   ]
  },
  {
   "cell_type": "raw",
   "metadata": {},
   "source": [
    "cv.moments(\tarray)计算图像的几何矩，然后用几何矩输出结果可以计算归一化中心矩，再利用归一化中心矩计算Hu矩,然后我们可以使用Hu矩作为输入，对轮廓进行匹配"
   ]
  },
  {
   "cell_type": "raw",
   "metadata": {},
   "source": [
    "mm = cv.moments(inputarray)\n",
    "inputarray:输入的图像的轮廓的点集\n",
    "mm:输出的数据结构，包括图像图像的中心矩、几何矩、归一化中心距\n",
    "\n",
    "hum = cv.HuMoments(mm)\n",
    "mm:表示输入的图像矩\n",
    "hum:输出的Hu矩7个值\n",
    "\n",
    "dist = cv.matchShapes(object1, object2, method, parameter)\n",
    "dist：越小则匹配的物体越相似\n",
    "object1:待匹配的物体1，第一个轮廓点集合，或者灰度图像\n",
    "object2:待匹配的物体2，第一个轮廓点集合，或者灰度图像\n",
    "method:匹配所使用的方法，一共有三种：\n",
    "    CV_CONTOURS_MATCH_I1，CV_CONTOURS_MATCH_I2，CV_CONTOURS_MATCH_I3\n",
    "    这其实就是三种不同的判定物体相似的方法，匹配的返回值也是不一样的\n",
    "parameter：一般为0，OpenCV3.x版本中已经不需要了，在调用过程中不会进行应用"
   ]
  },
  {
   "cell_type": "raw",
   "metadata": {},
   "source": [
    "Hu矩特性：旋转不变性和尺度不变性，可用于轮廓匹配和对象边缘匹配"
   ]
  },
  {
   "cell_type": "code",
   "execution_count": 3,
   "metadata": {},
   "outputs": [
    {
     "name": "stdout",
     "output_type": "stream",
     "text": [
      "dist 15.053521\n",
      "dist 15.053521\n",
      "dist 15.053521\n"
     ]
    }
   ],
   "source": [
    "import cv2 as cv\n",
    "import numpy as np\n",
    "#封装一个轮廓发现的方法：先BGR到GRAY，然后二值化，最后进行轮廓发现\n",
    "def contours_info(image):\n",
    "    gray = cv.cvtColor(image, cv.COLOR_BGR2GRAY)\n",
    "    ret, binary = cv.threshold(gray, 0, 255, cv.THRESH_BINARY | cv.THRESH_OTSU)\n",
    "    out, contours, hierarchy = cv.findContours(binary, cv.RETR_EXTERNAL, cv.CHAIN_APPROX_SIMPLE)\n",
    "    return contours\n",
    "\n",
    "file1=r'C:\\Users\\luo yong chen\\Pictures\\abc.png'\n",
    "src1=cv.imread(file1)\n",
    "cv.namedWindow(\"input1\", cv.WINDOW_AUTOSIZE)\n",
    "cv.imshow(\"input1\", src1)\n",
    "file2=r'C:\\Users\\luo yong chen\\Pictures\\a5.png'\n",
    "src2=cv.imread(file2)\n",
    "cv.imshow(\"input2\", src2)\n",
    "\n",
    "# 轮廓发现\n",
    "contours1 = contours_info(src1)\n",
    "contours2 = contours_info(src2)\n",
    "\n",
    "# 几何矩计算与hu矩计算\n",
    "mm2 = cv.moments(contours2[0])\n",
    "hum2 = cv.HuMoments(mm2)\n",
    "\n",
    "# 轮廓匹配\n",
    "for c in range(len(contours1)):\n",
    "    mm1 = cv.moments(contours1[c])\n",
    "    hum1 = cv.HuMoments(mm)\n",
    "    dist = cv.matchShapes(hum, hum2, cv.CONTOURS_MATCH_I1, 0)\n",
    "    if dist < 1:\n",
    "        cv.drawContours(src, contours1, c, (0, 0, 255), 2, 8)\n",
    "    print(\"dist %f\"%(dist))\n",
    "\n",
    "# 显示\n",
    "cv.imshow(\"contours_analysis\", src)\n",
    "cv.waitKey(0)\n",
    "cv.destroyAllWindows()"
   ]
  },
  {
   "cell_type": "code",
   "execution_count": null,
   "metadata": {},
   "outputs": [],
   "source": []
  }
 ],
 "metadata": {
  "kernelspec": {
   "display_name": "Python 3",
   "language": "python",
   "name": "python3"
  },
  "language_info": {
   "codemirror_mode": {
    "name": "ipython",
    "version": 3
   },
   "file_extension": ".py",
   "mimetype": "text/x-python",
   "name": "python",
   "nbconvert_exporter": "python",
   "pygments_lexer": "ipython3",
   "version": "3.7.6"
  }
 },
 "nbformat": 4,
 "nbformat_minor": 4
}
