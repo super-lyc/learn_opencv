{
 "cells": [
  {
   "cell_type": "code",
   "execution_count": 6,
   "metadata": {},
   "outputs": [],
   "source": [
    "import cv2 as cv\n",
    "import numpy as np\n",
    "import matplotlib.pyplot as plt\n",
    "import math"
   ]
  },
  {
   "cell_type": "code",
   "execution_count": 11,
   "metadata": {},
   "outputs": [
    {
     "data": {
      "image/png": "[encoded data removed]",
      "text/plain": [
       "<Figure size 432x288 with 1 Axes>"
      ]
     },
     "metadata": {
      "needs_background": "light"
     },
     "output_type": "display_data"
    },
    {
     "data": {
      "image/png": "[encoded data removed]",
      "text/plain": [
       "<Figure size 432x288 with 1 Axes>"
      ]
     },
     "metadata": {
      "needs_background": "light"
     },
     "output_type": "display_data"
    }
   ],
   "source": [
    "\n",
    "def calhist(image):\n",
    "    rows,cols=image.shape[0:2]\n",
    "    grayhist=np.zeros([256],np.uint8)\n",
    "    for h in range(rows):\n",
    "        for w in range(cols):\n",
    "            grayhist[image[h][w]]+=1\n",
    "    return grayhist\n",
    "\n",
    "def drawhist(hist):\n",
    "    xrange=range(256)\n",
    "    plt.bar(xrange,hist)\n",
    "    plt.xlabel('gray level')\n",
    "    plt.ylabel('grayhist')\n",
    "    plt.show()\n",
    "    \n",
    "def equalhist(image):\n",
    "    rows,cols=image.shape[0:2]\n",
    "    orignialhist=calhist(image)\n",
    "    #计算累加直方图\n",
    "    sum_of_orignialhist=np.zeros([256],np.uint32)\n",
    "    for p in range(256):\n",
    "        if p==0:\n",
    "            sum_of_orignialhist[p]=orignialhist[0]\n",
    "        else:\n",
    "            sum_of_orignialhist[p]=sum_of_orignialhist[p-1]+orignialhist[p]\n",
    "    #根据公式进行计算\n",
    "    outputhist=np.zeros([256],np.uint32)\n",
    "    a=256.0/(rows*cols)\n",
    "    for p in range(256):\n",
    "        q=a*float(sum_of_orignialhist[p])-1\n",
    "        if q>=0:\n",
    "            outputhist[p]=math.floor(q)\n",
    "        else:\n",
    "            outputhist[p]=0\n",
    "    return outputhist        \n",
    "    \n",
    "            \n",
    "def drawimage(outputhist,image):\n",
    "    output_image=np.zeros(src.shape,np.uint8)\n",
    "    rows,cols=image.shape[0:2]\n",
    "    for r in range(rows):\n",
    "        for c in range(cols):\n",
    "            output_image[r][c]=outputhist[image[r][c]]\n",
    "    return  output_image\n",
    "    \n",
    "                \n",
    "if __name__=='__main__':\n",
    "    file=r'C:\\Users\\luo yong chen\\Pictures\\touxiang.png'\n",
    "    src=cv.imread(file)\n",
    "    \n",
    "    cv.imshow('input',src)\n",
    "    grayhist=calhist(src)\n",
    "    drawhist(grayhist)\n",
    "    \n",
    "    outputhist=equalhist(src)\n",
    "    drawhist(outputhist)\n",
    "    output_image=drawimage(outputhist,src)\n",
    "    cv.imshow('output',output_image)\n",
    "    \n",
    "    cv.waitKey(0)\n",
    "    cv.destroyAllWindows()\n",
    "    \n",
    "\n",
    "    \n",
    "    "
   ]
  },
  {
   "cell_type": "code",
   "execution_count": null,
   "metadata": {},
   "outputs": [],
   "source": []
  }
 ],
 "metadata": {
  "kernelspec": {
   "display_name": "Python 3",
   "language": "python",
   "name": "python3"
  },
  "language_info": {
   "codemirror_mode": {
    "name": "ipython",
    "version": 3
   },
   "file_extension": ".py",
   "mimetype": "text/x-python",
   "name": "python",
   "nbconvert_exporter": "python",
   "pygments_lexer": "ipython3",
   "version": "3.7.6"
  }
 },
 "nbformat": 4,
 "nbformat_minor": 4
}
