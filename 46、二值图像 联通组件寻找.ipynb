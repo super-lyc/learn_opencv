{
 "cells": [
  {
   "cell_type": "raw",
   "metadata": {},
   "source": [
    "连通组件标记算法介绍\n",
    "连接组件标记算法(connected component labeling algorithm)是图像分析中最常用的算法之一，算法的实质是扫描二值图像的每个像素点，对于像素值相同的而且相互连通分为相同的组(group),不联通则分为不同的组件，最终得到图像中所有的像素连通组件。扫描的方式可以是从上到下，从左到右，对于一幅有N个像素的图像来说，最大连通组件个数为N/2。扫描是基于每个像素单位，OpenCV中进行连通组件扫码调用的时候必须保证背景像素是黑色、前景像素是白色。最常见的连通组件扫码有如下两类算法：\n",
    "1. 一步法，基于图的搜索算法\n",
    "2. 两步法、基于扫描与等价类合并算法"
   ]
  },
  {
   "cell_type": "raw",
   "metadata": {},
   "source": [
    "num_labels，dst = cv.connectedComponents(image, connectivity, ltype=cv.CV_32S)\n",
    "num_labels：一共标记的groups数目\n",
    "dst:输出的标记图像,每一个位置上都有一个label，背景的标记为0\n",
    "image:输入二值图像\n",
    "connectivity：连通域，可以是8连通或者4连通\n",
    "ltype:输出的labels类型"
   ]
  },
  {
   "cell_type": "code",
   "execution_count": 5,
   "metadata": {},
   "outputs": [
    {
     "name": "stdout",
     "output_type": "stream",
     "text": [
      "(442, 756, 3)\n",
      "26\n",
      "[[0 0 0 ... 0 0 0]\n",
      " [0 0 0 ... 0 0 0]\n",
      " [0 0 0 ... 0 0 0]\n",
      " ...\n",
      " [0 0 0 ... 0 0 0]\n",
      " [0 0 0 ... 0 0 0]\n",
      " [0 0 0 ... 0 0 0]] (442, 756)\n",
      "total rice :  25\n"
     ]
    }
   ],
   "source": [
    "import cv2 as cv\n",
    "import numpy as np\n",
    "\n",
    "def connected_components_demo(src):\n",
    "    src = cv.GaussianBlur(src, (3, 3), 0)\n",
    "    gray = cv.cvtColor(src, cv.COLOR_BGR2GRAY)\n",
    "    ret, binary = cv.threshold(gray, 0, 255, cv.THRESH_BINARY | cv.THRESH_OTSU)\n",
    "    cv.imshow(\"binary\", binary)\n",
    "\n",
    "    output = cv.connectedComponents(binary, connectivity=8, ltype=cv.CV_32S)#输出两个结果\n",
    "    num_labels = output[0]   #output的第一个参数，表示总共的标记的个数\n",
    "    print(num_labels )\n",
    "    labels = output[1]        #output的第二个参数，表示\n",
    "    cv.imshow('labels',labels)\n",
    "    print(labels,labels.shape)\n",
    "    colors = []              #初始化颜色值\n",
    "    for i in range(num_labels):       \n",
    "        b = np.random.randint(0, 256)\n",
    "        g = np.random.randint(0, 256)\n",
    "        r = np.random.randint(0, 256)\n",
    "        colors.append((b, g, r))\n",
    "\n",
    "    colors[0] = (0, 0, 0)           #背景标记为黑色\n",
    "    h, w = gray.shape\n",
    "    image = np.zeros((h, w, 3), dtype=np.uint8)\n",
    "    #遍历整个灰度图\n",
    "    for row in range(h):\n",
    "        for col in range(w):\n",
    "            image[row, col] = colors[labels[row, col]]\n",
    "\n",
    "    cv.imshow(\"colored labels\", image)\n",
    "    print(\"total rice : \", num_labels - 1)    #减去背景的那一个label\n",
    "\n",
    "file=r'C:\\Users\\luo yong chen\\Pictures\\rice.png'\n",
    "src=cv.imread(file)\n",
    "print(src.shape)\n",
    "h, w = src.shape[:2]\n",
    "connected_components_demo(src)\n",
    "cv.waitKey(0)\n",
    "cv.destroyAllWindows()"
   ]
  },
  {
   "cell_type": "code",
   "execution_count": null,
   "metadata": {},
   "outputs": [],
   "source": []
  }
 ],
 "metadata": {
  "kernelspec": {
   "display_name": "Python 3",
   "language": "python",
   "name": "python3"
  },
  "language_info": {
   "codemirror_mode": {
    "name": "ipython",
    "version": 3
   },
   "file_extension": ".py",
   "mimetype": "text/x-python",
   "name": "python",
   "nbconvert_exporter": "python",
   "pygments_lexer": "ipython3",
   "version": "3.7.6"
  }
 },
 "nbformat": 4,
 "nbformat_minor": 4
}
