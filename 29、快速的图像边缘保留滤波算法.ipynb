{
 "cells": [
  {
   "cell_type": "raw",
   "metadata": {},
   "source": [
    "高斯双边模糊与mean shift均值模糊两种边缘保留滤波算法，\n",
    "都因为计算量比较大，无法实时实现图像边缘保留滤波，限制了它们的使用场景，\n",
    "OpenCV中还实现了一种快速的边缘保留滤波算法。\n",
    "高斯双边与mean shift均值在计算时候使用五维向量是其计算量大速度慢的根本原因，\n",
    "该算法通过等价变换到低纬维度空间，实现了数据降维与快速计算。"
   ]
  },
  {
   "cell_type": "code",
   "execution_count": null,
   "metadata": {},
   "outputs": [],
   "source": [
    "dst= cv.edgePreservingFilter(src[, dst[, flags[, sigma_s[, sigma_r]]]])\n",
    "其中sigma_s的取值范围为0～200， sigma_r的取值范围为0～1\n",
    "当sigma_s取值不变时候，sigma_r越大图像滤波效果越明显\n",
    "当sigma_r取值不变时候，窗口sigma_s越大图像模糊效果越明显\n",
    "当sgma_r取值很小的时候，窗口sigma_s取值无论如何变化，图像双边滤波效果都不好！"
   ]
  },
  {
   "cell_type": "code",
   "execution_count": 1,
   "metadata": {},
   "outputs": [],
   "source": [
    "import cv2 as cv\n",
    "import numpy as np\n",
    "\n",
    "file=r'C:\\Users\\luo yong chen\\Pictures\\example.png'\n",
    "src=cv.imread(file)\n",
    "cv.namedWindow(\"input\", cv.WINDOW_AUTOSIZE)\n",
    "cv.imshow(\"input\", src)\n",
    "\n",
    "h, w = src.shape[:2]\n",
    "dst = cv.edgePreservingFilter(src, sigma_s=100, sigma_r=0.4, flags=cv.RECURS_FILTER)\n",
    "result = np.zeros([h, w*2, 3], dtype=src.dtype)\n",
    "result[0:h,0:w,:] = src\n",
    "result[0:h,w:2*w,:] = dst\n",
    "cv.imshow(\"result\", result)\n",
    "cv.imwrite(\"D:/result.png\", result)\n",
    "\n",
    "cv.waitKey(0)\n",
    "cv.destroyAllWindows()"
   ]
  },
  {
   "cell_type": "code",
   "execution_count": null,
   "metadata": {},
   "outputs": [],
   "source": []
  }
 ],
 "metadata": {
  "kernelspec": {
   "display_name": "Python 3",
   "language": "python",
   "name": "python3"
  },
  "language_info": {
   "codemirror_mode": {
    "name": "ipython",
    "version": 3
   },
   "file_extension": ".py",
   "mimetype": "text/x-python",
   "name": "python",
   "nbconvert_exporter": "python",
   "pygments_lexer": "ipython3",
   "version": "3.7.4"
  }
 },
 "nbformat": 4,
 "nbformat_minor": 4
}
