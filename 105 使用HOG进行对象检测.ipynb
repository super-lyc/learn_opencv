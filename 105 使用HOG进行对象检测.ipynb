{
 "cells": [
  {
   "cell_type": "raw",
   "metadata": {},
   "source": [
    "对于已经训练好的HOG+SVM的模型，我们可以通过开窗实现对象检测，从而完成自定义对象检测。以电表检测为例，这样我们就实现HOG+SVM对象检测全流程。OpenCV中实现对每个窗口像素块预测，需要首先加载SVM模型文件，然后使用predict方法实现预测。这种方法的缺点就是开窗检测是从左到右、从上到下，是一个高耗时的操作，所以步长选择一般会选择HOG窗口默认步长的一半，这样可以减少检测框的数目，同时在predict时候会发现多个重复框，求取它们的平均值即可得到最终的检测框。"
   ]
  },
  {
   "cell_type": "code",
   "execution_count": null,
   "metadata": {},
   "outputs": [],
   "source": [
    "import cv2 as cv\n",
    "import numpy as np\n",
    "\n",
    "if __name__ == '__main__':\n",
    "    image = cv.imread(\"D:/images/train_data/elec_watch/test/scene_08.jpg\")\n",
    "    test_img = cv.resize(image, (0, 0), fx=0.2, fy=0.2)\n",
    "    cv.imshow(\"input\", test_img)\n",
    "    gray = cv.cvtColor(test_img, cv.COLOR_BGR2GRAY)\n",
    "    print(test_img.shape)\n",
    "    h, w = test_img.shape[:2]\n",
    "    svm = cv.ml.SVM_load('svm_data.dat')\n",
    "    sum_x = 0\n",
    "    sum_y = 0\n",
    "    count = 0\n",
    "    hog = cv.HOGDescriptor()\n",
    "    for row in range(64, h-64, 4):\n",
    "        for col in range(32, w-32, 4):\n",
    "            win_roi = gray[row-64:row+64,col-32:col+32]\n",
    "            hog_desc = hog.compute(win_roi, winStride=(8, 8), padding=(0, 0))\n",
    "            one_fv = np.zeros([len(hog_desc)], dtype=np.float32)\n",
    "            for i in range(len(hog_desc)):\n",
    "                one_fv[i] = hog_desc[i][0]\n",
    "            one_fv = np.reshape(one_fv, [-1, len(hog_desc)])\n",
    "            result = svm.predict(one_fv)[1]\n",
    "            if result[0][0] > 0:\n",
    "                sum_x += (col-32)\n",
    "                sum_y += (row-64)\n",
    "                count += 1\n",
    "                # cv.rectangle(test_img, (col-32, row-64), (col+32, row+64), (255, 0, 0), 2, 8, 0)\n",
    "    x = sum_x // count\n",
    "    y = sum_y // count\n",
    "    cv.rectangle(test_img, (x, y), (x+64, y+128), (0, 0, 255), 2, 8, 0)\n",
    "    cv.imshow(\"result\", test_img)\n",
    "    cv.waitKey(0)\n",
    "    cv.destroyAllWindows()\n"
   ]
  }
 ],
 "metadata": {
  "kernelspec": {
   "display_name": "Python 3",
   "language": "python",
   "name": "python3"
  },
  "language_info": {
   "codemirror_mode": {
    "name": "ipython",
    "version": 3
   },
   "file_extension": ".py",
   "mimetype": "text/x-python",
   "name": "python",
   "nbconvert_exporter": "python",
   "pygments_lexer": "ipython3",
   "version": "3.7.6"
  }
 },
 "nbformat": 4,
 "nbformat_minor": 4
}
