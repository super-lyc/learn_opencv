{
 "cells": [
  {
   "cell_type": "raw",
   "metadata": {},
   "source": [
    "提取最大轮廓的面积，做一些计算，其实在图像二值化的时候，我们需要考虑下面的因素，二值化方法选择：\n",
    "全局阈值二值化\n",
    "基于形态学梯度二值化\n",
    "inRange二值化\n",
    "基于Canny边缘二值化\n",
    "自适应二值化"
   ]
  },
  {
   "cell_type": "raw",
   "metadata": {},
   "source": [
    "得到二值图像，然后进行轮廓分析，根据面积寻找最大轮廓，然后根据轮廓进行多边形逼近，获得轮廓关键点，最后可以绘制轮廓与关键点。"
   ]
  },
  {
   "cell_type": "code",
   "execution_count": 1,
   "metadata": {},
   "outputs": [
    {
     "name": "stdout",
     "output_type": "stream",
     "text": [
      "[[[1594  620]]\n",
      "\n",
      " [[1588  627]]\n",
      "\n",
      " [[1593  634]]\n",
      "\n",
      " ...\n",
      "\n",
      " [[1615  632]]\n",
      "\n",
      " [[1612  625]]\n",
      "\n",
      " [[1606  630]]]\n"
     ]
    }
   ],
   "source": [
    "import cv2 as cv\n",
    "import numpy as np\n",
    "\n",
    "file=r'C:\\Users\\luo yong chen\\Pictures\\xingyun.jpg'\n",
    "src=cv.imread(file)\n",
    "cv.namedWindow(\"input\", cv.WINDOW_AUTOSIZE)\n",
    "cv.imshow(\"input\", src)\n",
    "\n",
    "# 图像二值化\n",
    "# src = cv.GaussianBlur(src, (5, 5), 0)\n",
    "gray = cv.cvtColor(src, cv.COLOR_BGR2GRAY)\n",
    "ret, binary = cv.threshold(gray, 0, 255, cv.THRESH_BINARY | cv.THRESH_OTSU)\n",
    "\n",
    "se = cv.getStructuringElement(cv.MORPH_RECT, (3, 3), (-1, -1))\n",
    "binary = cv.morphologyEx(binary, cv.MORPH_OPEN, se)\n",
    "cv.imshow(\"binary\", binary)\n",
    "cv.imwrite(\"D:/xingyun_binary.png\",binary)\n",
    "\n",
    "# 轮廓提取\n",
    "contours, hierarchy = cv.findContours(binary, cv.RETR_LIST, cv.CHAIN_APPROX_SIMPLE)\n",
    "height, width = src.shape[:2]\n",
    "index = 0\n",
    "max = 0\n",
    "for c in range(len(contours)):\n",
    "    x, y, w, h = cv.boundingRect(contours[c])\n",
    "    if h >=height or w >= width:\n",
    "        continue\n",
    "    area = cv.contourArea(contours[c])\n",
    "    if area > max:\n",
    "        max = area\n",
    "        index = c\n",
    "\n",
    "# 绘制轮廓关键点与轮廓\n",
    "result = np.zeros(src.shape, dtype=np.uint8)\n",
    "keypts = cv.approxPolyDP(contours[index], 4, True)\n",
    "cv.drawContours(src, contours, index, (0, 0, 255), 1, 8)\n",
    "cv.drawContours(result, contours, index, (0, 0, 255), 1, 8)\n",
    "print(keypts)\n",
    "for pt in keypts:\n",
    "    cv.circle(src, (pt[0][0], pt[0][1]), 2, (0, 255, 0), 2, 8, 0)\n",
    "    cv.circle(result, (pt[0][0], pt[0][1]), 2, (0, 255, 0), 2, 8, 0)\n",
    "cv.imshow(\"result\", result)\n",
    "cv.imshow(\"output\", src)\n",
    "cv.imwrite(\"D:/xingyun.png\",src)\n",
    "cv.waitKey(0)\n",
    "cv.destroyAllWindows()"
   ]
  },
  {
   "cell_type": "code",
   "execution_count": null,
   "metadata": {},
   "outputs": [],
   "source": []
  }
 ],
 "metadata": {
  "kernelspec": {
   "display_name": "Python 3",
   "language": "python",
   "name": "python3"
  },
  "language_info": {
   "codemirror_mode": {
    "name": "ipython",
    "version": 3
   },
   "file_extension": ".py",
   "mimetype": "text/x-python",
   "name": "python",
   "nbconvert_exporter": "python",
   "pygments_lexer": "ipython3",
   "version": "3.7.4"
  }
 },
 "nbformat": 4,
 "nbformat_minor": 4
}
