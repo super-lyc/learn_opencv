{
 "cells": [
  {
   "cell_type": "raw",
   "metadata": {},
   "source": [
    "提取指定的轮廓"
   ]
  },
  {
   "cell_type": "code",
   "execution_count": 2,
   "metadata": {},
   "outputs": [],
   "source": [
    "import cv2 as cv\n",
    "import numpy as np\n",
    "\n",
    "file=r'C:\\Users\\luo yong chen\\Pictures\\ce_02.jpg'\n",
    "src=cv.imread(file)\n",
    "cv.namedWindow(\"input\", cv.WINDOW_AUTOSIZE)\n",
    "cv.imshow(\"input\", src)\n",
    "\n",
    "# 图像二值化\n",
    "gray = cv.cvtColor(src, cv.COLOR_BGR2GRAY)\n",
    "ret, binary = cv.threshold(gray, 0, 255, cv.THRESH_BINARY_INV | cv.THRESH_OTSU)\n",
    "\n",
    "se = cv.getStructuringElement(cv.MORPH_RECT, (3, 3), (-1, -1))\n",
    "binary = cv.morphologyEx(binary, cv.MORPH_OPEN, se)\n",
    "cv.imshow(\"binary\", binary)\n",
    "\n",
    "# 轮廓提取\n",
    "contours, hierarchy = cv.findContours(binary, cv.RETR_LIST, cv.CHAIN_APPROX_SIMPLE)\n",
    "height, width = src.shape[:2]\n",
    "for c in range(len(contours)):\n",
    "    x, y, w, h = cv.boundingRect(contours[c])\n",
    "    area = cv.contourArea(contours[c])\n",
    "    if h > (height//2):\n",
    "        continue\n",
    "    if area < 150:\n",
    "        continue\n",
    "    cv.rectangle(src, (x, y), (x+w, y+h), (0, 0, 255), 1, 8, 0)\n",
    "    cv.drawContours(src, contours, c, (0, 255, 0), 2, 8)\n",
    "\n",
    "cv.imshow(\"result\", src)\n",
    "cv.waitKey(0)\n",
    "cv.destroyAllWindows()"
   ]
  },
  {
   "cell_type": "code",
   "execution_count": null,
   "metadata": {},
   "outputs": [],
   "source": []
  }
 ],
 "metadata": {
  "kernelspec": {
   "display_name": "Python 3",
   "language": "python",
   "name": "python3"
  },
  "language_info": {
   "codemirror_mode": {
    "name": "ipython",
    "version": 3
   },
   "file_extension": ".py",
   "mimetype": "text/x-python",
   "name": "python",
   "nbconvert_exporter": "python",
   "pygments_lexer": "ipython3",
   "version": "3.7.4"
  }
 },
 "nbformat": 4,
 "nbformat_minor": 4
}
