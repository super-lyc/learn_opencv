{
 "cells": [
  {
   "cell_type": "raw",
   "metadata": {},
   "source": [
    "假设我们已经寻找到合适的阈值T，那么对图像二值化分割可以看成是一种基本的阈值化操作，其实OpenCV除了支持正常的二值化阈值分割操作之外，还支持一些其它的阈值操作，"
   ]
  },
  {
   "cell_type": "raw",
   "metadata": {},
   "source": [
    "ret,dst=threshold(src, thresh, maxval, type)\n",
    "   \n",
    "ret=thresh\n",
    "dst为阈值化之后的灰度图\n",
    "src:输入灰度图\n",
    "thresh：阈值\n",
    "maxval:最大像素值\n",
    "type:阈值分割方法\n",
    "\n",
    "其中type表示阈值分割的方法，支持如下五种：\n",
    "THRESH_BINARY = 0  二值分割，大于阈值取maxval，小于阈值取0\n",
    "THRESH_BINARY_INV = 1 反向二值分割，大于阈值取0，小于阈值取maxval\n",
    "THRESH_TRUNC = 2 截断，大于阈值的取阈值，小于阈值的取原来的像素值\n",
    "THRESH_TOZERO = 3 取零，大于阈值的取原来像素值，小于阈值的取0\n",
    "THRESH_TOZERO_INV = 4 反向取零，大于阈值的取0，小于阈值的取原来的像素值"
   ]
  },
  {
   "cell_type": "code",
   "execution_count": 1,
   "metadata": {},
   "outputs": [
    {
     "name": "stdout",
     "output_type": "stream",
     "text": [
      "127.0\n",
      "127.0\n",
      "127.0\n",
      "127.0\n",
      "127.0\n"
     ]
    }
   ],
   "source": [
    "import cv2 as cv\n",
    "import numpy as np\n",
    "#\n",
    "# THRESH_BINARY = 0\n",
    "# THRESH_BINARY_INV = 1\n",
    "# THRESH_TRUNC = 2\n",
    "# THRESH_TOZERO = 3\n",
    "# THRESH_TOZERO_INV = 4\n",
    "#\n",
    "file=r'C:\\Users\\luo yong chen\\Pictures\\master.jpg'\n",
    "src=cv.imread(file)  \n",
    "cv.namedWindow(\"input\", cv.WINDOW_AUTOSIZE)\n",
    "cv.imshow(\"input\", src)\n",
    "\n",
    "T = 127     #设置一个阈值\n",
    "\n",
    "# 转换为灰度图像\n",
    "gray = cv.cvtColor(src, cv.COLOR_BGR2GRAY)\n",
    "#分别采用5种阈值操作方法\n",
    "for i in range(5):\n",
    "    ret, binary = cv.threshold(gray,T, 255, i)#返回两个值，rets是表示threshold之后返回的方法，binary是表示阈值操作之后的图像\n",
    "    cv.imshow(\"binary_\" + str(i), binary)\n",
    "    print(ret)\n",
    "\n",
    "cv.waitKey(0)\n",
    "cv.destroyAllWindows()"
   ]
  },
  {
   "cell_type": "code",
   "execution_count": null,
   "metadata": {},
   "outputs": [],
   "source": []
  }
 ],
 "metadata": {
  "kernelspec": {
   "display_name": "Python 3",
   "language": "python",
   "name": "python3"
  },
  "language_info": {
   "codemirror_mode": {
    "name": "ipython",
    "version": 3
   },
   "file_extension": ".py",
   "mimetype": "text/x-python",
   "name": "python",
   "nbconvert_exporter": "python",
   "pygments_lexer": "ipython3",
   "version": "3.7.4"
  }
 },
 "nbformat": 4,
 "nbformat_minor": 4
}
