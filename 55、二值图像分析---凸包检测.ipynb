{
 "cells": [
  {
   "cell_type": "raw",
   "metadata": {},
   "source": [
    "对二值图像进行轮廓分析之后，对获取到的每个轮廓数据，可以构建每个轮廓的凸包，构建完成之后会返回该凸包包含的点集。根据返回的凸包点集可以绘制该轮廓对应的凸包，这个凸包是几何上的概念。在图像处理过程中，我们常常需要寻找图像中包围某个物体的凸包。凸包跟多边形逼近很像，只不过它是包围物体最外层的一个凸集，这个凸集是所有能包围这个物体的凸集的交集。寻找图像的凸包，能够让我们做一些有意思的事情，比如手势识别等。"
   ]
  },
  {
   "cell_type": "raw",
   "metadata": {},
   "source": [
    "在二维欧几里得空间中，凸包可以想象为一条刚好包着所有点的橡皮圈，用不严谨的话来讲，给定二维平面上的点集，凸包就是将最外层的点连接起来构成的凸多边形，它能包含点集中所有的点。常见的有Graham’s Scan法和Jarvis步进法。\n",
    "\n",
    "Graham’s Scan法：\n",
    "Graham扫描法通过不断在凸壳中加入新的点和去除影响凸性的点，最后形成凸包。算法的主体由两部分组成，先是排序，然后扫描。\n",
    "（1）点集排序\n",
    "为了得到加入新点的顺序，Graham扫描法的第一步是对点集排序，对杂乱的点集进行梳理，这也是这种算法能够得到更高效的根本原因。排序的方法有极角坐标排序（极角序）和直角坐标排序（水平序）两种方法。在实现的时候，直角坐标排序比较方便。\n",
    "对于极角序，首先选取一个参考点，一般选取横坐标最小的点作为参考点，如果有多个这样的点就从这些点钟选取纵坐标最小的点。\n",
    "这样就决定了参考点的性质：点集中任意两点和参考点锁成的倒角为锐角。\n",
    "极角排序以参考点为极角坐标系原点，根据上述参考点性质，可以设所有点的极角均在（-90,90]之间。\n",
    "（2）栈扫描\n",
    "Graham扫描用的栈，其核心思想是按照拍好的序一次加入新点得到的边，边的寻找符合左旋判定。如果和上一条边成左转关系就压栈继续，如果右转就出栈直到和栈顶两点的边成左转关系，压栈继续。"
   ]
  },
  {
   "cell_type": "raw",
   "metadata": {},
   "source": [
    "hull = cv2.convexHull(points[, hull[, clockwise[, returnPoints]]\n",
    "points 我们要传入的轮廓\n",
    "hull 输出，通常不需要\n",
    "clockwise 方向标志。如果设置为 True，输出的凸包是顺时针方向的。否则为逆时针方向。\n",
    "returnPoints 默认值为 True。它会返回凸包上点的坐标。如果设置为 False，就会返回与凸包点对应的轮廓上的点。\n",
    "\n",
    "OpenCV中还提供了另外一个API函数用来判断一个轮廓是否为凸包，该方法如下：\n",
    "k = cv2.isContourConvex(cnt)\n",
    "该方法只有一个输入参数就是轮廓点集,只返回True或False"
   ]
  },
  {
   "cell_type": "code",
   "execution_count": 8,
   "metadata": {},
   "outputs": [
    {
     "name": "stdout",
     "output_type": "stream",
     "text": [
      "28\n",
      "[[[438 295]]\n",
      "\n",
      " [[436 299]]\n",
      "\n",
      " [[356 399]]\n",
      "\n",
      " [[313 451]]\n",
      "\n",
      " [[249 520]]\n",
      "\n",
      " [[152 520]]\n",
      "\n",
      " [[121 442]]\n",
      "\n",
      " [[113 421]]\n",
      "\n",
      " [[109 409]]\n",
      "\n",
      " [[106 397]]\n",
      "\n",
      " [[100 371]]\n",
      "\n",
      " [[ 97 356]]\n",
      "\n",
      " [[ 75 219]]\n",
      "\n",
      " [[ 74 212]]\n",
      "\n",
      " [[ 74 202]]\n",
      "\n",
      " [[ 75 199]]\n",
      "\n",
      " [[ 77 195]]\n",
      "\n",
      " [[126 126]]\n",
      "\n",
      " [[132 120]]\n",
      "\n",
      " [[173  80]]\n",
      "\n",
      " [[177  77]]\n",
      "\n",
      " [[181  75]]\n",
      "\n",
      " [[192  75]]\n",
      "\n",
      " [[252 103]]\n",
      "\n",
      " [[255 105]]\n",
      "\n",
      " [[434 283]]\n",
      "\n",
      " [[436 285]]\n",
      "\n",
      " [[438 289]]]\n",
      "convex :  False\n"
     ]
    }
   ],
   "source": [
    "import cv2 as cv\n",
    "import numpy as np\n",
    "\n",
    "file=r'C:\\Users\\luo yong chen\\Pictures\\hand.jpg'\n",
    "src=cv.imread(file1)\n",
    "cv.namedWindow(\"input\", cv.WINDOW_AUTOSIZE)\n",
    "cv.imshow(\"input\", src)\n",
    "gray = cv.cvtColor(src, cv.COLOR_BGR2GRAY)\n",
    "ret, binary = cv.threshold(gray, 0, 255, cv.THRESH_BINARY | cv.THRESH_OTSU)\n",
    "k = cv.getStructuringElement(cv.MORPH_RECT, (3, 3))\n",
    "binary = cv.morphologyEx(binary, cv.MORPH_OPEN, k)\n",
    "cv.imshow(\"binary\", binary)\n",
    "\n",
    "# 轮廓发现\n",
    "out, contours, hierarchy = cv.findContours(binary, cv.RETR_EXTERNAL, cv.CHAIN_APPROX_SIMPLE)\n",
    "for c in range(len(contours)):\n",
    "    ret = cv.isContourConvex(contours[c])\n",
    "    points = cv.convexHull(contours[c])             #points是三维数组\n",
    "    total = len(points)\n",
    "    for i in range(len(points)):\n",
    "        x1, y1 = points[i%total][0]\n",
    "        x2, y2 = points[(i+1)%total][0]\n",
    "        cv.circle(src, (x1, y1), 4, (255, 0, 0), 2, 8, 0)\n",
    "        cv.line(src, (x1, y1), (x2, y2), (0, 0, 255), 2, 8, 0)\n",
    "    print(total)           #输出最外层的点的个数\n",
    "    print(points)          #输出最外层的点的坐标\n",
    "    print(\"convex : \", ret)\n",
    "\n",
    "# 显示\n",
    "cv.imshow(\"contours_analysis\", src)\n",
    "cv.waitKey(0)\n",
    "cv.destroyAllWindows()"
   ]
  },
  {
   "cell_type": "code",
   "execution_count": null,
   "metadata": {},
   "outputs": [],
   "source": []
  },
  {
   "cell_type": "code",
   "execution_count": null,
   "metadata": {},
   "outputs": [],
   "source": []
  }
 ],
 "metadata": {
  "kernelspec": {
   "display_name": "Python 3",
   "language": "python",
   "name": "python3"
  },
  "language_info": {
   "codemirror_mode": {
    "name": "ipython",
    "version": 3
   },
   "file_extension": ".py",
   "mimetype": "text/x-python",
   "name": "python",
   "nbconvert_exporter": "python",
   "pygments_lexer": "ipython3",
   "version": "3.7.6"
  }
 },
 "nbformat": 4,
 "nbformat_minor": 4
}
