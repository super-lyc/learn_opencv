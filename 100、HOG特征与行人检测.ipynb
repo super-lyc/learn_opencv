{
 "cells": [
  {
   "cell_type": "raw",
   "metadata": {},
   "source": [
    "HOG是 Histogram of Oriented Gradient 简称, 即 “方向梯度直方图”。相对于SIFT特征提取更简单。HOG(Histogram of Oriented Gradient)特征在对象识别与模式匹配中是一种常见的特征提取算法，是基于本地像素块进行特征直方图提取的一种算法，对于局部的变形与光照影响有很好的稳定性，但是不支持旋转不变性。最初是用HOG特征来来识别人像，通过HOG特征提取+SVM训练，可以得到很好的效果，"
   ]
  },
  {
   "cell_type": "raw",
   "metadata": {},
   "source": [
    " void cv::HOGDescriptor::detectMultiScale( \n",
    " InputArray  img,\n",
    " std::vector< Rect > &   foundLocations\n",
    "double  hitThreshold = 0,\n",
    "Size    winStride = Size(),\n",
    "Size    padding = Size(),\n",
    "double  scale = 1.05, \n",
    "double  finalThreshold = 2.0,\n",
    "bool    useMeanshiftGrouping = false  )\n",
    "Img-表示输入图像 \n",
    "foundLocations-输出结果，表示发现对象矩形框的vector\n",
    "scale表示尺度空间\n",
    "hitThreshold-表示SVM距离度量，默认0表示，表示特征与SVM分类超平面之间\n",
    "winStride-表示窗口步长\n",
    "padding-表示填充 \n",
    "finalThreshold 最终阈值，默认2.0\n",
    "useMeanshiftGrouping 不建议使用"
   ]
  },
  {
   "cell_type": "raw",
   "metadata": {},
   "source": [
    "一般调整scale和winStride"
   ]
  },
  {
   "cell_type": "code",
   "execution_count": 13,
   "metadata": {},
   "outputs": [],
   "source": [
    "import cv2 as cv\n",
    "\n",
    "if __name__ == '__main__':\n",
    "    file=r'C:\\Users\\luo yong chen\\Pictures\\xingren.jpg'#索引图像\n",
    "    src = cv.imread(file)\n",
    "    cv.imshow(\"input\", src)\n",
    "    hog = cv.HOGDescriptor()\n",
    "    hog.setSVMDetector(cv.HOGDescriptor_getDefaultPeopleDetector())\n",
    "    # Detect people in the image\n",
    "    (rects, weights) = hog.detectMultiScale(src,\n",
    "                                            winStride=(4, 4),\n",
    "                                            padding=(8, 8),\n",
    "                                            scale=1.25,\n",
    "                                            useMeanshiftGrouping=False)\n",
    "    for (x, y, w, h) in rects:\n",
    "        cv.rectangle(src, (x, y), (x + w, y + h), (0, 255, 0), 2)\n",
    "\n",
    "    cv.imshow(\"hog-detector\", src)\n",
    "    cv.waitKey(0)\n",
    "    cv.destroyAllWindows()"
   ]
  },
  {
   "cell_type": "code",
   "execution_count": null,
   "metadata": {},
   "outputs": [],
   "source": []
  }
 ],
 "metadata": {
  "kernelspec": {
   "display_name": "Python 3",
   "language": "python",
   "name": "python3"
  },
  "language_info": {
   "codemirror_mode": {
    "name": "ipython",
    "version": 3
   },
   "file_extension": ".py",
   "mimetype": "text/x-python",
   "name": "python",
   "nbconvert_exporter": "python",
   "pygments_lexer": "ipython3",
   "version": "3.7.6"
  }
 },
 "nbformat": 4,
 "nbformat_minor": 4
}
