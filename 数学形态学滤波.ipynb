{
 "cells": [
  {
   "cell_type": "code",
   "execution_count": 2,
   "metadata": {},
   "outputs": [],
   "source": [
    "import cv2 as cv\n",
    "import numpy as np"
   ]
  },
  {
   "cell_type": "code",
   "execution_count": 3,
   "metadata": {},
   "outputs": [],
   "source": [
    "filename=r'C:\\Users\\luoyongchen\\Pictures\\lena.jpg'\n",
    "img=cv.imread(filename)"
   ]
  },
  {
   "cell_type": "code",
   "execution_count": 4,
   "metadata": {},
   "outputs": [],
   "source": [
    "#添加高斯噪声\n",
    "def guass_noise(image,mean=0,var=0.001):\n",
    "    image=np.array(image/255,dtype=float)\n",
    "    noise=np.random.normal(mean,var**0.5,image.shape)\n",
    "    out=image+noise\n",
    "    if out.min()<0:\n",
    "        low_clip=-1.\n",
    "    else:\n",
    "        low_clip=0.\n",
    "    out=np.clip(out,low_clip,1.0)\n",
    "    out=np.uint8(out*255)\n",
    "    #cv.imshow('after guass_noise',out)\n",
    "    return out"
   ]
  },
  {
   "cell_type": "code",
   "execution_count": 5,
   "metadata": {},
   "outputs": [],
   "source": [
    "nimg=guass_noise(img)\n",
    "kernel=cv.getStructuringElement(cv.MORPH_CROSS,(3,3))     #设置结构元素参数\n",
    "eroded=cv.erode(img,kernel)     #腐蚀\n",
    "dilated=cv.dilate(img,kernel)   #膨胀\n",
    "opened=cv.morphologyEx(nimg,cv.MORPH_OPEN,kernel)    #开操作\n",
    "closed=cv.morphologyEx(nimg,cv.MORPH_CLOSE,kernel)   #闭操作"
   ]
  },
  {
   "cell_type": "code",
   "execution_count": 6,
   "metadata": {},
   "outputs": [
    {
     "data": {
      "text/plain": [
       "13"
      ]
     },
     "execution_count": 6,
     "metadata": {},
     "output_type": "execute_result"
    }
   ],
   "source": [
    "cv.imshow('Noised image',nimg)\n",
    "cv.imshow('Eroded image',eroded)\n",
    "cv.imshow('Dilated image',dilated)\n",
    "cv.imshow('Opened image',opened)\n",
    "cv.imshow('Closed image',closed)\n",
    "cv.waitKey()"
   ]
  },
  {
   "cell_type": "markdown",
   "metadata": {},
   "source": [
    "# 梯度、顶帽和黑帽变换"
   ]
  },
  {
   "cell_type": "code",
   "execution_count": 7,
   "metadata": {},
   "outputs": [],
   "source": [
    "gradient=cv.morphologyEx(img,cv.MORPH_GRADIENT,kernel)\n",
    "tophat=cv.morphologyEx(img,cv.MORPH_TOPHAT,kernel)\n",
    "blackhat=cv.morphologyEx(nimg,cv.MORPH_BLACKHAT,kernel)\n",
    "cv.imshow('gradient',gradient)\n",
    "cv.imshow('tophat',tophat)\n",
    "cv.imshow('blacktop',blackhat)\n",
    "cv.waitKey()\n",
    "cv.destroyAllWindows()\n",
    "\n"
   ]
  },
  {
   "cell_type": "code",
   "execution_count": null,
   "metadata": {},
   "outputs": [],
   "source": []
  }
 ],
 "metadata": {
  "kernelspec": {
   "display_name": "Python 3",
   "language": "python",
   "name": "python3"
  },
  "language_info": {
   "codemirror_mode": {
    "name": "ipython",
    "version": 3
   },
   "file_extension": ".py",
   "mimetype": "text/x-python",
   "name": "python",
   "nbconvert_exporter": "python",
   "pygments_lexer": "ipython3",
   "version": "3.7.6"
  }
 },
 "nbformat": 4,
 "nbformat_minor": 4
}
