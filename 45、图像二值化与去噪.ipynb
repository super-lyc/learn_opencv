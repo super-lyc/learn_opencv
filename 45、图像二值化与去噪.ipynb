{
 "cells": [
  {
   "cell_type": "raw",
   "metadata": {},
   "source": [
    "对于一张需要二值化的图像，我们有两种选择\n",
    "选择一\n",
    "直接对输入图像转换为灰度图像，然后二值化\n",
    "选择二\n",
    "首先对输入图像进行降噪，去除噪声干扰，然后再二值化\n",
    "\n",
    "在进行去噪声的时候，还记得前面我们分享的几种去噪声方法，可以选择的有\n",
    "均值模糊去噪声\n",
    "高斯模糊去噪声\n",
    "双边/均值迁移模糊去噪声\n",
    "非局部均值去噪声"
   ]
  },
  {
   "cell_type": "code",
   "execution_count": 1,
   "metadata": {},
   "outputs": [],
   "source": [
    "import cv2 as cv\n",
    "import numpy as np\n",
    "\n",
    "#直接二值化\n",
    "def method_1(image):\n",
    "    gray = cv.cvtColor(image, cv.COLOR_BGR2GRAY)\n",
    "    t, binary = cv.threshold(gray, 0, 255, cv.THRESH_BINARY | cv.THRESH_OTSU)\n",
    "    return binary\n",
    "\n",
    "#先高斯去噪再进行二值化\n",
    "def method_2(image):\n",
    "    blurred = cv.GaussianBlur(image, (3, 3), 0)\n",
    "    gray = cv.cvtColor(blurred, cv.COLOR_BGR2GRAY)\n",
    "    t, binary = cv.threshold(gray, 0, 255, cv.THRESH_BINARY | cv.THRESH_OTSU)\n",
    "    return binary\n",
    "\n",
    "#先均值迁移去噪声再进行二值化\n",
    "def method_3(image):\n",
    "    blurred = cv.pyrMeanShiftFiltering(image, 10, 100)\n",
    "    gray = cv.cvtColor(blurred, cv.COLOR_BGR2GRAY)\n",
    "    t, binary = cv.threshold(gray, 0, 255, cv.THRESH_BINARY | cv.THRESH_OTSU)\n",
    "    return binary\n",
    "\n",
    "\n",
    "file=r'C:\\Users\\luo yong chen\\Pictures\\coins.jpg'\n",
    "src=cv.imread(file)\n",
    "h, w = src.shape[:2]\n",
    "ret1 = method_1(src)\n",
    "ret2 = method_2(src)\n",
    "ret3 = method_3(src)\n",
    "\n",
    "\n",
    "result = np.zeros([2*h, w*2, 3], dtype=src.dtype)\n",
    "result[0:h,0:w,:] = src\n",
    "result[0:h,w:2*w,:] = cv.cvtColor(ret1, cv.COLOR_GRAY2BGR)\n",
    "result[h:2*h,0:w,:] = cv.cvtColor(ret2, cv.COLOR_GRAY2BGR)\n",
    "result[h:2*h,w:2*w,:] = cv.cvtColor(ret3, cv.COLOR_GRAY2BGR)\n",
    "\n",
    "cv.putText(result, \"input\", (10, 30), cv.FONT_ITALIC, 1.0, (0, 0, 255), 2)\n",
    "cv.putText(result, \"diricect binary\", (w+10, 30), cv.FONT_ITALIC, 1.0, (0, 0, 255), 2)\n",
    "cv.putText(result, \"guaassian binary\", (10, 400), cv.FONT_ITALIC, 1.0, (0, 0, 255), 2)\n",
    "cv.putText(result, \"meanshift binary\", (w+10, 400), cv.FONT_ITALIC, 1.0, (0, 0, 255), 2)\n",
    "    \n",
    "cv.imshow(\"result\", result)\n",
    "    \n",
    "    \n",
    "cv.waitKey(0)\n",
    "cv.destroyAllWindows()"
   ]
  },
  {
   "cell_type": "code",
   "execution_count": null,
   "metadata": {},
   "outputs": [],
   "source": []
  }
 ],
 "metadata": {
  "kernelspec": {
   "display_name": "Python 3",
   "language": "python",
   "name": "python3"
  },
  "language_info": {
   "codemirror_mode": {
    "name": "ipython",
    "version": 3
   },
   "file_extension": ".py",
   "mimetype": "text/x-python",
   "name": "python",
   "nbconvert_exporter": "python",
   "pygments_lexer": "ipython3",
   "version": "3.7.6"
  }
 },
 "nbformat": 4,
 "nbformat_minor": 4
}
