{
 "cells": [
  {
   "cell_type": "raw",
   "metadata": {},
   "source": [
    "1、输入图像\n",
    "2、二值化\n",
    "3、轮廓发现，轮廓分析\n",
    "4、轮廓排序\n",
    "5、填充/扩大\n",
    "6、模板对比\n",
    "7、输出结果"
   ]
  },
  {
   "cell_type": "raw",
   "metadata": {},
   "source": [
    "检测刀片是否有缺陷"
   ]
  },
  {
   "cell_type": "code",
   "execution_count": 2,
   "metadata": {},
   "outputs": [
    {
     "name": "stdout",
     "output_type": "stream",
     "text": [
      "[[238, 309, 168, 54], [238, 383, 169, 55], [239, 457, 168, 56], [238, 528, 169, 55]]\n"
     ]
    }
   ],
   "source": [
    "import cv2 as cv\n",
    "import numpy as np\n",
    "\n",
    "#排序，对轮廓从上到下进行排序，考虑y坐标\n",
    "def sort_boxes(rois):\n",
    "    for i in range(0, len(rois)-1, 1):\n",
    "        for j in range(i, len(rois), 1):\n",
    "            x, y, w, h = rois[j]\n",
    "            if y < rois[i][1]:\n",
    "                bx, by, bw, bh = rois[i]\n",
    "                rois[i] = [x, y, w, h]\n",
    "                rois[j] = [bx, by, bw, bh]\n",
    "    return rois;\n",
    "\n",
    "def get_template(binary, boxes):\n",
    "    x, y, w, h = boxes[0]\n",
    "    roi = binary[y:y+h, x:x+w]\n",
    "    return roi\n",
    "\n",
    "def detect_defect(binary, boxes, tpl):\n",
    "    height, width = tpl.shape\n",
    "    index = 1\n",
    "    defect_rois = []\n",
    "    # 发现缺失\n",
    "    for x, y, w, h in boxes:\n",
    "        roi = binary[y:y + h, x:x + w]\n",
    "        roi = cv.resize(roi, (width, height))\n",
    "        mask = cv.subtract(tpl, roi)\n",
    "        se = cv.getStructuringElement(cv.MORPH_RECT, (5, 5), (-1, -1))\n",
    "        mask = cv.morphologyEx(mask, cv.MORPH_OPEN, se)\n",
    "        ret, mask = cv.threshold(mask, 0, 255, cv.THRESH_BINARY)\n",
    "        count = 0\n",
    "        for row in range(height):\n",
    "            for col in range(width):\n",
    "                pv = mask[row, col]\n",
    "                if pv == 255:\n",
    "                    count += 1\n",
    "        if count > 0:\n",
    "            defect_rois.append([x, y, w, h])\n",
    "        #cv.imwrite(\"D:/mask%d.png\"%index, mask)\n",
    "        index += 1\n",
    "    return defect_rois\n",
    "\n",
    "file=r'C:\\Users\\luo yong chen\\Pictures\\ce_02.jpg'\n",
    "src=cv.imread(file)\n",
    "cv.namedWindow(\"input\", cv.WINDOW_AUTOSIZE)\n",
    "cv.imshow(\"input\", src)\n",
    "\n",
    "# 图像二值化\n",
    "gray = cv.cvtColor(src, cv.COLOR_BGR2GRAY)\n",
    "ret, binary = cv.threshold(gray, 0, 255, cv.THRESH_BINARY_INV | cv.THRESH_OTSU)\n",
    "\n",
    "se = cv.getStructuringElement(cv.MORPH_RECT, (3, 3), (-1, -1))\n",
    "binary = cv.morphologyEx(binary, cv.MORPH_OPEN, se)\n",
    "cv.imshow(\"binary\", binary)\n",
    "\n",
    "# 轮廓提取\n",
    "contours, hierarchy = cv.findContours(binary, cv.RETR_LIST, cv.CHAIN_APPROX_SIMPLE)\n",
    "height, width = src.shape[:2]\n",
    "rects = []#list类型\n",
    "for c in range(len(contours)):\n",
    "    x, y, w, h = cv.boundingRect(contours[c])\n",
    "    area = cv.contourArea(contours[c])\n",
    "    if h > (height//2):\n",
    "        continue\n",
    "    if area < 150:\n",
    "        continue\n",
    "    rects.append([x, y, w, h])\n",
    "\n",
    "# 排序轮廓\n",
    "rects = sort_boxes(rects)\n",
    "print(rects)\n",
    "template = get_template(binary, rects);\n",
    "\n",
    "# 填充边缘\n",
    "for c in range(len(contours)):\n",
    "    x, y, w, h = cv.boundingRect(contours[c])\n",
    "    area = cv.contourArea(contours[c])\n",
    "    if h > (height//2):\n",
    "        continue\n",
    "    if area < 150:\n",
    "        continue\n",
    "    cv.drawContours(binary, contours, c, (0), 2, 8)\n",
    "    cv.imshow(\"template\", template)\n",
    "\n",
    "# 检测缺陷\n",
    "defect_boxes = detect_defect(binary, rects, template)\n",
    "for dx, dy, dw, dh in defect_boxes:\n",
    "    cv.rectangle(src, (dx, dy), (dx + dw, dy + dh), (0, 0, 255), 1, 8, 0)\n",
    "    cv.putText(src, \"bad\", (dx, dy), cv.FONT_HERSHEY_PLAIN, 1.0, (0, 255, 0), 2)\n",
    "\n",
    "index = 1\n",
    "for dx, dy, dw, dh in rects:\n",
    "    cv.putText(src, \"num:%d\"%index, (dx-40, dy+15), cv.FONT_HERSHEY_PLAIN, 1.0, (255, 0, 0), 1)\n",
    "    index += 1\n",
    "\n",
    "cv.imshow(\"result\", src)\n",
    "#cv.imwrite(\"D:/detect_boxes.png\", src)\n",
    "\n",
    "cv.waitKey(0)\n",
    "cv.destroyAllWindows()"
   ]
  },
  {
   "cell_type": "code",
   "execution_count": null,
   "metadata": {},
   "outputs": [],
   "source": []
  }
 ],
 "metadata": {
  "kernelspec": {
   "display_name": "Python 3",
   "language": "python",
   "name": "python3"
  },
  "language_info": {
   "codemirror_mode": {
    "name": "ipython",
    "version": 3
   },
   "file_extension": ".py",
   "mimetype": "text/x-python",
   "name": "python",
   "nbconvert_exporter": "python",
   "pygments_lexer": "ipython3",
   "version": "3.7.4"
  }
 },
 "nbformat": 4,
 "nbformat_minor": 4
}
