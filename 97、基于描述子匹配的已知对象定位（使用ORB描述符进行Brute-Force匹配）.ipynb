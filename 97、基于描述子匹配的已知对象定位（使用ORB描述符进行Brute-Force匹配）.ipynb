{
 "cells": [
  {
   "cell_type": "raw",
   "metadata": {},
   "source": [
    "图像特征点检测、描述子生成以后，就可以通过OpenCV提供的描述子匹配算法，得到描述子直接的距离，距离越小的说明是匹配越好的，设定一个距离阈值，一般是最大匹配距离的1/5～1/4左右作为阈值，得到所有小于阈值的匹配点，作为输入，通过单应性矩阵，获得这两个点所在平面的变换关系H，根据H使用透视变换就可以根据输入的对象图像获得场景图像中对象位置，最终绘制位置即可。"
   ]
  },
  {
   "cell_type": "code",
   "execution_count": 16,
   "metadata": {},
   "outputs": [],
   "source": [
    "import cv2 as cv\n",
    "import numpy as np\n",
    "\n",
    "file1=r'C:\\Users\\luo yong chen\\Pictures\\box.png'#索引图像\n",
    "box = cv.imread(file1)\n",
    "file2 =r'C:\\Users\\luo yong chen\\Pictures\\box_in_scene.png'#训练图像\n",
    "box_in_scene = cv.imread(file2)\n",
    "cv.imshow(\"box\", box)\n",
    "cv.imshow(\"box_in_sence\", box_in_scene)\n",
    "\n",
    "# 创建ORB特征检测器\n",
    "orb = cv.ORB_create()\n",
    "kp1, des1 = orb.detectAndCompute(box,None)\n",
    "kp2, des2 = orb.detectAndCompute(box_in_scene,None)\n",
    "\n",
    "# 暴力匹配\n",
    "bf = cv.BFMatcher(cv.NORM_HAMMING, crossCheck=True)\n",
    "matches = bf.match(des1,des2)\n",
    "\n",
    "# 绘制匹配\n",
    "matches = sorted(matches, key = lambda x:x.distance)#根据距离进行排序，找出10个最小的距离，即是最好的匹配\n",
    "result = cv.drawMatches(box, kp1, box_in_scene, kp2, matches[:10], None)\n",
    "#cv.imshow(\"orb-match\", result)#绘制前10的匹配项\n",
    "\n",
    "#根据Lowe的比率测试存储所有符合条件的匹配项\n",
    "good=[]\n",
    "for m in matches:\n",
    "    good.append(m)\n",
    "\n",
    "#找出透视变换矩阵\n",
    "src_pts = np.float32([ kp1[m.queryIdx].pt for m in good ]).reshape(-1,1,2)\n",
    "dst_pts = np.float32([ kp2[m.trainIdx].pt for m in good ]).reshape(-1,1,2)\n",
    "M, mask = cv.findHomography(src_pts, dst_pts, cv.RANSAC,5.0)\n",
    "matchesMask = mask.ravel().tolist()\n",
    "h,w,d = box.shape\n",
    "\n",
    "#获取box中的四个点\n",
    "pts = np.float32([ [0,0],[0,h-1],[w-1,h-1],[w-1,0] ]).reshape(-1,1,2)\n",
    "#进行透视变换\n",
    "dst = cv.perspectiveTransform(pts,M)\n",
    "box_in_scene = cv.polylines(box_in_scene,[np.int32(dst)],True,(0,255,0),3, cv.LINE_AA)\n",
    "\n",
    "draw_params = dict(matchColor = (0,255,0), # 用绿色绘制匹配\n",
    "singlePointColor = None,\n",
    "matchesMask = matchesMask, # 只绘制内部点\n",
    "                   flags = 2)\n",
    "image3=cv.drawMatches(box, kp1, box_in_scene, kp2,good,None,**draw_params)\n",
    "cv.imshow('result',image3)\n",
    "\n",
    "cv.waitKey(0)\n",
    "cv.destroyAllWindows()"
   ]
  },
  {
   "cell_type": "code",
   "execution_count": null,
   "metadata": {},
   "outputs": [],
   "source": []
  }
 ],
 "metadata": {
  "kernelspec": {
   "display_name": "Python 3",
   "language": "python",
   "name": "python3"
  },
  "language_info": {
   "codemirror_mode": {
    "name": "ipython",
    "version": 3
   },
   "file_extension": ".py",
   "mimetype": "text/x-python",
   "name": "python",
   "nbconvert_exporter": "python",
   "pygments_lexer": "ipython3",
   "version": "3.7.6"
  }
 },
 "nbformat": 4,
 "nbformat_minor": 4
}
