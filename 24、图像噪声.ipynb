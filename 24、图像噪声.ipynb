{
 "cells": [
  {
   "cell_type": "raw",
   "metadata": {},
   "source": [
    "图像噪声产生的原因很复杂，\n",
    "有的可能是数字信号在传输过程中发生了丢失或者受到干扰，\n",
    "有的是成像设备或者环境本身导致成像质量不稳定，\n",
    "反应到图像上就是图像的亮度与颜色呈现某种程度的不一致性。\n",
    "从噪声的类型上，常见的图像噪声可以分为如下几种："
   ]
  },
  {
   "cell_type": "raw",
   "metadata": {},
   "source": [
    "- 椒盐噪声， \n",
    "是一种随机在图像中出现的稀疏分布的黑白像素点， 对椒盐噪声一种有效的去噪手段就是图像中值滤波"
   ]
  },
  {
   "cell_type": "raw",
   "metadata": {},
   "source": [
    "- 高斯噪声/符合高斯分布\n",
    "一般会在数码相机的图像采集(acquisition)阶段发生,这个时候它的物理/电/光等各种信号都可能导致产生高斯分布噪声。"
   ]
  },
  {
   "cell_type": "raw",
   "metadata": {},
   "source": [
    "- 均匀分布噪声\n",
    "均匀/规则噪声一般都是因为某些规律性的错误导致的"
   ]
  },
  {
   "cell_type": "code",
   "execution_count": 1,
   "metadata": {},
   "outputs": [],
   "source": [
    "import cv2 as cv\n",
    "import numpy as np\n",
    "\n",
    "#生成椒盐噪声\n",
    "def add_salt_pepper_noise(image):\n",
    "    h, w = image.shape[:2]\n",
    "    nums = 10000\n",
    "    rows = np.random.randint(0, h, nums, dtype=np.int)\n",
    "    cols = np.random.randint(0, w, nums, dtype=np.int)\n",
    "    for i in range(nums):\n",
    "        if i % 2 == 1:\n",
    "            image[rows[i], cols[i]] = (255, 255, 255)    #生成白色的噪点\n",
    "        else:\n",
    "            image[rows[i], cols[i]] = (0, 0, 0)       #生成黑色的噪点\n",
    "    return image\n",
    "\n",
    "#生成高斯噪声，方法一\n",
    "def gaussian_noise(image):\n",
    "    noise = np.zeros(image.shape, image.dtype)\n",
    "    m = (15, 15, 15)  #均值\n",
    "    s = (30, 30, 30)  #方差\n",
    "    cv.randn(noise, m, s)\n",
    "    dst = cv.add(image, noise)\n",
    "    cv.imshow(\"gaussian noise\", dst)\n",
    "    return dst\n",
    "\n",
    "#生成高斯噪声，方法二\n",
    "def guass_noise(image,mean=0,var=0.001):\n",
    "    image=np.array(image/255,dtype=float)\n",
    "    noise=np.random.normal(mean,var**0.5,image.shape)\n",
    "    out=image+noise\n",
    "    if out.min()<0:\n",
    "        low_clip=-1.\n",
    "    else:\n",
    "        low_clip=0.\n",
    "    out=np.clip(out,low_clip,1.0)\n",
    "    out=np.uint8(out*255)\n",
    "    #cv.imshow('after guass_noise',out)\n",
    "    return out\n",
    "\n",
    "\n",
    "file=r'C:\\Users\\luo yong chen\\Pictures\\cos.jpg'\n",
    "src=cv.imread(file)\n",
    "h, w = src.shape[:2]\n",
    "copy = np.copy(src)\n",
    "copy = add_salt_pepper_noise(copy)\n",
    "\n",
    "result = np.zeros([h, w*2, 3], dtype=src.dtype)\n",
    "result[0:h,0:w,:] = src\n",
    "result[0:h,w:2*w,:] = copy\n",
    "cv.putText(result, \"original image\", (10, 30), cv.FONT_HERSHEY_PLAIN, 2.0, (0, 255, 255), 1)\n",
    "cv.putText(result, \"salt pepper image\", (w+10, 30), cv.FONT_HERSHEY_PLAIN, 2.0, (0, 255, 255), 1)\n",
    "cv.imshow(\"salt pepper noise\", result)\n",
    "cv.imwrite(\"D:/result.png\", result)\n",
    "\n",
    "cv.waitKey(0)\n",
    "cv.destroyAllWindows()"
   ]
  },
  {
   "cell_type": "code",
   "execution_count": null,
   "metadata": {},
   "outputs": [],
   "source": []
  }
 ],
 "metadata": {
  "kernelspec": {
   "display_name": "Python 3",
   "language": "python",
   "name": "python3"
  },
  "language_info": {
   "codemirror_mode": {
    "name": "ipython",
    "version": 3
   },
   "file_extension": ".py",
   "mimetype": "text/x-python",
   "name": "python",
   "nbconvert_exporter": "python",
   "pygments_lexer": "ipython3",
   "version": "3.7.4"
  }
 },
 "nbformat": 4,
 "nbformat_minor": 4
}
