{
 "cells": [
  {
   "cell_type": "raw",
   "metadata": {},
   "source": [
    "HAAR级联检测器，OpenCV中的HAAR级联检测器支持人脸检测、微笑、眼睛与嘴巴检测等，通过加载这些预先训练的HAAR模型数据可以实现相关的对象检测，"
   ]
  },
  {
   "cell_type": "raw",
   "metadata": {},
   "source": [
    "cv.CascadeClassifier::detectMultiScale(\n",
    "\tInputArray \timage,\n",
    "\tstd::vector&lt; Rect &gt; & objects,\n",
    "\tdouble scaleFactor = 1.1,\n",
    "\tint minNeighbors = 3,\n",
    "\tint flags = 0,\n",
    "\tSize minSize = Size(),\n",
    "\tSize maxSize = Size() \n",
    ")\n",
    "各个参数解释如下:\n",
    "Image:输入图像\n",
    "Objects 人脸框\n",
    "ScaleFactor 放缩比率\n",
    "minNeighbors 表示最低相邻矩形框\n",
    "flags 标志项OpenCV3.x以后不用啦，\n",
    "minSize 可以检测的最小人脸\n",
    "maxSize 可以检测的最大人脸"
   ]
  },
  {
   "cell_type": "code",
   "execution_count": 8,
   "metadata": {},
   "outputs": [],
   "source": [
    "import cv2 as cv\n",
    "file=r'C:\\Users\\luo yong chen\\Pictures\\dalao.jpg'\n",
    "src=cv.imread(file)\n",
    "cv.imshow('input image',src)\n",
    "\n",
    "capture = cv.VideoCapture(0)\n",
    "\n",
    "detector = cv.CascadeClassifier(r'E:\\anaconda\\envs\\Asuka\\Library\\etc\\haarcascades\\haarcascade_frontalface_alt.xml')#加载opencv自带的人脸识别检测器\n",
    "while True:\n",
    "    ret, image = capture.read()\n",
    "    if ret is True:\n",
    "        cv.imshow(\"frame\", image)\n",
    "        #进行人脸检测\n",
    "        faces = detector.detectMultiScale(image, scaleFactor=1.05, minNeighbors=1,minSize=(30, 30), maxSize=(120, 120))\n",
    "        #绘制出检测的范围\n",
    "        for x, y, width, height in faces:\n",
    "            cv.rectangle(image, (x, y), (x+width, y+height), (0, 0, 255), 2, cv.LINE_8, 0)\n",
    "        cv.imshow(\"faces\", image)\n",
    "        c = cv.waitKey(50)\n",
    "        if c == 27:\n",
    "            break\n",
    "    else:\n",
    "        break\n",
    "        \n",
    "faces1 = detector.detectMultiScale(src, scaleFactor=1.05, minNeighbors=1,minSize=(30, 30), maxSize=(120, 120))\n",
    "for x, y, width, height in faces1:\n",
    "    cv.rectangle(src, (x, y), (x+width, y+height), (0, 0, 255), 2, cv.LINE_8, 0)\n",
    "cv.imshow(\"faces detect\", src)\n",
    "\n",
    "cv.destroyAllWindows()"
   ]
  }
 ],
 "metadata": {
  "kernelspec": {
   "display_name": "Python 3",
   "language": "python",
   "name": "python3"
  },
  "language_info": {
   "codemirror_mode": {
    "name": "ipython",
    "version": 3
   },
   "file_extension": ".py",
   "mimetype": "text/x-python",
   "name": "python",
   "nbconvert_exporter": "python",
   "pygments_lexer": "ipython3",
   "version": "3.7.6"
  }
 },
 "nbformat": 4,
 "nbformat_minor": 4
}
