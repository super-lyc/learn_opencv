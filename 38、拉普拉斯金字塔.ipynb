{
 "cells": [
  {
   "cell_type": "raw",
   "metadata": {},
   "source": [
    "对输入图像实现金字塔的reduce操作就会生成不同分辨率的图像、对这些图像进行金字塔expand操作，然后使用reduce减去expand之后的结果就会得到图像拉普拉斯金字塔图像。"
   ]
  },
  {
   "cell_type": "raw",
   "metadata": {},
   "source": [
    "数学定义：\n",
    "L(i)=G(i)-UP(G(i+1))@高斯核，其中G(i+1)表示G(i)上一层的图像，UP(G(i+1))表示将图像进行放大(将原图像中的像素的坐标为x,y的像素映射到2x+1,2y+1)即向上取样，@是卷积的意思。\n",
    "可以用opencv直接进行拉普拉斯运算：\n",
    "L(i)=G(i)-PyrUP(G(i+1))"
   ]
  },
  {
   "cell_type": "raw",
   "metadata": {},
   "source": [
    "举例如下：\n",
    "输入图像G(0)\n",
    "金字塔reduce操作生成 G(1), G(2), G(3)\n",
    "拉普拉斯金字塔：\n",
    "L0 = G(0)-expand(G(1))\n",
    "L1 = G(1)-expand(G(2))\n",
    "L2 = G(2)–expand(G(3))\n",
    "\n",
    "G(0)减去expand(G(1))得到的结果就是两次高斯模糊输出的不同，所以L0称为DOG（高斯不同）、它约等于LOG所以又称为拉普拉斯金字塔。所以要求的图像的拉普拉斯金字塔，首先要进行金字塔的reduce操作，然后在通过expand操作，最后相减得到拉普拉斯金字塔图像。"
   ]
  },
  {
   "cell_type": "code",
   "execution_count": 1,
   "metadata": {},
   "outputs": [],
   "source": [
    "import cv2 as cv\n",
    "import numpy as np\n",
    "\n",
    "def laplaian_demo(pyramid_images):\n",
    "    level = len(pyramid_images)\n",
    "    for i in range(level-1, -1, -1):\n",
    "        if (i-1) < 0:\n",
    "            h, w = src.shape[:2]\n",
    "            expand = cv.pyrUp(pyramid_images[i], dstsize=(w, h))\n",
    "            lpls = cv.subtract(src, expand) + 127\n",
    "            cv.imshow(\"lpls_\" + str(i), lpls)\n",
    "        else:\n",
    "            h, w = pyramid_images[i-1].shape[:2]\n",
    "            expand = cv.pyrUp(pyramid_images[i], dstsize=(w, h))\n",
    "            lpls = cv.subtract(pyramid_images[i-1], expand) + 127\n",
    "            cv.imshow(\"lpls_\"+str(i), lpls)\n",
    "\n",
    "def pyramid_up(image, level=3):\n",
    "    temp = image.copy()\n",
    "    # cv.imshow(\"input\", image)\n",
    "    pyramid_images = []\n",
    "    for i in range(level):\n",
    "        dst = cv.pyrDown(temp)\n",
    "        pyramid_images.append(dst)\n",
    "        # cv.imshow(\"pyramid_up_\" + str(i), dst)\n",
    "        temp = dst.copy()\n",
    "    return pyramid_images\n",
    "\n",
    "file=r'C:\\Users\\luo yong chen\\Pictures\\master.jpg'\n",
    "src=cv.imread(file)\n",
    "cv.namedWindow(\"input\", cv.WINDOW_AUTOSIZE)\n",
    "cv.imshow(\"input\", src)\n",
    "# pyramid_up(src)\n",
    "laplaian_demo(pyramid_up(src))\n",
    "\n",
    "cv.waitKey(0)\n",
    "cv.destroyAllWindows()"
   ]
  },
  {
   "cell_type": "code",
   "execution_count": null,
   "metadata": {},
   "outputs": [],
   "source": []
  }
 ],
 "metadata": {
  "kernelspec": {
   "display_name": "Python 3",
   "language": "python",
   "name": "python3"
  },
  "language_info": {
   "codemirror_mode": {
    "name": "ipython",
    "version": 3
   },
   "file_extension": ".py",
   "mimetype": "text/x-python",
   "name": "python",
   "nbconvert_exporter": "python",
   "pygments_lexer": "ipython3",
   "version": "3.7.4"
  }
 },
 "nbformat": 4,
 "nbformat_minor": 4
}
