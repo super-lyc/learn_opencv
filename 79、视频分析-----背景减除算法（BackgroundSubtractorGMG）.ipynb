{
 "cells": [
  {
   "cell_type": "raw",
   "metadata": {},
   "source": [
    "该算法结合了静态背景图片估计和每个像素的贝叶斯分割方法。来源于论文：\n",
    "Visual Tracking of Human Visitors under Variable-Lighting Conditions for a Responsive Audio Art Installation\n",
    "该系统运行了一个成功的音频交互的艺术装置，该装置叫“Are We There Yet?” \n",
    "该方法默认使用前120帧图像进行建模（所以在打开视频的时候你得等一会再把移动的物体放上），使用概率前景分割算法，即使用贝叶斯推断方法来识别一个物体是否是前景。\n",
    "\n",
    "该估计算法是一种自适应的估计方法，新的被观察物体比旧的观察物体有更改的权重，这样可以适应变化的光照。一些形态学吕布的操作，例如闭运算和开运算可以用来去除不想要的噪声。\n",
    "在开始的前几帧当中你会得到一个黑色的窗口。这很适合使用形态学滤波的开运算来去除噪声"
   ]
  },
  {
   "cell_type": "code",
   "execution_count": 2,
   "metadata": {},
   "outputs": [],
   "source": [
    "import numpy as np\n",
    "import cv2\n",
    "\n",
    "file=r'C:\\Users\\luo yong chen\\Pictures\\color_object.mp4'\n",
    "cap= cv2.VideoCapture(file)\n",
    "kernel = cv2.getStructuringElement(cv2.MORPH_ELLIPSE,(3,3))\n",
    "fgbg = cv2.bgsegm.createBackgroundSubtractorGMG()\n",
    "\n",
    "while(1):\n",
    "    ret, frame = cap.read()\n",
    "    if ret is True:\n",
    "        fgmask = fgbg.apply(frame)\n",
    "\n",
    "        cv2.imshow('org',frame)\n",
    "        cv2.imshow('frame',fgmask)\n",
    "        k = cv2.waitKey(30) & 0xff\n",
    "        if k == 27:\n",
    "            break\n",
    "    else:\n",
    "        break\n",
    "\n",
    "cap.release()\n",
    "cv2.destroyAllWindows()"
   ]
  },
  {
   "cell_type": "code",
   "execution_count": null,
   "metadata": {},
   "outputs": [],
   "source": []
  }
 ],
 "metadata": {
  "kernelspec": {
   "display_name": "Python 3",
   "language": "python",
   "name": "python3"
  },
  "language_info": {
   "codemirror_mode": {
    "name": "ipython",
    "version": 3
   },
   "file_extension": ".py",
   "mimetype": "text/x-python",
   "name": "python",
   "nbconvert_exporter": "python",
   "pygments_lexer": "ipython3",
   "version": "3.7.4"
  }
 },
 "nbformat": 4,
 "nbformat_minor": 4
}
