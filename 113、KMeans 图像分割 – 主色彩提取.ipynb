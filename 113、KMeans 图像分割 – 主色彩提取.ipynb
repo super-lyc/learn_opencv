{
 "cells": [
  {
   "cell_type": "raw",
   "metadata": {},
   "source": [
    "KMeans分割会计算出每个聚类的像素平均值，根据这个可以得到图像的主色彩RGB分布成分多少，得到各种色彩在图像中的比重，绘制出图像对应的取色卡！这个方面在纺织与填色方面特别有用！主要步骤显示如下：\n",
    "1.\t读入图像建立KMenas样本\n",
    "2.\t使用KMeans图像分割，指定分类数目\n",
    "3.\t统计各个聚类占总像素比率，根据比率建立色卡（填充色卡）！"
   ]
  },
  {
   "cell_type": "code",
   "execution_count": 4,
   "metadata": {},
   "outputs": [
    {
     "name": "stdout",
     "output_type": "stream",
     "text": [
      "(580, 580, 3)\n",
      "[[  7 169 223]\n",
      " [ 71 120 119]\n",
      " [ 36  41  41]\n",
      " [184 209 210]]\n"
     ]
    }
   ],
   "source": [
    "import numpy as np\n",
    "import cv2 as cv\n",
    "\n",
    "file=r'C:\\Users\\luo yong chen\\Pictures\\flowers.jpg'\n",
    "image = cv.imread(file)\n",
    "cv.imshow(\"input\", image)\n",
    "h, w ,ch = image.shape\n",
    "print(image.shape)\n",
    "# 构建图像数据\n",
    "data = image.reshape((-1,3))\n",
    "data = np.float32(data)\n",
    "\n",
    "# 图像分割\n",
    "criteria = (cv.TERM_CRITERIA_EPS + cv.TERM_CRITERIA_MAX_ITER, 10, 1.0)\n",
    "num_clusters = 4\n",
    "ret,label,center=cv.kmeans(data, num_clusters, None, criteria, num_clusters, cv.KMEANS_RANDOM_CENTERS)\n",
    "\n",
    "# 生成主色彩条形卡片\n",
    "card = np.zeros((50, w, 3), dtype=np.uint8)\n",
    "clusters = np.zeros([4], dtype=np.int32)\n",
    "for i in range(len(label)):\n",
    "    clusters[label[i][0]] += 1\n",
    "clusters = np.float32(clusters) / float(h*w)\n",
    "center = np.int32(center)\n",
    "print(center)\n",
    "x_offset = 0\n",
    "\n",
    "#填充色卡\n",
    "for c in range(num_clusters):\n",
    "    dx = np.int(clusters[c] * w)\n",
    "    b = center[c][0]\n",
    "    g = center[c][1]\n",
    "    r = center[c][2]\n",
    "    cv.rectangle(card, (x_offset, 0), (x_offset+dx, 50), (int(b), int(g), int(r)), -1)#-1表示填充状态\n",
    "    x_offset += dx\n",
    "\n",
    "cv.imshow(\"color table\", card)\n",
    "cv.waitKey(0)\n",
    "cv.destroyAllWindows()"
   ]
  },
  {
   "cell_type": "code",
   "execution_count": null,
   "metadata": {},
   "outputs": [],
   "source": []
  }
 ],
 "metadata": {
  "kernelspec": {
   "display_name": "Python 3",
   "language": "python",
   "name": "python3"
  },
  "language_info": {
   "codemirror_mode": {
    "name": "ipython",
    "version": 3
   },
   "file_extension": ".py",
   "mimetype": "text/x-python",
   "name": "python",
   "nbconvert_exporter": "python",
   "pygments_lexer": "ipython3",
   "version": "3.7.6"
  }
 },
 "nbformat": 4,
 "nbformat_minor": 4
}
