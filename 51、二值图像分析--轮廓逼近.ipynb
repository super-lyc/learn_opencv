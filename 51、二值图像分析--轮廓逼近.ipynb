{
 "cells": [
  {
   "cell_type": "raw",
   "metadata": {},
   "source": [
    "对图像二值图像的每个轮廓，可以使用轮廓逼近，逼近每个轮廓的真实几何形状，从而通过轮廓逼近的输出结果判断一个对象是什么形状。"
   ]
  },
  {
   "cell_type": "raw",
   "metadata": {},
   "source": [
    "approxCurve = cv.approxPolyDP(curve,epsilon , bool closed )\n",
    "curve:表示轮廓曲线\n",
    "epsilon:轮廓逼近的顶点距离真实轮廓曲线的最大距离，该值越小表示越逼近真实轮廓\n",
    "bool close: 表示是否为闭合区域,True为闭合，False为非闭合\n",
    "approxCurve ：表示轮廓逼近输出的顶点数目"
   ]
  },
  {
   "cell_type": "code",
   "execution_count": 2,
   "metadata": {},
   "outputs": [
    {
     "name": "stdout",
     "output_type": "stream",
     "text": [
      "<class 'numpy.ndarray'>\n",
      "6\n",
      "<class 'numpy.ndarray'>\n",
      "16\n",
      "<class 'numpy.ndarray'>\n",
      "4\n",
      "<class 'numpy.ndarray'>\n",
      "3\n"
     ]
    }
   ],
   "source": [
    "import cv2 as cv\n",
    "import numpy as np\n",
    "\n",
    "file=r'C:\\Users\\luo yong chen\\Pictures\\contours.png'\n",
    "src=cv.imread(file)\n",
    "cv.namedWindow(\"input\", cv.WINDOW_AUTOSIZE)\n",
    "cv.imshow(\"input\", src)\n",
    "gray = cv.cvtColor(src, cv.COLOR_BGR2GRAY)\n",
    "ret, binary = cv.threshold(gray, 0, 255, cv.THRESH_BINARY | cv.THRESH_OTSU)\n",
    "\n",
    "# 轮廓发现\n",
    "contours, hierarchy = cv.findContours(binary, cv.RETR_EXTERNAL, cv.CHAIN_APPROX_SIMPLE)\n",
    "for c in range(len(contours)):\n",
    "    rect = cv.minAreaRect(contours[c])\n",
    "    cx, cy = rect[0]\n",
    "    result = cv.approxPolyDP(contours[c], 4, True)\n",
    "    print(type(result))\n",
    "    vertexes = result.shape[0]\n",
    "    if vertexes == 3:\n",
    "        cv.putText(src, \"triangle\", (np.int32(cx), np.int32(cy)),\n",
    "                   cv.FONT_HERSHEY_SIMPLEX, .7, (0, 0, 255), 2, 8);\n",
    "    if vertexes == 4:\n",
    "        cv.putText(src, \"rectangle\", (np.int32(cx), np.int32(cy)),\n",
    "                   cv.FONT_HERSHEY_SIMPLEX, .7, (0, 0, 255), 2, 8);\n",
    "    if vertexes == 6:\n",
    "        cv.putText(src, \"poly\", (np.int32(cx), np.int32(cy)),\n",
    "                   cv.FONT_HERSHEY_SIMPLEX, .7, (0, 0, 255), 2, 8);\n",
    "    if vertexes > 10:\n",
    "        cv.putText(src, \"circle\", (np.int32(cx), np.int32(cy)),\n",
    "                   cv.FONT_HERSHEY_SIMPLEX, .7, (0, 0, 255), 2, 8);\n",
    "    print(vertexes)\n",
    "\n",
    "# 显示\n",
    "cv.imshow(\"contours_analysis\", src)\n",
    "cv.waitKey(0)\n",
    "cv.destroyAllWindows()"
   ]
  },
  {
   "cell_type": "code",
   "execution_count": null,
   "metadata": {},
   "outputs": [],
   "source": []
  }
 ],
 "metadata": {
  "kernelspec": {
   "display_name": "Python 3",
   "language": "python",
   "name": "python3"
  },
  "language_info": {
   "codemirror_mode": {
    "name": "ipython",
    "version": 3
   },
   "file_extension": ".py",
   "mimetype": "text/x-python",
   "name": "python",
   "nbconvert_exporter": "python",
   "pygments_lexer": "ipython3",
   "version": "3.7.4"
  }
 },
 "nbformat": 4,
 "nbformat_minor": 4
}
