{
 "cells": [
  {
   "cell_type": "raw",
   "metadata": {},
   "source": [
    "卷积的作用除了实现图像模糊或者去噪，还可以寻找一张图像上所有梯度信息，这些梯度信息是图像的最原始特征数据，\n",
    "进一步处理之后就可以生成一些比较高级的特征用来表示一张图像实现基于图像特征的匹配，图像分类等应用。\n",
    "Sobel算子是一种很经典的图像梯度提取算子，\n",
    "其本质是基于图像空间域卷积，背后的思想是图像一阶导数算子的理论支持。"
   ]
  },
  {
   "cell_type": "raw",
   "metadata": {},
   "source": [
    "Python:\n",
    "dst = cv.Sobel(src, ddepth, dx, dy[, dst[, ksize[, scale[, delta[, borderType]]]]])\n",
    "src:输入图像\n",
    "ddepth:图像深度  CV_32F\n",
    "dx// 1，X方向 一阶导数\n",
    "dy, // 1，Y方向 一阶导数\n",
    "ksize  // 窗口大小\n",
    "double scale = 1, // 放缩比率，1 表示不变\n",
    "double delta = 0, // 对输出结果图像加上常量值\n",
    "borderType = BORDER_DEFAULT 边缘处理方法"
   ]
  },
  {
   "cell_type": "code",
   "execution_count": 1,
   "metadata": {},
   "outputs": [],
   "source": [
    "import cv2 as cv\n",
    "import numpy as np\n",
    "\n",
    "file=r'C:\\Users\\luo yong chen\\Pictures\\grad.png'\n",
    "src=cv.imread(file)\n",
    "cv.namedWindow(\"input\", cv.WINDOW_AUTOSIZE)\n",
    "cv.imshow(\"input\", src)\n",
    "\n",
    "h, w = src.shape[:2]\n",
    "x_grad = cv.Sobel(src, cv.CV_32F, 1, 0)\n",
    "y_grad = cv.Sobel(src, cv.CV_32F, 0, 1)\n",
    "\n",
    "x_grad = cv.convertScaleAbs(x_grad)\n",
    "y_grad = cv.convertScaleAbs(y_grad)\n",
    "cv.imshow(\"x_grad\", x_grad)\n",
    "cv.imshow(\"y_grad\", y_grad)\n",
    "\n",
    "dst = cv.add(x_grad, y_grad, dtype=cv.CV_16S)#16位数\n",
    "dst = cv.convertScaleAbs(dst)\n",
    "cv.imshow(\"gradient\", dst)\n",
    "\n",
    "result = np.zeros([h, w*2, 3], dtype=src.dtype)\n",
    "result[0:h,0:w,:] = src\n",
    "result[0:h,w:2*w,:] = dst\n",
    "cv.imshow(\"result\", result)\n",
    "#cv.imwrite(\"D:/result1.png\", dst)\n",
    "\n",
    "cv.waitKey(0)\n",
    "cv.destroyAllWindows()"
   ]
  },
  {
   "cell_type": "code",
   "execution_count": null,
   "metadata": {},
   "outputs": [],
   "source": []
  }
 ],
 "metadata": {
  "kernelspec": {
   "display_name": "Python 3",
   "language": "python",
   "name": "python3"
  },
  "language_info": {
   "codemirror_mode": {
    "name": "ipython",
    "version": 3
   },
   "file_extension": ".py",
   "mimetype": "text/x-python",
   "name": "python",
   "nbconvert_exporter": "python",
   "pygments_lexer": "ipython3",
   "version": "3.7.4"
  }
 },
 "nbformat": 4,
 "nbformat_minor": 4
}
