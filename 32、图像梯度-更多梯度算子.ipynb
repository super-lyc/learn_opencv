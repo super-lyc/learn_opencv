{
 "cells": [
  {
   "cell_type": "raw",
   "metadata": {},
   "source": [
    "图像的一阶导数算子除了sobel算子之外，常见的还有robert算子与prewitt算子，\n",
    "它们也都是非常好的可以检测图像的梯度边缘信息，通过OpenCV中自定义滤波器，\n",
    "使用自定义创建的robert与prewitt算子就可以实现图像的rober与prewitt梯度边缘检测，"
   ]
  },
  {
   "cell_type": "raw",
   "metadata": {},
   "source": [
    "dst\t=cv.filter2D(src, ddepth, kernel[, dst[, anchor[, delta[, borderType]]]])\n",
    "使用一阶导数算子的时候，常见的ddepth的取值为-1，表示输出图像与输入图像的深度与类型一致。\n",
    "根据算子的不同，ddepth的取值范围也会不一样，ddepth要跟输出图像的类型相匹配。"
   ]
  },
  {
   "cell_type": "code",
   "execution_count": 1,
   "metadata": {},
   "outputs": [],
   "source": [
    "import cv2 as cv\n",
    "import numpy as np\n",
    "\n",
    "file=r'C:\\Users\\luo yong chen\\Pictures\\grad.png'\n",
    "src=cv.imread(file)\n",
    "cv.namedWindow(\"input\", cv.WINDOW_AUTOSIZE)\n",
    "cv.imshow(\"input\", src)\n",
    "\n",
    "robert_x = np.array([[1, 0],[0, -1]], dtype=np.float32)\n",
    "robert_y = np.array([[0, -1],[1, 0]], dtype=np.float32)\n",
    "\n",
    "prewitt_x = np.array([[-1, 0, 1], [-1, 0, 1], [-1, 0, 1]], dtype=np.float32)\n",
    "prewitt_y = np.array([[-1, -1, -1], [0, 0, 0], [1, 1, 1]], dtype=np.float32)\n",
    "\n",
    "robert_grad_x = cv.filter2D(src, cv.CV_16S, robert_x)\n",
    "robert_grad_y = cv.filter2D(src, cv.CV_16S, robert_y)\n",
    "robert_grad_x = cv.convertScaleAbs(robert_grad_x)\n",
    "robert_grad_y = cv.convertScaleAbs(robert_grad_y)\n",
    "\n",
    "prewitt_grad_x = cv.filter2D(src, cv.CV_32F, prewitt_x)\n",
    "prewitt_grad_y = cv.filter2D(src, cv.CV_32F, prewitt_y)\n",
    "prewitt_grad_x = cv.convertScaleAbs(prewitt_grad_x)\n",
    "prewitt_grad_y = cv.convertScaleAbs(prewitt_grad_y)\n",
    "\n",
    "# cv.imshow(\"robert x\", robert_grad_x);\n",
    "# cv.imshow(\"robert y\", robert_grad_y);\n",
    "# cv.imshow(\"prewitt x\", prewitt_grad_x);\n",
    "# cv.imshow(\"prewitt y\", prewitt_grad_y);\n",
    "\n",
    "h, w = src.shape[:2]\n",
    "robert_result = np.zeros([h, w*2, 3], dtype=src.dtype)\n",
    "robert_result[0:h,0:w,:] = robert_grad_x\n",
    "robert_result[0:h,w:2*w,:] = robert_grad_y\n",
    "cv.imshow(\"robert_result\", robert_result)\n",
    "\n",
    "prewitt_result = np.zeros([h, w*2, 3], dtype=src.dtype)\n",
    "prewitt_result[0:h,0:w,:] = prewitt_grad_x\n",
    "prewitt_result[0:h,w:2*w,:] = prewitt_grad_y\n",
    "cv.imshow(\"prewitt_result\", prewitt_result)\n",
    "\n",
    "cv.imwrite(\"D:/prewitt.png\", prewitt_result)\n",
    "cv.imwrite(\"D:/robert.png\", robert_result)\n",
    "\n",
    "cv.waitKey(0)\n",
    "cv.destroyAllWindows()"
   ]
  },
  {
   "cell_type": "code",
   "execution_count": null,
   "metadata": {},
   "outputs": [],
   "source": []
  }
 ],
 "metadata": {
  "kernelspec": {
   "display_name": "Python 3",
   "language": "python",
   "name": "python3"
  },
  "language_info": {
   "codemirror_mode": {
    "name": "ipython",
    "version": 3
   },
   "file_extension": ".py",
   "mimetype": "text/x-python",
   "name": "python",
   "nbconvert_exporter": "python",
   "pygments_lexer": "ipython3",
   "version": "3.7.4"
  }
 },
 "nbformat": 4,
 "nbformat_minor": 4
}
