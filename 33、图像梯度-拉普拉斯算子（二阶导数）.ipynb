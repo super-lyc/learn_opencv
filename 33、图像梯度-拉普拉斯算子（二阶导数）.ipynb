{
 "cells": [
  {
   "cell_type": "raw",
   "metadata": {},
   "source": [
    "图像的一阶导数算子可以得到图像梯度局部梯度相应值，二阶导数可以通过快速的图像像素值强度的变化来检测图像边缘，\n",
    "其检测图像边缘的原理跟图像的一阶导数有点类似，只是在二阶导数是求X、Y方向的二阶偏导数，对图像来说：\n",
    "X方向的二阶偏导数就是 dx = f(x+1, y) + f(x-1, y) – 2*f(x, y)当前像素值与前后两个像素值的和的差值\n",
    "Y方向的二阶偏导数就是 dy = f(x, y+1) + f(x, y-1) – 2*f(x, y)当前像素值与上下两个像素值的和的差值\n",
    "\n",
    "对X方向与Y方向进行叠加最终就得到delta=dx+dy对应的二阶导数算子，四邻域的二阶导数算子，我们可以进一步扩展增强为八邻域的算子。\n",
    "一阶导的极大值点是二阶导的零点，故找到二阶导的零点便找到一阶导的极值点，一阶导的极值点对应图像像素变化最大的区域，所以找到二阶导的零点相当于找到了图像的边缘"
   ]
  },
  {
   "cell_type": "raw",
   "metadata": {},
   "source": [
    "Python:\n",
    "dst= cv.Laplacian(src, ddepth[, dst[, ksize[, scale[, delta[, borderType]]]] )\n",
    " ddepth, // 深度默认是-1表示输入与输出图像相同\n",
    " ksize = 1,// 必须是奇数， 等于1是四邻域算子，大于1改用八邻域算子\n",
    "double scale = 1,\n",
    "double delta = 0, // 对输出图像加上常量值\n",
    "int borderType = BORDER_DEFAULT"
   ]
  },
  {
   "cell_type": "raw",
   "metadata": {},
   "source": [
    "拉普拉斯算子是一种特别容易受到噪声干扰的边缘发现算子，所以经常对要处理的图像首先进行一个高斯模糊，\n",
    "然后再进行拉普拉斯算子的边缘提取，而且在一些场景中会把这两步合并成为一步，就是我们经常听说的LOG算子。"
   ]
  },
  {
   "cell_type": "code",
   "execution_count": 1,
   "metadata": {},
   "outputs": [],
   "source": [
    "import cv2 as cv\n",
    "import numpy as np\n",
    "\n",
    "file=r'C:\\Users\\luo yong chen\\Pictures\\yuan.png'\n",
    "image=cv.imread(file)\n",
    "cv.namedWindow(\"input\", cv.WINDOW_AUTOSIZE)\n",
    "cv.imshow(\"input\", image)\n",
    "\n",
    "h, w = image.shape[:2]\n",
    "#实际工程中在进行拉普拉斯之前要先进行一下高斯滤波\n",
    "src = cv.GaussianBlur(image, (0, 0), 1) #sigma设置成1，稍微有点模糊\n",
    "dst1 = cv.Laplacian(src, cv.CV_32F, ksize=1, delta=127) #4邻域算子,设置成127是为了将图像变得明亮一些，可以修改比较\n",
    "dst2 = cv.Laplacian(src, cv.CV_32F, ksize=3, delta=127) #8邻域算子\n",
    "dst1 = cv.convertScaleAbs(dst1)\n",
    "dst2 = cv.convertScaleAbs(dst2)\n",
    "result = np.zeros([h, w*3, 3], dtype=image.dtype)\n",
    "result[0:h,0:w,:] = image\n",
    "result[0:h,w:2*w,:] = dst1\n",
    "result[0:h,2*w:3*w,:] = dst2\n",
    "cv.imshow(\"result\", result)\n",
    "#cv.imwrite(\"D:/laplacian.png\", result)\n",
    "\n",
    "cv.waitKey(0)\n",
    "cv.destroyAllWindows()"
   ]
  },
  {
   "cell_type": "code",
   "execution_count": null,
   "metadata": {},
   "outputs": [],
   "source": []
  }
 ],
 "metadata": {
  "kernelspec": {
   "display_name": "Python 3",
   "language": "python",
   "name": "python3"
  },
  "language_info": {
   "codemirror_mode": {
    "name": "ipython",
    "version": 3
   },
   "file_extension": ".py",
   "mimetype": "text/x-python",
   "name": "python",
   "nbconvert_exporter": "python",
   "pygments_lexer": "ipython3",
   "version": "3.7.4"
  }
 },
 "nbformat": 4,
 "nbformat_minor": 4
}
