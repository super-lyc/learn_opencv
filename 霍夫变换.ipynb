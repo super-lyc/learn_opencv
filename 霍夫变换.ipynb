{
 "cells": [
  {
   "cell_type": "code",
   "execution_count": 3,
   "metadata": {},
   "outputs": [],
   "source": [
    "import cv2 as cv\n",
    "import numpy as np"
   ]
  },
  {
   "cell_type": "code",
   "execution_count": 4,
   "metadata": {},
   "outputs": [],
   "source": [
    "filename=r'C:\\Users\\luoyongchen\\Pictures\\lena.jpg'\n",
    "img=cv.imread(filename)"
   ]
  },
  {
   "cell_type": "code",
   "execution_count": 6,
   "metadata": {},
   "outputs": [
    {
     "name": "stdout",
     "output_type": "stream",
     "text": [
      "Line count: 1625\n"
     ]
    }
   ],
   "source": [
    "#累计概率霍夫变换\n",
    "gray=cv.cvtColor(img,cv.COLOR_BGR2GRAY)  \n",
    "ret,thr=cv.threshold(gray,100,255,cv.THRESH_OTSU)   #先转化成二值图像\n",
    "edges=cv.Canny(thr,50,150)\n",
    "disp_edge=cv.cvtColor(edges,cv.COLOR_GRAY2BGR)\n",
    "lines=cv.HoughLinesP(edges,1,1*np.pi/180,10)  #累计概率霍夫变换，p和theta\n",
    "for line in lines:\n",
    "    for x1,y1,x2,y2 in line:\n",
    "    #画出直线,将检测到的直线叠加到边缘检测的结果上\n",
    "        cv.line(disp_edge,(x1,y1),(x2,y2),(0,255,0),1)  \n",
    "    pass\n",
    "\n",
    "print('Line count:',len(lines))\n",
    "    \n"
   ]
  },
  {
   "cell_type": "code",
   "execution_count": 8,
   "metadata": {},
   "outputs": [],
   "source": [
    "cv.imshow('source image',img)\n",
    "cv.imshow('canny image',edges)\n",
    "cv.imshow('disp_edge',disp_edge)\n",
    "cv.waitKey()\n",
    "cv.destroyAllWindows()"
   ]
  },
  {
   "cell_type": "code",
   "execution_count": null,
   "metadata": {},
   "outputs": [],
   "source": []
  }
 ],
 "metadata": {
  "kernelspec": {
   "display_name": "Python 3",
   "language": "python",
   "name": "python3"
  },
  "language_info": {
   "codemirror_mode": {
    "name": "ipython",
    "version": 3
   },
   "file_extension": ".py",
   "mimetype": "text/x-python",
   "name": "python",
   "nbconvert_exporter": "python",
   "pygments_lexer": "ipython3",
   "version": "3.7.6"
  }
 },
 "nbformat": 4,
 "nbformat_minor": 4
}
