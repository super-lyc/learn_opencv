{
 "cells": [
  {
   "cell_type": "raw",
   "metadata": {},
   "source": [
    "1986年，JOHN CANNY 提出一个很好的边缘检测算法，被称为Canny编边缘检测器。\n",
    "Canny边缘检测器是一种经典的图像边缘检测与提取算法，应用广泛，主要是因为Canny边缘检测具备以下特点：\n",
    "1.有效的噪声抑制\n",
    "2.更强的完整边缘提取能力"
   ]
  },
  {
   "cell_type": "raw",
   "metadata": {},
   "source": [
    "Canny算法是如何做到精准的边缘提取的，主要是靠下面五个步骤\n",
    "1.高斯模糊 – 抑制噪声\n",
    "2.梯度提取得到边缘候选，一般采用sobel边缘检测算法\n",
    "3.角度计算与非最大信号抑制\n",
    "4.高低阈值链接、获取完整边缘\n",
    "5.输出边缘"
   ]
  },
  {
   "cell_type": "raw",
   "metadata": {},
   "source": [
    "Canny( image, threshold1,threshold2,apertureSize = 3，L2gradient = false)\n",
    "image:输入图像\n",
    "threshold1:较小的那个阈值\n",
    "threshold2:较大的那个阈值\n",
    "最后的参数是选择梯度计算的方式，分为L1和L2，L1为x方向的绝对值加上y方向的绝对值，L2为x方向的平方与y方向的平方和再开根号，L2方式计算的速度较慢，故默认是L2 false"
   ]
  },
  {
   "cell_type": "code",
   "execution_count": 2,
   "metadata": {},
   "outputs": [],
   "source": [
    "import cv2 as cv\n",
    "import numpy as np\n",
    "\n",
    "file=r'C:\\Users\\luo yong chen\\Pictures\\grad.png'\n",
    "src=cv.imread(file)\n",
    "cv.namedWindow(\"input\", cv.WINDOW_AUTOSIZE)\n",
    "cv.imshow(\"input\", src)\n",
    "\n",
    "# t1 = 100, t2 = 3*t1 = 300\n",
    "edge = cv.Canny(src, 100, 300)#输入可以是三通道也可以是单通道图像，输出是单通道的二值图像\n",
    "cv.imshow(\"mask image\", edge)\n",
    "\n",
    "#因为边缘是二值图像，故可以作为mask来进行与运算。与运算的意思是，mask中只有白色的部分才参与运算，所以可以得到原图中的彩色的边缘，\n",
    "#可以显示彩色的边缘，看起来更酷一些\n",
    "edge_src = cv.bitwise_and(src, src, mask=edge)\n",
    "\n",
    "h, w = src.shape[:2]\n",
    "result = np.zeros([h, w*2, 3], dtype=src.dtype)\n",
    "result[0:h,0:w,:] = src\n",
    "result[0:h,w:2*w,:] = edge_src\n",
    "cv.putText(result, \"original image\", (10, 30), cv.FONT_ITALIC, 1.0, (0, 0, 255), 2)\n",
    "cv.putText(result, \"edge image\", (w+10, 30), cv.FONT_ITALIC, 1.0, (0, 0, 255), 2)\n",
    "cv.imshow(\"edge detector\", result)\n",
    "#cv.imwrite(\"D:/canny.png\", result)\n",
    "\n",
    "cv.waitKey(0)\n",
    "cv.destroyAllWindows()"
   ]
  },
  {
   "cell_type": "code",
   "execution_count": null,
   "metadata": {},
   "outputs": [],
   "source": []
  }
 ],
 "metadata": {
  "kernelspec": {
   "display_name": "Python 3",
   "language": "python",
   "name": "python3"
  },
  "language_info": {
   "codemirror_mode": {
    "name": "ipython",
    "version": 3
   },
   "file_extension": ".py",
   "mimetype": "text/x-python",
   "name": "python",
   "nbconvert_exporter": "python",
   "pygments_lexer": "ipython3",
   "version": "3.7.4"
  }
 },
 "nbformat": 4,
 "nbformat_minor": 4
}
