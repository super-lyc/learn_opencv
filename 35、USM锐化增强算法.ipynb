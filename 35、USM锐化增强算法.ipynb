{
 "cells": [
  {
   "cell_type": "raw",
   "metadata": {},
   "source": [
    "图像卷积处理实现锐化有一种常用的算法叫做Unsharpen Mask方法，这种锐化的方法就是对原图像先做一个高斯模糊，\n",
    "然后用原来的图像减去一个系数乘以高斯模糊之后的图像，然后再把值Scale到0～255的RGB像素值范围之内。\n",
    "基于USM锐化的方法可以去除一些细小的干扰细节和噪声，比一般直接使用卷积锐化算子得到的图像锐化结果更加真实可信。"
   ]
  },
  {
   "cell_type": "raw",
   "metadata": {},
   "source": [
    "USM锐化公式表示如下：\n",
    "（源图像– w*高斯模糊）/（1-w）；其中w表示权重（0.1～0.9），默认为0.6，（1-w）是为了把值scale到0~255"
   ]
  },
  {
   "cell_type": "raw",
   "metadata": {},
   "source": [
    "OpenCV中的代码实现步骤\n",
    "1.高斯模糊\n",
    "2.权重叠加\n",
    "3.输出结果"
   ]
  },
  {
   "cell_type": "code",
   "execution_count": null,
   "metadata": {},
   "outputs": [],
   "source": [
    "cv.addWeighted是将两张相同大小，相同类型的图片融合的函数。他可以实现图片的特效:alpha*src1 + beta*src2 + gamma，\n",
    "参数1：src1，第一个原数组.\n",
    "参数2：alpha，第一个数组元素权重\n",
    "参数3：src2第二个原数组\n",
    "参数4：beta，第二个数组元素权重\n",
    "参数5：gamma，图1与图2作和后添加的数值。不要太大，不然图片一片白。总和等于255以上就是纯白色了。"
   ]
  },
  {
   "cell_type": "code",
   "execution_count": 1,
   "metadata": {},
   "outputs": [],
   "source": [
    "import cv2 as cv\n",
    "import numpy as np\n",
    "file=r'C:\\Users\\luo yong chen\\Pictures\\grad.png'\n",
    "src=cv.imread(file)\n",
    "cv.namedWindow(\"input\", cv.WINDOW_AUTOSIZE)\n",
    "cv.imshow('input',src)\n",
    "# sigma = 5、15、25\n",
    "blur_img1 = cv.GaussianBlur(src, (0, 0), 5)#进行高斯滤波，sigma=5\n",
    "usm1 = cv.addWeighted(src, 1.5, blur_img1, -0.5, 0)\n",
    "blur_img2 = cv.GaussianBlur(src, (0, 0), 15)#sigma=15\n",
    "usm2 = cv.addWeighted(src, 1.5, blur_img2, -0.5, 0)\n",
    "\n",
    "#先用均值滤波再进行权值添加,与高斯的进行比较\n",
    "mean_img = cv.blur(src, (3, 3))\n",
    "usm3 = cv.addWeighted(src,1,mean_img,-0.1,0)\n",
    "\n",
    "h, w = src.shape[:2]\n",
    "result = np.zeros([h, w*3, 3], dtype=src.dtype)\n",
    "result[0:h,0:w,:] = usm1\n",
    "result[0:h,w:2*w,:] = usm2\n",
    "result[0:h,2*w:3*w,:] = usm3\n",
    "\n",
    "\n",
    "cv.putText(result, \"USM sharpen image1\", (10, 30), cv.FONT_ITALIC, 0.5, (0, 0, 255), 2)\n",
    "cv.putText(result, \"USM sharpen image2\", (w+100, 30), cv.FONT_ITALIC, 0.5, (0, 0, 255), 2)\n",
    "cv.putText(result, \"USM sharpen image3\", (w+300, 30), cv.FONT_ITALIC, 0.5, (0, 0, 255), 2)\n",
    "cv.imshow(\"sharpen_image\", result)\n",
    "cv.imwrite(\"D:/USM sharpen image.png\", result)\n",
    "\n",
    "cv.waitKey(0)\n",
    "cv.destroyAllWindows()"
   ]
  },
  {
   "cell_type": "code",
   "execution_count": null,
   "metadata": {},
   "outputs": [],
   "source": []
  }
 ],
 "metadata": {
  "kernelspec": {
   "display_name": "Python 3",
   "language": "python",
   "name": "python3"
  },
  "language_info": {
   "codemirror_mode": {
    "name": "ipython",
    "version": 3
   },
   "file_extension": ".py",
   "mimetype": "text/x-python",
   "name": "python",
   "nbconvert_exporter": "python",
   "pygments_lexer": "ipython3",
   "version": "3.7.4"
  }
 },
 "nbformat": 4,
 "nbformat_minor": 4
}
