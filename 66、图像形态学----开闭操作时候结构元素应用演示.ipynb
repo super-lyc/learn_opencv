{
 "cells": [
  {
   "cell_type": "raw",
   "metadata": {},
   "source": [
    "OpenCV中图像形态学开操作与闭操作，根据结构元素的不同可以实现不同的二值图像处理效果，我们可以通过下面的结构元素对图像进行开操作，提取二值图像中水平与垂直线，这个方法比霍夫直线检测要好用得多， 在一些应用场景中会特别有用，图像分析、OCR布局分析中形态学操作十分重要，我们通过两个例子来说明开闭操作的作用。\n",
    "一，\t开操作提取水平线，实现填空题横线位置提取\n",
    "结构元素大小为20x1\n",
    "第一张图与第二张图，是开操作提取填空题中水平横线的操作，其步骤分为：\n",
    "1.\t转灰度\n",
    "2.\t转二值，可选降噪\n",
    "3.\t形态学操作，提取水平线\n",
    "4.\t轮廓发现，确定位置\n",
    "\n",
    "二，\t闭操作实现不同层次的轮廓填充\n",
    "结构元素分为两种：\n",
    "矩形结构元素25x25大小\n",
    "圆形结构元素15x15大小"
   ]
  },
  {
   "cell_type": "code",
   "execution_count": 5,
   "metadata": {},
   "outputs": [],
   "source": [
    "import cv2 as cv\n",
    "import numpy as np\n",
    "\n",
    "def open_demo():\n",
    "    file=r'C:\\Users\\luo yong chen\\Pictures\\fill.png'\n",
    "    src=cv.imread(file)\n",
    "    cv.namedWindow(\"input\", cv.WINDOW_AUTOSIZE)\n",
    "    cv.imshow(\"input\", src)\n",
    "\n",
    "    # 图像二值化\n",
    "    gray = cv.cvtColor(src, cv.COLOR_BGR2GRAY)\n",
    "    ret, binary = cv.threshold(gray, 0, 255, cv.THRESH_BINARY_INV | cv.THRESH_OTSU)\n",
    "    cv.imshow(\"binary1\", binary)\n",
    "\n",
    "    # 开操作\n",
    "    se1 = cv.getStructuringElement(cv.MORPH_RECT, (20, 1), (-1, -1))\n",
    "    binary = cv.morphologyEx(binary, cv.MORPH_OPEN, se1)\n",
    "    cv.imshow(\"binary\", binary)\n",
    "\n",
    "    # 提取轮廓\n",
    "    out, contours, hierarchy = cv.findContours(binary, cv.RETR_EXTERNAL, cv.CHAIN_APPROX_SIMPLE)\n",
    "    for c in range(len(contours)):\n",
    "        x, y, w, h = cv.boundingRect(contours[c])\n",
    "        y = y - 10\n",
    "        h = 12\n",
    "        cv.rectangle(src, (x, y), (x+w, y+h), (0, 0, 255), 1, 8, 0)\n",
    "        cv.putText(src, \"\" + str(c), (x, y), cv.FONT_HERSHEY_SIMPLEX, .5, (0, 0, 255), 1)\n",
    "    cv.imshow(\"result\", src)\n",
    "\n",
    "\n",
    "def close_demo():\n",
    "    file=r'C:\\Users\\luo yong chen\\Pictures\\morph3.png'\n",
    "    src=cv.imread(file)\n",
    "    cv.namedWindow(\"input\", cv.WINDOW_AUTOSIZE)\n",
    "    cv.imshow(\"input\", src)\n",
    "\n",
    "    # 图像二值化\n",
    "    gray = cv.cvtColor(src, cv.COLOR_BGR2GRAY)\n",
    "    ret, binary = cv.threshold(gray, 0, 255, cv.THRESH_BINARY | cv.THRESH_OTSU)\n",
    "\n",
    "    # 闭操作\n",
    "    se = cv.getStructuringElement(cv.MORPH_ELLIPSE, (15, 15), (-1, -1))\n",
    "    binary = cv.morphologyEx(binary, cv.MORPH_CLOSE, se)\n",
    "    cv.imshow(\"close\", binary)\n",
    "    \n",
    "open_demo()\n",
    "close_demo()\n",
    "cv.waitKey(0)\n",
    "cv.destroyAllWindows()"
   ]
  },
  {
   "cell_type": "code",
   "execution_count": null,
   "metadata": {},
   "outputs": [],
   "source": []
  }
 ],
 "metadata": {
  "kernelspec": {
   "display_name": "Python 3",
   "language": "python",
   "name": "python3"
  },
  "language_info": {
   "codemirror_mode": {
    "name": "ipython",
    "version": 3
   },
   "file_extension": ".py",
   "mimetype": "text/x-python",
   "name": "python",
   "nbconvert_exporter": "python",
   "pygments_lexer": "ipython3",
   "version": "3.7.6"
  }
 },
 "nbformat": 4,
 "nbformat_minor": 4
}
