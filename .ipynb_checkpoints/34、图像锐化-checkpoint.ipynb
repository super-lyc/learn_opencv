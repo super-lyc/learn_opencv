{
 "cells": [
  {
   "cell_type": "raw",
   "metadata": {},
   "source": [
    "图像卷积的主要有三功能分别是图像的模糊/去噪、图像梯度/边缘发现、图像锐化/增强。图像锐化(提高对比度或者提高亮度)的本质是图像拉普拉斯滤波加原图权重像素叠加的输出 ：\n",
    "-1   -1  -1\n",
    "-1    C  -1\n",
    "-1    -1 -1\n",
    " \n",
    "当C值大于8时候表示图像锐化、越接近8表示锐化效果越好\n",
    "当C值等于8时候为图像的高通滤波（找出高对比度的区域，比如角点、边缘），低通滤波器：高斯\n",
    "当C值越大，图像锐化效果在减弱、中心像素的作用在提升（中心像素占的比重越高）\n",
    "当锐化的程度不需要那么大时，可以使用4邻域，中心区域的值为5，其余为-1"
   ]
  },
  {
   "cell_type": "code",
   "execution_count": 7,
   "metadata": {},
   "outputs": [],
   "source": [
    "import cv2 as cv\n",
    "import numpy as np\n",
    "\n",
    "file=r'C:\\Users\\15857\\Pictures\\yuan.png'\n",
    "src=cv.imread(file)\n",
    "cv.namedWindow(\"input\", cv.WINDOW_AUTOSIZE)\n",
    "cv.imshow(\"input\", src)\n",
    "\n",
    "sharpen_op1 = np.array([[-1, -1, -1], [-1, 9, -1], [-1, -1, -1]], dtype=np.float32)#较强的锐化效果\n",
    "sharpen_op2 = np.array([[0, -1, 0], [-1, 5, -1], [0, -1, 0]], dtype=np.float32)#较弱的锐化效果\n",
    "sharpen_image1 = cv.filter2D(src, cv.CV_32F, sharpen_op1)\n",
    "sharpen_image1 = cv.convertScaleAbs(sharpen_image1)\n",
    "sharpen_image2 = cv.filter2D(src, cv.CV_32F, sharpen_op2)\n",
    "sharpen_image2 = cv.convertScaleAbs(sharpen_image2)\n",
    "\n",
    "h, w = src.shape[:2]\n",
    "result = np.zeros([h, w*3, 3], dtype=src.dtype)\n",
    "result[0:h,0:w,:] = src\n",
    "result[0:h,w:2*w,:] = sharpen_image1\n",
    "result[0:h,2*w:3*w,:] = sharpen_image2\n",
    "#参数：src,名称，坐标，字体，放缩的大小，RGB三通道大小，线宽\n",
    "cv.putText(result, \"original image\", (10, 30), cv.FONT_ITALIC, 1.0, (0, 0, 255), 2)\n",
    "cv.putText(result, \"sharpen image1\", (w+10, 30), cv.FONT_ITALIC, 1.0, (0, 0, 255), 2)\n",
    "cv.putText(result, \"sharpen image2\", (w+300, 30), cv.FONT_ITALIC, 1.0, (0, 0, 255), 2)\n",
    "cv.imshow(\"source image and sharpen image\", result)\n",
    "cv.imwrite(\"D:/sharpen.png\", result)\n",
    "\n",
    "cv.waitKey(0)\n",
    "cv.destroyAllWindows()\n"
   ]
  },
  {
   "cell_type": "code",
   "execution_count": null,
   "metadata": {},
   "outputs": [],
   "source": []
  }
 ],
 "metadata": {
  "kernelspec": {
   "display_name": "Python 3",
   "language": "python",
   "name": "python3"
  },
  "language_info": {
   "codemirror_mode": {
    "name": "ipython",
    "version": 3
   },
   "file_extension": ".py",
   "mimetype": "text/x-python",
   "name": "python",
   "nbconvert_exporter": "python",
   "pygments_lexer": "ipython3",
   "version": "3.7.6"
  }
 },
 "nbformat": 4,
 "nbformat_minor": 4
}
