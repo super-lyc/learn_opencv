{
 "cells": [
  {
   "cell_type": "raw",
   "metadata": {},
   "source": [
    "对轮廓进行分析，除了可以对轮廓进行椭圆或者圆的拟合之外，还可以对轮廓点集进行直线拟合，直线拟合的算法有很多，最常见的就是最小二乘法，对于多约束线性方程，最小二乘可以找好直线方程的两个参数、实现直线拟合，OpenCV中直线拟合正是基于最小二乘法实现的。"
   ]
  },
  {
   "cell_type": "raw",
   "metadata": {},
   "source": [
    "output = cv2.fitLine(InputArray  points, distType, param, reps, aeps)\n",
    "InputArray Points: 待拟合的直线的集合，必须是矩阵形式；\n",
    "distType: 距离类型。fitline为距离最小化函数，拟合直线时，要使输入点到拟合直线的距离和最小化。这里的** 距离**的类型有以下几种：\n",
    "      cv2.DIST_USER : User defined distance\n",
    "      cv2.DIST_L1: distance = |x1-x2| + |y1-y2|\n",
    "      cv2.DIST_L2: 欧式距离，此时与最小二乘法相同\n",
    "      cv2.DIST_C:distance = max(|x1-x2|,|y1-y2|)\n",
    "      cv2.DIST_L12:L1-L2 metric: distance = 2(sqrt(1+x*x/2) - 1))\n",
    "      cv2.DIST_FAIR:distance = c^2(|x|/c-log(1+|x|/c)), c = 1.3998\n",
    "      cv2.DIST_WELSCH: distance = c2/2(1-exp(-(x/c)2)), c = 2.9846\n",
    "      cv2.DIST_HUBER:distance = |x|<c ? x^2/2 : c(|x|-c/2), c=1.345\n",
    "param： 距离参数，跟所选的距离类型有关，值可以设置为0。\n",
    "reps, aeps： 第5/6个参数用于表示拟合直线所需要的径向和角度精度，通常情况下两个值均被设定为1e-2.\n",
    "output ： 对于二维直线，输出output为4维，前两维代表拟合出的直线的方向，后两位代表直线上的一点。（即通常说的点斜式直线）"
   ]
  },
  {
   "cell_type": "code",
   "execution_count": 6,
   "metadata": {},
   "outputs": [
    {
     "name": "stdout",
     "output_type": "stream",
     "text": [
      "[[[134 318]]\n",
      "\n",
      " [[133 319]]\n",
      "\n",
      " [[133 320]]\n",
      "\n",
      " [[132 321]]\n",
      "\n",
      " [[132 322]]\n",
      "\n",
      " [[136 322]]\n",
      "\n",
      " [[136 318]]]\n"
     ]
    }
   ],
   "source": [
    "import cv2 as cv\n",
    "import numpy as np\n",
    "\n",
    "def canny_demo(image):\n",
    "    t = 80\n",
    "    canny_output = cv.Canny(image, t, t * 2)\n",
    "    return canny_output\n",
    "\n",
    "file=r'C:\\Users\\luo yong chen\\Pictures\\twolines.png'\n",
    "src=cv.imread(file)\n",
    "cv.namedWindow(\"input\", cv.WINDOW_AUTOSIZE)\n",
    "cv.imshow(\"input\", src)\n",
    "\n",
    "binary = canny_demo(src)\n",
    "k = np.ones((3, 3), dtype=np.uint8)\n",
    "binary = cv.morphologyEx(binary, cv.MORPH_DILATE, k)\n",
    "cv.imshow(\"binary\", binary)\n",
    "\n",
    "# 轮廓发现\n",
    "out, contours, hierarchy = cv.findContours(binary, cv.RETR_EXTERNAL, cv.CHAIN_APPROX_SIMPLE)\n",
    "print(contours[0])\n",
    "\n",
    "# 直线拟合与极值点寻找\n",
    "for c in range(len(contours)):\n",
    "    x, y, w, h = cv.boundingRect(contours[c])\n",
    "    m = max(w, h)\n",
    "    #删除m<30的成分，删除尺寸较小的轮廓\n",
    "    if m < 30:\n",
    "        continue\n",
    "    vx, vy, x0, y0 = cv.fitLine(contours[c], cv.DIST_L1, 0, 0.01, 0.01)   #x方向的变化率，y方向的变化率，直线上的某一点\n",
    "    k = vy/vx                                  #计算直线的斜率\n",
    "    b = y0 - k*x0                              #计算截距\n",
    "    \n",
    "    #寻找轮廓极值点\n",
    "    #坐标赋初值\n",
    "    maxx = 0\n",
    "    maxy = 0\n",
    "    miny = 100000\n",
    "    minx = 0\n",
    "    for pt in contours[c]:\n",
    "        px, py = pt[0]\n",
    "        if maxy < py:\n",
    "            maxy = py\n",
    "        if miny > py:\n",
    "            miny = py\n",
    "    maxx = (maxy - b) / k\n",
    "    minx = (miny - b) / k\n",
    "    cv.line(src, (np.int32(maxx), np.int32(maxy)),\n",
    "            (np.int32(minx), np.int32(miny)), (0, 0, 255), 2, 8, 0)\n",
    "\n",
    "# 显示\n",
    "cv.imshow(\"contours_analysis\", src)\n",
    "cv.waitKey(0)\n",
    "cv.destroyAllWindows()"
   ]
  },
  {
   "cell_type": "code",
   "execution_count": null,
   "metadata": {},
   "outputs": [],
   "source": []
  },
  {
   "cell_type": "code",
   "execution_count": null,
   "metadata": {},
   "outputs": [],
   "source": []
  }
 ],
 "metadata": {
  "kernelspec": {
   "display_name": "Python 3",
   "language": "python",
   "name": "python3"
  },
  "language_info": {
   "codemirror_mode": {
    "name": "ipython",
    "version": 3
   },
   "file_extension": ".py",
   "mimetype": "text/x-python",
   "name": "python",
   "nbconvert_exporter": "python",
   "pygments_lexer": "ipython3",
   "version": "3.7.6"
  }
 },
 "nbformat": 4,
 "nbformat_minor": 4
}
