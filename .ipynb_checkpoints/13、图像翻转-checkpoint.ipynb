{
 "cells": [
  {
   "cell_type": "code",
   "execution_count": 2,
   "metadata": {},
   "outputs": [],
   "source": [
    "import cv2 as cv\n",
    "import numpy as np\n",
    "\n",
    "filename=r'C:\\Users\\luoyongchen\\Pictures\\lena.jpg'\n",
    "src=cv.imread(filename)\n",
    "cv.namedWindow(\"input\", cv.WINDOW_AUTOSIZE)\n",
    "cv.imshow(\"input\", src)\n",
    "\n",
    "# X Flip 倒影 (关于x轴对称)\n",
    "dst1 = cv.flip(src, 0);\n",
    "cv.imshow(\"x-flip\", dst1);\n",
    "\n",
    "# Y Flip 镜像 （关于Y轴对称）\n",
    "dst2 = cv.flip(src, 1);\n",
    "cv.imshow(\"y-flip\", dst2);\n",
    "\n",
    "# XY Flip 对角  （中心对称）\n",
    "dst3 = cv.flip(src, -1);\n",
    "cv.imshow(\"xy-flip\", dst3);\n",
    "\n",
    "# custom y-flip\n",
    "h, w, ch = src.shape\n",
    "dst = np.zeros(src.shape, src.dtype)\n",
    "for row in range(h):\n",
    "    for col in range(w):\n",
    "        b, g, r = src[row, col]\n",
    "        dst[row, w - col - 1] = [b, g, r]\n",
    "cv.imshow(\"custom-y-flip\", dst)\n",
    "\n",
    "cv.waitKey(0)\n",
    "cv.destroyAllWindows()"
   ]
  },
  {
   "cell_type": "code",
   "execution_count": null,
   "metadata": {},
   "outputs": [],
   "source": []
  }
 ],
 "metadata": {
  "kernelspec": {
   "display_name": "Python 3",
   "language": "python",
   "name": "python3"
  },
  "language_info": {
   "codemirror_mode": {
    "name": "ipython",
    "version": 3
   },
   "file_extension": ".py",
   "mimetype": "text/x-python",
   "name": "python",
   "nbconvert_exporter": "python",
   "pygments_lexer": "ipython3",
   "version": "3.7.6"
  }
 },
 "nbformat": 4,
 "nbformat_minor": 4
}
