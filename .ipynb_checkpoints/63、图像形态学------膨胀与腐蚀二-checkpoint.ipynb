{
 "cells": [
  {
   "cell_type": "raw",
   "metadata": {},
   "source": [
    "对于二值图像的腐蚀与膨胀来说，选择一个好的结构元素至关重要"
   ]
  },
  {
   "cell_type": "raw",
   "metadata": {},
   "source": [
    "retval\t=\tcv.getStructuringElement(\tshape, ksize[, anchor]\t)\n",
    "这个函数的第一个参数表示内核的形状，有三种形状可以选择。\n",
    "矩形：MORPH_RECT;\n",
    "交叉形：MORPH_CROSS;\n",
    "椭圆形：MORPH_ELLIPSE;\n",
    "第二和第三个参数分别是内核的尺寸以及锚点的位置。一般在调用erode以及dilate函数之前"
   ]
  },
  {
   "cell_type": "code",
   "execution_count": 1,
   "metadata": {},
   "outputs": [],
   "source": [
    "import cv2 as cv\n",
    "import numpy as np\n",
    "\n",
    "file=r'C:\\Users\\luo yong chen\\Pictures\\dog1.png'\n",
    "src=cv.imread(file)\n",
    "cv.namedWindow(\"input\", cv.WINDOW_AUTOSIZE)\n",
    "cv.imshow('source image',src)\n",
    "# 二值化图像\n",
    "gray = cv.cvtColor(src, cv.COLOR_BGR2GRAY)\n",
    "ret, binary = cv.threshold(gray, 0, 255, cv.THRESH_BINARY | cv.THRESH_OTSU)\n",
    "cv.imshow(\"input\", binary)\n",
    "\n",
    "# 使用3x3结构元素进行膨胀与腐蚀操作\n",
    "kernel = cv.getStructuringElement(cv.MORPH_RECT, (3, 3), (-1, -1))\n",
    "dilate = cv.dilate(binary,kernel, None, (-1, -1), 1)\n",
    "erode = cv.erode(binary, kernel, None, (-1, -1), 1)\n",
    "\n",
    "# 显示\n",
    "cv.imshow(\"dilate\", dilate)\n",
    "cv.imshow(\"erode\", erode)\n",
    "cv.waitKey(0)\n",
    "cv.destroyAllWindows()"
   ]
  }
 ],
 "metadata": {
  "kernelspec": {
   "display_name": "Python 3",
   "language": "python",
   "name": "python3"
  },
  "language_info": {
   "codemirror_mode": {
    "name": "ipython",
    "version": 3
   },
   "file_extension": ".py",
   "mimetype": "text/x-python",
   "name": "python",
   "nbconvert_exporter": "python",
   "pygments_lexer": "ipython3",
   "version": "3.7.6"
  }
 },
 "nbformat": 4,
 "nbformat_minor": 4
}
