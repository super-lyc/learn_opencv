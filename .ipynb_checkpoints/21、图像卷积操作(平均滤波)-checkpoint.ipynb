{
 "cells": [
  {
   "cell_type": "raw",
   "metadata": {},
   "source": [
    "图像卷积可以看成是一个窗口区域在另外一个大的图像上移动，\n",
    "对每个窗口覆盖的区域都进行点乘得到的值作为中心像素点的输出值。\n",
    "窗口的移动是从左到右，从上到下。\n",
    "窗口可以理解成一个指定大小的二维矩阵，里面有预先指定的值。"
   ]
  },
  {
   "cell_type": "raw",
   "metadata": {},
   "source": [
    "dst\t= cv.blur(src, ksize[, dst[, anchor[, borderType]]])"
   ]
  },
  {
   "cell_type": "code",
   "execution_count": 3,
   "metadata": {},
   "outputs": [
    {
     "name": "stdout",
     "output_type": "stream",
     "text": [
      "the size after blur: (862, 690, 3)\n",
      "h , w, ch 862 690 3\n",
      "the size after custom_blur: (862, 690, 3)\n"
     ]
    }
   ],
   "source": [
    "import cv2 as cv\n",
    "import numpy as np\n",
    "\n",
    "\n",
    "def custom_blur(src):    #自定义卷积核\n",
    "    h, w, ch = src.shape\n",
    "    print(\"h , w, ch\", h, w, ch)\n",
    "    result = np.copy(src)\n",
    "    for row in range(1, h-1, 1):\n",
    "        for col in range(1, w-1, 1):\n",
    "            #生成3X3的卷积核，很显然这是平均滤波\n",
    "            v1 = np.int32(src[row-1, col-1])\n",
    "            v2 = np.int32(src[row-1, col])\n",
    "            v3 = np.int32(src[row-1, col+1])\n",
    "            v4 = np.int32(src[row, col-1])\n",
    "            v5 = np.int32(src[row, col])\n",
    "            v6 = np.int32(src[row, col+1])\n",
    "            v7 = np.int32(src[row+1, col-1])\n",
    "            v8 = np.int32(src[row+1, col])\n",
    "            v9 = np.int32(src[row+1, col+1])\n",
    "            #进行卷积操作，加权求和，但因为是平均滤波，故权值都是1\n",
    "            b = v1[0] + v2[0] + v3[0] + v4[0] + v5[0] + v6[0] + v7[0] + v8[0] + v9[0]\n",
    "            g = v1[1] + v2[1] + v3[1] + v4[1] + v5[1] + v6[1] + v7[1] + v8[1] + v9[1]\n",
    "            r = v1[2] + v2[2] + v3[2] + v4[2] + v5[2] + v6[2] + v7[2] + v8[2] + v9[2]\n",
    "            result[row, col] = [b//9, g//9, r//9]     #先平均再取整\n",
    "    cv.imshow(\"result\", result)\n",
    "    print('the size after custom_blur:',result.shape)\n",
    "\n",
    "\n",
    "filename=r'C:\\Users\\15857\\Pictures\\tree.jpg'\n",
    "src=cv.imread(filename)  \n",
    "cv.namedWindow(\"input image\", cv.WINDOW_AUTOSIZE)\n",
    "cv.imshow(\"input image\", src)\n",
    "#使用opencv自带的平均滤波的API\n",
    "dst = cv.blur(src, (15, 15)) #卷积核为15X15，计算速度会比较慢\n",
    "cv.imshow(\"blur\", dst)\n",
    "print('the size after blur:',dst.shape)\n",
    "custom_blur(src)\n",
    "cv.waitKey(0)\n",
    "cv.destroyAllWindows()"
   ]
  },
  {
   "cell_type": "code",
   "execution_count": null,
   "metadata": {},
   "outputs": [],
   "source": []
  }
 ],
 "metadata": {
  "kernelspec": {
   "display_name": "Python 3",
   "language": "python",
   "name": "python3"
  },
  "language_info": {
   "codemirror_mode": {
    "name": "ipython",
    "version": 3
   },
   "file_extension": ".py",
   "mimetype": "text/x-python",
   "name": "python",
   "nbconvert_exporter": "python",
   "pygments_lexer": "ipython3",
   "version": "3.7.6"
  }
 },
 "nbformat": 4,
 "nbformat_minor": 4
}
