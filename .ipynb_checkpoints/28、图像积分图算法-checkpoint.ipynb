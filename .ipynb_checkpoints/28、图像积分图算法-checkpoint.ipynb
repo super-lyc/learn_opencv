{
 "cells": [
  {
   "cell_type": "raw",
   "metadata": {},
   "source": [
    "积分图像是Crow在1984年首次提出，是为了在多尺度透视投影中提高渲染速度，是一种快速计算图像区域和与平方和的算法。\n",
    "其核心思想是对每个图像建立自己的积分图查找表，在图像积分处理计算阶段根据预先建立的积分图查找表，\n",
    "直接查找从而实现对均值卷积线性时间计算，做到了卷积执行的时间与半径窗口大小的无关联。\n",
    "图像积分图在图像特征提取HAAR/SURF、二值图像分析、图像相似相关性NCC计算、图像卷积快速计算等方面均有应用，是图像处理中的经典算法之一。"
   ]
  },
  {
   "cell_type": "raw",
   "metadata": {},
   "source": [
    "图像积分图建立与查找\n",
    "在积分图像(Integral Image - ii)上任意位置(x, y)处的ii(x, y)表示该点左上角所有像素之和， 其中(x,y)是图像像素点坐标。"
   ]
  },
  {
   "cell_type": "raw",
   "metadata": {},
   "source": [
    "1、假设原始图像大小为W与H，则积分图大小为W+1与H+1\n",
    "2、得到积分图之后，原图像任意矩形区域的像素之和就可以通过积分表查找得到:\n",
    "    sum=积分图右下-积分图右上-积分图左下+积分图左上\n",
    "3、得到矩形区域的像素和之后，进行平均或是其他的操作"
   ]
  },
  {
   "cell_type": "code",
   "execution_count": null,
   "metadata": {},
   "outputs": [],
   "source": [
    "ntegral(\n",
    "InputArray src, // 输入图像\n",
    "OutputArray sum, // 和表\n",
    "OutputArray sqsum, // 平方和表\n",
    "OutputArray tilted, // 瓦块和表\n",
    "int sdepth = -1, // 和表数据深度常见CV_32S\n",
    "int sqdepth = -1 // 平方和表数据深度 常见 CV_32F\n",
    ")"
   ]
  },
  {
   "cell_type": "code",
   "execution_count": 1,
   "metadata": {},
   "outputs": [],
   "source": [
    "import cv2 as cv\n",
    "import numpy as np\n",
    "\n",
    "#积分图矩形区域ii\n",
    "def get_block_sum(ii, x1, y1, x2, y2, index):\n",
    "    tl = ii[y1, x1][index]#左上角\n",
    "    tr = ii[y2, x1][index]#左下角\n",
    "    bl = ii[y1, x2][index]#右上角\n",
    "    br = ii[y2, x2][index]#右下角\n",
    "    s = (br - bl - tr + tl) #公式，返回原图中的矩形区域的像素值\n",
    "    return s\n",
    "\n",
    "#读取原图片信息、进行均值滤波\n",
    "def blur_demo(image, ii):\n",
    "    h, w, dims = image.shape\n",
    "    result = np.zeros(image.shape, image.dtype)\n",
    "    ksize = 15\n",
    "    radius = ksize // 2\n",
    "    for row in range(0, h + radius, 1):\n",
    "        y2 = h if (row + 1)> h else (row + 1)\n",
    "        y1 = 0 if (row - ksize) < 0 else (row - ksize)\n",
    "        for col in range(0, w + radius, 1):\n",
    "            x2 = w if (col + 1)>w else (col + 1)\n",
    "            x1 = 0 if (col - ksize) < 0 else (col - ksize)\n",
    "            cx = 0 if (col - radius) < 0 else (col - radius)\n",
    "            cy = 0 if (row - radius) < 0 else (row - radius)\n",
    "            num = (x2 - x1)*(y2 - y1)\n",
    "            for i in range(0, 3, 1):\n",
    "                s = get_block_sum(ii, x1, y1, x2, y2, i)\n",
    "                result[cy, cx][i] = s // num    #生成新的图像的像素值\n",
    "\n",
    "    cv.imshow(\"integral fast blur\", result)\n",
    "    cv.imwrite(\"D:/result.png\", result)\n",
    "\n",
    "file=r'C:\\Users\\15857\\Pictures\\example.png'\n",
    "src=cv.imread(file)\n",
    "cv.namedWindow(\"input\", cv.WINDOW_AUTOSIZE)\n",
    "cv.imshow(\"input\", src)\n",
    "#生成和表\n",
    "sum_table = cv.integral(src, sdepth=cv.CV_32S)\n",
    "blur_demo(src, sum_table)\n",
    "\n",
    "cv.waitKey(0)\n",
    "cv.destroyAllWindows()"
   ]
  },
  {
   "cell_type": "code",
   "execution_count": null,
   "metadata": {},
   "outputs": [],
   "source": []
  }
 ],
 "metadata": {
  "kernelspec": {
   "display_name": "Python 3",
   "language": "python",
   "name": "python3"
  },
  "language_info": {
   "codemirror_mode": {
    "name": "ipython",
    "version": 3
   },
   "file_extension": ".py",
   "mimetype": "text/x-python",
   "name": "python",
   "nbconvert_exporter": "python",
   "pygments_lexer": "ipython3",
   "version": "3.7.6"
  }
 },
 "nbformat": 4,
 "nbformat_minor": 4
}
