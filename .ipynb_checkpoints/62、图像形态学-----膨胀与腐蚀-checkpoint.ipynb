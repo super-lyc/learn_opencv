{
 "cells": [
  {
   "cell_type": "raw",
   "metadata": {},
   "source": [
    "数学形态学（Mathematical morphology）是一门建立在格论和拓扑学基础之上的图像分析学科，是数学形态学图像处理的基本理论。其基本的运算包括：二值腐蚀和膨胀，二值开闭运算，骨架抽取，极限腐蚀，击中击不中变换，形态学梯度，Top-hat变换，颗粒分析，流域变换，灰值腐蚀和膨胀，灰值开闭运算，灰值形态学梯度等。简单来讲，形态学操作就是基于形状的一系列图像处理操作。"
   ]
  },
  {
   "cell_type": "raw",
   "metadata": {},
   "source": [
    "膨胀与腐蚀是图像形态学最基础的两个操作，形态学的其它操作都是基于这两个操作基础上得到的，图像形态学是二值图像分析的重要分支学科。在OpenCV中膨胀与腐蚀对应两个相关的API，膨胀可以看成是最大值滤波，即用最大值替换中心像素点；腐蚀可以看出是最小值滤波，即用最小值替换中心像素点。\n",
    "按数学方面来说，膨胀或者腐蚀操作就是将图像（或图像的一部分区域，我们称之为A）与核（我们称之为B）进行卷积。\n",
    "核可以是任何的形状和大小，它拥有一个单独定义出来的参考点，我们称其为锚点（anchorpoint）。多数情况下，核是一个小的中间带有参考点和实心正方形或者圆盘，其实，我们可以把核视为模板或者掩码。  \n",
    "\n",
    "而膨胀就是求局部最大值的操作，核B与图形卷积，即计算核B覆盖的区域的像素点的最大值，并把这个最大值赋值给参考点指定的像素。这样就会使图像中的高亮区域逐渐增长。腐蚀就是求局部最小值的操作，我们一般都会把腐蚀和膨胀对应起来理解和学习。"
   ]
  },
  {
   "cell_type": "raw",
   "metadata": {},
   "source": [
    "膨胀与腐蚀能实现多种多样的功能，主要如下：\n",
    "1\\消除噪声\n",
    "2\\分割(isolate)出独立的图像元素，在图像中连接(join)相邻的元素。\n",
    "3\\寻找图像中的明显的极大值区域或极小值区域\n",
    "4\\求出图像的梯度\n",
    "在进行腐蚀和膨胀的讲解之前，首先需要注意： 腐蚀和膨胀是对白色部分（高亮部分）而言的，不是黑色部分。 膨胀就是图像中的高亮部分进行膨胀，“邻域扩张”，效果图拥有比原图更大的高亮区域。腐蚀就是原图中高亮部分被腐蚀，“邻域被蚕食”，效果图拥有比原图更小的高亮区域。"
   ]
  },
  {
   "cell_type": "raw",
   "metadata": {},
   "source": [
    "dst\t=cv.dilate(\tsrc, kernel[, dst[, anchor[, iterations[, borderType[, borderValue]]]]]\t)\n",
    "src\t输入的图像名字；信道的数目可以是任意的，但深度应该是cv_8u、cv_16u、cv_16、cv_32f或cv_64f。\n",
    "dst\t输出与输入相同大小和类型的图像.\n",
    "kernel\t用于膨胀的结构元素；如果元素=mat()，则使用3 x 3矩形结构元素。可以使用getStructuringElement来创建结构元素。。\n",
    "anchor\t结构元素的锚点位置，默认值value(-1,-1)表示锚点位于结构元素中心\n",
    "iterations\t膨胀操作被递归执行的次数\n",
    "borderType\t推断边缘类型，可参考BorderTypes\n",
    "borderValue\t在边框不变的情况下的边界值\n",
    "\n",
    "dst=cv2.erode(src,kernel,anchor,iterations,borderType,borderValue):\n",
    "        src: 输入图像对象矩阵\n",
    "        kernel:进行腐蚀操作的核，可以通过函数getStructuringElement()获得\n",
    "        anchor:锚点，默认为(-1,-1)\n",
    "        iterations:腐蚀操作的次数，默认为1\n",
    "        borderType: 边界种类，有默认值\n",
    "        borderValue:边界值，有默认值"
   ]
  },
  {
   "cell_type": "raw",
   "metadata": {},
   "source": [
    "腐蚀相当于最小值滤波，膨胀相当于最大值滤波。腐蚀把黑的变宽了，膨胀把亮的变宽了，腐蚀把原始图像变得更暗了，膨胀把原始图像变得更亮了，两者都会把原始图像颗粒化，类似于打马赛克"
   ]
  },
  {
   "cell_type": "code",
   "execution_count": 3,
   "metadata": {},
   "outputs": [],
   "source": [
    "import cv2 as cv\n",
    "import numpy as np\n",
    "\n",
    "file=r'C:\\Users\\luo yong chen\\Pictures\\dog1.png'\n",
    "src=cv.imread(file)\n",
    "cv.namedWindow(\"input\", cv.WINDOW_AUTOSIZE)\n",
    "cv.imshow(\"input\", src)\n",
    "\n",
    "# 使用3x3结构元素进行膨胀与腐蚀操作\n",
    "kernel = np.ones((3, 3), dtype=np.uint8)\n",
    "dilate = cv.dilate(src, kernel, None, (-1, -1), 2)#膨胀\n",
    "erode = cv.erode(src, kernel, None, (-1, -1), 2)#腐蚀\n",
    "\n",
    "# 显示\n",
    "cv.imshow(\"dilate\", dilate)\n",
    "cv.imshow(\"erode\", erode)\n",
    "cv.waitKey(0)\n",
    "cv.destroyAllWindows()"
   ]
  },
  {
   "cell_type": "code",
   "execution_count": null,
   "metadata": {},
   "outputs": [],
   "source": []
  }
 ],
 "metadata": {
  "kernelspec": {
   "display_name": "Python 3",
   "language": "python",
   "name": "python3"
  },
  "language_info": {
   "codemirror_mode": {
    "name": "ipython",
    "version": 3
   },
   "file_extension": ".py",
   "mimetype": "text/x-python",
   "name": "python",
   "nbconvert_exporter": "python",
   "pygments_lexer": "ipython3",
   "version": "3.7.6"
  }
 },
 "nbformat": 4,
 "nbformat_minor": 4
}
