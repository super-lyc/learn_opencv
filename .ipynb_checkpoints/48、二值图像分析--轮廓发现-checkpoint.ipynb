{
 "cells": [
  {
   "cell_type": "raw",
   "metadata": {},
   "source": [
    "图像连通组件分析，可以得到二值图像的每个连通组件，但是我们还无法得知各个组件之间的层次关系与几何拓扑关系，如果我们需要进一步分析图像轮廓拓扑信息就可以通过OpenCV的轮廓发现API获取二值图像的轮廓拓扑信息"
   ]
  },
  {
   "cell_type": "raw",
   "metadata": {},
   "source": [
    "out, contours, hierarchy = cv2.findContours(image, mode, method[, contours[, hierarchy[, offset ]]])  \n",
    "image:输入的二值图像，可以threshold输出、Canny输出、inRange输出、自适应阈值输出等。\n",
    "mode:表示轮廓的检索模式,有四种模式：\n",
    "    RETR_EXTERNAL表示只检测外轮廓\n",
    "    RETR_LIST检测的轮廓不建立等级关系\n",
    "    RETR_CCOMP建立两个等级的轮廓，上面的一层为外边界，里面的一层为内孔的边界信息。如果内孔内还有一个连通物体，这个物体的边界也在顶层。\n",
    "    RETR_TREE建立一个等级树结构的轮廓。\n",
    "method:为轮廓的近似办法:\n",
    "    CHAIN_APPROX_NONE存储所有的轮廓点，相邻的两个点的像素位置差不超过1，即max（abs（x1-x2），abs（y2-y1））==1\n",
    "    CHAIN_APPROX_SIMPLE压缩水平方向，垂直方向，对角线方向的元素，只保留该方向的终点坐标，例如一个矩形轮廓只需4个点来保存轮廓信息\n",
    "    CHAIN_APPROX_TC89_L1，CV_CHAIN_APPROX_TC89_KCOS使用teh-Chinl chain 近似算法\n",
    "contours:获取的轮廓，每个轮廓是一系列的点集合。函数首先返回一个list，list中每个元素都是图像中的一个轮廓，用numpy中的ndarray表示。这个概念非常重要。在下面drawContours中会看见。\n",
    "Hierarchy：轮廓的层次信息，每个轮廓有四个相关信息，分别是同层下一个、前一个、第一个子节点、父节点，这是一个ndarray，其中的元素个数和轮廓个数相同，每个轮廓contours[i]对应4个hierarchy元素hierarchy[i][0] ~hierarchy[i][3]，分别表示后一个轮廓、前一个轮廓、父轮廓、内嵌轮廓的索引编号，如果没有对应项，则该值为负数。"
   ]
  },
  {
   "cell_type": "raw",
   "metadata": {},
   "source": [
    "cv.drawContours(src, contours, c, (0, 0, 255), 2, 8)"
   ]
  },
  {
   "cell_type": "raw",
   "metadata": {},
   "source": [
    "边缘和轮廓是不同的，轮廓有层次关系，而边缘没有，并且边缘检测的结果还要作为轮廓分析的输入"
   ]
  },
  {
   "cell_type": "code",
   "execution_count": 6,
   "metadata": {},
   "outputs": [
    {
     "name": "stdout",
     "output_type": "stream",
     "text": [
      "[[0 0 0 ... 0 0 0]\n",
      " [0 0 0 ... 0 0 0]\n",
      " [0 0 0 ... 0 0 0]\n",
      " ...\n",
      " [0 0 0 ... 0 0 0]\n",
      " [0 0 0 ... 0 0 0]\n",
      " [0 0 0 ... 0 0 0]]\n",
      "<class 'list'>\n",
      "<class 'numpy.ndarray'>\n",
      "25\n",
      "<class 'numpy.ndarray'>\n",
      "3\n",
      "2\n",
      "[[ 1 -1 -1 -1]\n",
      " [ 2  0 -1 -1]\n",
      " [ 3  1 -1 -1]\n",
      " [ 4  2 -1 -1]\n",
      " [ 5  3 -1 -1]\n",
      " [ 6  4 -1 -1]\n",
      " [ 7  5 -1 -1]\n",
      " [ 8  6 -1 -1]\n",
      " [ 9  7 -1 -1]\n",
      " [10  8 -1 -1]\n",
      " [11  9 -1 -1]\n",
      " [12 10 -1 -1]\n",
      " [13 11 -1 -1]\n",
      " [14 12 -1 -1]\n",
      " [15 13 -1 -1]\n",
      " [16 14 -1 -1]\n",
      " [17 15 -1 -1]\n",
      " [18 16 -1 -1]\n",
      " [19 17 -1 -1]\n",
      " [20 18 -1 -1]\n",
      " [21 19 -1 -1]\n",
      " [22 20 -1 -1]\n",
      " [23 21 -1 -1]\n",
      " [24 22 -1 -1]\n",
      " [-1 23 -1 -1]]\n",
      "(1, 25, 4)\n"
     ]
    }
   ],
   "source": [
    "import cv2 as cv\n",
    "import numpy as np\n",
    "\n",
    "def threshold_demo(image):\n",
    "    # 去噪声+二值化\n",
    "    dst = cv.GaussianBlur(image,(3, 3), 0)\n",
    "    gray = cv.cvtColor(dst, cv.COLOR_BGR2GRAY)\n",
    "    ret, binary = cv.threshold(gray, 0, 255, cv.THRESH_OTSU | cv.THRESH_BINARY)\n",
    "    cv.imshow(\"binary\", binary)\n",
    "    return binary\n",
    "\n",
    "def canny_demo(image):\n",
    "    t = 100\n",
    "    canny_output = cv.Canny(image, t, t * 2)\n",
    "    cv.imshow(\"canny_output\", canny_output)\n",
    "    return canny_output\n",
    "\n",
    "file=r'C:\\Users\\luo yong chen\\Pictures\\rice.png'\n",
    "src=cv.imread(file)\n",
    "cv.namedWindow(\"input\", cv.WINDOW_AUTOSIZE)\n",
    "cv.imshow(\"input\", src)\n",
    "binary = threshold_demo(src)\n",
    "\n",
    "# 轮廓发现\n",
    "out, contours, hierarchy = cv.findContours(binary, cv.RETR_TREE, cv.CHAIN_APPROX_SIMPLE)\n",
    "print(out)\n",
    "print (type(contours))  \n",
    "print (type(contours[0]))   \n",
    "print (len(contours))     #打印轮廓数目\n",
    "print (type(hierarchy))    #hierarchy的类型\n",
    "print (hierarchy.ndim)    #hierarchy维度\n",
    "print (hierarchy[0].ndim) \n",
    "print (hierarchy[0])       #打印hierarchy的信息\n",
    "print (hierarchy.shape)   #打印hierarchy的形状\n",
    "\n",
    "#循环绘制轮廓\n",
    "for c in range(len(contours)):\n",
    "    cv.drawContours(src, contours, c, (0, 0, 255), 2, 8)\n",
    "\n",
    "# 显示\n",
    "cv.imshow(\"contours-demo\", src)\n",
    "\n",
    "cv.waitKey(0)\n",
    "cv.destroyAllWindows()"
   ]
  },
  {
   "cell_type": "code",
   "execution_count": null,
   "metadata": {},
   "outputs": [],
   "source": []
  }
 ],
 "metadata": {
  "kernelspec": {
   "display_name": "Python 3",
   "language": "python",
   "name": "python3"
  },
  "language_info": {
   "codemirror_mode": {
    "name": "ipython",
    "version": 3
   },
   "file_extension": ".py",
   "mimetype": "text/x-python",
   "name": "python",
   "nbconvert_exporter": "python",
   "pygments_lexer": "ipython3",
   "version": "3.7.6"
  }
 },
 "nbformat": 4,
 "nbformat_minor": 4
}
