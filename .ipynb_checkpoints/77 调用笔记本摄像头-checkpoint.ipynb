{
 "cells": [
  {
   "cell_type": "code",
   "execution_count": 3,
   "metadata": {},
   "outputs": [],
   "source": [
    "import numpy as np\n",
    "import cv2\n",
    "#调用笔记本内置摄像头，所以参数为0，如果有其他的摄像头可以调整参数为1，2\n",
    "cap=cv2.VideoCapture(0)\n",
    "while True:\n",
    "    #从摄像头读取图片\n",
    "    sucess,img=cap.read()\n",
    "    #转为灰度图片\n",
    "    gray=cv2.cvtColor(img,cv2.COLOR_BGR2GRAY)\n",
    "    #显示摄像头，背景是灰度。\n",
    "    cv2.imshow(\"img\",gray)\n",
    "    #保持画面的持续。\n",
    "    k=cv2.waitKey(1)\n",
    "    if k == 27:\n",
    "        #通过esc键退出摄像\n",
    "        cv2.destroyAllWindows()\n",
    "        break\n",
    "    elif k==ord(\"s\"):\n",
    "        #通过s键保存图片，并退出。\n",
    "        cv2.imwrite(\"image2.jpg\",img)\n",
    "        cv2.destroyAllWindows()\n",
    "        break\n",
    "#关闭摄像头\n",
    "cap.release()"
   ]
  },
  {
   "cell_type": "code",
   "execution_count": null,
   "metadata": {},
   "outputs": [],
   "source": []
  }
 ],
 "metadata": {
  "kernelspec": {
   "display_name": "Python 3",
   "language": "python",
   "name": "python3"
  },
  "language_info": {
   "codemirror_mode": {
    "name": "ipython",
    "version": 3
   },
   "file_extension": ".py",
   "mimetype": "text/x-python",
   "name": "python",
   "nbconvert_exporter": "python",
   "pygments_lexer": "ipython3",
   "version": "3.7.6"
  }
 },
 "nbformat": 4,
 "nbformat_minor": 4
}
