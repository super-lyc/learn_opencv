{
 "cells": [
  {
   "cell_type": "raw",
   "metadata": {},
   "source": [
    "HAAR小波基函数，因为其满足对称性，对人脸这种生物对称性良好的对象特别适合用来做检测器，常见的Haar特征分为三类：\n",
    "边缘特征、\n",
    "线性特征、\n",
    "中心特征和对角线特征。\n",
    "不同特征可以进行多种组合，生成更加复杂的级联特征，特征模板内有白色和黑色两种矩形，并定义该模板的特征值为白色矩形像素和减去黑色矩形像素和，Haar特征值反映了图像的对比度与梯度变化。\n",
    "OpenCV中HAAR特征计算是积分图技术，所以可以非常快速高效的开窗检测， HAAR级联检测器具备有如下特性：\n",
    "-\t高类间变异性\n",
    "-\t低类内变异性\n",
    "-\t局部强度差\n",
    "-\t不同尺度\n",
    "-\t计算效率高"
   ]
  },
  {
   "cell_type": "code",
   "execution_count": null,
   "metadata": {},
   "outputs": [],
   "source": [
    "import cv2 as cv\n",
    "\n",
    "capture = cv.VideoCapture(0)\n",
    "face_detector = cv.CascadeClassifier(cv.data.haarcascades + \"haarcascade_frontalface_alt.xml\")\n",
    "smile_detector = cv.CascadeClassifier(cv.data.haarcascades + \"haarcascade_smile.xml\")\n",
    "while True:\n",
    "    ret, image = capture.read()\n",
    "    if ret is True:\n",
    "        cv.imshow(\"frame\", image)\n",
    "        faces = face_detector.detectMultiScale(image, scaleFactor=1.05, minNeighbors=3,\n",
    "                                          minSize=(30, 30), maxSize=(300, 300))\n",
    "        for x, y, width, height in faces:\n",
    "            cv.rectangle(image, (x, y), (x+width, y+height), (0, 0, 255), 2, cv.LINE_8, 0)\n",
    "        roi = image[y:y+height,x:x+width]\n",
    "        smiles = smile_detector.detectMultiScale(roi, scaleFactor=1.7, minNeighbors=3,\n",
    "                                               minSize=(15, 15), maxSize=(100, 100))\n",
    "        for sx, sy, sw, sh in smiles:\n",
    "            cv.rectangle(roi, (sx, sy), (sx + sw, sy + sh), (0, 255, 0), 1)\n",
    "\n",
    "        cv.imshow(\"faces\", image)\n",
    "        c = cv.waitKey(50)\n",
    "        if c == 27:\n",
    "            break\n",
    "    else:\n",
    "        break\n",
    "\n",
    "cv.destroyAllWindows()"
   ]
  }
 ],
 "metadata": {
  "kernelspec": {
   "display_name": "Python 3",
   "language": "python",
   "name": "python3"
  },
  "language_info": {
   "codemirror_mode": {
    "name": "ipython",
    "version": 3
   },
   "file_extension": ".py",
   "mimetype": "text/x-python",
   "name": "python",
   "nbconvert_exporter": "python",
   "pygments_lexer": "ipython3",
   "version": "3.7.6"
  }
 },
 "nbformat": 4,
 "nbformat_minor": 4
}
