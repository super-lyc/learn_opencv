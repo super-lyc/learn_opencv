{
 "cells": [
  {
   "cell_type": "raw",
   "metadata": {},
   "source": [
    "对于轮廓来说，有时候我们会需要选择最大内接圆，OpenCV中没有现成的API可以使用，但是我们可以通过点多边形测试巧妙的获取轮廓最大内接圆的半径，从点多边形测试的返回结果我们知道，它返回的是像素距离，而且是当前点距离轮廓最近的距离，当这个点在轮廓内部，其返回的距离是最大值的时候，其实这个距离就是轮廓的最大内接圆的半径，这样我们就巧妙的获得了圆心的位置与半径，剩下的工作就很容易了完成，绘制一个圆而已，一行代码就可以搞定，而且前面我们的知识点分享已经交代了如何在OpenCV中去绘制常见几何形状啦。"
   ]
  },
  {
   "cell_type": "raw",
   "metadata": {},
   "source": [
    "原图，灰度图，二值图，cv.findContours轮廓发现，cv.pointPolygonTest计算像素点到轮廓的距离（最大值一定在轮廓内），cv.minMaxLoc找到距离中的最大和最小值以及他们的坐标，绘制最大内接圆"
   ]
  },
  {
   "cell_type": "code",
   "execution_count": 7,
   "metadata": {},
   "outputs": [],
   "source": [
    "import cv2 as cv\n",
    "import numpy as np\n",
    "# Create an image\n",
    "r = 100\n",
    "src = np.zeros((4*r, 4*r), dtype=np.uint8)\n",
    "# Create a sequence of points to make a contour\n",
    "vert = [None]*6\n",
    "vert[0] = (3*r//2, int(1.34*r))\n",
    "vert[1] = (1*r, 2*r)\n",
    "vert[2] = (3*r//2, int(2.866*r))\n",
    "vert[3] = (5*r//2, int(2.866*r))\n",
    "vert[4] = (3*r, 2*r)\n",
    "vert[5] = (5*r//2, int(1.34*r))\n",
    "# Draw it in src\n",
    "for i in range(6):\n",
    "    cv.line(src, vert[i],  vert[(i+1)%6], ( 255 ), 3)\n",
    "# Get the contours\n",
    "_, contours, _ = cv.findContours(src, cv.RETR_TREE, cv.CHAIN_APPROX_SIMPLE)\n",
    "\n",
    "# Calculate the distances to the contour\n",
    "raw_dist = np.empty(src.shape, dtype=np.float32)    #生成一个新的空的数组\n",
    "for i in range(src.shape[0]):\n",
    "    for j in range(src.shape[1]):\n",
    "        raw_dist[i,j] = cv.pointPolygonTest(contours[0], (j,i), True)\n",
    "        \n",
    "#获取最大值即内接圆半径，中心点坐标\n",
    "minVal, maxVal, _, maxDistPt = cv.minMaxLoc(raw_dist)\n",
    "minVal = abs(minVal)    #距离不能是负数，故加绝对值\n",
    "maxVal = abs(maxVal)\n",
    "\n",
    "# Depicting the  distances graphically\n",
    "drawing = np.zeros((src.shape[0], src.shape[1], 3), dtype=np.uint8)\n",
    "for i in range(src.shape[0]):\n",
    "    for j in range(src.shape[1]):\n",
    "        if raw_dist[i,j] < 0:\n",
    "            drawing[i,j,0] = 255 - abs(raw_dist[i,j]) * 255 / minVal\n",
    "        elif raw_dist[i,j] > 0:\n",
    "            drawing[i,j,2] = 255 - raw_dist[i,j] * 255 / maxVal\n",
    "        else:\n",
    "            drawing[i,j,0] = 255\n",
    "            drawing[i,j,1] = 255\n",
    "            drawing[i,j,2] = 255\n",
    "\n",
    "# max inner circle\n",
    "cv.circle(drawing,maxDistPt, np.int(maxVal),(255,255,255), 1, cv.LINE_8, 0)\n",
    "cv.imshow('Source', src)\n",
    "cv.imshow('Distance and inscribed circle', drawing)\n",
    "\n",
    "cv.waitKey(0)\n",
    "cv.destroyAllWindows()"
   ]
  },
  {
   "cell_type": "code",
   "execution_count": null,
   "metadata": {},
   "outputs": [],
   "source": []
  }
 ],
 "metadata": {
  "kernelspec": {
   "display_name": "Python 3",
   "language": "python",
   "name": "python3"
  },
  "language_info": {
   "codemirror_mode": {
    "name": "ipython",
    "version": 3
   },
   "file_extension": ".py",
   "mimetype": "text/x-python",
   "name": "python",
   "nbconvert_exporter": "python",
   "pygments_lexer": "ipython3",
   "version": "3.7.6"
  }
 },
 "nbformat": 4,
 "nbformat_minor": 4
}
