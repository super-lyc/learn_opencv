{
 "cells": [
  {
   "cell_type": "code",
   "execution_count": 3,
   "metadata": {},
   "outputs": [],
   "source": [
    "import cv2 as cv\n",
    "import numpy as np\n",
    "filename=r'C:\\Users\\luoyongchen\\Pictures\\lena.jpg'\n",
    "src = cv.imread(filename)\n",
    "cv.namedWindow(\"input\", cv.WINDOW_AUTOSIZE)\n",
    "cv.imshow(\"input\", src)\n",
    "\n",
    "# 克隆图像\n",
    "m1 = np.copy(src)\n",
    "\n",
    "# 赋值\n",
    "m2 = src\n",
    "src[100:200,200:300,:] = 255      #高宽的区域范围和通道数\n",
    "cv.imshow(\"m2\",m2)\n",
    "\n",
    "m3 = np.zeros(src.shape, src.dtype)\n",
    "cv.imshow(\"m3\", m3)\n",
    "\n",
    "m4 = np.zeros([512,512], np.uint8)\n",
    "# m4[:,:] =127 try to give gray value 127\n",
    "cv.imshow(\"m4\", m4)\n",
    "\n",
    "m5 = np.ones(shape=[512,512,3], dtype=np.uint8)\n",
    "m5[:,:,0] = 255\n",
    "cv.imshow(\"m5\", m5)\n",
    "cv.waitKey()\n",
    "cv.destroyAllWindows()"
   ]
  },
  {
   "cell_type": "code",
   "execution_count": null,
   "metadata": {},
   "outputs": [],
   "source": []
  }
 ],
 "metadata": {
  "kernelspec": {
   "display_name": "Python 3",
   "language": "python",
   "name": "python3"
  },
  "language_info": {
   "codemirror_mode": {
    "name": "ipython",
    "version": 3
   },
   "file_extension": ".py",
   "mimetype": "text/x-python",
   "name": "python",
   "nbconvert_exporter": "python",
   "pygments_lexer": "ipython3",
   "version": "3.7.6"
  }
 },
 "nbformat": 4,
 "nbformat_minor": 4
}
