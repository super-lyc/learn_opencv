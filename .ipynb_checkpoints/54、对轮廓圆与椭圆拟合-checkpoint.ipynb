{
 "cells": [
  {
   "cell_type": "raw",
   "metadata": {},
   "source": [
    "有时候我们需要对找到的轮廓点进行拟合，生成一个拟合的圆形或者椭圆，以便我们对轮廓进行更进一步的处理，满足我们对最终轮廓形状的判断"
   ]
  },
  {
   "cell_type": "raw",
   "metadata": {},
   "source": [
    "RotatedRect = cv.fitEllipse(InputArray points)\n",
    "参数points是轮廓点，\n",
    "输出RotatedRect包含下面三个信息:\n",
    "-\t拟合之后圆或者椭圆的中心位置、\n",
    "-\t长轴与短轴的直径\n",
    "-\t角度\n",
    "然后我们就可以根据得到拟合信息绘制椭圆、当长轴与短轴相等的时候就是圆。"
   ]
  },
  {
   "cell_type": "raw",
   "metadata": {},
   "source": [
    "可以对圆或者椭圆做一个检测 "
   ]
  },
  {
   "cell_type": "code",
   "execution_count": 2,
   "metadata": {},
   "outputs": [],
   "source": [
    "import cv2 as cv\n",
    "import numpy as np\n",
    "\n",
    "def canny_demo(image):\n",
    "    t = 80\n",
    "    canny_output = cv.Canny(image, t, t * 2)\n",
    "    cv.imshow(\"canny_output\", canny_output)\n",
    "    cv.imwrite(\"D:/canny_output.png\", canny_output)\n",
    "    return canny_output\n",
    "\n",
    "file=r'C:\\Users\\luo yong chen\\Pictures\\stuff.jpg'\n",
    "src=cv.imread(file1)\n",
    "cv.namedWindow(\"input\", cv.WINDOW_AUTOSIZE)\n",
    "cv.imshow(\"input\", src)\n",
    "binary = canny_demo(src)\n",
    "k = np.ones((3, 3), dtype=np.uint8)\n",
    "binary = cv.morphologyEx(binary, cv.MORPH_DILATE, k)\n",
    "\n",
    "# 轮廓发现\n",
    "out, contours, hierarchy = cv.findContours(binary, cv.RETR_EXTERNAL, cv.CHAIN_APPROX_SIMPLE)\n",
    "for c in range(len(contours)):\n",
    "    # 椭圆拟合\n",
    "    (cx, cy), (a, b), angle = cv.fitEllipse(contours[c])\n",
    "    # 绘制椭圆\n",
    "    cv.ellipse(src, (np.int32(cx), np.int32(cy)),\n",
    "               (np.int32(a/2), np.int32(b/2)), angle, 0, 360, (0, 0, 255), 2, 8, 0)\n",
    "\n",
    "# 显示\n",
    "cv.imshow(\"contours_analysis\", src)\n",
    "cv.waitKey(0)\n",
    "cv.destroyAllWindows()"
   ]
  },
  {
   "cell_type": "code",
   "execution_count": null,
   "metadata": {},
   "outputs": [],
   "source": []
  }
 ],
 "metadata": {
  "kernelspec": {
   "display_name": "Python 3",
   "language": "python",
   "name": "python3"
  },
  "language_info": {
   "codemirror_mode": {
    "name": "ipython",
    "version": 3
   },
   "file_extension": ".py",
   "mimetype": "text/x-python",
   "name": "python",
   "nbconvert_exporter": "python",
   "pygments_lexer": "ipython3",
   "version": "3.7.6"
  }
 },
 "nbformat": 4,
 "nbformat_minor": 4
}
