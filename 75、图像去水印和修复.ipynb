{
 "cells": [
  {
   "cell_type": "raw",
   "metadata": {},
   "source": [
    "有时候我们需要一个批量的去水印的方法，这个在很多时候需要用到，对得到图像进行批量的去水印，其本质上是一种图像修复.\n",
    "修复是图像插值。数字修复算法在图像插值，照片恢复，缩放和超分辨率等方面具有广泛的应用.\n",
    "基本思路很简单：用邻近的像素替换那些坏标记，使其看起来像是邻居"
   ]
  },
  {
   "cell_type": "raw",
   "metadata": {},
   "source": [
    "OpenCV提供了两种算法。两者都可以通过相同的函数访问，cv2.inpaint（）。\n",
    "\n",
    "第一种算法基于Alexandru Telea于2004年发表的“基于快速行进方法的图像修复技术”。它基于快速行进方法。考虑图像中要修复的区域。算法从该区域的边界开始，然后进入区域内，逐渐填充边界中的所有内容。它需要在邻近的像素周围的一个小邻域进行修复。该像素由邻居中所有已知像素的归一化加权和代替。选择权重是一个重要的问题。对于靠近该点的那些像素，靠近边界的法线和位于边界轮廓上的像素，给予更多的权重。一旦像素被修复，它将使用快速行进方法移动到下一个最近的像素。 FMM确保首先修复已知像素附近的像素，这样它就像手动启发式操作一样工作。使用标志cv2.INPAINT_TELEA启用此算法。\n",
    "\n",
    "第二种算法基于Bertalmio，Marcelo，Andrea L. Bertozzi和Guillermo Sapiro于2001年撰写的“Navier-Stokes，流体动力学和图像和视频修补”一文。该算法基于流体动力学并利用偏微分方程。基本原则是heurisitic。它首先沿着已知区域的边缘行进到未知区域（因为边缘是连续的）。它继续等照片（连接具有相同强度的点的线，就像轮廓连接具有相同高度的点一样），同时在修复区域的边界处匹配渐变矢量。为此，使用来自流体动力学的一些方法。获得颜色后，填充颜色以减少该区域的最小差异。使用标志cv2.INPAINT_NS启用此算法。"
   ]
  },
  {
   "cell_type": "raw",
   "metadata": {},
   "source": [
    "dst = cv2.inpaint（src，mask, inpaintRadius，flags）\n",
    "src：输入8位1通道或3通道图像。\n",
    "inpaintMask：修复掩码，8位1通道图像。非零像素表示需要修复的区域，mask与src的大小完全一致\n",
    "dst：输出与src具有相同大小和类型的图像。\n",
    "inpaintRadius：算法考虑的每个点的圆形邻域的半径，与计算速度有关\n",
    "flags：\n",
    "    1、INPAINT_NS基于Navier-Stokes的方法，基于图像梯度的快速匹配方法又称(Telea法)\n",
    "    2、Alexandru Telea的INPAINT_TELEA方法"
   ]
  },
  {
   "cell_type": "code",
   "execution_count": null,
   "metadata": {},
   "outputs": [],
   "source": [
    "import cv2 as cv\n",
    "\n",
    "if __name__ == '__main__':\n",
    "    file=r'C:\\Users\\luo yong chen\\Pictures\\wm.jpg'\n",
    "    src=cv.imread(file)\n",
    "    cv.imshow(\"watermark image\", src)\n",
    "    hsv = cv.cvtColor(src, cv.COLOR_BGR2HSV)\n",
    "    mask = cv.inRange(hsv, (100, 43, 46), (124, 255, 255))\n",
    "    cv.imshow(\"mask\", mask)\n",
    "    cv.imwrite(\"D:/mask.png\", mask)\n",
    "    se = cv.getStructuringElement(cv.MORPH_RECT, (5, 5))\n",
    "    cv.dilate(mask, se, mask)\n",
    "    result = cv.inpaint(src, mask, 3, cv.INPAINT_TELEA)\n",
    "    cv.imshow(\"result\", result)\n",
    "    #cv.imwrite(\"D:/result.png\", result)\n",
    "    cv.waitKey(0)\n",
    "    cv.destroyAllWindows()\n"
   ]
  },
  {
   "cell_type": "code",
   "execution_count": null,
   "metadata": {},
   "outputs": [],
   "source": []
  }
 ],
 "metadata": {
  "kernelspec": {
   "display_name": "Python 3",
   "language": "python",
   "name": "python3"
  },
  "language_info": {
   "codemirror_mode": {
    "name": "ipython",
    "version": 3
   },
   "file_extension": ".py",
   "mimetype": "text/x-python",
   "name": "python",
   "nbconvert_exporter": "python",
   "pygments_lexer": "ipython3",
   "version": "3.7.4"
  }
 },
 "nbformat": 4,
 "nbformat_minor": 4
}
