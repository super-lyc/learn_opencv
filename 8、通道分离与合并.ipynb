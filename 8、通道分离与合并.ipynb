{
 "cells": [
  {
   "cell_type": "code",
   "execution_count": 1,
   "metadata": {},
   "outputs": [],
   "source": [
    "import cv2 as cv\n",
    "\n",
    "filename=r'C:\\Users\\luo yong chen\\Pictures\\flowers.jpg'\n",
    "src=cv.imread(filename)\n",
    "cv.namedWindow(\"input\", cv.WINDOW_AUTOSIZE)\n",
    "cv.imshow(\"input\", src)\n",
    "\n",
    "                               #split分离，merge合并 \n",
    "# 蓝色通道为零\n",
    "mv = cv.split(src)  \n",
    "\n",
    "mv[0][:, :] = 0       #第0个通道的所有像素值\n",
    "dst1 = cv.merge(mv)\n",
    "cv.imshow(\"output1\", dst1)\n",
    "\n",
    "\n",
    "# 绿色通道为零\n",
    "mv = cv.split(src)\n",
    "mv[1][:, :] = 0\n",
    "dst2 = cv.merge(mv)\n",
    "cv.imshow(\"output2\", dst2)\n",
    "\n",
    "# 红色通道为零\n",
    "mv = cv.split(src)\n",
    "mv[2][:, :] = 0\n",
    "dst3 = cv.merge(mv)\n",
    "cv.imshow(\"output3\", dst3)\n",
    "\n",
    "cv.mixChannels(src, dst3, [2, 0])\n",
    "cv.imshow(\"output4\", dst3)\n",
    "\n",
    "cv.waitKey(0)\n",
    "cv.destroyAllWindows()\n"
   ]
  },
  {
   "cell_type": "code",
   "execution_count": null,
   "metadata": {},
   "outputs": [],
   "source": []
  }
 ],
 "metadata": {
  "kernelspec": {
   "display_name": "Python 3",
   "language": "python",
   "name": "python3"
  },
  "language_info": {
   "codemirror_mode": {
    "name": "ipython",
    "version": 3
   },
   "file_extension": ".py",
   "mimetype": "text/x-python",
   "name": "python",
   "nbconvert_exporter": "python",
   "pygments_lexer": "ipython3",
   "version": "3.7.4"
  }
 },
 "nbformat": 4,
 "nbformat_minor": 4
}
