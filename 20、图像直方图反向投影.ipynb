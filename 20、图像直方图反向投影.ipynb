{
 "cells": [
  {
   "cell_type": "raw",
   "metadata": {},
   "source": [
    "图像直方图反向投影是通过构建指定模板图像的二维直方图空间与目标的二维直方图空间，\n",
    "进行直方图数据归一化之后， 进行比率操作，\n",
    "对所有得到非零数值，生成查找表对原图像进行像素映射之后，再进行图像模糊输出的结果。"
   ]
  },
  {
   "cell_type": "raw",
   "metadata": {},
   "source": [
    "直方图反向投影流程：\n",
    "- 计算直方图\n",
    "- 计算比率R\n",
    "- LUT查找表\n",
    "- 卷积模糊\n",
    "- 归一化输出"
   ]
  },
  {
   "cell_type": "raw",
   "metadata": {},
   "source": [
    "相关API\n",
    "dst=calcBackProject(images,channels,hist,ranges,scale[,dst])"
   ]
  },
  {
   "cell_type": "code",
   "execution_count": null,
   "metadata": {},
   "outputs": [],
   "source": [
    "import cv2 as cv\n",
    "import numpy as np\n",
    "from matplotlib import pyplot as plt\n",
    "\n",
    "\n",
    "def back_projection_demo():\n",
    "    sample = cv.imread(\"D:/javaopencv/sample.png\")\n",
    "    # hist2d_demo(sample)\n",
    "    target = cv.imread(\"D:/javaopencv/target.png\")\n",
    "    # hist2d_demo(target)\n",
    "    roi_hsv = cv.cvtColor(sample, cv.COLOR_BGR2HSV)\n",
    "    target_hsv = cv.cvtColor(target, cv.COLOR_BGR2HSV)\n",
    "\n",
    "    # show images\n",
    "    cv.imshow(\"sample\", sample)\n",
    "    cv.imshow(\"target\", target)\n",
    "\n",
    "    roiHist = cv.calcHist([roi_hsv], [0, 1], None, [32, 32], [0, 180, 0, 256])\n",
    "    cv.normalize(roiHist, roiHist, 0, 255, cv.NORM_MINMAX)\n",
    "    dst = cv.calcBackProject([target_hsv], [0, 1], roiHist, [0, 180, 0, 256], 1)\n",
    "    cv.imshow(\"backProjectionDemo\", dst)\n",
    "\n",
    "def hist2d_demo(image):\n",
    "    hsv = cv.cvtColor(image, cv.COLOR_BGR2HSV)\n",
    "    hist = cv.calcHist([hsv], [0, 1], None, [32, 32], [0, 180, 0, 256])\n",
    "    dst = cv.resize(hist, (400, 400))\n",
    "    cv.imshow(\"image\", image)\n",
    "    cv.imshow(\"hist\", dst)\n",
    "    plt.imshow(hist, interpolation='nearest')\n",
    "    plt.title(\"2D Histogram\")\n",
    "    plt.show()\n",
    "\n",
    "\n",
    "back_projection_demo()\n",
    "cv.waitKey(0)\n",
    "\n",
    "cv.destroyAllWindows()"
   ]
  }
 ],
 "metadata": {
  "kernelspec": {
   "display_name": "Python 3",
   "language": "python",
   "name": "python3"
  },
  "language_info": {
   "codemirror_mode": {
    "name": "ipython",
    "version": 3
   },
   "file_extension": ".py",
   "mimetype": "text/x-python",
   "name": "python",
   "nbconvert_exporter": "python",
   "pygments_lexer": "ipython3",
   "version": "3.7.4"
  }
 },
 "nbformat": 4,
 "nbformat_minor": 4
}
