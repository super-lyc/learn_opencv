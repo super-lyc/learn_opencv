{
 "cells": [
  {
   "cell_type": "code",
   "execution_count": 2,
   "metadata": {},
   "outputs": [],
   "source": [
    "import cv2 as cv\n",
    "import numpy as np\n",
    "\n",
    "image = np.zeros((512, 512, 3), dtype=np.uint8)      #生成全黑的背景图\n",
    "\n",
    "cv.rectangle(image, (100, 100), (300, 300), (255, 0, 0), 2, cv.LINE_8, 0)    #参数：左上角和右下角坐标，曲线的颜色，线宽=2个像素\n",
    "cv.circle(image, (256, 256), 50, (0, 0, 255), 2, cv.LINE_8, 0)   #参数：圆心坐标，半径\n",
    "cv.ellipse(image, (256, 256), (150, 50), 360, 0, 360, (0, 255, 0), 2, cv.LINE_8, 0) #中心坐标，长轴和短轴，全封闭\n",
    "cv.imshow(\"image\", image)\n",
    "cv.waitKey(0)\n",
    "\n",
    "for i in range(100000):             #循环绘制100000条曲线\n",
    "    image[:,:,:]= 0     \n",
    "    x1 = np.random.rand() * 512     #生成0~1之间的浮点数并乘以512仍为浮点数\n",
    "    y1 = np.random.rand() * 512\n",
    "    x2 = np.random.rand() * 512\n",
    "    y2 = np.random.rand() * 512\n",
    "\n",
    "    b = np.random.randint(0, 256)     \n",
    "    g = np.random.randint(0, 256) \n",
    "    r = np.random.randint(0, 256)\n",
    "    image1=cv.line(image, (np.int(x1), np.int(y1)), (np.int(x2), np.int(y2)), (b, g, r), 4, cv.LINE_8, 0)\n",
    "    image2=cv.rectangle(image, (np.int(x1), np.int(y1)), (np.int(x2), np.int(y2)), (b, g, r), 1, cv.LINE_8, 0)\n",
    "    cv.imshow(\"line\", image1)\n",
    "    cv.imshow('rectangle',image2)\n",
    "    c = cv.waitKey(20)\n",
    "    if c == 27:\n",
    "        break  # ESC不\n",
    "\n",
    "\n",
    "cv.imshow(\"image\", image)\n",
    "cv.waitKey(0)\n",
    "cv.destroyAllWindows()"
   ]
  },
  {
   "cell_type": "code",
   "execution_count": null,
   "metadata": {},
   "outputs": [],
   "source": []
  }
 ],
 "metadata": {
  "kernelspec": {
   "display_name": "Python 3",
   "language": "python",
   "name": "python3"
  },
  "language_info": {
   "codemirror_mode": {
    "name": "ipython",
    "version": 3
   },
   "file_extension": ".py",
   "mimetype": "text/x-python",
   "name": "python",
   "nbconvert_exporter": "python",
   "pygments_lexer": "ipython3",
   "version": "3.7.4"
  }
 },
 "nbformat": 4,
 "nbformat_minor": 4
}
