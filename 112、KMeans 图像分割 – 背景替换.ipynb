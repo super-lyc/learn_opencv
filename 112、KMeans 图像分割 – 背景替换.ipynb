{
 "cells": [
  {
   "cell_type": "raw",
   "metadata": {},
   "source": [
    "KMeans可以实现简单的证件照片的背景分割提取与替换，大致可以分为如下几步实现\n",
    "1.\t读入图像建立KMenas样本\n",
    "2.\t使用KMeans图像分割，指定指定分类数目\n",
    "3.\t取左上角的label得到背景cluster index\n",
    "4.\t生成mask区域，然后高斯模糊进行背景替换"
   ]
  },
  {
   "cell_type": "code",
   "execution_count": 6,
   "metadata": {},
   "outputs": [],
   "source": [
    "import numpy as np\n",
    "import cv2 as cv\n",
    "\n",
    "file=r'C:\\Users\\luo yong chen\\Pictures\\toux.jpg'\n",
    "image = cv.imread(file)\n",
    "cv.imshow(\"input\", image)\n",
    "h, w ,ch = image.shape\n",
    "# 构建图像数据\n",
    "data = image.reshape((-1,3))\n",
    "data = np.float32(data)\n",
    "\n",
    "# 图像分割\n",
    "criteria = (cv.TERM_CRITERIA_EPS + cv.TERM_CRITERIA_MAX_ITER, 10, 1.0)\n",
    "num_clusters = 4\n",
    "ret,label,center=cv.kmeans(data, num_clusters, None, criteria, num_clusters, cv.KMEANS_RANDOM_CENTERS)\n",
    "\n",
    "# 生成mask区域\n",
    "index = label[0][0]\n",
    "center = np.uint8(center)\n",
    "color = center[0]\n",
    "mask = np.zeros((h, w), dtype=np.uint8)\n",
    "label = np.reshape(label, (h, w))\n",
    "mask[label == index] = 255\n",
    "\n",
    "# 高斯模糊\n",
    "se = cv.getStructuringElement(cv.MORPH_RECT, (3, 3))\n",
    "cv.dilate(mask, se, mask)\n",
    "mask = cv.GaussianBlur(mask, (5, 5), 0)\n",
    "cv.imshow('background-mask',mask)\n",
    "\n",
    "# blend image\n",
    "result = np.zeros((h, w, ch), dtype=np.uint8)\n",
    "for row in range(h):\n",
    "    for col in range(w):\n",
    "        w1 = mask[row, col] / 255.0#生成权重\n",
    "        b, g, r = image[row, col]\n",
    "        b = w1 * 255.0 + b * (1.0 - w1)\n",
    "        g = w1 * 0 + g * (1.0 - w1)\n",
    "        r = w1 * 255 + r * (1.0 - w1)\n",
    "        result[row, col] = (b, g, r)\n",
    "cv.imshow(\"background substitution\", result)\n",
    "\n",
    "cv.waitKey(0)\n",
    "cv.destroyAllWindows()"
   ]
  },
  {
   "cell_type": "code",
   "execution_count": null,
   "metadata": {},
   "outputs": [],
   "source": []
  }
 ],
 "metadata": {
  "kernelspec": {
   "display_name": "Python 3",
   "language": "python",
   "name": "python3"
  },
  "language_info": {
   "codemirror_mode": {
    "name": "ipython",
    "version": 3
   },
   "file_extension": ".py",
   "mimetype": "text/x-python",
   "name": "python",
   "nbconvert_exporter": "python",
   "pygments_lexer": "ipython3",
   "version": "3.7.6"
  }
 },
 "nbformat": 4,
 "nbformat_minor": 4
}
