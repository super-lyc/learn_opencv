{
 "cells": [
  {
   "cell_type": "raw",
   "metadata": {},
   "source": [
    "GFTT(good feature to track)该方法是基于shi-tomas角点检测变化而来的一种特征提取方法，OpenCV创建该检测器的API与goodfeaturetotrack的API参数极其类似：\n",
    "Ptr<GFTTDetector> cv::GFTTDetector::create(\n",
    "\tint maxCorners = 1000,\n",
    "\tdouble qualityLevel = 0.01,\n",
    "\tdouble minDistance = 1,\n",
    "\tint blockSize = 3,\n",
    "\tbool useHarrisDetector = false,\n",
    "\tdouble k = 0.04 \n",
    ")\n",
    "唯一不同的，该方法返回一个指针。\n",
    "\n",
    "PS:\n",
    "需要注意的是该方法无法提取描述子，只支持提取关键点！"
   ]
  },
  {
   "cell_type": "code",
   "execution_count": 10,
   "metadata": {},
   "outputs": [],
   "source": [
    "import cv2 as cv\n",
    "\n",
    "file=r'C:\\Users\\luo yong chen\\Pictures\\dog1.png'#索引图像\n",
    "image = cv.imread(file)\n",
    "cv.imshow(\"input\", image)\n",
    "\n",
    "# 创建GFTT特征检测器\n",
    "gftt = cv.GFTTDetector_create(100, 0.01,1, 3, False, 0.04)\n",
    "kp1 = gftt.detect(image,None)\n",
    "\n",
    "result = cv.drawKeypoints(image, kp1, None, (0, 255, 0), cv.DrawMatchesFlags_DEFAULT)\n",
    "\n",
    "cv.imshow(\"GFTT-Keypoint-Detect\", result)\n",
    "cv.waitKey(0)\n",
    "cv.destroyAllWindows()"
   ]
  },
  {
   "cell_type": "code",
   "execution_count": null,
   "metadata": {},
   "outputs": [],
   "source": []
  }
 ],
 "metadata": {
  "kernelspec": {
   "display_name": "Python 3",
   "language": "python",
   "name": "python3"
  },
  "language_info": {
   "codemirror_mode": {
    "name": "ipython",
    "version": 3
   },
   "file_extension": ".py",
   "mimetype": "text/x-python",
   "name": "python",
   "nbconvert_exporter": "python",
   "pygments_lexer": "ipython3",
   "version": "3.7.6"
  }
 },
 "nbformat": 4,
 "nbformat_minor": 4
}
