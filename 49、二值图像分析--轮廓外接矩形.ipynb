{
 "cells": [
  {
   "cell_type": "raw",
   "metadata": {},
   "source": [
    "对图像二值图像的每个轮廓，OpenCV都提供了API可以求取轮廓的外接矩形，其中求取轮廓外接矩形有两种方式，一种是可以基于像素的最大外接轮廓矩形"
   ]
  },
  {
   "cell_type": "code",
   "execution_count": null,
   "metadata": {},
   "outputs": [],
   "source": [
    "cv.boundingRect(InputArray points)\n",
    "输入参数points可以一系列点的集合，对轮廓来说就是该轮廓的点集\n",
    "返回结果是一个矩形，x, y, w, h\n",
    "\n",
    "cv.minAreaRect(InputArray points)\n",
    "输入参数points可以一系列点的集合，对轮廓来说就是该轮廓的点集\n",
    "返回结果是一个旋转矩形，包含下面的信息：\n",
    "-\t矩形中心位置\n",
    "-\t矩形的宽高\n",
    "-\t旋转角度"
   ]
  },
  {
   "cell_type": "code",
   "execution_count": 1,
   "metadata": {},
   "outputs": [
    {
     "ename": "ValueError",
     "evalue": "not enough values to unpack (expected 3, got 2)",
     "output_type": "error",
     "traceback": [
      "\u001b[1;31m---------------------------------------------------------------------------\u001b[0m",
      "\u001b[1;31mValueError\u001b[0m                                Traceback (most recent call last)",
      "\u001b[1;32m<ipython-input-1-ed362530f51f>\u001b[0m in \u001b[0;36m<module>\u001b[1;34m\u001b[0m\n\u001b[0;32m     20\u001b[0m \u001b[1;33m\u001b[0m\u001b[0m\n\u001b[0;32m     21\u001b[0m \u001b[1;31m# 轮廓发现，因为是最外层轮廓，故用RETR_EXTERNAL表示只检测外轮廓\u001b[0m\u001b[1;33m\u001b[0m\u001b[1;33m\u001b[0m\u001b[1;33m\u001b[0m\u001b[0m\n\u001b[1;32m---> 22\u001b[1;33m \u001b[0mout\u001b[0m\u001b[1;33m,\u001b[0m \u001b[0mcontours\u001b[0m\u001b[1;33m,\u001b[0m \u001b[0mhierarchy\u001b[0m \u001b[1;33m=\u001b[0m \u001b[0mcv\u001b[0m\u001b[1;33m.\u001b[0m\u001b[0mfindContours\u001b[0m\u001b[1;33m(\u001b[0m\u001b[0mbinary\u001b[0m\u001b[1;33m,\u001b[0m \u001b[0mcv\u001b[0m\u001b[1;33m.\u001b[0m\u001b[0mRETR_EXTERNAL\u001b[0m\u001b[1;33m,\u001b[0m \u001b[0mcv\u001b[0m\u001b[1;33m.\u001b[0m\u001b[0mCHAIN_APPROX_SIMPLE\u001b[0m\u001b[1;33m)\u001b[0m\u001b[1;33m\u001b[0m\u001b[1;33m\u001b[0m\u001b[0m\n\u001b[0m\u001b[0;32m     23\u001b[0m \u001b[1;33m\u001b[0m\u001b[0m\n\u001b[0;32m     24\u001b[0m \u001b[1;31m#最小外接矩形\u001b[0m\u001b[1;33m\u001b[0m\u001b[1;33m\u001b[0m\u001b[1;33m\u001b[0m\u001b[0m\n",
      "\u001b[1;31mValueError\u001b[0m: not enough values to unpack (expected 3, got 2)"
     ]
    }
   ],
   "source": [
    "import cv2 as cv\n",
    "import numpy as np\n",
    "\n",
    "def canny_demo(image):\n",
    "    t = 80\n",
    "    canny_output = cv.Canny(image, t, t * 2)\n",
    "    cv.imshow(\"canny_output\", canny_output)\n",
    "\n",
    "    return canny_output\n",
    "\n",
    "file=r'C:\\Users\\luo yong chen\\Pictures\\stuff.jpg'\n",
    "src=cv.imread(file)\n",
    "cv.namedWindow(\"input\", cv.WINDOW_AUTOSIZE)\n",
    "cv.imshow(\"input\", src)\n",
    "image=np.copy(src)\n",
    "binary = canny_demo(src)\n",
    "k = np.ones((3, 3), dtype=np.uint8)\n",
    "binary = cv.morphologyEx(binary, cv.MORPH_DILATE, k)#形态学操作膨胀，边缘检测之后有些线是断开的，需要把他们连接起来\n",
    "cv.imshow('after dilated',binary)\n",
    "\n",
    "# 轮廓发现，因为是最外层轮廓，故用RETR_EXTERNAL表示只检测外轮廓\n",
    "out, contours, hierarchy = cv.findContours(binary, cv.RETR_EXTERNAL, cv.CHAIN_APPROX_SIMPLE)\n",
    "\n",
    "#最小外接矩形\n",
    "for c in range(len(contours)):\n",
    "    rect = cv.minAreaRect(contours[c])\n",
    "    print(rect)\n",
    "    cx, cy = rect[0]              #矩形中心位置\n",
    "    box = cv.boxPoints(rect)      #生成点集\n",
    "    box = np.int0(box)            #把float类型转化成int型，int0=int64\n",
    "    cv.drawContours(src,[box],0,(0,0,255),2)\n",
    "    cv.circle(src, (np.int32(cx), np.int32(cy)), 2, (255, 0, 0), 2, 8, 0)\n",
    "\n",
    "#最大外接矩形\n",
    "for c in range(len(contours)):\n",
    "    x, y, w, h = cv.boundingRect(contours[c]);\n",
    "    #cv.drawContours(image, contours, c, (0, 0, 255), 2, 8)\n",
    "    cv.rectangle(image, (x, y), (x+w, y+h), (0, 0, 255), 1, 8, 0)\n",
    "    \n",
    "#显示\n",
    "cv.imshow(\"min rect\", src)\n",
    "cv.imshow('max rect', image)\n",
    "cv.waitKey(0)\n",
    "cv.destroyAllWindows()"
   ]
  },
  {
   "cell_type": "code",
   "execution_count": null,
   "metadata": {},
   "outputs": [],
   "source": []
  }
 ],
 "metadata": {
  "kernelspec": {
   "display_name": "Python 3",
   "language": "python",
   "name": "python3"
  },
  "language_info": {
   "codemirror_mode": {
    "name": "ipython",
    "version": 3
   },
   "file_extension": ".py",
   "mimetype": "text/x-python",
   "name": "python",
   "nbconvert_exporter": "python",
   "pygments_lexer": "ipython3",
   "version": "3.7.4"
  }
 },
 "nbformat": 4,
 "nbformat_minor": 4
}
