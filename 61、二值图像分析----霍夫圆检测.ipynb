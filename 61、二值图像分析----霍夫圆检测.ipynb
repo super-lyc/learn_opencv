{
 "cells": [
  {
   "cell_type": "raw",
   "metadata": {},
   "source": [
    "1.霍夫圆变换的基本原理和霍夫线变换原理类似，只是点对应的二维极径、极角空间被三维的圆心和半径空间取代。在标准霍夫圆变换中，原图像的边缘图像的任意点对应的经过这个点的所有可能圆在三维空间用圆心和半径这三个参数来表示，其对应一条三维空间的曲线。对于多个边缘点，点越多，这些点对应的三维空间曲线交于一点的数量越多，那么他们经过的共同圆上的点就越多，类似的我们也就可以用同样的阈值的方法来判断一个圆是否被检测到，这就是标准霍夫圆变换的原理， 但也正是在三维空间的计算量大大增加的原因，标准霍夫圆变化很难被应用到实际中。\n",
    "\n",
    "2.OpenCV实现的是一个比标准霍夫圆变换更为灵活的检测方法——霍夫梯度法，该方法运算量相对于标准霍夫圆变换大大减少。其检测原理是依据圆心一定是在圆上的每个点的模向量上，这些圆上点模向量的交点就是圆心，霍夫梯度法的第一步就是找到这些圆心，这样三维的累加平面就又转化为二维累加平面。第二步是根据所有候选中心的边缘非0像素对其的支持程度来确定半径。注：模向量即是圆上点的切线的垂直线。"
   ]
  },
  {
   "cell_type": "raw",
   "metadata": {},
   "source": [
    "标准霍夫圆变换：\n",
    "在笛卡尔坐标系中，圆可以表示为：(x-a)^2+(y-b)^2=r^2。在极坐标中可以表示为x=a+rcosθ,y=b+rsinθ；即a=x-rcosθ,b=y-rsinθ,所以在abr的三位坐标系中，一个点可以唯一确定一个圆，而在笛卡尔的xy坐标系中经过某一点的所有圆映射到abr坐标系中就是一条三维的曲线，经过xy坐标系中所有的非零像素点的所有圆就构成了abr坐标系中很多条三维的曲线。在xy坐标系中同一个圆上的所有点的圆方程是一样的，它们映射到abr坐标系中的是同一个点，所以在abr坐标系中该点就应该有圆的总像素N0个曲线相交。通过判断abr中每一点的相交（累积）数量，大于一定阈值的点就认为是圆。问题是它的累加面对一个三维的空间，意味着比霍夫线变换需要更多的计算消耗。\n",
    "\n",
    "Opencv霍夫圆变换：\n",
    "Opencv霍夫圆变换对标准霍夫圆变换做了运算上的优化。它采用的是“霍夫梯度法”。它的检测思路是去遍历累加所有非零点对应的圆心，对圆心进行考量。如何定位圆心呢？圆心一定是在圆上的每个点的模向量上，即在垂直于该点并且经过该点的切线的垂直线上，这些圆上的模向量的交点就是圆心。"
   ]
  },
  {
   "cell_type": "raw",
   "metadata": {},
   "source": [
    "cv2.HoughCircles(image, method, dp, minDist, circles=None, param1, param2, minRadius=None, maxRadius=None)\n",
    "其中：\n",
    "image:8位，单通道图像。如果使用彩色图像，需要先转换为灰度图像,因为要使用梯度，故用的是灰度图像\n",
    "method：定义检测图像中圆的方法。目前唯一实现的方法是cv2.HOUGH_GRADIENT。\n",
    "dp：累加器分辨率与图像分辨率的反比。dp获取越大，累加器数组越小。\n",
    "minDist：检测到的圆的中心，（x,y）坐标之间的最小距离。如果minDist太小，则可能导致检测到多个相邻的圆。如果minDist太大，则可能导致很多圆检测不到。\n",
    "param1：用于处理边缘检测的梯度值方法。\n",
    "param2：cv2.HOUGH_GRADIENT方法的累加器阈值。阈值越小，检测到的圈子越多。\n",
    "minRadius：半径的最小大小（以像素为单位）。\n",
    "maxRadius：半径的最大大小（以像素为单位）。"
   ]
  },
  {
   "cell_type": "raw",
   "metadata": {},
   "source": [
    "霍夫圆检测对噪声比较敏感，故最好提前做一个高斯的滤波，滤波的核需要比较大"
   ]
  },
  {
   "cell_type": "code",
   "execution_count": 26,
   "metadata": {},
   "outputs": [
    {
     "name": "stdout",
     "output_type": "stream",
     "text": [
      "[217.  105.   41.6]\n",
      "[305. 121.  30.]\n",
      "[257.  235.   39.4]\n",
      "[327.  189.   39.2]\n",
      "[193.  181.   41.6]\n",
      "[323. 257.  30.]\n",
      "[141. 115.  37.]\n",
      "[187.  253.   30.4]\n",
      "[261.  161.   30.6]\n",
      "[139.65     114.45      36.379997]\n",
      "[192.15 181.65  41.  ]\n",
      "[326.55 187.95  41.  ]\n",
      "[255.15    236.24998  41.     ]\n",
      "[217.34999  106.049995  41.      ]\n",
      "[305.55     120.74999   29.029999]\n",
      "[200.54999 173.24998  52.55   ]\n",
      "[261.44998 162.75     29.45   ]\n",
      "[206.84999 162.75     47.93   ]\n",
      "[324.44998 257.25     30.29   ]\n",
      "[187.95    250.94998  29.24   ]\n",
      "[217.34999 156.45     52.55   ]\n",
      "[208.95      99.74999   31.759998]\n",
      "[242.54999 244.65     54.86   ]\n",
      "[227.84999  99.74999  31.55   ]\n",
      "[225.74998  175.34999   31.759998]\n"
     ]
    }
   ],
   "source": [
    "import cv2 as cv\n",
    "import numpy as np\n",
    "\n",
    "file1=r'C:\\Users\\luo yong chen\\Pictures\\coins.jpg'\n",
    "src1=cv.imread(file1)\n",
    "cv.imshow(\"input\", src1)\n",
    "gray1 = cv.cvtColor(src1, cv.COLOR_BGR2GRAY)\n",
    "cv.imshow('gray',gray1)\n",
    "gray = cv.GaussianBlur(gray1, (9, 9), 2, 2)\n",
    "\n",
    "file2=r'C:\\Users\\luo yong chen\\Pictures\\circles.png'\n",
    "src2=cv.imread(file2)\n",
    "cv.imshow(\"input\", src2)\n",
    "gray2 = cv.cvtColor(src2, cv.COLOR_BGR2GRAY)\n",
    "cv.imshow('gray',gray2)\n",
    "gray2 = cv.GaussianBlur(gray2, (9, 9), 2, 2)\n",
    "\n",
    "\n",
    "dp_1 = 2     #dp对检测的结果有很大的影响\n",
    "param1_1 = 100\n",
    "param2_1 = 100          \n",
    "circles1 = cv.HoughCircles(gray, cv.HOUGH_GRADIENT, dp_1, 10, None, param1_1, param2_1, 20, 100)\n",
    "for c in circles1[0,:]:\n",
    "    print(c)\n",
    "    cx, cy, r = c\n",
    "    cv.circle(src1, (cx, cy), 2, (0, 255, 0), 2, 8, 0)#绘制圆心\n",
    "    cv.circle(src1, (cx, cy), r, (0, 0, 255), 2, 8, 0)#绘制圆的轮廓\n",
    "    \n",
    "#练手，调参\n",
    "dp_2 = 2.1   #dp对检测的结果有很大的影响\n",
    "param1_2 = 100\n",
    "param2_2 = 100          #更改成80会得到凭空检测出来的圆\n",
    "circles2 = cv.HoughCircles(gray, cv.HOUGH_GRADIENT, dp_2, 10, None, param1_2, param2_2, 20, 100)\n",
    "for c in circles2[0,:]:\n",
    "    print(c)\n",
    "    cx, cy, r = c\n",
    "    cv.circle(src2, (cx, cy), 2, (0, 255, 0), 2, 8, 0)#绘制圆心\n",
    "    cv.circle(src2, (cx, cy), r, (0, 0, 255), 2, 8, 0)#绘制圆的轮廓\n",
    "    \n",
    "# 显示\n",
    "cv.imshow(\"hough circle detect1\", src1)\n",
    "cv.imshow(\"hough circle detect2\", src2)\n",
    "\n",
    "cv.waitKey(0)\n",
    "cv.destroyAllWindows()"
   ]
  },
  {
   "cell_type": "code",
   "execution_count": null,
   "metadata": {},
   "outputs": [],
   "source": []
  }
 ],
 "metadata": {
  "kernelspec": {
   "display_name": "Python 3",
   "language": "python",
   "name": "python3"
  },
  "language_info": {
   "codemirror_mode": {
    "name": "ipython",
    "version": 3
   },
   "file_extension": ".py",
   "mimetype": "text/x-python",
   "name": "python",
   "nbconvert_exporter": "python",
   "pygments_lexer": "ipython3",
   "version": "3.7.6"
  }
 },
 "nbformat": 4,
 "nbformat_minor": 4
}
