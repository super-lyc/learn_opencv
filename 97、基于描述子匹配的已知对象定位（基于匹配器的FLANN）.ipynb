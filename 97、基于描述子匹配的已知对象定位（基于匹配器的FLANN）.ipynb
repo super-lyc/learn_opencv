{
 "cells": [
  {
   "cell_type": "code",
   "execution_count": 1,
   "metadata": {},
   "outputs": [],
   "source": [
    "import numpy as np\n",
    "import cv2 as cv\n",
    "\n",
    "file1=r'C:\\Users\\luo yong chen\\Pictures\\box.png'#索引图像\n",
    "img1 = cv.imread(file1)\n",
    "file2 =r'C:\\Users\\luo yong chen\\Pictures\\box_in_scene.png'#训练图像\n",
    "img2 = cv.imread(file2)\n",
    "# 初始化SIFT描述符\n",
    "sift = cv.xfeatures2d.SIFT_create()\n",
    "# 基于SIFT找到关键点和描述符\n",
    "kp1, des1 = sift.detectAndCompute(img1,None)\n",
    "kp2, des2 = sift.detectAndCompute(img2,None)\n",
    "# FLANN的参数\n",
    "FLANN_INDEX_KDTREE = 1\n",
    "index_params = dict(algorithm = FLANN_INDEX_KDTREE, trees = 5)\n",
    "search_params = dict(checks=50) # 或传递一个空字典\n",
    "flann = cv.FlannBasedMatcher(index_params,search_params)\n",
    "matches = flann.knnMatch(des1,des2,k=2)\n",
    "# 只需要绘制好匹配项，因此创建一个掩码\n",
    "matchesMask = [[0,0] for i in range(len(matches))]\n",
    "# 根据Lowe的论文进行比例测试\n",
    "for i,(m,n) in enumerate(matches):\n",
    "    if m.distance < 0.7*n.distance:\n",
    "        matchesMask[i]=[1,0]\n",
    "draw_params = dict(matchColor = (0,255,0),\n",
    "singlePointColor = (255,0,0),\n",
    "matchesMask = matchesMask,\n",
    "flags = cv.DrawMatchesFlags_DEFAULT)\n",
    "img3 = cv.drawMatchesKnn(img1,kp1,img2,kp2,matches,None,**draw_params)\n",
    "cv.imshow('result',img3)\n",
    "cv.waitKey()\n",
    "cv.destroyAllWindows()"
   ]
  },
  {
   "cell_type": "code",
   "execution_count": null,
   "metadata": {},
   "outputs": [],
   "source": []
  }
 ],
 "metadata": {
  "kernelspec": {
   "display_name": "Python 3",
   "language": "python",
   "name": "python3"
  },
  "language_info": {
   "codemirror_mode": {
    "name": "ipython",
    "version": 3
   },
   "file_extension": ".py",
   "mimetype": "text/x-python",
   "name": "python",
   "nbconvert_exporter": "python",
   "pygments_lexer": "ipython3",
   "version": "3.7.6"
  }
 },
 "nbformat": 4,
 "nbformat_minor": 4
}
