{
 "cells": [
  {
   "cell_type": "raw",
   "metadata": {},
   "source": [
    "OpenCV中的自适应阈值算法主要是基于均值实现，根据计算均值的方法不同分为盒子模糊均值与高斯模糊均值，然后使用原图减去均值图像，得到的差值图像进行自适应分割"
   ]
  },
  {
   "cell_type": "raw",
   "metadata": {},
   "source": [
    "dst=cv.adaptiveThreshold( src,maxValue, adaptiveMethod, thresholdType, blockSize,double C)\n",
    "src:输入灰度图\n",
    "maxval:预设满足条件的最大值\n",
    "adaptiveMethod：指定自适应方法类型，ADAPTIVE_THRESH_GAUSSIAN_C = 1 高斯模糊，ADAPTIVE_THRESH_MEAN_C = 0  算数平均\n",
    "thresholdType：指定阈值类型，可选择THRESH_BINARY或者THRESH_BINARY_INV两种。（即二进制阈值或反二进制阈值）。\n",
    "blocksize:表示邻域块大小，用来计算区域阈值，一般选择为3、5、7......等\n",
    "C:参数C表示与算法有关的参数，它是一个从均值或加权均值提取的常数，可以是负数。"
   ]
  },
  {
   "cell_type": "raw",
   "metadata": {},
   "source": [
    "自适应阈值化计算大概过程是为每一个象素点单独计算的阈值，即每个像素点的阈值都是不同的，就是将该像素点周围B*B区域内的像素加权平均，然后减去一个常数C，从而得到该点的阈值。B由blocksize指定，常数C由参数C指定。\n",
    "ADAPTIVE_THRESH_MEAN_C，为局部邻域块的平均值。该算法是先求出块中的均值，再减去常数C。\n",
    "ADAPTIVE_THRESH_GAUSSIAN_C ，为局部邻域块的高斯加权和。该算法是在区域中（x，y）周围的像素根据高斯函数按照他们离中心点的距离进行加权计算， 再减去常数C。\n",
    "\n",
    "举个例子：如果使用平均值方法，平均值mean为190，差值delta（即常数C）为30。那么灰度小于160的像素为0，大于等于160的像素为255。当反向二值化时，小于160的为255，大于的为0。"
   ]
  },
  {
   "cell_type": "code",
   "execution_count": null,
   "metadata": {},
   "outputs": [],
   "source": [
    "在光照不均匀的情况下，自适应阈值分割效果要比权值阈值分割好"
   ]
  },
  {
   "cell_type": "code",
   "execution_count": 5,
   "metadata": {},
   "outputs": [
    {
     "name": "stdout",
     "output_type": "stream",
     "text": [
      "ret2: 131.0\n",
      "ret3: 240.0\n"
     ]
    }
   ],
   "source": [
    "import cv2 as cv\n",
    "import numpy as np\n",
    "\n",
    "#\n",
    "# THRESH_BINARY = 0\n",
    "# THRESH_BINARY_INV = 1\n",
    "# THRESH_TRUNC = 2\n",
    "# THRESH_TOZERO = 3\n",
    "# THRESH_TOZERO_INV = 4\n",
    "#\n",
    "file=r'C:\\Users\\luo yong chen\\Pictures\\text1.png'\n",
    "src=cv.imread(file)\n",
    "cv.namedWindow(\"input\", cv.WINDOW_AUTOSIZE)\n",
    "cv.imshow(\"input\", src)\n",
    "h, w = src.shape[:2]\n",
    "\n",
    "\n",
    "# 自适应阈值分割 \n",
    "gray = cv.cvtColor(src, cv.COLOR_BGR2GRAY)\n",
    "binary1 = cv.adaptiveThreshold(gray, 255, cv.ADAPTIVE_THRESH_MEAN_C, cv.THRESH_BINARY, 25, 10)\n",
    "cv.imshow(\"adaptive binary\", binary1)\n",
    "\n",
    "#OTSU阈值算法\n",
    "ret2,binary2 = cv.threshold(gray, 0, 255, cv.THRESH_BINARY | cv.THRESH_OTSU)#第二个参数可以设置成任意值\n",
    "print(\"ret2:\", ret2)\n",
    "cv.imshow(\"OTSU binary\", binary2)\n",
    "\n",
    "#三角阈值算法\n",
    "ret3,binary3 = cv.threshold(gray, 0, 255, cv.THRESH_BINARY | cv.THRESH_TRIANGLE)\n",
    "print(\"ret3:\",ret3)\n",
    "cv.imshow(\"triangle binary\", binary3)\n",
    "\n",
    "result = np.zeros([h, w*2, 3], dtype=src.dtype)\n",
    "result[0:h,0:w,:] = src\n",
    "result[0:h,w:2*w,:] = cv.cvtColor(binary, cv.COLOR_GRAY2BGR)\n",
    "cv.putText(result, \"input\", (10, 30), cv.FONT_ITALIC, 1.0, (0, 0, 255), 2)\n",
    "cv.putText(result, \"adaptive threshold\", (w+10, 30), cv.FONT_ITALIC, 1.0, (0, 0, 255), 2)\n",
    "cv.imshow(\"result\", result)\n",
    "cv.imwrite(\"D:/binary_result.png\", result)\n",
    "\n",
    "cv.waitKey(0)\n",
    "cv.destroyAllWindows()"
   ]
  },
  {
   "cell_type": "code",
   "execution_count": null,
   "metadata": {},
   "outputs": [],
   "source": []
  }
 ],
 "metadata": {
  "kernelspec": {
   "display_name": "Python 3",
   "language": "python",
   "name": "python3"
  },
  "language_info": {
   "codemirror_mode": {
    "name": "ipython",
    "version": 3
   },
   "file_extension": ".py",
   "mimetype": "text/x-python",
   "name": "python",
   "nbconvert_exporter": "python",
   "pygments_lexer": "ipython3",
   "version": "3.7.6"
  }
 },
 "nbformat": 4,
 "nbformat_minor": 4
}
