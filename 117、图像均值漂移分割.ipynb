{
 "cells": [
  {
   "cell_type": "raw",
   "metadata": {},
   "source": [
    "图像均值漂移分割是一种无监督的图像分割方法，前面我们在跟踪相关的内容介绍过均值迁移算法，知道均值迁移可以找到图像中特征直方图空间的峰值分布，这里我们还是使用均值迁移，让它去不断分割找到空间颜色分布的峰值，然后根据峰值进行相似度合并，解决过度分割问题，得到最终的分割图像，对于图像多维度数据颜色值(RGB)与空间位置(x,y)，所以需要两个窗口半径，一个是空间半径、另外一个是颜色半径，经过均值漂移窗口的所有的像素点会具有相同的像素值，OpenCV中均值漂移分割的API如下：\n",
    "\n",
    "基于金字塔的均值漂移\n",
    "void cv::pyrMeanShiftFiltering(\n",
    "\tInputArray src,\n",
    "\tOutputArray dst,\n",
    "\tdouble sp,\n",
    "\tdouble sr,\n",
    "\tint maxLevel = 1,\n",
    "\tTermCriteria termcrit = TermCriteria(TermCriteria::MAX_ITER+TermCriteria::EPS, 5, 1) \n",
    ")\n",
    "src 输入图像，可以是单通道、多通道\n",
    "dst输出结果\n",
    "sp 表示空间窗口大小\n",
    "sr 表示表示颜色空间\n",
    "maxLevel表示金字塔层数，总层数为maxlevel+1\n",
    "termcrit表示停止条件"
   ]
  },
  {
   "cell_type": "code",
   "execution_count": 2,
   "metadata": {},
   "outputs": [],
   "source": [
    "import cv2 as cv\n",
    "\n",
    "file=r'C:\\Users\\luo yong chen\\Pictures\\flowers.jpg'\n",
    "src = cv.imread(file)\n",
    "cv.imshow(\"input\", src)\n",
    "dst = cv.pyrMeanShiftFiltering(src, 25, 40, None, 2)\n",
    "cv.imshow(\"result\", dst)\n",
    "cv.waitKey(0)\n",
    "cv.destroyAllWindows()"
   ]
  },
  {
   "cell_type": "code",
   "execution_count": null,
   "metadata": {},
   "outputs": [],
   "source": []
  }
 ],
 "metadata": {
  "kernelspec": {
   "display_name": "Python 3",
   "language": "python",
   "name": "python3"
  },
  "language_info": {
   "codemirror_mode": {
    "name": "ipython",
    "version": 3
   },
   "file_extension": ".py",
   "mimetype": "text/x-python",
   "name": "python",
   "nbconvert_exporter": "python",
   "pygments_lexer": "ipython3",
   "version": "3.7.6"
  }
 },
 "nbformat": 4,
 "nbformat_minor": 4
}
