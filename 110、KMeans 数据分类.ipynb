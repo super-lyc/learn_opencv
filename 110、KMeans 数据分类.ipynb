{
 "cells": [
  {
   "cell_type": "raw",
   "metadata": {},
   "source": [
    "K-Means算法的作者是MacQueen， K-Means的算法是对数据进行分类的算法，采用的聚类方式，是属于非监督学习的算法，预先要求知道分为几个类别，然后每个类别有一个中心点，根据距离度量来决定每个数据点属于哪个类别标签，一次循环实现对所有数据点分类之后，会根据标签重新计算各个类型的中心位置，然后继续循环数据集再次分类标签样本数据，如此不断迭代，直到指定的循环数目或者前后两次delta小于指定阈值，停止计算，得到最终各个样本数据的标签。"
   ]
  },
  {
   "cell_type": "raw",
   "metadata": {},
   "source": [
    "OpenCV中KMeans数据分类的API为：\n",
    "double cv::kmeans(\n",
    "\tInputArray data,\n",
    "\tint K,\n",
    "\tInputOutputArray bestLabels,\n",
    "\tTermCriteria criteria,\n",
    "\tint attempts,\n",
    "\tint flags,\n",
    "\tOutputArray centers = noArray() \n",
    ")\n",
    "data表示输入的样本数据，必须是按行组织样本，每一行为一个样本数据，列表示样本的维度\n",
    "K表示最终的分类数目\n",
    "bestLabels 表示最终分类每个样本的标签\n",
    "criteria 表示KMeans分割的停止条件\n",
    "attempts 表示采样不同初始化标签尝试次数\n",
    "flag表示中心初始化方法\n",
    "-\tKMEANS_RANDOM_CENTERS \t\n",
    "-\tKMEANS_PP_CENTERS \t\n",
    "-\tKMEANS_USE_INITIAL_LABELS\n",
    "centers表示最终分割以后的每个cluster的中心位置"
   ]
  },
  {
   "cell_type": "code",
   "execution_count": 3,
   "metadata": {},
   "outputs": [
    {
     "name": "stdout",
     "output_type": "stream",
     "text": [
      "(50, 2)\n",
      "50\n",
      "[[37.76 37.76]\n",
      " [72.84 73.72]]\n"
     ]
    },
    {
     "data": {
      "image/png": "[encoded data removed]",
      "text/plain": [
       "<Figure size 432x288 with 1 Axes>"
      ]
     },
     "metadata": {
      "needs_background": "light"
     },
     "output_type": "display_data"
    }
   ],
   "source": [
    "import numpy as np\n",
    "import cv2\n",
    "from matplotlib import pyplot as plt\n",
    "\n",
    "X = np.random.randint(25,50,(25,2))\n",
    "Y = np.random.randint(60,85,(25,2))\n",
    "pts = np.vstack((X,Y))\n",
    "\n",
    "# 初始化数据\n",
    "data = np.float32(pts)\n",
    "print(data.shape)\n",
    "\n",
    "# 定义停止条件\n",
    "criteria = (cv2.TERM_CRITERIA_EPS + cv2.TERM_CRITERIA_MAX_ITER, 10, 1.0)#计算10次，每次差矩小于1.0\n",
    "ret,label,center=cv2.kmeans(data,2,None,criteria,2,cv2.KMEANS_RANDOM_CENTERS)\n",
    "print(len(label))\n",
    "print(center)\n",
    "\n",
    "# 获取不同标签的点\n",
    "A = data[label.ravel()==0]\n",
    "B = data[label.ravel()==1]\n",
    "\n",
    "# Plot the data\n",
    "plt.scatter(A[:,0],A[:,1])\n",
    "plt.scatter(B[:,0],B[:,1],c = 'r')\n",
    "plt.scatter(center[:,0],center[:,1],s = 80,c = 'y', marker = 's')\n",
    "plt.xlabel('Height'),plt.ylabel('Weight')\n",
    "plt.show()"
   ]
  },
  {
   "cell_type": "code",
   "execution_count": null,
   "metadata": {},
   "outputs": [],
   "source": []
  }
 ],
 "metadata": {
  "kernelspec": {
   "display_name": "Python 3",
   "language": "python",
   "name": "python3"
  },
  "language_info": {
   "codemirror_mode": {
    "name": "ipython",
    "version": 3
   },
   "file_extension": ".py",
   "mimetype": "text/x-python",
   "name": "python",
   "nbconvert_exporter": "python",
   "pygments_lexer": "ipython3",
   "version": "3.7.6"
  }
 },
 "nbformat": 4,
 "nbformat_minor": 4
}
