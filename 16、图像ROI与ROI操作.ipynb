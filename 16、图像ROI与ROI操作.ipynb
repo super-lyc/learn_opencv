{
 "cells": [
  {
   "cell_type": "markdown",
   "metadata": {},
   "source": [
    "# 图像的ROI(region of interest)是指图像中感兴趣区域、在OpenCV中图像设置图像ROI区域，实现只对ROI区域操作。"
   ]
  },
  {
   "cell_type": "raw",
   "metadata": {},
   "source": [
    "1. 矩形ROI区域提取\n",
    "2. 矩形ROI区域copy\n",
    "3. 不规则ROI区域\n",
    "- ROI区域mask生成\n",
    "- 像素位 and操作\n",
    "- 提取到ROI区域\n",
    "- 加背景or操作\n",
    "- add 背景与ROI区域"
   ]
  },
  {
   "cell_type": "code",
   "execution_count": 4,
   "metadata": {},
   "outputs": [],
   "source": [
    "import cv2 as cv\n",
    "import numpy as np\n",
    "\n",
    "filename=r'C:\\Users\\luo yong chen\\Pictures\\flowers.jpg'\n",
    "src=cv.imread(filename)\n",
    "cv.namedWindow(\"input\", cv.WINDOW_AUTOSIZE)\n",
    "cv.imshow(\"input\", src)\n",
    "h, w = src.shape[:2]         #获取图像的高和宽像素\n",
    "\n",
    "# 获取ROI \n",
    "cy = h//2    #ROI的中心y坐标\n",
    "cx = w//2   #ROI的中心X坐标\n",
    "roi = src[cy-100:cy+100,cx-100:cx+100,:]    #设置ROI的区域范围，此时的ROI与SRC是共用同一内存\n",
    "cv.imshow(\"roi\", roi)\n",
    "\n",
    "# copy ROI  \n",
    "image = np.copy(roi)     \n",
    "\n",
    "# modify ROI 修改ROI\n",
    "roi[:, :, 0] = 0\n",
    "cv.imshow(\"src after rio modified\",src)  #因为src与roi共用同一内存，所以修改了roi之后src也会跟着改变\n",
    "\n",
    "# modify copy roi\n",
    "image[:, :, 2] = 0\n",
    "cv.imshow(\"result\",src)\n",
    "cv.imshow(\"copy roi\",image)\n",
    "\n",
    "\n",
    "#不规则ROI区域\n",
    "# example with ROI - generate mask\n",
    "file=r'C:\\Users\\luo yong chen\\Pictures\\test.png'\n",
    "src2=cv.imread(file)\n",
    "cv.imshow(\"src2\", src2)\n",
    "hsv = cv.cvtColor(src2, cv.COLOR_BGR2HSV)\n",
    "mask = cv.inRange(hsv, (35, 43, 46), (99, 255, 255))   #根据HSV的上下限阈值提取图像中相应的区域,生成二值图像，提取部分为白，其它部分为黑\n",
    "cv.imshow('mask without bitwise_not',mask)\n",
    "\n",
    "# extract person ROI\n",
    "mask = cv.bitwise_not(mask)\n",
    "cv.imshow('mask with bitwise_not',mask)\n",
    "person = cv.bitwise_and(src2, src2, mask=mask)\n",
    "cv.imshow('person',person)\n",
    "\n",
    "# generate background\n",
    "background = np.zeros(src2.shape, src2.dtype)\n",
    "background[:,:,0] = 255\n",
    "cv.imshow('backgound',background)\n",
    "\n",
    "# combine background + person\n",
    "mask = cv.bitwise_not(mask)\n",
    "cv.imshow('second mask',mask)\n",
    "dst = cv.bitwise_or(person, background, mask=mask)\n",
    "dst = cv.add(dst, person)\n",
    "\n",
    "cv.imshow(\"dst\", dst)\n",
    "\n",
    "cv.waitKey(0)\n",
    "cv.destroyAllWindows()"
   ]
  },
  {
   "cell_type": "code",
   "execution_count": null,
   "metadata": {},
   "outputs": [],
   "source": []
  }
 ],
 "metadata": {
  "kernelspec": {
   "display_name": "Python 3",
   "language": "python",
   "name": "python3"
  },
  "language_info": {
   "codemirror_mode": {
    "name": "ipython",
    "version": 3
   },
   "file_extension": ".py",
   "mimetype": "text/x-python",
   "name": "python",
   "nbconvert_exporter": "python",
   "pygments_lexer": "ipython3",
   "version": "3.7.4"
  }
 },
 "nbformat": 4,
 "nbformat_minor": 4
}
