{
 "cells": [
  {
   "cell_type": "code",
   "execution_count": 2,
   "metadata": {},
   "outputs": [
    {
     "name": "stdout",
     "output_type": "stream",
     "text": [
      "240.0 320.0 444.0 14.999925000374999\n"
     ]
    }
   ],
   "source": [
    "import cv2 as cv\n",
    "import numpy as np\n",
    "\n",
    "file=r'C:\\Users\\luoyongchen\\Pictures\\tree.avi'\n",
    "capture = cv.VideoCapture(file)\n",
    "# capture = cv.VideoCapture(0) 打开摄像头\n",
    "height = capture.get(cv.CAP_PROP_FRAME_HEIGHT)    #读取视频的高\n",
    "width = capture.get(cv.CAP_PROP_FRAME_WIDTH)      #读取视频的宽\n",
    "count = capture.get(cv.CAP_PROP_FRAME_COUNT)      #读取视频的总帧数\n",
    "fps = capture.get(cv.CAP_PROP_FPS)                #读取FPS，即每秒钟刷新的帧数\n",
    "print(height, width, count, fps)\n",
    "out = cv.VideoWriter(\"D:/test.mp4\", cv.VideoWriter_fourcc('D', 'I', 'V', 'X'), 15,\n",
    "                     (np.int(width), np.int(height)), True)          #写入视频文件（保存路径，保存格式，FPS值）          \n",
    "while True:\n",
    "    ret, frame = capture.read()\n",
    "    if ret is True:\n",
    "        cv.imshow(\"video-input\", frame)\n",
    "        out.write(frame)\n",
    "        c = cv.waitKey(50)\n",
    "        if c == 27: # ESC\n",
    "            break\n",
    "    else:\n",
    "        break\n",
    "\n",
    "capture.release()\n",
    "out.release()\n",
    "cv.waitKey()\n",
    "cv.destroyAllWindows()"
   ]
  },
  {
   "cell_type": "code",
   "execution_count": null,
   "metadata": {},
   "outputs": [],
   "source": [
    "cv.VideoCapture()可以进行视频文件读取，摄像头读取，视频流读取"
   ]
  }
 ],
 "metadata": {
  "kernelspec": {
   "display_name": "Python 3",
   "language": "python",
   "name": "python3"
  },
  "language_info": {
   "codemirror_mode": {
    "name": "ipython",
    "version": 3
   },
   "file_extension": ".py",
   "mimetype": "text/x-python",
   "name": "python",
   "nbconvert_exporter": "python",
   "pygments_lexer": "ipython3",
   "version": "3.7.4"
  }
 },
 "nbformat": 4,
 "nbformat_minor": 4
}
