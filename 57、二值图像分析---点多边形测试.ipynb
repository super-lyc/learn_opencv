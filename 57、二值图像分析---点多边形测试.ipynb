{
 "cells": [
  {
   "cell_type": "raw",
   "metadata": {},
   "source": [
    "对于轮廓图像，有时候还需要判断一个点是在轮廓内部还是外部，OpenCV中实现这个功能的API叫做点多边形测试，它可以准确的得到一个点距离多边形的距离，如果点是轮廓点或者属于轮廓多边形上的点，距离是零，如果是多边形内部的点是是正数，如果是负数返回表示点是外部。"
   ]
  },
  {
   "cell_type": "raw",
   "metadata": {},
   "source": [
    "dist=cv.pointPolygonTest( contour, pt,measureDist )\n",
    "Contour：轮廓所有点的集合\n",
    "Pt： 图像中的任意一点\n",
    "MeasureDist：如果是True，则返回每个点到轮廓的距离，距离值有正有负，正的表示轮廓内的点，负的表示轮廓外的点，0表示在轮廓上；如果是False则返回+1，0，-1三个值，其中+1表示点在轮廓内部，0表示点在轮廓上，-1表示点在轮廓外"
   ]
  },
  {
   "cell_type": "raw",
   "metadata": {},
   "source": [
    "对移动运动物体的范围检测"
   ]
  },
  {
   "cell_type": "code",
   "execution_count": 1,
   "metadata": {},
   "outputs": [],
   "source": [
    "import cv2 as cv\n",
    "import numpy as np\n",
    "\n",
    "file=r'C:\\Users\\luo yong chen\\Pictures\\my_mask.png'\n",
    "src=cv.imread(file)\n",
    "cv.namedWindow(\"input\", cv.WINDOW_AUTOSIZE)\n",
    "cv.imshow(\"input\", src)\n",
    "gray = cv.cvtColor(src, cv.COLOR_BGR2GRAY)\n",
    "ret, binary = cv.threshold(gray, 0, 255, cv.THRESH_BINARY | cv.THRESH_OTSU)\n",
    "cv.imshow(\"binary\", binary)\n",
    "\n",
    "# 轮廓发现\n",
    "image = np.zeros(src.shape, dtype=np.float32)\n",
    "out, contours, hierarchy = cv.findContours(binary, cv.RETR_EXTERNAL, cv.CHAIN_APPROX_SIMPLE)\n",
    "h, w = src.shape[:2]\n",
    "#遍历所有像素点\n",
    "for row in range(h):\n",
    "    for col in range(w):\n",
    "        dist = cv.pointPolygonTest(contours[0], (col, row), True)\n",
    "        if dist == 0:\n",
    "            image[row, col] = (255, 255, 255)\n",
    "        if dist > 0:\n",
    "            image[row, col] = (255-dist, 0, 0)\n",
    "        if dist < 0:\n",
    "            image[row, col] = (0, 0, 255+dist)\n",
    "\n",
    "#转到0~255阈值空间\n",
    "dst = cv.convertScaleAbs(image)\n",
    "#浮点类型转为字节类型\n",
    "dst = np.uint8(dst)\n",
    "\n",
    "# 显示\n",
    "cv.imshow(\"contours_analysis\", dst)\n",
    "cv.waitKey(0)\n",
    "cv.destroyAllWindows()"
   ]
  },
  {
   "cell_type": "code",
   "execution_count": null,
   "metadata": {},
   "outputs": [],
   "source": []
  }
 ],
 "metadata": {
  "kernelspec": {
   "display_name": "Python 3",
   "language": "python",
   "name": "python3"
  },
  "language_info": {
   "codemirror_mode": {
    "name": "ipython",
    "version": 3
   },
   "file_extension": ".py",
   "mimetype": "text/x-python",
   "name": "python",
   "nbconvert_exporter": "python",
   "pygments_lexer": "ipython3",
   "version": "3.7.6"
  }
 },
 "nbformat": 4,
 "nbformat_minor": 4
}
