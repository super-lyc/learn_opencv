{
 "cells": [
  {
   "cell_type": "raw",
   "metadata": {},
   "source": [
    "BRISK(Binary robust invariant scalable keypoints)是一种基于尺度空间不变性类似ORB特征描述子的特征提取算法。BRISK主要步骤可以分为如下两步：\n",
    "1.\t构建尺度空间金字塔实现关键点定位\n",
    "2.\t根据关键点生成描述子"
   ]
  },
  {
   "cell_type": "code",
   "execution_count": 1,
   "metadata": {},
   "outputs": [],
   "source": [
    "import cv2 as cv\n",
    "\n",
    "file1=r'C:\\Users\\luo yong chen\\Pictures\\box.png'#索引图像\n",
    "box = cv.imread(file1)\n",
    "file2 =r'C:\\Users\\luo yong chen\\Pictures\\box_in_scene.png'#训练图像\n",
    "box_in_scene = cv.imread(file2)\n",
    "cv.imshow(\"box\", box)\n",
    "cv.imshow(\"box_in_sence\", box_in_scene)\n",
    "\n",
    "# 创建BRISK特征检测器\n",
    "brisk = cv.BRISK_create()\n",
    "kp1, des1 = brisk.detectAndCompute(box,None)\n",
    "kp2, des2 = brisk.detectAndCompute(box_in_scene,None)\n",
    "\n",
    "# 暴力匹配\n",
    "bf = cv.BFMatcher(cv.NORM_HAMMING, crossCheck=True)\n",
    "matches = bf.match(des1,des2)\n",
    "\n",
    "# 绘制匹配\n",
    "result = cv.drawMatches(box, kp1, box_in_scene, kp2, matches, None)\n",
    "cv.imshow(\"orb-match\", result)\n",
    "cv.waitKey(0)\n",
    "cv.destroyAllWindows()"
   ]
  },
  {
   "cell_type": "code",
   "execution_count": null,
   "metadata": {},
   "outputs": [],
   "source": []
  }
 ],
 "metadata": {
  "kernelspec": {
   "display_name": "Python 3",
   "language": "python",
   "name": "python3"
  },
  "language_info": {
   "codemirror_mode": {
    "name": "ipython",
    "version": 3
   },
   "file_extension": ".py",
   "mimetype": "text/x-python",
   "name": "python",
   "nbconvert_exporter": "python",
   "pygments_lexer": "ipython3",
   "version": "3.7.6"
  }
 },
 "nbformat": 4,
 "nbformat_minor": 4
}
