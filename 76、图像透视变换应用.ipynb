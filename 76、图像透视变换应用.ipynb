{
 "cells": [
  {
   "cell_type": "raw",
   "metadata": {},
   "source": [
    "透视变换(Perspective Transformation)是将成像投影到一个新的视平面(Viewing Plane)，也称作投影映射(Projective Mapping)，图像透视变换应用\n",
    "对于很多的文本扫描图像，有时候因为放置的原因导致ROI区域倾斜，这个时候我们会想办法把它纠正为正确的角度视角来，方便下一步的布局分析与文字识别，这个时候通过透视变换就可以取得比较好的裁剪效果，一步就可以实现裁剪与调整。使用透视变换相关几何变换的好处如下：\n",
    "1.\t透视变换不会涉及到几何变换角度旋转\n",
    "2.\t透视变换对畸变图像有一定的展开效果\n",
    "3.\t透视变换可以完成对图像ROI区域提取"
   ]
  },
  {
   "cell_type": "raw",
   "metadata": {},
   "source": [
    "findHomography： 计算多个二维点对之间的最优单映射变换矩阵 H（3行x3列） ，使用最小均方误差或者RANSAC方法\n",
    "函数功能：找到两个平面之间的转换矩阵。\n",
    "cv::findHomography\t(\tInputArray \tsrcPoints,\n",
    "                InputArray \tdstPoints,\n",
    "                int \tmethod = 0,\n",
    "                double \transacReprojThreshold = 3,\n",
    "                OutputArray \tmask = noArray(),\n",
    "                const int \tmaxIters = 2000,\n",
    "                const double \tconfidence = 0.995 )\n",
    "srcPoints:\t源平面中点的坐标矩阵，可以是CV_32FC2类型，也可以是vector<Point2f>类型\n",
    "dstPoints:\t目标平面中点的坐标矩阵，可以是CV_32FC2类型，也可以是vector<Point2f>类型\n",
    "method:    计算单应矩阵所使用的方法。不同的方法对应不同的参数，具体如下：\n",
    "         0 - 利用所有点的常规方法\n",
    "         RANSAC - RANSAC-基于RANSAC的鲁棒算法\n",
    "         LMEDS - 最小中值鲁棒算法\n",
    "         RHO - PROSAC-基于PROSAC的鲁棒算法 \n",
    "ransacReprojThreshold:将点对视为内点的最大允许重投影错误阈值（仅用于RANSAC和RHO方法）。若srcPoints和dstPoints是以像素为单位的，则该参数                通常设置在1到10的范围内。\n",
    "mask:\t可选输出掩码矩阵，通常由鲁棒算法（RANSAC或LMEDS）设置。 请注意，输入掩码矩阵是不需要设置的。\n",
    "maxIters:\tRANSAC算法的最大迭代次数，默认值为2000。\n",
    "confidence:\t可信度值，取值范围为0到1。"
   ]
  },
  {
   "cell_type": "raw",
   "metadata": {},
   "source": [
    "dst\t=\tcv.warpPerspective(\tsrc, M, dsize[, dst[, flags[, borderMode[, borderValue]]]]\t)\n",
    "src:输入图像\n",
    "M：3x3变换矩阵\n",
    "dsize:输出图像的大小尺寸\n",
    "flags=INTER_LINEAR：输出图像的插值方法\n",
    "borderMode=BORDER_CONSTANT：图像边界的处理方式\n",
    "Scalar& borderValue=Scalar()：边界的颜色设置，一般默认是0"
   ]
  },
  {
   "cell_type": "code",
   "execution_count": 3,
   "metadata": {},
   "outputs": [
    {
     "name": "stdout",
     "output_type": "stream",
     "text": [
      "-40.00936508178711\n",
      "(415.9403076171875, 405.6201171875)\n",
      "(667.0657958984375, 500.1227722167969)\n",
      "[[321 811]\n",
      " [  0 428]\n",
      " [510   0]\n",
      " [832 382]]\n",
      "[[ 6.45668919e-01  7.69371843e-01 -3.29291149e+02]\n",
      " [-7.67203161e-01  6.46700047e-01  3.91273612e+02]\n",
      " [ 2.44305757e-06  3.48659099e-06  1.00000000e+00]]\n"
     ]
    }
   ],
   "source": [
    "import cv2 as cv\n",
    "import numpy as np\n",
    "\n",
    "file=r'C:\\Users\\luo yong chen\\Pictures\\st_02.png'\n",
    "src=cv.imread(file)\n",
    "cv.namedWindow(\"input\", cv.WINDOW_AUTOSIZE)\n",
    "cv.imshow(\"input\", src)\n",
    "\n",
    "# 图像二值化\n",
    "gray = cv.cvtColor(src, cv.COLOR_BGR2GRAY)\n",
    "ret, binary = cv.threshold(gray, 0, 255, cv.THRESH_BINARY_INV | cv.THRESH_OTSU)\n",
    "\n",
    "se = cv.getStructuringElement(cv.MORPH_RECT, (3, 3), (-1, -1))\n",
    "binary = cv.morphologyEx(binary, cv.MORPH_OPEN, se)\n",
    "cv.imshow(\"binary\", binary)\n",
    "#cv.imwrite(\"D:/binary.png\", binary)\n",
    "\n",
    "# 轮廓提取, 发现最大轮廓\n",
    "out, contours, hierarchy = cv.findContours(binary, cv.RETR_EXTERNAL, cv.CHAIN_APPROX_SIMPLE)\n",
    "index = 0\n",
    "max = 0\n",
    "for c in range(len(contours)):\n",
    "    area = cv.contourArea(contours[c])\n",
    "    if area > max:\n",
    "        max = area\n",
    "        index = c\n",
    "\n",
    "# 寻找最小外接矩形\n",
    "rect = cv.minAreaRect(contours[index])\n",
    "print(rect[2])\n",
    "print(rect[0])\n",
    "# trick\n",
    "height, width = rect[1]\n",
    "print(rect[1])\n",
    "box = cv.boxPoints(rect)\n",
    "src_pts = np.int0(box)\n",
    "print(src_pts)\n",
    "\n",
    "dst_pts = []\n",
    "dst_pts.append([width,height])\n",
    "dst_pts.append([0, height])\n",
    "dst_pts.append([0, 0])\n",
    "dst_pts.append([width, 0])\n",
    "\n",
    "# 透视变换\n",
    "M, status = cv.findHomography(src_pts, np.array(dst_pts))#找到两个平面之间的转换矩阵\n",
    "print(M)\n",
    "result = cv.warpPerspective(src, M, (np.int32(width), np.int32(height)))\n",
    "\n",
    "if height < width:\n",
    "    result = cv.rotate(result, cv.ROTATE_90_CLOCKWISE)\n",
    "\n",
    "cv.imshow(\"result\", result)\n",
    "\n",
    "\n",
    "cv.waitKey(0)\n",
    "cv.destroyAllWindows()"
   ]
  },
  {
   "cell_type": "code",
   "execution_count": null,
   "metadata": {},
   "outputs": [],
   "source": []
  }
 ],
 "metadata": {
  "kernelspec": {
   "display_name": "Python 3",
   "language": "python",
   "name": "python3"
  },
  "language_info": {
   "codemirror_mode": {
    "name": "ipython",
    "version": 3
   },
   "file_extension": ".py",
   "mimetype": "text/x-python",
   "name": "python",
   "nbconvert_exporter": "python",
   "pygments_lexer": "ipython3",
   "version": "3.7.4"
  }
 },
 "nbformat": 4,
 "nbformat_minor": 4
}
