{
 "cells": [
  {
   "cell_type": "code",
   "execution_count": 10,
   "metadata": {},
   "outputs": [],
   "source": [
    "import cv2 as cv"
   ]
  },
  {
   "cell_type": "code",
   "execution_count": 11,
   "metadata": {},
   "outputs": [],
   "source": [
    "filename=r'C:\\Users\\luoyongchen\\Pictures\\lena.jpg'\n",
    "img=cv.imread(filename)"
   ]
  },
  {
   "cell_type": "markdown",
   "metadata": {},
   "source": [
    "实现图像的距离变换"
   ]
  },
  {
   "cell_type": "code",
   "execution_count": 12,
   "metadata": {},
   "outputs": [],
   "source": [
    "gray=cv.cvtColor(img,cv.COLOR_BGR2GRAY)  \n",
    "ret,thr=cv.threshold(gray,100,255,cv.THRESH_OTSU)   #先转化成二值图像\n",
    "dist=cv.distanceTransform(thr,cv.DIST_L2,cv.DIST_MASK_3)    #距离计算方式有cv.DIST_L1，cv.DIST_L2，cv.DIST_C；\n",
    "                                                            #掩膜尺寸有：DIST_MASK_PRECISE,DIST_MASK_3,5等\n",
    "\n",
    "dist_norm=cv.convertScaleAbs(dist)  "
   ]
  },
  {
   "cell_type": "markdown",
   "metadata": {},
   "source": [
    "实现log-polar变换"
   ]
  },
  {
   "cell_type": "code",
   "execution_count": 19,
   "metadata": {},
   "outputs": [
    {
     "name": "stdout",
     "output_type": "stream",
     "text": [
      "89.6 [56.94766749]\n"
     ]
    }
   ],
   "source": [
    "w,h=img.shape[0:2]\n",
    "center=(w/2,h/2)  #设置变换的中心点\n",
    "maxRadius=0.7*min(center)   #\n",
    "M=w/cv.log(maxRadius)  #幅值尺度参数\n",
    "print(maxRadius,M[0])   \n",
    "log_polar=cv.logPolar(img,center,M[0]*0.8,cv.INTER_LINEAR+cv.WARP_FILL_OUTLIERS)  #cv.INTER_LINEAR线性插值方式，\n",
    "                                                                                #cv.WARP_FILL_OUTLIERS填充目标图像中的所有像素\n",
    "                                                                            #cv.WARP_INVERSE_MAP表示矩阵是从目标图像到源图像的反变换\n",
    "                            #M[0]*系数，系数越大，对应的黑色区域就越小"
   ]
  },
  {
   "cell_type": "code",
   "execution_count": 20,
   "metadata": {},
   "outputs": [],
   "source": [
    "cv.imshow('source image',img)\n",
    "cv.imshow('distance image',dist_norm)\n",
    "cv.imshow('log-ploar image',log_polar)\n",
    "cv.waitKey()\n",
    "cv.destroyAllWindows()"
   ]
  },
  {
   "cell_type": "code",
   "execution_count": null,
   "metadata": {},
   "outputs": [],
   "source": []
  }
 ],
 "metadata": {
  "kernelspec": {
   "display_name": "Python 3",
   "language": "python",
   "name": "python3"
  },
  "language_info": {
   "codemirror_mode": {
    "name": "ipython",
    "version": 3
   },
   "file_extension": ".py",
   "mimetype": "text/x-python",
   "name": "python",
   "nbconvert_exporter": "python",
   "pygments_lexer": "ipython3",
   "version": "3.7.6"
  }
 },
 "nbformat": 4,
 "nbformat_minor": 4
}
