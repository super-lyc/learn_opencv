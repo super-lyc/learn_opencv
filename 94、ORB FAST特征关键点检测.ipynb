{
 "cells": [
  {
   "cell_type": "raw",
   "metadata": {},
   "source": [
    "ORB 是 Oriented Fast and Rotated Brief 的简称，可以用来对图像中的关键点快速创建特征向量，这些特征向量可以用来识别图像中的对象。\n",
    "其中，Fast 和 Brief 分别是特征检测算法和向量创建算法。ORB 首先会从图像中查找特殊区域，称为关键点。关键点即图像中突出的小区域，比如角点，比如它们具有像素值急剧的从浅色变为深色的特征。然后 ORB 会为每个关键点计算相应的特征向量。ORB 算法创建的特征向量只包含 1 和 0，称为二元特征向量。1 和 0 的顺序会根据特定关键点和其周围的像素区域而变化。该向量表示关键点周围的强度模式，因此多个特征向量可以用来识别更大的区域，甚至图像中的特定对象。\n",
    "ORB 的特点是速度超快，而且在一定程度上不受噪点和图像变换的影响，例如旋转和缩放变换等"
   ]
  },
  {
   "cell_type": "raw",
   "metadata": {},
   "source": [
    "ORB - (Oriented Fast and Rotated BRIEF)算法是基于FAST特征检测与BRIEF特征描述子匹配实现，相比BRIEF算法中依靠随机方式获取而值点对，ORB通过FAST方法，FAST方式寻找候选特征点方式是假设灰度图像像素点A周围的像素存在连续大于或者小于A的灰度值，选择任意一个像素点P，假设半径为3，周围16个像素表示，则像素点P被标记为候选特征点、通常N取值为9、12。\n",
    "为了简化计算，我们可以只计算1、9、5、13四个点，至少其中三个点满足上述不等式条件，即可将P视为候选点。然后通过阈值进行最终的筛选即可得到ORB特征点"
   ]
  },
  {
   "cell_type": "raw",
   "metadata": {},
   "source": [
    "cv.ORB.create\t(\n",
    "\tint nfeatures = 500,\n",
    "\tfloat scaleFactor = 1.2f,\n",
    "\tint nlevels = 8,\n",
    "\tint edgeThreshold = 31,\n",
    "\tint firstLevel = 0,\n",
    "\tint WTA_K = 2,\n",
    "\tORB::ScoreType \tscoreType = ORB::HARRIS_SCORE,\n",
    "\tint patchSize = 31,\n",
    "\tint fastThreshold = 20 \n",
    ")\n",
    "nfeatures 最终输出最大特征点数目\n",
    "scaleFactor 金字塔上采样比率\n",
    "nlevels 金字塔层数\n",
    "edgeThreshold 边缘阈值\n",
    "firstLevel= 0\n",
    "WTA_K这个是跟BRIEF描述子用的\n",
    "scoreType 对所有的特征点进行排名用的方法"
   ]
  },
  {
   "cell_type": "code",
   "execution_count": 8,
   "metadata": {},
   "outputs": [
    {
     "data": {
      "text/plain": [
       "True"
      ]
     },
     "execution_count": 8,
     "metadata": {},
     "output_type": "execute_result"
    }
   ],
   "source": [
    "import cv2 as cv\n",
    "import numpy as np\n",
    "\n",
    "file=r'C:\\Users\\luo yong chen\\Pictures\\pests\\00005.jpg'\n",
    "src= cv.imread(file)\n",
    "cv.namedWindow(\"input\", cv.WINDOW_AUTOSIZE)\n",
    "cv.imshow(\"input\", src)\n",
    "orb = cv.ORB().create()\n",
    "kps = orb.detect(src)\n",
    "result = cv.drawKeypoints(src, kps, None, (0, 255, 0), cv.DrawMatchesFlags_DEFAULT)\n",
    "cv.imshow(\"result\", result)\n",
    "cv.imwrite('result1.png',result)\n",
    "# cv.waitKey(0)\n",
    "# cv.destroyAllWindows()"
   ]
  },
  {
   "cell_type": "code",
   "execution_count": null,
   "metadata": {},
   "outputs": [],
   "source": []
  }
 ],
 "metadata": {
  "kernelspec": {
   "display_name": "Python 3",
   "language": "python",
   "name": "python3"
  },
  "language_info": {
   "codemirror_mode": {
    "name": "ipython",
    "version": 3
   },
   "file_extension": ".py",
   "mimetype": "text/x-python",
   "name": "python",
   "nbconvert_exporter": "python",
   "pygments_lexer": "ipython3",
   "version": "3.7.4"
  }
 },
 "nbformat": 4,
 "nbformat_minor": 4
}
