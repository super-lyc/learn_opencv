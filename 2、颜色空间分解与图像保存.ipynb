{
 "cells": [
  {
   "cell_type": "code",
   "execution_count": 1,
   "metadata": {},
   "outputs": [],
   "source": [
    "import cv2 as cv\n",
    "filename=r'C:\\Users\\luoyongchen\\Pictures\\flowers.jpg'\n",
    "img=cv.imread(filename)\n",
    "gray=cv.cvtColor(img,cv.COLOR_BGR2GRAY)    # BGR to GRAY\n",
    "cv.imwrite(\"lenagray.jpg\",gray)    #保存图像，路径与当前程序的路径一致\n",
    "cv.imshow('source',img)\n",
    "cv.imshow('gray',gray)\n",
    "cv.waitKey()\n",
    "\n",
    "hsv=cv.cvtColor(img,cv.COLOR_BGR2HSV)    # bgr to hsv\n",
    "cv.imshow('HUE',hsv[:,:,0])\n",
    "cv.imshow('Saturation',hsv[:,:,1])\n",
    "cv.imshow('Value',hsv[:,:,2])\n",
    "cv.waitKey()\n",
    "\n",
    "cv.imshow('Blue',img[:,:,0])\n",
    "cv.imshow('Green',img[:,:,1])\n",
    "cv.imshow('Red',img[:,:,2])\n",
    "cv.imshow('reg plus green channels',img[:,:,1:2])\n",
    "cv.waitKey()\n",
    "cv.destroyAllWindows()\n"
   ]
  },
  {
   "cell_type": "code",
   "execution_count": null,
   "metadata": {},
   "outputs": [],
   "source": []
  }
 ],
 "metadata": {
  "kernelspec": {
   "display_name": "Python 3",
   "language": "python",
   "name": "python3"
  },
  "language_info": {
   "codemirror_mode": {
    "name": "ipython",
    "version": 3
   },
   "file_extension": ".py",
   "mimetype": "text/x-python",
   "name": "python",
   "nbconvert_exporter": "python",
   "pygments_lexer": "ipython3",
   "version": "3.7.4"
  }
 },
 "nbformat": 4,
 "nbformat_minor": 4
}
