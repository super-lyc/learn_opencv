{
 "cells": [
  {
   "cell_type": "raw",
   "metadata": {},
   "source": [
    "霍夫变换(Hough Transform)是图像处理中的一种特征提取技术，它通过一种投票算法检测具有特定形状的物体。该过程在一个参数空间中通过计算累计结果的局部最大值得到一个符合该特定形状的集合作为霍夫变换结果。霍夫变换于1962年由Paul Hough 首次提出，后于1972年由Richard Duda和Peter Hart推广使用，经典霍夫变换用来检测图像中的直线，后来霍夫变换扩展到任意形状物体的识别，多为圆和椭圆。霍夫变换运用两个坐标空间之间的变换将在一个空间中具有相同形状的曲线或直线映射到另一个坐标空间的一个点上形成峰值，从而把检测任意形状的问题转化为统计峰值问题。"
   ]
  },
  {
   "cell_type": "raw",
   "metadata": {},
   "source": [
    "Hough直线检测：\n",
    "1、直线表示：\n",
    "对于平面中的一条直线，在笛卡尔坐标系中，常见的有点斜式，两点式两种表示方法。然而在hough变换中，考虑的是另外一种表示方式：使用（r,theta）来表示一条直线。r = x*cos(theta) + y * sin(theta)其中r为该直线到原点的距离，theta为该直线的垂线与x轴的夹角。\n",
    "2、hough变换来检测直线的思想：\n",
    "使用hough变换来检测直线的思想就是：为每一个点假设n个方向的直线，通常n=180，此时检测的直线的角度精度为1°，分别计算这n条直线的（r,theta）坐标，得到n个坐标点。如果要判断的点共有N个，最终得到的（r,theta）坐标有N*n个。有关这N*n个（r,theta）坐标，其中theta是离散的角度，共有180个取值。\n",
    "最重要的地方来了，如果多个点在一条直线上，那么必有这多个点在theta=某个值theta_i时，这多个点的r近似相等于r_i。也就是说这多个点都在直线（r_i,theta_i）上。\n",
    "3、实际应用：\n",
    "在实际的直线检测情况中，如果超过一定数目的点拥有相同的（r,theta）坐标，那么就可以判定此处有一条直线。在r*theta 坐标系图中，明显的交汇点就标示一条检测出的直线。"
   ]
  },
  {
   "cell_type": "raw",
   "metadata": {},
   "source": [
    "Hough变换步骤：\n",
    "1、将（r,theta)空间量化成许多小格\n",
    "2、根据直角坐标平面每一个点代入theta的量化值，算出各个r\n",
    "3、将对应格计数累加\n",
    "4、当全部点变换后，对小格进行检验（投票机制），设计累计阈值T，计数器大于T的小格对应于共线点，其可以用作参数拟合直线。小于T的反映非共线点，丢弃不用"
   ]
  },
  {
   "cell_type": "raw",
   "metadata": {},
   "source": [
    "霍夫变换是如何实现的？\n",
    "每条直线都可以用（ρ，θ）表示。\n",
    "首先创建一个2D数组或者累加器（用来存储两个参数），初始化数组为0。行表示ρ，列表示θ。数组的大小决定了结果是否准确。如果要精度为1度，那么需要180列。ρ值最大为图片对角线的距离。如果精度要求达到像素级别，那么行数应该等于图像对角线的长度。\n",
    "如果有一个100×100的水平直线在图像中央（在第50行的位置）。取直线上第一个点（x,y），将点带入方程，遍历θ值从0到180.求出对应的ρ值，这样得到敌对（ρ，θ），如果该值再创建的2D数组（累加器）中的对应位置上也存在，那个该位置加1。所以累加器中位置（50,90）=1。（一个点可能在多条直线当中，所以一个点可能对应多个值加1）。取直线第二个点，重复上述过程。更新累加器中的值。此时（50,90）的值为2。对直线上每个点都按照这种方式操作，最后（50,90）的值肯定最大。这就说明有一条直线。\n",
    "\n",
    "\n",
    "lines=cv2.HoughLines(image, rho, theta, threshold[, lines[, srn[, stn[, min_theta[, max_theta]]]]]) \n",
    "mage:参数表示边缘检测的输出图像，该图像为单通道8位二进制图像。\n",
    "rho:参数表示参数极径 r 以像素值为单位的分辨率，这里一般使用1像素。\n",
    "theta:参数表示参数极角 \\theta 以弧度为单位的分辨率，这里使用1度。\n",
    "threshold:参数表示检测一条直线所需最少的曲线交点,即累加器的阈值。\n",
    "lines:参数表示储存着检测到的直线的参数对 (r,\\theta) 的容器 。\n",
    "srn:参数、stn参数默认都为0。如果srn = 0且stn = 0，则使用经典的Hough变换。多尺度霍夫变换时候需要的参数，经典霍夫变换不需要。\n",
    "min_theta:参数表示对于标准和多尺度Hough变换，检查线条的最小角度。\n",
    "max_theta:参数表示对于标准和多尺度Hough变换，检查线条的最大角度。"
   ]
  },
  {
   "cell_type": "code",
   "execution_count": 6,
   "metadata": {},
   "outputs": [
    {
     "name": "stdout",
     "output_type": "stream",
     "text": [
      "(60, 1, 2)\n"
     ]
    }
   ],
   "source": [
    "import cv2 as cv\n",
    "import numpy as np\n",
    "  \n",
    "file=r'C:\\Users\\luo yong chen\\Pictures\\sudoku.png'\n",
    "src=cv.imread(file)\n",
    "cv.namedWindow(\"input\", cv.WINDOW_AUTOSIZE)\n",
    "cv.imshow(\"input\", src)\n",
    "#霍夫变换对噪声敏感\n",
    "t=80\n",
    "binary = cv.Canny(src, t, t * 2)\n",
    "cv.imshow(\"binary\", binary)\n",
    "\n",
    "lines = cv.HoughLines(binary, 1, np.pi / 180, 150, None, 0, 0)\n",
    "print(lines.shape)\n",
    "if lines is not None:\n",
    "    for i in range(0, len(lines)):\n",
    "        rho = lines[i][0][0]               #获取r值\n",
    "        theta = lines[i][0][1]          #获取theta值\n",
    "        a = np.cos(theta)\n",
    "        b = np.sin(theta)\n",
    "        x0 = a * rho   #x=rcos(θ)\n",
    "        y0 = b * rho   #y=rsin(θ)\n",
    "        #找到直线上两个点\n",
    "        pt1 = (int(x0 + 1000 * (-b)), int(y0 + 1000 * (a)))\n",
    "        pt2 = (int(x0 - 1000 * (-b)), int(y0 - 1000 * (a)))\n",
    "        cv.line(src, pt1, pt2, (0, 0, 255), 3, cv.LINE_AA)\n",
    "\n",
    "# 显示\n",
    "cv.imshow(\"hough line demo\", src)\n",
    "cv.waitKey(0)\n",
    "cv.destroyAllWindows()"
   ]
  },
  {
   "cell_type": "code",
   "execution_count": null,
   "metadata": {},
   "outputs": [],
   "source": []
  },
  {
   "cell_type": "code",
   "execution_count": null,
   "metadata": {},
   "outputs": [],
   "source": []
  }
 ],
 "metadata": {
  "kernelspec": {
   "display_name": "Python 3",
   "language": "python",
   "name": "python3"
  },
  "language_info": {
   "codemirror_mode": {
    "name": "ipython",
    "version": 3
   },
   "file_extension": ".py",
   "mimetype": "text/x-python",
   "name": "python",
   "nbconvert_exporter": "python",
   "pygments_lexer": "ipython3",
   "version": "3.7.6"
  }
 },
 "nbformat": 4,
 "nbformat_minor": 4
}
