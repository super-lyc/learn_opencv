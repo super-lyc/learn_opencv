{
 "cells": [
  {
   "cell_type": "raw",
   "metadata": {},
   "source": [
    "得到特征点数据之后，根据BRIEF算法就可以建立描述子。选择候选特征点周围SxS大小的像素块、随机选择n对像素点。其中P(x)是图像模糊处理之后的像素值，原因在于高斯模糊可以抑制噪声影响、提供特征点稳定性，在实际代码实现中通常用均值滤波替代高斯滤波以便利用积分图方式加速计算获得更好的性能表现。常见滤波时候使用3x3~9x9之间的卷积核。滤波之后，根据上述描述子的生成条件，得到描述子。"
   ]
  },
  {
   "cell_type": "code",
   "execution_count": 6,
   "metadata": {},
   "outputs": [],
   "source": [
    "import cv2 as cv\n",
    "\n",
    "file1=r'C:\\Users\\luo yong chen\\Pictures\\box.png'\n",
    "box = cv.imread(file1)\n",
    "file2 =r'C:\\Users\\luo yong chen\\Pictures\\box_in_scene.png'\n",
    "box_in_scene = cv.imread(file2)\n",
    "cv.imshow(\"box\", box)\n",
    "cv.imshow(\"box_in_sence\", box_in_scene)\n",
    "\n",
    "# 创建ORB特征检测器\n",
    "orb = cv.ORB_create()\n",
    "kp1, des1 = orb.detectAndCompute(box,None)\n",
    "kp2, des2 = orb.detectAndCompute(box_in_scene,None)\n",
    "\n",
    "# 暴力匹配\n",
    "bf = cv.BFMatcher(cv.NORM_HAMMING, crossCheck=True)\n",
    "matches = bf.match(des1,des2)\n",
    "\n",
    "# 绘制匹配\n",
    "result = cv.drawMatches(box, kp1, box_in_scene, kp2, matches, None)\n",
    "cv.imshow(\"orb-match\", result)\n",
    "cv.waitKey(0)\n",
    "cv.destroyAllWindows()"
   ]
  },
  {
   "cell_type": "code",
   "execution_count": null,
   "metadata": {},
   "outputs": [],
   "source": []
  }
 ],
 "metadata": {
  "kernelspec": {
   "display_name": "Python 3",
   "language": "python",
   "name": "python3"
  },
  "language_info": {
   "codemirror_mode": {
    "name": "ipython",
    "version": 3
   },
   "file_extension": ".py",
   "mimetype": "text/x-python",
   "name": "python",
   "nbconvert_exporter": "python",
   "pygments_lexer": "ipython3",
   "version": "3.7.6"
  }
 },
 "nbformat": 4,
 "nbformat_minor": 4
}
