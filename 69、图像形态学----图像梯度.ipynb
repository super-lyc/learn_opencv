{
 "cells": [
  {
   "cell_type": "raw",
   "metadata": {},
   "source": [
    "图像形态学的梯度跟我们前面介绍的图像卷积计算出来的梯度有本质不同，形态学梯度可以帮助我们获得连通组件的边缘与轮廓，实现图像轮廓或者边缘提取。根据使用的形态学操作不同，形态学梯度又分为\n",
    "-\t基本梯度\n",
    "-\t内梯度\n",
    "-\t外梯度\n",
    "基本梯度是图像膨胀与腐蚀操作之间的差值，opencv默认支持\n",
    "内梯度是输入图像与腐蚀之间的差值\n",
    "外梯度是膨胀与输入图像之间的差值"
   ]
  },
  {
   "cell_type": "raw",
   "metadata": {},
   "source": [
    "cv2.morphologyEx(src, op, kernel) \n",
    "src:可以输入任意通道的图片\n",
    "op:形态学操作方式：\n",
    "   op =  cv2.MORPH_OPEN 进行开运算，指的是先进行腐蚀操作，再进行膨胀操作\n",
    "   op =  cv2.MORPH_CLOSE 进行闭运算， 指的是先进行膨胀操作，再进行腐蚀操作\n",
    "   op =  cv2.MORPH_TOPHAT 即表示使用顶帽操作\n",
    "   op =  cv2.MORPH_BLACKHAT 黑帽操作\n",
    "   op =  cv2.MORPH_GRADIENT 梯度"
   ]
  },
  {
   "cell_type": "code",
   "execution_count": 1,
   "metadata": {},
   "outputs": [],
   "source": [
    "import cv2 as cv\n",
    "\n",
    "file=r'C:\\Users\\luo yong chen\\Pictures\\zhaiteng.jpg'\n",
    "src=cv.imread(file)\n",
    "cv.namedWindow(\"input\", cv.WINDOW_AUTOSIZE)\n",
    "cv.imshow(\"input\", src)\n",
    "\n",
    "# 形态学梯度 - 基本梯度\n",
    "se = cv.getStructuringElement(cv.MORPH_RECT, (3, 3), (-1, -1))\n",
    "basic = cv.morphologyEx(src, cv.MORPH_GRADIENT, se)\n",
    "cv.imshow(\"basic gradient\", basic)\n",
    "\n",
    "# 外梯度\n",
    "dilate = cv.morphologyEx(src, cv.MORPH_DILATE, se)\n",
    "exteral = cv.subtract(dilate, src)\n",
    "cv.imshow(\"external gradient\", exteral)\n",
    "\n",
    "# 内梯度\n",
    "erode = cv.morphologyEx(src, cv.MORPH_ERODE, se)\n",
    "interal = cv.subtract(src, erode)\n",
    "cv.imshow(\"interal gradient\", interal)\n",
    "\n",
    "cv.waitKey(0)\n",
    "cv.destroyAllWindows()"
   ]
  },
  {
   "cell_type": "code",
   "execution_count": null,
   "metadata": {},
   "outputs": [],
   "source": []
  }
 ],
 "metadata": {
  "kernelspec": {
   "display_name": "Python 3",
   "language": "python",
   "name": "python3"
  },
  "language_info": {
   "codemirror_mode": {
    "name": "ipython",
    "version": 3
   },
   "file_extension": ".py",
   "mimetype": "text/x-python",
   "name": "python",
   "nbconvert_exporter": "python",
   "pygments_lexer": "ipython3",
   "version": "3.7.6"
  }
 },
 "nbformat": 4,
 "nbformat_minor": 4
}
